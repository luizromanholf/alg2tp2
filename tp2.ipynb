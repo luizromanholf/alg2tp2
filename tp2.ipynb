{
 "cells": [
  {
   "cell_type": "markdown",
   "metadata": {},
   "source": [
    "# Trabalho Prático de Algoritmos\n",
    "#### Aluno: Luiz Henrique Romanhol Ferreira\n",
    "#### Matrícula: 2018113555\n",
    "### Primeiro Passo: Carregar o Dataset"
   ]
  },
  {
   "cell_type": "code",
   "execution_count": 8,
   "metadata": {
    "colab": {
     "base_uri": "https://localhost:8080/"
    },
    "id": "5DEB_2Kywu1r",
    "outputId": "27e251da-6057-4910-c512-27f08570cc4a"
   },
   "outputs": [
    {
     "name": "stdout",
     "output_type": "stream",
     "text": [
      "Arquivo a280.tsp carregado com sucesso.\n",
      "Arquivo berlin52.tsp carregado com sucesso.\n",
      "Arquivo bier127.tsp carregado com sucesso.\n",
      "Arquivo brd14051.tsp carregado com sucesso.\n",
      "Arquivo ch130.tsp carregado com sucesso.\n",
      "Arquivo ch150.tsp carregado com sucesso.\n",
      "Arquivo d1291.tsp carregado com sucesso.\n",
      "Arquivo d15112.tsp carregado com sucesso.\n",
      "Arquivo d1655.tsp carregado com sucesso.\n",
      "Arquivo d18512.tsp carregado com sucesso.\n",
      "Arquivo d198.tsp carregado com sucesso.\n",
      "Arquivo d2103.tsp carregado com sucesso.\n",
      "Arquivo d493.tsp carregado com sucesso.\n",
      "Arquivo d657.tsp carregado com sucesso.\n",
      "Arquivo eil101.tsp carregado com sucesso.\n",
      "Arquivo eil51.tsp carregado com sucesso.\n",
      "Arquivo eil76.tsp carregado com sucesso.\n",
      "Arquivo fl1400.tsp carregado com sucesso.\n",
      "Arquivo fl1577.tsp carregado com sucesso.\n",
      "Arquivo fl3795.tsp carregado com sucesso.\n",
      "Arquivo fl417.tsp carregado com sucesso.\n",
      "Arquivo fnl4461.tsp carregado com sucesso.\n",
      "Arquivo gil262.tsp carregado com sucesso.\n",
      "Arquivo kroA100.tsp carregado com sucesso.\n",
      "Arquivo kroA150.tsp carregado com sucesso.\n",
      "Arquivo kroA200.tsp carregado com sucesso.\n",
      "Arquivo kroB100.tsp carregado com sucesso.\n",
      "Arquivo kroB150.tsp carregado com sucesso.\n",
      "Arquivo kroB200.tsp carregado com sucesso.\n",
      "Arquivo kroC100.tsp carregado com sucesso.\n",
      "Arquivo kroD100.tsp carregado com sucesso.\n",
      "Arquivo kroE100.tsp carregado com sucesso.\n",
      "Arquivo lin105.tsp carregado com sucesso.\n",
      "Arquivo lin318.tsp carregado com sucesso.\n",
      "Arquivo linhp318.tsp carregado com sucesso.\n",
      "Arquivo nrw1379.tsp carregado com sucesso.\n",
      "Arquivo p654.tsp carregado com sucesso.\n",
      "Arquivo pcb1173.tsp carregado com sucesso.\n",
      "Arquivo pcb3038.tsp carregado com sucesso.\n",
      "Arquivo pcb442.tsp carregado com sucesso.\n",
      "Arquivo pr1002.tsp carregado com sucesso.\n",
      "Arquivo pr107.tsp carregado com sucesso.\n",
      "Arquivo pr124.tsp carregado com sucesso.\n",
      "Arquivo pr136.tsp carregado com sucesso.\n",
      "Arquivo pr144.tsp carregado com sucesso.\n",
      "Arquivo pr152.tsp carregado com sucesso.\n",
      "Arquivo pr226.tsp carregado com sucesso.\n",
      "Arquivo pr2392.tsp carregado com sucesso.\n",
      "Arquivo pr264.tsp carregado com sucesso.\n",
      "Arquivo pr299.tsp carregado com sucesso.\n",
      "Arquivo pr439.tsp carregado com sucesso.\n",
      "Arquivo pr76.tsp carregado com sucesso.\n",
      "Arquivo rat195.tsp carregado com sucesso.\n",
      "Arquivo rat575.tsp carregado com sucesso.\n",
      "Arquivo rat783.tsp carregado com sucesso.\n",
      "Arquivo rat99.tsp carregado com sucesso.\n",
      "Arquivo rd100.tsp carregado com sucesso.\n",
      "Arquivo rd400.tsp carregado com sucesso.\n",
      "Arquivo rl11849.tsp carregado com sucesso.\n",
      "Arquivo rl1304.tsp carregado com sucesso.\n",
      "Arquivo rl1323.tsp carregado com sucesso.\n",
      "Arquivo rl1889.tsp carregado com sucesso.\n",
      "Arquivo rl5915.tsp carregado com sucesso.\n",
      "Arquivo rl5934.tsp carregado com sucesso.\n",
      "Arquivo st70.tsp carregado com sucesso.\n",
      "Arquivo ts225.tsp carregado com sucesso.\n",
      "Arquivo tsp225.tsp carregado com sucesso.\n",
      "Arquivo u1060.tsp carregado com sucesso.\n",
      "Arquivo u1432.tsp carregado com sucesso.\n",
      "Arquivo u159.tsp carregado com sucesso.\n",
      "Arquivo u1817.tsp carregado com sucesso.\n",
      "Arquivo u2152.tsp carregado com sucesso.\n",
      "Arquivo u2319.tsp carregado com sucesso.\n",
      "Arquivo u574.tsp carregado com sucesso.\n",
      "Arquivo u724.tsp carregado com sucesso.\n",
      "Arquivo usa13509.tsp carregado com sucesso.\n",
      "Arquivo vm1084.tsp carregado com sucesso.\n",
      "Arquivo vm1748.tsp carregado com sucesso.\n"
     ]
    }
   ],
   "source": [
    "import os\n",
    "import matplotlib.pyplot as plt\n",
    "\n",
    "def load_tsp(file_path, plotar=False):\n",
    "    coord_list = []\n",
    "    lines = read_file_lines(file_path)\n",
    "    coord_section = False\n",
    "\n",
    "    for line in lines:\n",
    "        coord_section = process_line(line, coord_section, coord_list)\n",
    "\n",
    "    if plotar:\n",
    "        plot_graph(coord_list)\n",
    "\n",
    "    # Adicionando o nome do arquivo ao dicionário\n",
    "    result = {'file': os.path.basename(file_path)[:-4], 'vertices': coord_list}\n",
    "    return result\n",
    "\n",
    "def read_file_lines(file_path):\n",
    "    with open(file_path, 'r') as file:\n",
    "        return file.readlines()\n",
    "\n",
    "def process_line(line, coord_section, coord_list):\n",
    "    if line.startswith(\"NODE_COORD_SECTION\"):\n",
    "        coord_section = True\n",
    "    elif coord_section and line.startswith(\"EOF\"):\n",
    "        coord_section = False\n",
    "    elif coord_section:\n",
    "        process_coord_line(line, coord_list)\n",
    "\n",
    "    return coord_section\n",
    "\n",
    "def process_coord_line(line, coord_list):\n",
    "    parts = line.split()\n",
    "    if len(parts) < 3:\n",
    "        return  # Ignorar linhas que não têm informações suficientes\n",
    "\n",
    "    x, y = map(float, parts[1:])\n",
    "    coord_list.append((x, y))\n",
    "\n",
    "def plot_graph(data):\n",
    "    coord_list = data[\"vertices\"]\n",
    "    x_values, y_values = zip(*coord_list)\n",
    "    plt.scatter(x_values, y_values)\n",
    "    plt.xlabel('X')\n",
    "    plt.ylabel('Y')\n",
    "    plt.title('TSP Coordinate Plot')\n",
    "    plt.show()\n",
    "\n",
    "def carregar_testes():\n",
    "    # Diretório dos arquivos TSP\n",
    "    dir_path = \"datasets/raw/\"\n",
    "\n",
    "    # Listar todos os arquivos no diretório\n",
    "    file_list = os.listdir(dir_path)\n",
    "\n",
    "    # Filtrar apenas os arquivos com extensão .tsp\n",
    "    tsp_files = [file for file in file_list if file.endswith(\".tsp\")]\n",
    "\n",
    "    testes = []\n",
    "\n",
    "    # Iterar por todos os arquivos TSP e tentar carregá-los\n",
    "    for tsp_file in tsp_files:\n",
    "        file_path = os.path.join(dir_path, tsp_file)\n",
    "        try:\n",
    "            loaded_coords = load_tsp(file_path)\n",
    "            print(f\"Arquivo {tsp_file} carregado com sucesso.\")\n",
    "            testes.append(loaded_coords)\n",
    "        except Exception as e:\n",
    "            print(f\"Erro ao carregar o arquivo {tsp_file}: {e}\")\n",
    "\n",
    "    return testes\n",
    "\n",
    "# Carregar os testes\n",
    "testes = carregar_testes()\n",
    "\n",
    "testes = sorted(testes, key=lambda x: len(x['vertices']))"
   ]
  },
  {
   "cell_type": "markdown",
   "metadata": {},
   "source": [
    "### Aqui carregamos os limites que foram fornecidos na especificação do trabalho"
   ]
  },
  {
   "cell_type": "code",
   "execution_count": 9,
   "metadata": {
    "colab": {
     "base_uri": "https://localhost:8080/"
    },
    "id": "56bfjeTIEdfx",
    "outputId": "67205a4f-dab7-491d-bfd7-759a72d64ea0"
   },
   "outputs": [],
   "source": [
    "# Caminho do arquivo\n",
    "caminho_arquivo = 'datasets/datasets.txt'\n",
    "\n",
    "# Abrir o arquivo e ler linhas\n",
    "with open(caminho_arquivo, 'r') as arquivo:\n",
    "    linhas = arquivo.readlines()\n",
    "\n",
    "# Processar cada linha\n",
    "for linha in linhas:\n",
    "    # Dividir a linha em partes\n",
    "    partes = linha.split()\n",
    "\n",
    "    # Verificar se a linha contém cabeçalho\n",
    "    if len(partes) == 3 and partes[2].isdigit():\n",
    "        # Extrair informações\n",
    "        nome_dataset = partes[0]\n",
    "        limite = int(partes[2])\n",
    "\n",
    "        # Procurar o dicionário na lista de testes\n",
    "        for teste in testes:\n",
    "            if teste[\"file\"] == nome_dataset:\n",
    "                # Adicionar a chave \"limite\"\n",
    "                teste[\"limite\"] = limite\n",
    "                break\n",
    "        else:\n",
    "            # Se não encontrar, adicionar um novo dicionário à lista\n",
    "            testes.append({\"file\": nome_dataset, \"limite\": limite})"
   ]
  },
  {
   "cell_type": "markdown",
   "metadata": {},
   "source": [
    "### A seguir a implementação da função christofides()"
   ]
  },
  {
   "cell_type": "code",
   "execution_count": 14,
   "metadata": {
    "colab": {
     "base_uri": "https://localhost:8080/",
     "height": 406
    },
    "id": "uI9mVghrwv2i",
    "outputId": "d9f08836-bff6-4764-9bb8-655fe92aa7e5"
   },
   "outputs": [],
   "source": [
    "import numpy as np\n",
    "import networkx as nx\n",
    "\n",
    "def euclidean_distance(point1, point2):\n",
    "    return np.sqrt((point1[0] - point2[0])**2 + (point1[1] - point2[1])**2)\n",
    "\n",
    "def create_complete_graph(points):\n",
    "    G = nx.Graph()\n",
    "    n = len(points)\n",
    "    \n",
    "    for i in range(n):\n",
    "        for j in range(i+1, n):\n",
    "            distance = euclidean_distance(points[i], points[j])\n",
    "            G.add_edge(i, j, weight=distance)\n",
    "    \n",
    "    return G\n",
    "\n",
    "def find_odd_degree_nodes(graph):\n",
    "    odd_degree_nodes = [node for node, degree in graph.degree() if degree % 2 != 0]\n",
    "    return odd_degree_nodes\n",
    "\n",
    "def minimum_weight_perfect_matching(graph, odd_nodes):\n",
    "    min_weight_matching = nx.Graph()\n",
    "    \n",
    "    while odd_nodes:\n",
    "        u = odd_nodes.pop()\n",
    "        v = min(odd_nodes, key=lambda x: graph[u][x]['weight'])\n",
    "        odd_nodes.remove(v)\n",
    "        min_weight_matching.add_edge(u, v, weight=graph[u][v]['weight'])\n",
    "    \n",
    "    return min_weight_matching\n",
    "\n",
    "def eulerian_circuit(graph):\n",
    "    return list(nx.eulerian_circuit(graph))\n",
    "\n",
    "def christofides(points):\n",
    "    # Criar um grafo completamente conectado com pesos de distância euclidiana\n",
    "    complete_graph = create_complete_graph(points)\n",
    "    \n",
    "    # Calcular a Minimum Spanning Tree (MST)\n",
    "    mst = nx.minimum_spanning_tree(complete_graph)\n",
    "    \n",
    "    # Encontrar nós com grau ímpar\n",
    "    odd_degree_nodes = find_odd_degree_nodes(mst)\n",
    "    \n",
    "    # Encontrar emparelhamento perfeito de peso mínimo nos nós de grau ímpar\n",
    "    min_weight_matching = minimum_weight_perfect_matching(complete_graph, odd_degree_nodes)\n",
    "    \n",
    "    # Formar um multigrafo que combina a MST e o emparelhamento perfeito\n",
    "    multigraph = nx.MultiGraph(mst)\n",
    "    multigraph.add_edges_from(min_weight_matching.edges(data=True))\n",
    "    \n",
    "    # Encontrar circuito euleriano no multigrafo\n",
    "    eulerian_circuit_edges = eulerian_circuit(multigraph)\n",
    "    \n",
    "    # Remover arestas duplicadas no circuito euleriano\n",
    "    tour = [edge[0] for edge in eulerian_circuit_edges[:-1]] + [eulerian_circuit_edges[-1][1]]\n",
    "    \n",
    "    # Remover repetições no tour\n",
    "    tour = list(dict.fromkeys(tour))\n",
    "    \n",
    "    # Calcular o comprimento do tour\n",
    "    tour_length = sum(complete_graph[tour[i]][tour[i+1]]['weight'] for i in range(len(tour)-1))\n",
    "    \n",
    "    return tour, tour_length    "
   ]
  },
  {
   "cell_type": "markdown",
   "metadata": {},
   "source": [
    "### A seguir a implementação da função twice_around_the_tree()"
   ]
  },
  {
   "cell_type": "code",
   "execution_count": 34,
   "metadata": {},
   "outputs": [],
   "source": [
    "import networkx as nx\n",
    "import math\n",
    "\n",
    "def create_complete_graph(points):\n",
    "    G = nx.Graph()\n",
    "    for i in range(len(points)):\n",
    "        for j in range(i + 1, len(points)):\n",
    "            distance = math.sqrt((points[i][0] - points[j][0])**2 + (points[i][1] - points[j][1])**2)\n",
    "            G.add_edge(i, j, weight=distance)\n",
    "    return G\n",
    "\n",
    "def eulerian_circuit(multigraph):\n",
    "    return list(nx.eulerian_circuit(multigraph))\n",
    "\n",
    "def twice_around_the_tree(points):\n",
    "    complete_graph = create_complete_graph(points)\n",
    "    mst = nx.minimum_spanning_tree(complete_graph)\n",
    "    \n",
    "    # Duplicate edges in the minimum spanning tree to create an Eulerian multigraph\n",
    "    multigraph = nx.MultiGraph()\n",
    "    multigraph.add_edges_from(mst.edges())\n",
    "    multigraph.add_edges_from(mst.edges())\n",
    "    \n",
    "    eulerian_circuit_edges = eulerian_circuit(multigraph)\n",
    "    \n",
    "    # Extract unique indices from the Eulerian circuit to get the TAT path\n",
    "    tat_path_indices = [edge[0] for edge in eulerian_circuit_edges]\n",
    "    tat_path_indices.append(eulerian_circuit_edges[-1][1])\n",
    "    \n",
    "    # Calculate the total distance of the TAT path\n",
    "    total_distance = sum(complete_graph[tat_path_indices[i]][tat_path_indices[i+1]]['weight'] for i in range(len(tat_path_indices)-1))\n",
    "    \n",
    "    return tat_path_indices, total_distance\n",
    "\n"
   ]
  },
  {
   "cell_type": "markdown",
   "metadata": {},
   "source": [
    "### Agora vamos testar se os dados foram corretamente carregados"
   ]
  },
  {
   "cell_type": "code",
   "execution_count": 10,
   "metadata": {
    "colab": {
     "base_uri": "https://localhost:8080/",
     "height": 472
    },
    "id": "eSgQApABwvve",
    "outputId": "a8533f86-bb70-4ea1-909e-1814ef56670e"
   },
   "outputs": [
    {
     "data": {
      "image/png": "[encoded data removed]",
      "text/plain": [
       "<Figure size 432x288 with 1 Axes>"
      ]
     },
     "metadata": {
      "needs_background": "light"
     },
     "output_type": "display_data"
    }
   ],
   "source": [
    "plot_graph(testes[23])"
   ]
  },
  {
   "cell_type": "markdown",
   "metadata": {},
   "source": [
    "### Podemos ver o resultado do algoritmo"
   ]
  },
  {
   "cell_type": "code",
   "execution_count": 12,
   "metadata": {},
   "outputs": [],
   "source": [
    "import networkx as nx\n",
    "import matplotlib.pyplot as plt\n",
    "from scipy.spatial import distance\n",
    "from itertools import combinations\n",
    "\n",
    "def print_tour(coord_list, tour,nome):\n",
    "    # Para visualizar o resultado\n",
    "    G = create_complete_graph(coord_list)\n",
    "    pos = {i: coord_list[i] for i in range(len(coord_list))}\n",
    "    plt.plot([coord_list[i][0] for i in tour], [coord_list[i][1] for i in tour], linestyle='-', marker='o', markersize=1, color='darkcyan')\n",
    "    nx.draw(G, pos, with_labels=False, font_weight='bold', node_size=32, node_color='black', font_color='black', edgelist=[])\n",
    "    plt.savefig(nome+'.png')\n",
    "\n",
    "    plt.show()"
   ]
  },
  {
   "cell_type": "code",
   "execution_count": 54,
   "metadata": {
    "colab": {
     "base_uri": "https://localhost:8080/",
     "height": 363
    },
    "id": "mP0smVmBZisg",
    "outputId": "61988d46-d9cf-4344-9746-25a6e9d61efc"
   },
   "outputs": [
    {
     "data": {
      "image/png": "[encoded data removed]",
      "text/plain": [
       "<Figure size 432x288 with 1 Axes>"
      ]
     },
     "metadata": {},
     "output_type": "display_data"
    }
   ],
   "source": [
    "x = 23\n",
    "tour, tour_length = christofides(testes[x][\"vertices\"])\n",
    "print_tour(testes[x][\"vertices\"], tour, testes[x][\"file\"])"
   ]
  },
  {
   "cell_type": "markdown",
   "metadata": {},
   "source": [
    "### Por fim o branch and bound"
   ]
  },
  {
   "cell_type": "code",
   "execution_count": 53,
   "metadata": {},
   "outputs": [
    {
     "name": "stdout",
     "output_type": "stream",
     "text": [
      "Melhor Rota: [0, 3, 2, 1]\n",
      "Distância Mínima: 10.79669127533634\n"
     ]
    }
   ],
   "source": [
    "import networkx as nx\n",
    "import itertools\n",
    "\n",
    "def euclidean_distance(p1, p2):\n",
    "    return ((p1[0] - p2[0])**2 + (p1[1] - p2[1])**2)**0.5\n",
    "\n",
    "def total_distance(path, points):\n",
    "    distance = 0\n",
    "    for i in range(len(path) - 1):\n",
    "        distance += euclidean_distance(points[path[i]], points[path[i + 1]])\n",
    "    distance += euclidean_distance(points[path[-1]], points[path[0]])  # Volta ao ponto inicial\n",
    "    return distance\n",
    "\n",
    "def tsp_branch_and_bound(points):\n",
    "    n = len(points)\n",
    "\n",
    "    # Criando um grafo completo ponderado usando a distância euclidiana\n",
    "    G = nx.Graph()\n",
    "    for i in range(n):\n",
    "        for j in range(i + 1, n):\n",
    "            G.add_edge(i, j, weight=euclidean_distance(points[i], points[j]))\n",
    "\n",
    "    # Inicializando o melhor caminho como infinito\n",
    "    best_path = None\n",
    "    best_distance = float('inf')\n",
    "\n",
    "    # Inicializando a pilha para o Branch and Bound\n",
    "    stack = [(0, [0])]  # (Lower Bound, Partial Path)\n",
    "\n",
    "    while stack:\n",
    "        lower_bound, partial_path = stack.pop()\n",
    "\n",
    "        # Se a parcial já contém todos os vértices, atualize o melhor caminho\n",
    "        if len(partial_path) == n:\n",
    "            current_distance = total_distance(partial_path, points)\n",
    "            if current_distance < best_distance:\n",
    "                best_distance = current_distance\n",
    "                best_path = partial_path\n",
    "            continue\n",
    "\n",
    "        # Gere todas as parciais possíveis para o próximo vértice\n",
    "        for next_vertex in set(range(n)) - set(partial_path):\n",
    "            next_lower_bound = lower_bound + G[partial_path[-1]][next_vertex]['weight']\n",
    "            if next_lower_bound < best_distance:\n",
    "                stack.append((next_lower_bound, partial_path + [next_vertex]))\n",
    "\n",
    "    return best_path, best_distance\n",
    "\n",
    "# Exemplo de uso\n",
    "points = [(0, 0), (1, 2), (2, 4), (3, 1)]\n",
    "#points = testes[23][\"vertices\"] #algoritmo falha pra instancias do trabalho\n",
    "    \n",
    "# Encontrar a rota e a distância mínima\n",
    "best_path, best_distance = tsp_branch_and_bound(points)\n",
    "\n",
    "print(\"Melhor Rota:\", best_path)\n",
    "print(\"Distância Mínima:\", best_distance)"
   ]
  },
  {
   "cell_type": "markdown",
   "metadata": {},
   "source": [
    "### Agora testaremos os algoritmos, e geraremos um .csv com os resultados."
   ]
  },
  {
   "cell_type": "code",
   "execution_count": 8,
   "metadata": {
    "colab": {
     "base_uri": "https://localhost:8080/"
    },
    "id": "_S5bITy7whuz",
    "outputId": "84dcf3cd-94b9-4dd7-d47c-14b92de13429",
    "scrolled": false
   },
   "outputs": [
    {
     "name": "stdout",
     "output_type": "stream",
     "text": [
      "ERROR: Could not find file C:\\Users\\Luiz\\AppData\\Local\\Temp\\ipykernel_10012\\2576218384.py\n"
     ]
    },
    {
     "name": "stderr",
     "output_type": "stream",
     "text": [
      "C:\\Users\\Luiz\\AppData\\Local\\Temp\\ipykernel_10012\\2576218384.py:64: FutureWarning: The frame.append method is deprecated and will be removed from pandas in a future version. Use pandas.concat instead.\n",
      "  dataframe = dataframe.append(nova_linha, ignore_index=True)\n"
     ]
    },
    {
     "name": "stdout",
     "output_type": "stream",
     "text": [
      "Nome do Arquivo: eil51\n",
      "Algoritmo : <function twice_around_the_tree at 0x00000175464D33A0>\n",
      "Tempo : 0.05806851387023926\n",
      "Memória Gasta: 156.73828125 MB\n",
      "Taxa de Aproximação: 1.4444874678872106\n",
      "Rota :[1, 22, 27, 48, 6, 8, 26, 31, 28, 3, 20, 35, 36, 23, 7, 43, 24, 51, 46, 12, 47, 4, 17, 37, 15, 44, 42, 19, 40, 41, 13, 45, 33, 18, 14, 25, 32, 11, 38, 5, 9, 49, 10, 39, 50, 16, 2, 21, 29, 34, 30, 1]\n",
      "Vertices :[(37.0, 52.0), (49.0, 49.0), (52.0, 64.0), (20.0, 26.0), (40.0, 30.0), (21.0, 47.0), (17.0, 63.0), (31.0, 62.0), (52.0, 33.0), (51.0, 21.0), (42.0, 41.0), (31.0, 32.0), (5.0, 25.0), (12.0, 42.0), (36.0, 16.0), (52.0, 41.0), (27.0, 23.0), (17.0, 33.0), (13.0, 13.0), (57.0, 58.0), (62.0, 42.0), (42.0, 57.0), (16.0, 57.0), (8.0, 52.0), (7.0, 38.0), (27.0, 68.0), (30.0, 48.0), (43.0, 67.0), (58.0, 48.0), (58.0, 27.0), (37.0, 69.0), (38.0, 46.0), (46.0, 10.0), (61.0, 33.0), (62.0, 63.0), (63.0, 69.0), (32.0, 22.0), (45.0, 35.0), (59.0, 15.0), (5.0, 6.0), (10.0, 17.0), (21.0, 10.0), (5.0, 64.0), (30.0, 15.0), (39.0, 10.0), (32.0, 39.0), (25.0, 32.0), (25.0, 55.0), (48.0, 28.0), (56.0, 37.0), (30.0, 40.0)]\n",
      "Calculado :True\n",
      "\n",
      "ERROR: Could not find file C:\\Users\\Luiz\\AppData\\Local\\Temp\\ipykernel_10012\\2576218384.py\n"
     ]
    },
    {
     "name": "stderr",
     "output_type": "stream",
     "text": [
      "C:\\Users\\Luiz\\AppData\\Local\\Temp\\ipykernel_10012\\2576218384.py:64: FutureWarning: The frame.append method is deprecated and will be removed from pandas in a future version. Use pandas.concat instead.\n",
      "  dataframe = dataframe.append(nova_linha, ignore_index=True)\n"
     ]
    },
    {
     "name": "stdout",
     "output_type": "stream",
     "text": [
      "Nome do Arquivo: berlin52\n",
      "Algoritmo : <function twice_around_the_tree at 0x00000175464D33A0>\n",
      "Tempo : 0.018707752227783203\n",
      "Memória Gasta: 157.37109375 MB\n",
      "Taxa de Aproximação: 1.3794564254469588\n",
      "Rota :[1, 22, 31, 18, 3, 17, 21, 42, 7, 2, 49, 32, 45, 19, 41, 8, 10, 9, 36, 35, 34, 44, 16, 50, 20, 23, 30, 29, 39, 40, 37, 38, 24, 5, 6, 4, 25, 12, 28, 27, 13, 14, 52, 26, 47, 51, 11, 15, 43, 33, 48, 46, 1]\n",
      "Vertices :[(565.0, 575.0), (25.0, 185.0), (345.0, 750.0), (945.0, 685.0), (845.0, 655.0), (880.0, 660.0), (25.0, 230.0), (525.0, 1000.0), (580.0, 1175.0), (650.0, 1130.0), (1605.0, 620.0), (1220.0, 580.0), (1465.0, 200.0), (1530.0, 5.0), (845.0, 680.0), (725.0, 370.0), (145.0, 665.0), (415.0, 635.0), (510.0, 875.0), (560.0, 365.0), (300.0, 465.0), (520.0, 585.0), (480.0, 415.0), (835.0, 625.0), (975.0, 580.0), (1215.0, 245.0), (1320.0, 315.0), (1250.0, 400.0), (660.0, 180.0), (410.0, 250.0), (420.0, 555.0), (575.0, 665.0), (1150.0, 1160.0), (700.0, 580.0), (685.0, 595.0), (685.0, 610.0), (770.0, 610.0), (795.0, 645.0), (720.0, 635.0), (760.0, 650.0), (475.0, 960.0), (95.0, 260.0), (875.0, 920.0), (700.0, 500.0), (555.0, 815.0), (830.0, 485.0), (1170.0, 65.0), (830.0, 610.0), (605.0, 625.0), (595.0, 360.0), (1340.0, 725.0), (1740.0, 245.0)]\n",
      "Calculado :True\n",
      "\n",
      "ERROR: Could not find file C:\\Users\\Luiz\\AppData\\Local\\Temp\\ipykernel_10012\\2576218384.py\n"
     ]
    },
    {
     "name": "stderr",
     "output_type": "stream",
     "text": [
      "C:\\Users\\Luiz\\AppData\\Local\\Temp\\ipykernel_10012\\2576218384.py:64: FutureWarning: The frame.append method is deprecated and will be removed from pandas in a future version. Use pandas.concat instead.\n",
      "  dataframe = dataframe.append(nova_linha, ignore_index=True)\n"
     ]
    },
    {
     "name": "stdout",
     "output_type": "stream",
     "text": [
      "Nome do Arquivo: st70\n",
      "Algoritmo : <function twice_around_the_tree at 0x00000175464D33A0>\n",
      "Tempo : 0.04919743537902832\n",
      "Memória Gasta: 158.0 MB\n",
      "Taxa de Aproximação: 1.2148934362702117\n",
      "Rota :[1, 16, 47, 37, 58, 50, 10, 5, 53, 52, 60, 12, 21, 17, 9, 40, 27, 46, 45, 25, 39, 61, 43, 41, 6, 42, 18, 4, 2, 7, 19, 32, 3, 8, 26, 49, 55, 28, 14, 20, 30, 68, 44, 34, 33, 54, 62, 67, 11, 48, 56, 51, 65, 64, 23, 38, 59, 22, 63, 57, 15, 24, 66, 69, 31, 13, 29, 70, 35, 36, 1]\n",
      "Vertices :[(64.0, 96.0), (80.0, 39.0), (69.0, 23.0), (72.0, 42.0), (48.0, 67.0), (58.0, 43.0), (81.0, 34.0), (79.0, 17.0), (30.0, 23.0), (42.0, 67.0), (7.0, 76.0), (29.0, 51.0), (78.0, 92.0), (64.0, 8.0), (95.0, 57.0), (57.0, 91.0), (40.0, 35.0), (68.0, 40.0), (92.0, 34.0), (62.0, 1.0), (28.0, 43.0), (76.0, 73.0), (67.0, 88.0), (93.0, 54.0), (6.0, 8.0), (87.0, 18.0), (30.0, 9.0), (77.0, 13.0), (78.0, 94.0), (55.0, 3.0), (82.0, 88.0), (73.0, 28.0), (20.0, 55.0), (27.0, 43.0), (95.0, 86.0), (67.0, 99.0), (48.0, 83.0), (75.0, 81.0), (8.0, 19.0), (20.0, 18.0), (54.0, 38.0), (63.0, 36.0), (44.0, 33.0), (52.0, 18.0), (12.0, 13.0), (25.0, 5.0), (58.0, 85.0), (5.0, 67.0), (90.0, 9.0), (41.0, 76.0), (25.0, 76.0), (37.0, 64.0), (56.0, 63.0), (10.0, 55.0), (98.0, 7.0), (16.0, 74.0), (89.0, 60.0), (48.0, 82.0), (81.0, 76.0), (29.0, 60.0), (17.0, 22.0), (5.0, 45.0), (79.0, 70.0), (9.0, 100.0), (17.0, 82.0), (74.0, 67.0), (10.0, 68.0), (48.0, 19.0), (83.0, 86.0), (84.0, 94.0)]\n",
      "Calculado :True\n",
      "\n",
      "ERROR: Could not find file C:\\Users\\Luiz\\AppData\\Local\\Temp\\ipykernel_10012\\2576218384.py\n"
     ]
    },
    {
     "name": "stderr",
     "output_type": "stream",
     "text": [
      "C:\\Users\\Luiz\\AppData\\Local\\Temp\\ipykernel_10012\\2576218384.py:64: FutureWarning: The frame.append method is deprecated and will be removed from pandas in a future version. Use pandas.concat instead.\n",
      "  dataframe = dataframe.append(nova_linha, ignore_index=True)\n"
     ]
    },
    {
     "name": "stdout",
     "output_type": "stream",
     "text": [
      "Nome do Arquivo: eil76\n",
      "Algoritmo : <function twice_around_the_tree at 0x00000175464D33A0>\n",
      "Tempo : 0.10492563247680664\n",
      "Memória Gasta: 158.6484375 MB\n",
      "Taxa de Aproximação: 1.39270437151361\n",
      "Rota :[1, 43, 41, 42, 64, 73, 33, 63, 16, 49, 24, 23, 56, 62, 22, 28, 61, 74, 30, 2, 48, 29, 5, 15, 57, 37, 20, 70, 60, 71, 45, 27, 13, 54, 52, 34, 46, 8, 35, 7, 19, 53, 11, 65, 38, 10, 31, 58, 72, 39, 9, 32, 44, 3, 50, 18, 25, 55, 66, 14, 59, 67, 26, 76, 75, 4, 68, 6, 51, 17, 40, 12, 47, 21, 36, 69, 1]\n",
      "Vertices :[(22.0, 22.0), (36.0, 26.0), (21.0, 45.0), (45.0, 35.0), (55.0, 20.0), (33.0, 34.0), (50.0, 50.0), (55.0, 45.0), (26.0, 59.0), (40.0, 66.0), (55.0, 65.0), (35.0, 51.0), (62.0, 35.0), (62.0, 57.0), (62.0, 24.0), (21.0, 36.0), (33.0, 44.0), (9.0, 56.0), (62.0, 48.0), (66.0, 14.0), (44.0, 13.0), (26.0, 13.0), (11.0, 28.0), (7.0, 43.0), (17.0, 64.0), (41.0, 46.0), (55.0, 34.0), (35.0, 16.0), (52.0, 26.0), (43.0, 26.0), (31.0, 76.0), (22.0, 53.0), (26.0, 29.0), (50.0, 40.0), (55.0, 50.0), (54.0, 10.0), (60.0, 15.0), (47.0, 66.0), (30.0, 60.0), (30.0, 50.0), (12.0, 17.0), (15.0, 14.0), (16.0, 19.0), (21.0, 48.0), (50.0, 30.0), (51.0, 42.0), (50.0, 15.0), (48.0, 21.0), (12.0, 38.0), (15.0, 56.0), (29.0, 39.0), (54.0, 38.0), (55.0, 57.0), (67.0, 41.0), (10.0, 70.0), (6.0, 25.0), (65.0, 27.0), (40.0, 60.0), (70.0, 64.0), (64.0, 4.0), (36.0, 6.0), (30.0, 20.0), (20.0, 30.0), (15.0, 5.0), (50.0, 70.0), (57.0, 72.0), (45.0, 42.0), (38.0, 33.0), (50.0, 4.0), (66.0, 8.0), (59.0, 5.0), (35.0, 60.0), (27.0, 24.0), (40.0, 20.0), (40.0, 37.0), (40.0, 40.0)]\n",
      "Calculado :True\n",
      "\n",
      "ERROR: Could not find file C:\\Users\\Luiz\\AppData\\Local\\Temp\\ipykernel_10012\\2576218384.py\n"
     ]
    },
    {
     "name": "stderr",
     "output_type": "stream",
     "text": [
      "C:\\Users\\Luiz\\AppData\\Local\\Temp\\ipykernel_10012\\2576218384.py:64: FutureWarning: The frame.append method is deprecated and will be removed from pandas in a future version. Use pandas.concat instead.\n",
      "  dataframe = dataframe.append(nova_linha, ignore_index=True)\n"
     ]
    },
    {
     "name": "stdout",
     "output_type": "stream",
     "text": [
      "Nome do Arquivo: pr76\n",
      "Algoritmo : <function twice_around_the_tree at 0x00000175464D33A0>\n",
      "Tempo : 0.10099625587463379\n",
      "Memória Gasta: 158.8984375 MB\n",
      "Taxa de Aproximação: 1.3653075106989527\n",
      "Rota :[1, 2, 3, 4, 6, 5, 10, 9, 12, 11, 17, 18, 37, 36, 35, 34, 40, 41, 60, 59, 58, 57, 63, 64, 71, 72, 73, 61, 62, 38, 39, 13, 14, 74, 15, 16, 20, 19, 31, 30, 29, 26, 27, 28, 33, 32, 43, 42, 54, 53, 52, 49, 50, 51, 56, 55, 66, 65, 7, 8, 23, 22, 21, 25, 24, 46, 45, 44, 48, 47, 69, 68, 67, 70, 75, 76, 1]\n",
      "Vertices :[(3600.0, 2300.0), (3100.0, 3300.0), (4700.0, 5750.0), (5400.0, 5750.0), (5608.0, 7103.0), (4493.0, 7102.0), (3600.0, 6950.0), (3100.0, 7250.0), (4700.0, 8450.0), (5400.0, 8450.0), (5610.0, 10053.0), (4492.0, 10052.0), (3600.0, 10800.0), (3100.0, 10950.0), (4700.0, 11650.0), (5400.0, 11650.0), (6650.0, 10800.0), (7300.0, 10950.0), (7300.0, 7250.0), (6650.0, 6950.0), (7300.0, 3300.0), (6650.0, 2300.0), (5400.0, 1600.0), (8350.0, 2300.0), (7850.0, 3300.0), (9450.0, 5750.0), (10150.0, 5750.0), (10358.0, 7103.0), (9243.0, 7102.0), (8350.0, 6950.0), (7850.0, 7250.0), (9450.0, 8450.0), (10150.0, 8450.0), (10360.0, 10053.0), (9242.0, 10052.0), (8350.0, 10800.0), (7850.0, 10950.0), (9450.0, 11650.0), (10150.0, 11650.0), (11400.0, 10800.0), (12050.0, 10950.0), (12050.0, 7250.0), (11400.0, 6950.0), (12050.0, 3300.0), (11400.0, 2300.0), (10150.0, 1600.0), (13100.0, 2300.0), (12600.0, 3300.0), (14200.0, 5750.0), (14900.0, 5750.0), (15108.0, 7103.0), (13993.0, 7102.0), (13100.0, 6950.0), (12600.0, 7250.0), (14200.0, 8450.0), (14900.0, 8450.0), (15110.0, 10053.0), (13992.0, 10052.0), (13100.0, 10800.0), (12600.0, 10950.0), (14200.0, 11650.0), (14900.0, 11650.0), (16150.0, 10800.0), (16800.0, 10950.0), (16800.0, 7250.0), (16150.0, 6950.0), (16800.0, 3300.0), (16150.0, 2300.0), (14900.0, 1600.0), (19800.0, 800.0), (19800.0, 10000.0), (19800.0, 11900.0), (19800.0, 12200.0), (200.0, 12200.0), (200.0, 1100.0), (200.0, 800.0)]\n",
      "Calculado :True\n",
      "\n",
      "ERROR: Could not find file C:\\Users\\Luiz\\AppData\\Local\\Temp\\ipykernel_10012\\2576218384.py\n"
     ]
    },
    {
     "name": "stderr",
     "output_type": "stream",
     "text": [
      "C:\\Users\\Luiz\\AppData\\Local\\Temp\\ipykernel_10012\\2576218384.py:64: FutureWarning: The frame.append method is deprecated and will be removed from pandas in a future version. Use pandas.concat instead.\n",
      "  dataframe = dataframe.append(nova_linha, ignore_index=True)\n"
     ]
    },
    {
     "name": "stdout",
     "output_type": "stream",
     "text": [
      "Nome do Arquivo: rat99\n",
      "Algoritmo : <function twice_around_the_tree at 0x00000175464D33A0>\n",
      "Tempo : 0.16449594497680664\n",
      "Memória Gasta: 159.29296875 MB\n",
      "Taxa de Aproximação: 1.3761088570801874\n",
      "Rota :[1, 2, 3, 4, 14, 5, 6, 7, 8, 9, 12, 11, 13, 22, 21, 20, 19, 23, 15, 16, 17, 18, 24, 25, 26, 35, 27, 36, 44, 34, 33, 32, 31, 30, 29, 37, 28, 41, 40, 39, 38, 48, 47, 46, 55, 43, 42, 45, 54, 53, 52, 51, 50, 49, 58, 57, 56, 65, 64, 66, 67, 68, 78, 69, 70, 71, 80, 81, 72, 77, 76, 75, 74, 73, 85, 84, 83, 82, 93, 92, 91, 94, 86, 87, 88, 95, 96, 97, 98, 99, 90, 89, 79, 59, 60, 61, 62, 63, 10, 1]\n",
      "Vertices :[(6.0, 4.0), (15.0, 15.0), (24.0, 18.0), (33.0, 12.0), (48.0, 12.0), (57.0, 14.0), (67.0, 10.0), (77.0, 10.0), (86.0, 15.0), (6.0, 21.0), (17.0, 26.0), (23.0, 25.0), (32.0, 35.0), (43.0, 23.0), (55.0, 35.0), (65.0, 36.0), (78.0, 39.0), (87.0, 35.0), (3.0, 53.0), (12.0, 44.0), (28.0, 53.0), (33.0, 49.0), (47.0, 46.0), (55.0, 52.0), (64.0, 50.0), (71.0, 57.0), (87.0, 57.0), (4.0, 72.0), (15.0, 78.0), (22.0, 70.0), (34.0, 71.0), (42.0, 79.0), (54.0, 77.0), (66.0, 79.0), (78.0, 67.0), (87.0, 73.0), (7.0, 81.0), (17.0, 95.0), (26.0, 98.0), (32.0, 97.0), (43.0, 88.0), (57.0, 89.0), (64.0, 85.0), (78.0, 83.0), (83.0, 98.0), (5.0, 109.0), (13.0, 111.0), (25.0, 102.0), (38.0, 119.0), (46.0, 107.0), (58.0, 110.0), (67.0, 110.0), (74.0, 113.0), (88.0, 110.0), (2.0, 124.0), (17.0, 134.0), (23.0, 129.0), (36.0, 131.0), (42.0, 137.0), (53.0, 123.0), (63.0, 135.0), (72.0, 134.0), (87.0, 129.0), (2.0, 146.0), (16.0, 147.0), (25.0, 153.0), (38.0, 155.0), (42.0, 158.0), (57.0, 154.0), (66.0, 151.0), (73.0, 151.0), (86.0, 149.0), (5.0, 177.0), (13.0, 162.0), (25.0, 169.0), (35.0, 177.0), (46.0, 172.0), (54.0, 166.0), (65.0, 174.0), (73.0, 161.0), (86.0, 162.0), (2.0, 195.0), (14.0, 196.0), (28.0, 189.0), (38.0, 187.0), (46.0, 195.0), (57.0, 194.0), (63.0, 188.0), (77.0, 193.0), (85.0, 194.0), (8.0, 211.0), (12.0, 217.0), (22.0, 210.0), (34.0, 216.0), (47.0, 203.0), (58.0, 213.0), (66.0, 206.0), (78.0, 210.0), (85.0, 204.0)]\n",
      "Calculado :True\n",
      "\n",
      "ERROR: Could not find file C:\\Users\\Luiz\\AppData\\Local\\Temp\\ipykernel_10012\\2576218384.py\n"
     ]
    },
    {
     "name": "stderr",
     "output_type": "stream",
     "text": [
      "C:\\Users\\Luiz\\AppData\\Local\\Temp\\ipykernel_10012\\2576218384.py:64: FutureWarning: The frame.append method is deprecated and will be removed from pandas in a future version. Use pandas.concat instead.\n",
      "  dataframe = dataframe.append(nova_linha, ignore_index=True)\n"
     ]
    },
    {
     "name": "stdout",
     "output_type": "stream",
     "text": [
      "Nome do Arquivo: kroA100\n",
      "Algoritmo : <function twice_around_the_tree at 0x00000175464D33A0>\n",
      "Tempo : 0.14035439491271973\n",
      "Memória Gasta: 160.12890625 MB\n",
      "Taxa de Aproximação: 1.4339320440731342\n",
      "Rota :[1, 63, 6, 49, 90, 10, 72, 21, 74, 11, 15, 17, 32, 47, 91, 45, 98, 23, 60, 62, 86, 27, 12, 20, 57, 7, 9, 87, 51, 61, 25, 81, 69, 64, 40, 54, 73, 50, 44, 2, 68, 85, 39, 30, 96, 78, 5, 37, 33, 13, 95, 82, 76, 52, 58, 28, 67, 93, 55, 83, 34, 29, 46, 3, 14, 71, 41, 100, 48, 43, 35, 77, 59, 84, 92, 8, 42, 89, 31, 80, 56, 97, 4, 65, 26, 66, 75, 19, 53, 79, 18, 24, 38, 36, 99, 88, 16, 22, 70, 94, 1]\n",
      "Vertices :[(1380.0, 939.0), (2848.0, 96.0), (3510.0, 1671.0), (457.0, 334.0), (3888.0, 666.0), (984.0, 965.0), (2721.0, 1482.0), (1286.0, 525.0), (2716.0, 1432.0), (738.0, 1325.0), (1251.0, 1832.0), (2728.0, 1698.0), (3815.0, 169.0), (3683.0, 1533.0), (1247.0, 1945.0), (123.0, 862.0), (1234.0, 1946.0), (252.0, 1240.0), (611.0, 673.0), (2576.0, 1676.0), (928.0, 1700.0), (53.0, 857.0), (1807.0, 1711.0), (274.0, 1420.0), (2574.0, 946.0), (178.0, 24.0), (2678.0, 1825.0), (1795.0, 962.0), (3384.0, 1498.0), (3520.0, 1079.0), (1256.0, 61.0), (1424.0, 1728.0), (3913.0, 192.0), (3085.0, 1528.0), (2573.0, 1969.0), (463.0, 1670.0), (3875.0, 598.0), (298.0, 1513.0), (3479.0, 821.0), (2542.0, 236.0), (3955.0, 1743.0), (1323.0, 280.0), (3447.0, 1830.0), (2936.0, 337.0), (1621.0, 1830.0), (3373.0, 1646.0), (1393.0, 1368.0), (3874.0, 1318.0), (938.0, 955.0), (3022.0, 474.0), (2482.0, 1183.0), (3854.0, 923.0), (376.0, 825.0), (2519.0, 135.0), (2945.0, 1622.0), (953.0, 268.0), (2628.0, 1479.0), (2097.0, 981.0), (890.0, 1846.0), (2139.0, 1806.0), (2421.0, 1007.0), (2290.0, 1810.0), (1115.0, 1052.0), (2588.0, 302.0), (327.0, 265.0), (241.0, 341.0), (1917.0, 687.0), (2991.0, 792.0), (2573.0, 599.0), (19.0, 674.0), (3911.0, 1673.0), (872.0, 1559.0), (2863.0, 558.0), (929.0, 1766.0), (839.0, 620.0), (3893.0, 102.0), (2178.0, 1619.0), (3822.0, 899.0), (378.0, 1048.0), (1178.0, 100.0), (2599.0, 901.0), (3416.0, 143.0), (2961.0, 1605.0), (611.0, 1384.0), (3113.0, 885.0), (2597.0, 1830.0), (2586.0, 1286.0), (161.0, 906.0), (1429.0, 134.0), (742.0, 1025.0), (1625.0, 1651.0), (1187.0, 706.0), (1787.0, 1009.0), (22.0, 987.0), (3640.0, 43.0), (3756.0, 882.0), (776.0, 392.0), (1724.0, 1642.0), (198.0, 1810.0), (3950.0, 1558.0)]\n",
      "Calculado :True\n",
      "\n",
      "ERROR: Could not find file C:\\Users\\Luiz\\AppData\\Local\\Temp\\ipykernel_10012\\2576218384.py\n"
     ]
    },
    {
     "name": "stderr",
     "output_type": "stream",
     "text": [
      "C:\\Users\\Luiz\\AppData\\Local\\Temp\\ipykernel_10012\\2576218384.py:64: FutureWarning: The frame.append method is deprecated and will be removed from pandas in a future version. Use pandas.concat instead.\n",
      "  dataframe = dataframe.append(nova_linha, ignore_index=True)\n"
     ]
    },
    {
     "name": "stdout",
     "output_type": "stream",
     "text": [
      "Nome do Arquivo: kroB100\n",
      "Algoritmo : <function twice_around_the_tree at 0x00000175464D33A0>\n",
      "Tempo : 0.11619138717651367\n",
      "Memória Gasta: 160.1953125 MB\n",
      "Taxa de Aproximação: 1.300912660468014\n",
      "Rota :[1, 90, 21, 95, 98, 12, 71, 27, 9, 25, 46, 61, 35, 94, 57, 7, 84, 58, 52, 43, 50, 55, 22, 23, 88, 77, 16, 2, 13, 63, 31, 48, 51, 78, 17, 41, 45, 36, 96, 92, 19, 44, 42, 14, 64, 82, 33, 15, 6, 4, 83, 24, 18, 89, 87, 60, 74, 66, 54, 34, 32, 59, 76, 99, 8, 29, 97, 91, 28, 3, 11, 93, 85, 73, 53, 70, 39, 40, 67, 5, 62, 26, 69, 75, 30, 49, 86, 68, 10, 80, 20, 38, 100, 56, 81, 79, 47, 65, 37, 72, 1]\n",
      "Vertices :[(3140.0, 1401.0), (556.0, 1056.0), (3675.0, 1522.0), (1182.0, 1853.0), (3595.0, 111.0), (962.0, 1895.0), (2030.0, 1186.0), (3507.0, 1851.0), (2642.0, 1269.0), (3438.0, 901.0), (3858.0, 1472.0), (2937.0, 1568.0), (376.0, 1018.0), (839.0, 1355.0), (706.0, 1925.0), (749.0, 920.0), (298.0, 615.0), (694.0, 552.0), (387.0, 190.0), (2801.0, 695.0), (3133.0, 1143.0), (1517.0, 266.0), (1538.0, 224.0), (844.0, 520.0), (2639.0, 1239.0), (3123.0, 217.0), (2489.0, 1520.0), (3834.0, 1827.0), (3417.0, 1808.0), (2938.0, 543.0), (71.0, 1323.0), (3245.0, 1828.0), (731.0, 1741.0), (2312.0, 1270.0), (2426.0, 1851.0), (380.0, 478.0), (2310.0, 635.0), (2830.0, 775.0), (3829.0, 513.0), (3684.0, 445.0), (171.0, 514.0), (627.0, 1261.0), (1490.0, 1123.0), (61.0, 81.0), (422.0, 542.0), (2698.0, 1221.0), (2372.0, 127.0), (177.0, 1390.0), (3084.0, 748.0), (1213.0, 910.0), (3.0, 1817.0), (1782.0, 995.0), (3896.0, 742.0), (1829.0, 812.0), (1286.0, 550.0), (3017.0, 108.0), (2132.0, 1432.0), (2000.0, 1110.0), (3317.0, 1966.0), (1729.0, 1498.0), (2408.0, 1747.0), (3292.0, 152.0), (193.0, 1210.0), (782.0, 1462.0), (2503.0, 352.0), (1697.0, 1924.0), (3821.0, 147.0), (3370.0, 791.0), (3162.0, 367.0), (3938.0, 516.0), (2741.0, 1583.0), (2330.0, 741.0), (3918.0, 1088.0), (1794.0, 1589.0), (2929.0, 485.0), (3453.0, 1998.0), (896.0, 705.0), (399.0, 850.0), (2614.0, 195.0), (2800.0, 653.0), (2630.0, 20.0), (563.0, 1513.0), (1090.0, 1652.0), (2009.0, 1163.0), (3876.0, 1165.0), (3084.0, 774.0), (1526.0, 1612.0), (1612.0, 328.0), (1423.0, 1322.0), (3058.0, 1276.0), (3782.0, 1865.0), (347.0, 252.0), (3904.0, 1444.0), (2191.0, 1579.0), (3220.0, 1454.0), (468.0, 319.0), (3611.0, 1968.0), (3114.0, 1629.0), (3515.0, 1892.0), (3060.0, 155.0)]\n",
      "Calculado :True\n",
      "\n",
      "ERROR: Could not find file C:\\Users\\Luiz\\AppData\\Local\\Temp\\ipykernel_10012\\2576218384.py\n"
     ]
    },
    {
     "name": "stderr",
     "output_type": "stream",
     "text": [
      "C:\\Users\\Luiz\\AppData\\Local\\Temp\\ipykernel_10012\\2576218384.py:64: FutureWarning: The frame.append method is deprecated and will be removed from pandas in a future version. Use pandas.concat instead.\n",
      "  dataframe = dataframe.append(nova_linha, ignore_index=True)\n"
     ]
    },
    {
     "name": "stdout",
     "output_type": "stream",
     "text": [
      "Nome do Arquivo: kroC100\n",
      "Algoritmo : <function twice_around_the_tree at 0x00000175464D33A0>\n",
      "Tempo : 0.17899084091186523\n",
      "Memória Gasta: 160.578125 MB\n",
      "Taxa de Aproximação: 1.3317664347002602\n",
      "Rota :[1, 53, 85, 27, 15, 13, 79, 64, 20, 55, 42, 67, 31, 47, 6, 54, 75, 22, 8, 17, 25, 90, 34, 58, 98, 88, 28, 38, 56, 5, 43, 86, 71, 72, 50, 95, 94, 91, 70, 23, 21, 89, 41, 59, 3, 73, 35, 2, 68, 30, 76, 83, 62, 39, 65, 80, 77, 40, 12, 46, 29, 18, 49, 93, 4, 60, 99, 19, 92, 10, 36, 14, 57, 74, 69, 100, 33, 45, 81, 97, 37, 16, 63, 44, 66, 48, 84, 11, 52, 96, 87, 51, 61, 26, 78, 9, 82, 7, 32, 24, 1]\n",
      "Vertices :[(1357.0, 1905.0), (2650.0, 802.0), (1774.0, 107.0), (1307.0, 964.0), (3806.0, 746.0), (2687.0, 1353.0), (43.0, 1957.0), (3092.0, 1668.0), (185.0, 1542.0), (834.0, 629.0), (40.0, 462.0), (1183.0, 1391.0), (2048.0, 1628.0), (1097.0, 643.0), (1838.0, 1732.0), (234.0, 1118.0), (3314.0, 1881.0), (737.0, 1285.0), (779.0, 777.0), (2312.0, 1949.0), (2576.0, 189.0), (3078.0, 1541.0), (2781.0, 478.0), (705.0, 1812.0), (3409.0, 1917.0), (323.0, 1714.0), (1660.0, 1556.0), (3729.0, 1188.0), (693.0, 1383.0), (2361.0, 640.0), (2433.0, 1538.0), (554.0, 1825.0), (913.0, 317.0), (3586.0, 1909.0), (2636.0, 727.0), (1000.0, 457.0), (482.0, 1337.0), (3704.0, 1082.0), (3635.0, 1174.0), (1362.0, 1526.0), (2049.0, 417.0), (2552.0, 1909.0), (3939.0, 640.0), (219.0, 898.0), (812.0, 351.0), (901.0, 1552.0), (2513.0, 1572.0), (242.0, 584.0), (826.0, 1226.0), (3278.0, 799.0), (86.0, 1065.0), (14.0, 454.0), (1327.0, 1893.0), (2773.0, 1286.0), (2469.0, 1838.0), (3835.0, 963.0), (1031.0, 428.0), (3853.0, 1712.0), (1868.0, 197.0), (1544.0, 863.0), (457.0, 1607.0), (3174.0, 1064.0), (192.0, 1004.0), (2318.0, 1925.0), (2232.0, 1374.0), (396.0, 828.0), (2365.0, 1649.0), (2499.0, 658.0), (1410.0, 307.0), (2990.0, 214.0), (3646.0, 1018.0), (3394.0, 1028.0), (1779.0, 90.0), (1058.0, 372.0), (2933.0, 1459.0), (3099.0, 173.0), (2178.0, 978.0), (138.0, 1610.0), (2082.0, 1753.0), (2302.0, 1127.0), (805.0, 272.0), (22.0, 1617.0), (3213.0, 1085.0), (99.0, 536.0), (1533.0, 1780.0), (3564.0, 676.0), (29.0, 6.0), (3808.0, 1375.0), (2221.0, 291.0), (3499.0, 1885.0), (3124.0, 408.0), (781.0, 671.0), (1027.0, 1041.0), (3249.0, 378.0), (3297.0, 491.0), (213.0, 220.0), (721.0, 186.0), (3736.0, 1542.0), (868.0, 731.0), (960.0, 303.0)]\n",
      "Calculado :True\n",
      "\n",
      "ERROR: Could not find file C:\\Users\\Luiz\\AppData\\Local\\Temp\\ipykernel_10012\\2576218384.py\n"
     ]
    },
    {
     "name": "stderr",
     "output_type": "stream",
     "text": [
      "C:\\Users\\Luiz\\AppData\\Local\\Temp\\ipykernel_10012\\2576218384.py:64: FutureWarning: The frame.append method is deprecated and will be removed from pandas in a future version. Use pandas.concat instead.\n",
      "  dataframe = dataframe.append(nova_linha, ignore_index=True)\n"
     ]
    },
    {
     "name": "stdout",
     "output_type": "stream",
     "text": [
      "Nome do Arquivo: kroD100\n",
      "Algoritmo : <function twice_around_the_tree at 0x00000175464D33A0>\n",
      "Tempo : 0.18412041664123535\n",
      "Memória Gasta: 160.86328125 MB\n",
      "Taxa de Aproximação: 1.3430581535248216\n",
      "Rota :[1, 27, 24, 41, 84, 15, 63, 16, 96, 86, 65, 14, 68, 33, 45, 99, 31, 57, 72, 78, 80, 76, 54, 77, 43, 71, 4, 44, 60, 53, 5, 62, 37, 19, 92, 51, 35, 100, 2, 48, 30, 93, 64, 59, 40, 6, 83, 3, 85, 18, 25, 20, 9, 10, 21, 47, 12, 28, 56, 95, 55, 26, 87, 82, 91, 39, 73, 69, 88, 79, 13, 50, 34, 38, 11, 90, 17, 94, 32, 97, 89, 70, 49, 98, 66, 8, 52, 46, 23, 42, 22, 58, 29, 36, 67, 75, 7, 74, 61, 81, 1]\n",
      "Vertices :[(2995.0, 264.0), (202.0, 233.0), (981.0, 848.0), (1346.0, 408.0), (781.0, 670.0), (1009.0, 1001.0), (2927.0, 1777.0), (2982.0, 949.0), (555.0, 1121.0), (464.0, 1302.0), (3452.0, 637.0), (571.0, 1982.0), (2656.0, 128.0), (1623.0, 1723.0), (2067.0, 694.0), (1725.0, 927.0), (3600.0, 459.0), (1109.0, 1196.0), (366.0, 339.0), (778.0, 1282.0), (386.0, 1616.0), (3918.0, 1217.0), (3332.0, 1049.0), (2597.0, 349.0), (811.0, 1295.0), (241.0, 1069.0), (2658.0, 360.0), (394.0, 1944.0), (3786.0, 1862.0), (264.0, 36.0), (2050.0, 1833.0), (3538.0, 125.0), (1646.0, 1817.0), (2993.0, 624.0), (547.0, 25.0), (3373.0, 1902.0), (460.0, 267.0), (3060.0, 781.0), (1828.0, 456.0), (1021.0, 962.0), (2347.0, 388.0), (3535.0, 1112.0), (1529.0, 581.0), (1203.0, 385.0), (1787.0, 1902.0), (2740.0, 1101.0), (555.0, 1753.0), (47.0, 363.0), (3935.0, 540.0), (3062.0, 329.0), (387.0, 199.0), (2901.0, 920.0), (931.0, 512.0), (1766.0, 692.0), (401.0, 980.0), (149.0, 1629.0), (2214.0, 1977.0), (3805.0, 1619.0), (1179.0, 969.0), (1017.0, 333.0), (2834.0, 1512.0), (634.0, 294.0), (1819.0, 814.0), (1393.0, 859.0), (1768.0, 1578.0), (3023.0, 871.0), (3248.0, 1906.0), (1632.0, 1742.0), (2223.0, 990.0), (3868.0, 697.0), (1541.0, 354.0), (2374.0, 1944.0), (1962.0, 389.0), (3007.0, 1524.0), (3220.0, 1945.0), (2356.0, 1568.0), (1604.0, 706.0), (2028.0, 1736.0), (2581.0, 121.0), (2221.0, 1578.0), (2944.0, 632.0), (1082.0, 1561.0), (997.0, 942.0), (2334.0, 523.0), (1264.0, 1090.0), (1699.0, 1294.0), (235.0, 1059.0), (2592.0, 248.0), (3642.0, 699.0), (3599.0, 514.0), (1766.0, 678.0), (240.0, 619.0), (1272.0, 246.0), (3503.0, 301.0), (80.0, 1533.0), (1677.0, 1238.0), (3766.0, 154.0), (3946.0, 459.0), (1994.0, 1852.0), (278.0, 165.0)]\n",
      "Calculado :True\n",
      "\n",
      "ERROR: Could not find file C:\\Users\\Luiz\\AppData\\Local\\Temp\\ipykernel_10012\\2576218384.py\n"
     ]
    },
    {
     "name": "stderr",
     "output_type": "stream",
     "text": [
      "C:\\Users\\Luiz\\AppData\\Local\\Temp\\ipykernel_10012\\2576218384.py:64: FutureWarning: The frame.append method is deprecated and will be removed from pandas in a future version. Use pandas.concat instead.\n",
      "  dataframe = dataframe.append(nova_linha, ignore_index=True)\n"
     ]
    },
    {
     "name": "stdout",
     "output_type": "stream",
     "text": [
      "Nome do Arquivo: kroE100\n",
      "Algoritmo : <function twice_around_the_tree at 0x00000175464D33A0>\n",
      "Tempo : 0.1538524627685547\n",
      "Memória Gasta: 161.3671875 MB\n",
      "Taxa de Aproximação: 1.4037783073863785\n",
      "Rota :[1, 74, 21, 7, 76, 12, 32, 58, 63, 88, 35, 40, 99, 17, 84, 45, 54, 25, 97, 65, 8, 80, 10, 60, 50, 57, 31, 9, 66, 30, 90, 42, 5, 48, 33, 22, 39, 43, 19, 94, 18, 24, 29, 100, 86, 38, 68, 93, 91, 55, 6, 34, 37, 70, 85, 77, 96, 4, 2, 11, 82, 27, 41, 75, 13, 87, 67, 92, 53, 78, 64, 23, 56, 15, 20, 49, 62, 95, 36, 28, 59, 98, 51, 69, 83, 47, 3, 46, 73, 16, 61, 14, 44, 72, 52, 71, 89, 81, 79, 26, 1]\n",
      "Vertices :[(3477.0, 949.0), (91.0, 1732.0), (3972.0, 329.0), (198.0, 1632.0), (1806.0, 733.0), (538.0, 1023.0), (3430.0, 1088.0), (2186.0, 766.0), (1513.0, 1646.0), (2143.0, 1611.0), (53.0, 1657.0), (3404.0, 1307.0), (1034.0, 1344.0), (2823.0, 376.0), (3104.0, 1931.0), (3232.0, 324.0), (2790.0, 1457.0), (374.0, 9.0), (741.0, 146.0), (3083.0, 1938.0), (3502.0, 1067.0), (1280.0, 237.0), (3326.0, 1846.0), (217.0, 38.0), (2503.0, 1172.0), (3527.0, 41.0), (739.0, 1850.0), (3548.0, 1999.0), (48.0, 154.0), (1419.0, 872.0), (1689.0, 1223.0), (3468.0, 1404.0), (1628.0, 253.0), (382.0, 872.0), (3029.0, 1242.0), (3646.0, 1758.0), (285.0, 1029.0), (1782.0, 93.0), (1067.0, 371.0), (2849.0, 1214.0), (920.0, 1835.0), (1741.0, 712.0), (876.0, 220.0), (2753.0, 283.0), (2609.0, 1286.0), (3941.0, 258.0), (3613.0, 523.0), (1754.0, 559.0), (2916.0, 1724.0), (2445.0, 1820.0), (3825.0, 1101.0), (2779.0, 435.0), (201.0, 693.0), (2502.0, 1274.0), (765.0, 833.0), (3105.0, 1823.0), (1937.0, 1400.0), (3364.0, 1498.0), (3702.0, 1624.0), (2164.0, 1874.0), (3019.0, 189.0), (3098.0, 1594.0), (3239.0, 1376.0), (3359.0, 1693.0), (2081.0, 1011.0), (1398.0, 1100.0), (618.0, 1953.0), (1878.0, 59.0), (3803.0, 886.0), (397.0, 1217.0), (3035.0, 152.0), (2502.0, 146.0), (3230.0, 380.0), (3479.0, 1023.0), (958.0, 1670.0), (3423.0, 1241.0), (78.0, 1066.0), (96.0, 691.0), (3431.0, 78.0), (2053.0, 1461.0), (3048.0, 1.0), (571.0, 1711.0), (3393.0, 782.0), (2835.0, 1472.0), (144.0, 1185.0), (923.0, 108.0), (989.0, 1997.0), (3061.0, 1211.0), (2977.0, 39.0), (1668.0, 658.0), (878.0, 715.0), (678.0, 1599.0), (1086.0, 868.0), (640.0, 110.0), (3551.0, 1673.0), (106.0, 1267.0), (2243.0, 1332.0), (3796.0, 1401.0), (2643.0, 1320.0), (48.0, 267.0)]\n",
      "Calculado :True\n",
      "\n",
      "ERROR: Could not find file C:\\Users\\Luiz\\AppData\\Local\\Temp\\ipykernel_10012\\2576218384.py\n"
     ]
    },
    {
     "name": "stderr",
     "output_type": "stream",
     "text": [
      "C:\\Users\\Luiz\\AppData\\Local\\Temp\\ipykernel_10012\\2576218384.py:64: FutureWarning: The frame.append method is deprecated and will be removed from pandas in a future version. Use pandas.concat instead.\n",
      "  dataframe = dataframe.append(nova_linha, ignore_index=True)\n"
     ]
    },
    {
     "name": "stdout",
     "output_type": "stream",
     "text": [
      "Nome do Arquivo: rd100\n",
      "Algoritmo : <function twice_around_the_tree at 0x00000175464D33A0>\n",
      "Tempo : 0.21652841567993164\n",
      "Memória Gasta: 161.60546875 MB\n",
      "Taxa de Aproximação: 1.3232857181286048\n",
      "Rota :[1, 18, 62, 15, 63, 97, 67, 13, 86, 21, 49, 75, 4, 32, 78, 20, 74, 26, 9, 33, 3, 10, 27, 92, 50, 46, 19, 37, 28, 77, 59, 95, 93, 56, 73, 54, 38, 72, 17, 70, 79, 6, 53, 94, 98, 16, 45, 44, 29, 35, 100, 52, 66, 31, 84, 23, 2, 89, 88, 76, 58, 99, 47, 57, 36, 64, 82, 85, 12, 14, 87, 60, 8, 69, 90, 51, 65, 80, 48, 30, 81, 5, 22, 41, 34, 7, 40, 55, 39, 96, 42, 43, 24, 25, 61, 11, 91, 83, 68, 71, 1]\n",
      "Vertices :[(143.775, 862.63), (881.78, 1.18319), (545.244, 735.005), (502.813, 876.001), (204.876, 345.225), (701.637, 576.987), (147.167, 164.286), (135.382, 807.91), (628.999, 976.971), (674.999, 731.447), (313.696, 299.126), (445.689, 981.97), (354.793, 765.215), (398.129, 976.034), (273.041, 853.944), (666.295, 312.27), (876.942, 925.39), (134.026, 949.816), (966.825, 726.799), (659.346, 889.08), (400.34, 874.489), (118.041, 312.04), (809.87, 50.8555), (16.2821, 114.161), (12.6192, 48.2407), (650.039, 940.261), (791.189, 758.951), (907.194, 612.605), (510.857, 25.8629), (31.6366, 431.221), (776.763, 253.781), (531.819, 906.89), (654.965, 767.759), (186.06, 206.527), (564.595, 2.99685), (410.816, 437.921), (930.189, 639.817), (941.392, 889.979), (341.538, 39.4141), (162.622, 95.1969), (107.558, 262.746), (82.6398, 131.129), (43.0137, 77.901), (554.45, 99.7819), (608.618, 227.863), (889.589, 760.96), (559.461, 508.125), (13.6027, 508.467), (402.567, 839.178), (886.156, 764.31), (84.6462, 629.068), (486.783, 259.062), (647.516, 553.517), (967.65, 824.246), (236.623, 1.52397), (879.518, 737.584), (509.84, 420.787), (936.134, 303.893), (872.343, 499.018), (142.996, 840.984), (233.102, 303.929), (199.819, 937.721), (302.123, 847.44), (365.531, 566.229), (107.593, 549.471), (802.657, 344.868), (319.486, 813.104), (3.24542, 701.539), (180.027, 766.307), (977.601, 968.843), (14.6301, 842.383), (922.626, 954.285), (896.272, 789.067), (667.952, 906.108), (425.058, 869.541), (865.918, 369.61), (898.572, 539.108), (621.689, 878.159), (673.73, 613.117), (89.2979, 491.923), (147.858, 459.84), (428.293, 905.37), (51.7499, 636.336), (826.458, 231.701), (426.249, 946.357), (316.069, 853.389), (275.713, 973.754), (835.293, 247.974), (970.187, 63.5213), (123.616, 644.17), (226.668, 562.456), (808.92, 791.39), (942.256, 531.023), (705.831, 455.757), (856.231, 509.763), (352.477, 1.16433), (308.882, 842.792), (750.979, 394.934), (610.775, 584.408), (483.637, 116.325)]\n",
      "Calculado :True\n",
      "\n",
      "ERROR: Could not find file C:\\Users\\Luiz\\AppData\\Local\\Temp\\ipykernel_10012\\2576218384.py\n"
     ]
    },
    {
     "name": "stderr",
     "output_type": "stream",
     "text": [
      "C:\\Users\\Luiz\\AppData\\Local\\Temp\\ipykernel_10012\\2576218384.py:64: FutureWarning: The frame.append method is deprecated and will be removed from pandas in a future version. Use pandas.concat instead.\n",
      "  dataframe = dataframe.append(nova_linha, ignore_index=True)\n"
     ]
    },
    {
     "name": "stdout",
     "output_type": "stream",
     "text": [
      "Nome do Arquivo: eil101\n",
      "Algoritmo : <function twice_around_the_tree at 0x00000175464D33A0>\n",
      "Tempo : 0.5080208778381348\n",
      "Memória Gasta: 161.6875 MB\n",
      "Taxa de Aproximação: 1.408762408506762\n",
      "Rota :[1, 50, 76, 77, 3, 79, 33, 81, 9, 51, 71, 35, 65, 78, 34, 68, 29, 24, 80, 12, 26, 40, 21, 73, 72, 74, 22, 41, 75, 56, 4, 23, 39, 67, 58, 13, 94, 6, 89, 95, 97, 87, 2, 57, 15, 43, 42, 92, 37, 98, 100, 59, 99, 5, 60, 18, 52, 83, 8, 45, 46, 82, 7, 88, 31, 70, 30, 20, 66, 62, 10, 90, 32, 63, 48, 47, 19, 11, 36, 49, 64, 84, 17, 93, 85, 61, 16, 44, 14, 38, 86, 91, 96, 53, 101, 27, 28, 54, 55, 25, 69, 1]\n",
      "Vertices :[(41.0, 49.0), (35.0, 17.0), (55.0, 45.0), (55.0, 20.0), (15.0, 30.0), (25.0, 30.0), (20.0, 50.0), (10.0, 43.0), (55.0, 60.0), (30.0, 60.0), (20.0, 65.0), (50.0, 35.0), (30.0, 25.0), (15.0, 10.0), (30.0, 5.0), (10.0, 20.0), (5.0, 30.0), (20.0, 40.0), (15.0, 60.0), (45.0, 65.0), (45.0, 20.0), (45.0, 10.0), (55.0, 5.0), (65.0, 35.0), (65.0, 20.0), (45.0, 30.0), (35.0, 40.0), (41.0, 37.0), (64.0, 42.0), (40.0, 60.0), (31.0, 52.0), (35.0, 69.0), (53.0, 52.0), (65.0, 55.0), (63.0, 65.0), (2.0, 60.0), (20.0, 20.0), (5.0, 5.0), (60.0, 12.0), (40.0, 25.0), (42.0, 7.0), (24.0, 12.0), (23.0, 3.0), (11.0, 14.0), (6.0, 38.0), (2.0, 48.0), (8.0, 56.0), (13.0, 52.0), (6.0, 68.0), (47.0, 47.0), (49.0, 58.0), (27.0, 43.0), (37.0, 31.0), (57.0, 29.0), (63.0, 23.0), (53.0, 12.0), (32.0, 12.0), (36.0, 26.0), (21.0, 24.0), (17.0, 34.0), (12.0, 24.0), (24.0, 58.0), (27.0, 69.0), (15.0, 77.0), (62.0, 77.0), (49.0, 73.0), (67.0, 5.0), (56.0, 39.0), (37.0, 47.0), (37.0, 56.0), (57.0, 68.0), (47.0, 16.0), (44.0, 17.0), (46.0, 13.0), (49.0, 11.0), (49.0, 42.0), (53.0, 43.0), (61.0, 52.0), (57.0, 48.0), (56.0, 37.0), (55.0, 54.0), (15.0, 47.0), (14.0, 37.0), (11.0, 31.0), (16.0, 22.0), (4.0, 18.0), (28.0, 18.0), (26.0, 52.0), (26.0, 35.0), (31.0, 67.0), (15.0, 19.0), (22.0, 22.0), (18.0, 24.0), (26.0, 27.0), (25.0, 24.0), (22.0, 27.0), (25.0, 21.0), (19.0, 21.0), (20.0, 26.0), (18.0, 18.0), (35.0, 35.0)]\n",
      "Calculado :True\n",
      "\n",
      "ERROR: Could not find file C:\\Users\\Luiz\\AppData\\Local\\Temp\\ipykernel_10012\\2576218384.py\n"
     ]
    },
    {
     "name": "stderr",
     "output_type": "stream",
     "text": [
      "C:\\Users\\Luiz\\AppData\\Local\\Temp\\ipykernel_10012\\2576218384.py:64: FutureWarning: The frame.append method is deprecated and will be removed from pandas in a future version. Use pandas.concat instead.\n",
      "  dataframe = dataframe.append(nova_linha, ignore_index=True)\n"
     ]
    },
    {
     "name": "stdout",
     "output_type": "stream",
     "text": [
      "Nome do Arquivo: lin105\n",
      "Algoritmo : <function twice_around_the_tree at 0x00000175464D33A0>\n",
      "Tempo : 0.713402271270752\n",
      "Memória Gasta: 161.6875 MB\n",
      "Taxa de Aproximação: 1.4957957924154182\n",
      "Rota :[1, 2, 3, 8, 9, 5, 4, 13, 14, 34, 35, 38, 39, 6, 7, 10, 11, 15, 103, 20, 12, 23, 24, 19, 16, 18, 17, 25, 26, 36, 37, 27, 28, 33, 104, 40, 45, 48, 49, 50, 55, 56, 57, 54, 51, 47, 44, 41, 43, 42, 46, 52, 53, 58, 59, 105, 62, 63, 69, 73, 76, 77, 72, 79, 84, 83, 82, 78, 71, 68, 67, 64, 85, 91, 92, 93, 98, 99, 96, 97, 101, 102, 86, 80, 74, 70, 66, 65, 61, 60, 87, 88, 94, 95, 100, 75, 81, 89, 90, 21, 22, 29, 30, 31, 32, 1]\n",
      "Vertices :[(63.0, 71.0), (94.0, 71.0), (142.0, 370.0), (173.0, 1276.0), (205.0, 1213.0), (213.0, 69.0), (244.0, 69.0), (276.0, 630.0), (283.0, 732.0), (362.0, 69.0), (394.0, 69.0), (449.0, 370.0), (480.0, 1276.0), (512.0, 1213.0), (528.0, 157.0), (583.0, 630.0), (591.0, 732.0), (638.0, 654.0), (638.0, 496.0), (638.0, 314.0), (638.0, 142.0), (669.0, 142.0), (677.0, 315.0), (677.0, 496.0), (677.0, 654.0), (709.0, 654.0), (709.0, 496.0), (709.0, 315.0), (701.0, 142.0), (764.0, 220.0), (811.0, 189.0), (843.0, 173.0), (858.0, 370.0), (890.0, 1276.0), (921.0, 1213.0), (992.0, 630.0), (1000.0, 732.0), (1197.0, 1276.0), (1228.0, 1213.0), (1276.0, 205.0), (1299.0, 630.0), (1307.0, 732.0), (1362.0, 654.0), (1362.0, 496.0), (1362.0, 291.0), (1425.0, 654.0), (1425.0, 496.0), (1425.0, 291.0), (1417.0, 173.0), (1488.0, 291.0), (1488.0, 496.0), (1488.0, 654.0), (1551.0, 654.0), (1551.0, 496.0), (1551.0, 291.0), (1614.0, 291.0), (1614.0, 496.0), (1614.0, 654.0), (1732.0, 189.0), (1811.0, 1276.0), (1843.0, 1213.0), (1913.0, 630.0), (1921.0, 732.0), (2087.0, 370.0), (2118.0, 1276.0), (2150.0, 1213.0), (2189.0, 205.0), (2220.0, 189.0), (2220.0, 630.0), (2228.0, 732.0), (2244.0, 142.0), (2276.0, 315.0), (2276.0, 496.0), (2276.0, 654.0), (2315.0, 654.0), (2315.0, 496.0), (2315.0, 315.0), (2331.0, 142.0), (2346.0, 315.0), (2346.0, 496.0), (2346.0, 654.0), (2362.0, 142.0), (2402.0, 157.0), (2402.0, 220.0), (2480.0, 142.0), (2496.0, 370.0), (2528.0, 1276.0), (2559.0, 1213.0), (2630.0, 630.0), (2638.0, 732.0), (2756.0, 69.0), (2787.0, 69.0), (2803.0, 370.0), (2835.0, 1276.0), (2866.0, 1213.0), (2906.0, 69.0), (2937.0, 69.0), (2937.0, 630.0), (2945.0, 732.0), (3016.0, 1276.0), (3055.0, 69.0), (3087.0, 69.0), (606.0, 220.0), (1165.0, 370.0), (1780.0, 370.0)]\n",
      "Calculado :True\n",
      "\n",
      "ERROR: Could not find file C:\\Users\\Luiz\\AppData\\Local\\Temp\\ipykernel_10012\\2576218384.py\n"
     ]
    },
    {
     "name": "stderr",
     "output_type": "stream",
     "text": [
      "C:\\Users\\Luiz\\AppData\\Local\\Temp\\ipykernel_10012\\2576218384.py:64: FutureWarning: The frame.append method is deprecated and will be removed from pandas in a future version. Use pandas.concat instead.\n",
      "  dataframe = dataframe.append(nova_linha, ignore_index=True)\n"
     ]
    },
    {
     "name": "stdout",
     "output_type": "stream",
     "text": [
      "Nome do Arquivo: pr107\n",
      "Algoritmo : <function twice_around_the_tree at 0x00000175464D33A0>\n",
      "Tempo : 1.2029519081115723\n",
      "Memória Gasta: 161.6328125 MB\n",
      "Taxa de Aproximação: 1.248744641618589\n",
      "Rota :[1, 3, 4, 6, 5, 2, 7, 9, 10, 11, 8, 12, 13, 15, 16, 18, 17, 14, 20, 23, 24, 21, 19, 22, 26, 29, 30, 27, 25, 28, 31, 33, 34, 36, 35, 32, 37, 39, 40, 42, 41, 38, 44, 47, 48, 45, 43, 46, 49, 51, 52, 54, 53, 50, 55, 106, 104, 101, 56, 99, 102, 103, 100, 98, 95, 97, 96, 57, 94, 91, 58, 89, 86, 59, 84, 81, 60, 79, 76, 61, 74, 73, 62, 70, 71, 72, 69, 68, 65, 67, 66, 63, 64, 77, 78, 75, 82, 83, 80, 87, 88, 85, 92, 93, 90, 107, 105, 1]\n",
      "Vertices :[(8375.0, 4700.0), (8775.0, 4700.0), (8375.0, 4900.0), (8175.0, 4900.0), (8775.0, 4900.0), (8575.0, 4900.0), (8775.0, 5400.0), (8375.0, 5450.0), (8775.0, 5600.0), (8575.0, 5600.0), (8375.0, 5650.0), (8175.0, 5650.0), (8375.0, 6200.0), (8775.0, 6200.0), (8375.0, 6400.0), (8175.0, 6400.0), (8775.0, 6400.0), (8575.0, 6400.0), (8375.0, 7000.0), (8775.0, 7000.0), (8375.0, 7200.0), (8175.0, 7200.0), (8775.0, 7200.0), (8575.0, 7200.0), (8375.0, 7800.0), (8775.0, 7800.0), (8375.0, 8000.0), (8175.0, 8000.0), (8775.0, 8000.0), (8575.0, 8000.0), (8375.0, 8700.0), (8775.0, 8700.0), (8375.0, 8900.0), (8175.0, 8900.0), (8775.0, 8900.0), (8575.0, 8900.0), (8375.0, 9600.0), (8775.0, 9600.0), (8375.0, 9800.0), (8175.0, 9800.0), (8775.0, 9800.0), (8575.0, 9800.0), (8375.0, 10500.0), (8775.0, 10450.0), (8375.0, 10700.0), (8175.0, 10700.0), (8775.0, 10650.0), (8575.0, 10650.0), (8375.0, 11300.0), (8775.0, 11300.0), (8375.0, 11500.0), (8175.0, 11500.0), (8775.0, 11500.0), (8575.0, 11500.0), (15825.0, 11500.0), (15825.0, 10700.0), (15825.0, 9800.0), (15825.0, 8900.0), (15825.0, 8000.0), (15825.0, 7200.0), (15825.0, 6400.0), (15825.0, 5650.0), (15825.0, 4900.0), (16025.0, 4700.0), (16425.0, 4700.0), (16025.0, 4900.0), (16225.0, 4900.0), (16425.0, 4900.0), (16425.0, 5400.0), (16025.0, 5450.0), (16225.0, 5600.0), (16425.0, 5600.0), (16025.0, 5650.0), (16025.0, 6200.0), (16425.0, 6200.0), (16025.0, 6400.0), (16225.0, 6400.0), (16425.0, 6400.0), (16025.0, 7000.0), (16425.0, 7000.0), (16025.0, 7200.0), (16225.0, 7200.0), (16425.0, 7200.0), (16025.0, 7800.0), (16425.0, 7800.0), (16025.0, 8000.0), (16225.0, 8000.0), (16425.0, 8000.0), (16025.0, 8700.0), (16425.0, 8700.0), (16025.0, 8900.0), (16225.0, 8900.0), (16425.0, 8900.0), (16025.0, 9600.0), (16425.0, 9600.0), (16025.0, 9800.0), (16225.0, 9800.0), (16425.0, 9800.0), (16025.0, 10500.0), (16425.0, 10450.0), (16025.0, 10700.0), (16225.0, 10650.0), (16425.0, 10650.0), (16025.0, 11300.0), (16425.0, 11300.0), (16025.0, 11500.0), (16225.0, 11500.0)]\n",
      "Calculado :True\n",
      "\n",
      "ERROR: Could not find file C:\\Users\\Luiz\\AppData\\Local\\Temp\\ipykernel_10012\\2576218384.py\n"
     ]
    },
    {
     "name": "stderr",
     "output_type": "stream",
     "text": [
      "C:\\Users\\Luiz\\AppData\\Local\\Temp\\ipykernel_10012\\2576218384.py:64: FutureWarning: The frame.append method is deprecated and will be removed from pandas in a future version. Use pandas.concat instead.\n",
      "  dataframe = dataframe.append(nova_linha, ignore_index=True)\n"
     ]
    },
    {
     "name": "stdout",
     "output_type": "stream",
     "text": [
      "Nome do Arquivo: pr124\n",
      "Algoritmo : <function twice_around_the_tree at 0x00000175464D33A0>\n",
      "Tempo : 0.08040857315063477\n",
      "Memória Gasta: 161.78125 MB\n",
      "Taxa de Aproximação: 1.424818368214969\n",
      "Rota :[1, 2, 3, 4, 8, 7, 27, 28, 29, 35, 36, 59, 33, 34, 30, 31, 32, 6, 5, 61, 60, 58, 57, 56, 55, 37, 38, 24, 25, 26, 40, 39, 23, 21, 20, 19, 18, 45, 44, 43, 42, 41, 54, 52, 46, 17, 16, 9, 10, 47, 48, 49, 15, 14, 11, 12, 13, 50, 51, 53, 88, 87, 86, 85, 90, 91, 101, 89, 103, 102, 114, 113, 112, 111, 110, 109, 108, 104, 107, 106, 105, 22, 62, 66, 65, 64, 63, 68, 69, 70, 71, 72, 73, 74, 75, 76, 77, 78, 79, 80, 92, 93, 94, 95, 96, 97, 98, 99, 100, 124, 123, 122, 121, 120, 119, 118, 117, 116, 115, 67, 83, 82, 81, 84, 1]\n",
      "Vertices :[(4475.0, 8657.0), (4475.0, 8969.0), (4475.0, 9407.0), (4475.0, 9719.0), (5450.0, 10475.0), (5475.0, 9750.0), (5475.0, 8650.0), (4575.0, 8425.0), (5425.0, 3300.0), (5425.0, 3000.0), (5425.0, 2400.0), (5425.0, 2100.0), (5425.0, 1800.0), (6000.0, 2375.0), (6375.0, 2375.0), (6000.0, 3375.0), (6375.0, 3375.0), (6475.0, 4675.0), (6475.0, 4875.0), (6475.0, 5275.0), (6475.0, 5475.0), (6100.0, 6675.0), (6350.0, 6675.0), (6350.0, 7275.0), (6100.0, 7275.0), (6550.0, 7625.0), (5775.0, 8650.0), (6075.0, 8650.0), (6375.0, 8650.0), (6375.0, 9750.0), (6075.0, 9750.0), (5775.0, 9750.0), (6975.0, 9750.0), (6675.0, 9750.0), (6675.0, 8650.0), (6875.0, 8650.0), (6850.0, 7275.0), (6600.0, 7275.0), (6600.0, 6675.0), (6850.0, 6675.0), (7100.0, 5425.0), (7100.0, 5275.0), (7100.0, 5075.0), (7100.0, 4875.0), (7100.0, 4675.0), (6925.0, 3300.0), (6925.0, 3000.0), (6925.0, 2700.0), (6925.0, 2400.0), (6925.0, 2100.0), (6925.0, 1800.0), (7700.0, 3725.0), (7850.0, 3700.0), (7700.0, 4725.0), (7750.0, 7475.0), (8125.0, 7525.0), (8500.0, 7475.0), (8500.0, 8225.0), (7600.0, 9025.0), (8350.0, 9025.0), (7975.0, 9075.0), (8350.0, 9775.0), (9375.0, 11225.0), (9531.0, 11225.0), (9475.0, 10275.0), (9275.0, 10050.0), (10375.0, 9525.0), (9687.0, 11225.0), (9843.0, 11225.0), (9999.0, 11225.0), (10155.0, 11225.0), (10311.0, 11225.0), (10467.0, 11225.0), (10623.0, 11225.0), (10779.0, 11225.0), (10935.0, 11225.0), (11091.0, 11225.0), (11247.0, 11225.0), (11403.0, 11225.0), (11559.0, 11225.0), (11175.0, 9800.0), (11275.0, 9475.0), (10650.0, 9400.0), (11275.0, 9175.0), (11125.0, 5350.0), (11025.0, 4750.0), (11000.0, 4600.0), (11000.0, 3600.0), (11650.0, 3350.0), (11725.0, 4825.0), (12500.0, 5950.0), (11715.0, 11225.0), (11871.0, 11225.0), (12027.0, 11225.0), (12183.0, 11225.0), (12339.0, 11225.0), (12495.0, 11225.0), (12651.0, 11225.0), (12807.0, 11225.0), (12963.0, 11225.0), (13325.0, 6100.0), (13100.0, 4625.0), (12825.0, 3800.0), (12850.0, 2425.0), (13585.0, 1975.0), (13585.0, 2131.0), (13585.0, 2287.0), (13585.0, 2443.0), (13585.0, 2599.0), (13585.0, 2755.0), (13585.0, 2911.0), (13585.0, 3067.0), (13585.0, 3223.0), (13585.0, 3379.0), (13585.0, 9615.0), (13585.0, 9771.0), (13585.0, 9927.0), (13585.0, 10083.0), (13585.0, 10239.0), (13585.0, 10395.0), (13585.0, 10551.0), (13585.0, 10707.0), (13585.0, 10863.0), (13585.0, 11019.0)]\n",
      "Calculado :True\n",
      "\n",
      "ERROR: Could not find file C:\\Users\\Luiz\\AppData\\Local\\Temp\\ipykernel_10012\\2576218384.py\n"
     ]
    },
    {
     "name": "stderr",
     "output_type": "stream",
     "text": [
      "C:\\Users\\Luiz\\AppData\\Local\\Temp\\ipykernel_10012\\2576218384.py:64: FutureWarning: The frame.append method is deprecated and will be removed from pandas in a future version. Use pandas.concat instead.\n",
      "  dataframe = dataframe.append(nova_linha, ignore_index=True)\n",
      "C:\\Users\\Luiz\\AppData\\Local\\Temp\\ipykernel_10012\\2576218384.py:73: FutureWarning: The frame.append method is deprecated and will be removed from pandas in a future version. Use pandas.concat instead.\n",
      "  dataframe = dataframe.append(nova_linha, ignore_index=True)\n"
     ]
    },
    {
     "name": "stdout",
     "output_type": "stream",
     "text": [
      "Nome do Arquivo: bier127\n",
      "Algoritmo : <function twice_around_the_tree at 0x00000175464D33A0>\n",
      "Tempo : 0.20325422286987305\n",
      "Memória Gasta: 162.01953125 MB\n",
      "Taxa de Aproximação: 1.3109093218844219\n",
      "Rota :[1, 7, 105, 106, 6, 24, 9, 11, 23, 4, 22, 19, 72, 8, 21, 17, 18, 74, 73, 67, 68, 71, 70, 69, 110, 109, 87, 86, 85, 88, 96, 119, 63, 77, 79, 80, 78, 76, 75, 117, 84, 81, 126, 82, 83, 102, 101, 108, 20, 15, 114, 120, 10, 3, 90, 116, 60, 62, 59, 61, 91, 58, 64, 113, 65, 125, 89, 92, 99, 104, 100, 13, 50, 5, 52, 124, 55, 47, 53, 49, 118, 46, 94, 112, 111, 107, 48, 66, 56, 121, 51, 2, 57, 54, 45, 44, 103, 93, 95, 123, 97, 98, 127, 115, 16, 37, 35, 36, 41, 14, 12, 30, 27, 31, 43, 34, 39, 38, 26, 25, 33, 29, 32, 122, 28, 42, 40, 1]\n",
      "Vertices :[(9860.0, 14152.0), (9396.0, 14616.0), (11252.0, 14848.0), (11020.0, 13456.0), (9512.0, 15776.0), (10788.0, 13804.0), (10208.0, 14384.0), (11600.0, 13456.0), (11252.0, 14036.0), (10672.0, 15080.0), (11136.0, 14152.0), (9860.0, 13108.0), (10092.0, 14964.0), (9512.0, 13340.0), (10556.0, 13688.0), (9628.0, 14036.0), (10904.0, 13108.0), (11368.0, 12644.0), (11252.0, 13340.0), (10672.0, 13340.0), (11020.0, 13108.0), (11020.0, 13340.0), (11136.0, 13572.0), (11020.0, 13688.0), (8468.0, 11136.0), (8932.0, 12064.0), (9512.0, 12412.0), (7772.0, 11020.0), (8352.0, 10672.0), (9164.0, 12876.0), (9744.0, 12528.0), (8352.0, 10324.0), (8236.0, 11020.0), (8468.0, 12876.0), (8700.0, 14036.0), (8932.0, 13688.0), (9048.0, 13804.0), (8468.0, 12296.0), (8352.0, 12644.0), (8236.0, 13572.0), (9164.0, 13340.0), (8004.0, 12760.0), (8584.0, 13108.0), (7772.0, 14732.0), (7540.0, 15080.0), (7424.0, 17516.0), (8352.0, 17052.0), (7540.0, 16820.0), (7888.0, 17168.0), (9744.0, 15196.0), (9164.0, 14964.0), (9744.0, 16240.0), (7888.0, 16936.0), (8236.0, 15428.0), (9512.0, 17400.0), (9164.0, 16008.0), (8700.0, 15312.0), (11716.0, 16008.0), (12992.0, 14964.0), (12412.0, 14964.0), (12296.0, 15312.0), (12528.0, 15196.0), (15312.0, 6612.0), (11716.0, 16124.0), (11600.0, 19720.0), (10324.0, 17516.0), (12412.0, 13340.0), (12876.0, 12180.0), (13688.0, 10904.0), (13688.0, 11716.0), (13688.0, 12528.0), (11484.0, 13224.0), (12296.0, 12760.0), (12064.0, 12528.0), (12644.0, 10556.0), (11832.0, 11252.0), (11368.0, 12296.0), (11136.0, 11020.0), (10556.0, 11948.0), (10324.0, 11716.0), (11484.0, 9512.0), (11484.0, 7540.0), (11020.0, 7424.0), (11484.0, 9744.0), (16936.0, 12180.0), (17052.0, 12064.0), (16936.0, 11832.0), (17052.0, 11600.0), (13804.0, 18792.0), (12064.0, 14964.0), (12180.0, 15544.0), (14152.0, 18908.0), (5104.0, 14616.0), (6496.0, 17168.0), (5684.0, 13224.0), (15660.0, 10788.0), (5336.0, 10324.0), (812.0, 6264.0), (14384.0, 20184.0), (11252.0, 15776.0), (9744.0, 3132.0), (10904.0, 3480.0), (7308.0, 14848.0), (16472.0, 16472.0), (10440.0, 14036.0), (10672.0, 13804.0), (1160.0, 18560.0), (10788.0, 13572.0), (15660.0, 11368.0), (15544.0, 12760.0), (5336.0, 18908.0), (6264.0, 19140.0), (11832.0, 17516.0), (10672.0, 14152.0), (10208.0, 15196.0), (12180.0, 14848.0), (11020.0, 10208.0), (7656.0, 17052.0), (16240.0, 8352.0), (10440.0, 14732.0), (9164.0, 15544.0), (8004.0, 11020.0), (5684.0, 11948.0), (9512.0, 16472.0), (13688.0, 17516.0), (11484.0, 8468.0), (3248.0, 14152.0)]\n",
      "Calculado :True\n",
      "\n",
      "Erro no Teste 18: G is not connected\n",
      "\n",
      "Deu errado, calculado :False\n",
      "\n",
      "ERROR: Could not find file C:\\Users\\Luiz\\AppData\\Local\\Temp\\ipykernel_10012\\2576218384.py\n"
     ]
    },
    {
     "name": "stderr",
     "output_type": "stream",
     "text": [
      "C:\\Users\\Luiz\\AppData\\Local\\Temp\\ipykernel_10012\\2576218384.py:64: FutureWarning: The frame.append method is deprecated and will be removed from pandas in a future version. Use pandas.concat instead.\n",
      "  dataframe = dataframe.append(nova_linha, ignore_index=True)\n"
     ]
    },
    {
     "name": "stdout",
     "output_type": "stream",
     "text": [
      "Nome do Arquivo: pr136\n",
      "Algoritmo : <function twice_around_the_tree at 0x00000175464D33A0>\n",
      "Tempo : 0.12303638458251953\n",
      "Memória Gasta: 163.234375 MB\n",
      "Taxa de Aproximação: 1.4070183796934417\n",
      "Rota :[1, 6, 5, 7, 8, 17, 19, 31, 28, 27, 32, 20, 16, 2, 29, 30, 18, 38, 40, 39, 52, 41, 42, 51, 53, 65, 62, 61, 66, 54, 50, 37, 63, 64, 72, 74, 73, 75, 76, 84, 86, 99, 96, 95, 100, 87, 83, 71, 88, 94, 93, 101, 89, 82, 70, 78, 77, 79, 80, 92, 91, 102, 90, 81, 69, 68, 56, 47, 35, 57, 58, 67, 55, 48, 36, 33, 21, 14, 3, 10, 9, 15, 11, 12, 4, 13, 22, 34, 24, 23, 25, 26, 44, 43, 45, 46, 59, 60, 49, 104, 112, 111, 113, 114, 116, 123, 134, 126, 125, 133, 124, 115, 103, 127, 128, 122, 105, 110, 109, 106, 108, 107, 118, 120, 136, 130, 129, 131, 132, 119, 117, 121, 135, 97, 98, 85, 1]\n",
      "Vertices :[(5300.0, 1965.0), (7275.0, 1965.0), (12450.0, 1965.0), (14425.0, 1965.0), (4118.0, 2275.0), (4743.0, 2275.0), (5935.0, 2275.0), (6560.0, 2275.0), (11268.0, 2275.0), (11893.0, 2275.0), (13085.0, 2275.0), (13710.0, 2275.0), (14425.0, 2590.0), (12450.0, 2590.0), (10250.0, 2675.0), (7275.0, 2590.0), (5300.0, 2590.0), (3100.0, 2675.0), (5300.0, 2760.0), (7275.0, 2760.0), (12450.0, 2760.0), (14425.0, 2760.0), (13710.0, 3075.0), (13085.0, 3075.0), (11893.0, 3075.0), (11268.0, 3075.0), (6560.0, 3075.0), (5935.0, 3075.0), (4743.0, 3075.0), (4118.0, 3075.0), (5300.0, 3385.0), (7275.0, 3385.0), (12450.0, 3385.0), (14425.0, 3385.0), (14425.0, 4515.0), (12450.0, 4515.0), (7275.0, 4515.0), (5300.0, 4515.0), (4118.0, 4825.0), (4743.0, 4825.0), (5935.0, 4825.0), (6560.0, 4825.0), (11268.0, 4825.0), (11893.0, 4825.0), (13085.0, 4825.0), (13710.0, 4825.0), (14425.0, 5140.0), (12450.0, 5140.0), (10250.0, 5225.0), (7275.0, 5140.0), (5300.0, 5140.0), (3100.0, 5225.0), (5300.0, 5310.0), (7275.0, 5310.0), (12450.0, 5310.0), (14425.0, 5310.0), (13710.0, 5625.0), (13085.0, 5625.0), (11893.0, 5625.0), (11268.0, 5625.0), (6560.0, 5625.0), (5935.0, 5625.0), (4743.0, 5625.0), (4118.0, 5625.0), (5300.0, 5935.0), (7275.0, 5935.0), (12450.0, 5935.0), (14425.0, 5935.0), (14425.0, 7065.0), (12450.0, 7065.0), (7275.0, 7065.0), (5300.0, 7065.0), (4118.0, 7375.0), (4743.0, 7375.0), (5935.0, 7375.0), (6560.0, 7375.0), (11268.0, 7375.0), (11893.0, 7375.0), (13085.0, 7375.0), (13710.0, 7375.0), (14425.0, 7690.0), (12450.0, 7690.0), (7275.0, 7690.0), (5300.0, 7690.0), (3100.0, 7775.0), (5300.0, 7860.0), (7275.0, 7860.0), (10250.0, 7775.0), (12450.0, 7860.0), (14425.0, 7860.0), (13710.0, 8175.0), (13085.0, 8175.0), (11893.0, 8175.0), (11268.0, 8175.0), (6560.0, 8175.0), (5935.0, 8175.0), (4743.0, 8175.0), (4118.0, 8175.0), (5300.0, 8485.0), (7275.0, 8485.0), (12450.0, 8485.0), (14425.0, 8485.0), (14425.0, 9615.0), (12450.0, 9615.0), (7275.0, 9615.0), (5300.0, 9615.0), (4118.0, 9925.0), (4743.0, 9925.0), (5935.0, 9925.0), (6560.0, 9925.0), (11268.0, 9925.0), (11893.0, 9925.0), (13085.0, 9925.0), (13710.0, 9925.0), (14425.0, 10240.0), (12450.0, 10240.0), (7275.0, 10240.0), (5300.0, 10240.0), (3100.0, 10325.0), (5300.0, 10410.0), (7275.0, 10410.0), (10250.0, 10325.0), (12450.0, 10410.0), (14425.0, 10410.0), (13710.0, 10725.0), (13085.0, 10725.0), (11893.0, 10725.0), (11268.0, 10725.0), (6560.0, 10725.0), (5935.0, 10725.0), (4743.0, 10725.0), (4118.0, 10725.0), (14425.0, 11035.0), (12450.0, 11035.0), (7275.0, 11035.0), (5300.0, 11035.0)]\n",
      "Calculado :True\n",
      "\n",
      "ERROR: Could not find file C:\\Users\\Luiz\\AppData\\Local\\Temp\\ipykernel_10012\\2576218384.py\n"
     ]
    },
    {
     "name": "stderr",
     "output_type": "stream",
     "text": [
      "C:\\Users\\Luiz\\AppData\\Local\\Temp\\ipykernel_10012\\2576218384.py:64: FutureWarning: The frame.append method is deprecated and will be removed from pandas in a future version. Use pandas.concat instead.\n",
      "  dataframe = dataframe.append(nova_linha, ignore_index=True)\n"
     ]
    },
    {
     "name": "stdout",
     "output_type": "stream",
     "text": [
      "Nome do Arquivo: pr144\n",
      "Algoritmo : <function twice_around_the_tree at 0x00000175464D33A0>\n",
      "Tempo : 0.08008384704589844\n",
      "Memória Gasta: 163.67578125 MB\n",
      "Taxa de Aproximação: 1.344803933702226\n",
      "Rota :[1, 2, 28, 29, 30, 27, 26, 35, 36, 25, 24, 23, 22, 37, 38, 39, 40, 21, 18, 17, 41, 42, 16, 15, 14, 13, 20, 19, 8, 7, 9, 10, 11, 12, 46, 47, 48, 59, 60, 58, 57, 56, 55, 54, 53, 52, 51, 50, 49, 83, 82, 81, 80, 79, 84, 85, 86, 110, 109, 108, 107, 106, 105, 104, 88, 87, 103, 102, 101, 100, 99, 90, 89, 78, 77, 76, 75, 74, 73, 98, 97, 96, 95, 94, 93, 92, 91, 115, 131, 132, 133, 134, 130, 129, 128, 127, 126, 125, 124, 123, 122, 121, 120, 119, 118, 117, 116, 135, 136, 137, 138, 139, 140, 141, 142, 143, 144, 111, 112, 113, 114, 61, 62, 63, 64, 65, 66, 67, 68, 69, 70, 72, 71, 45, 44, 43, 34, 33, 32, 31, 3, 4, 5, 6, 1]\n",
      "Vertices :[(4350.0, 4425.0), (4500.0, 4425.0), (4300.0, 4725.0), (4300.0, 4825.0), (4300.0, 4950.0), (4300.0, 5050.0), (4350.0, 8875.0), (4500.0, 8875.0), (4300.0, 9175.0), (4300.0, 9275.0), (4300.0, 9400.0), (4300.0, 9500.0), (4950.0, 10600.0), (5150.0, 10600.0), (5525.0, 9525.0), (5525.0, 9425.0), (5525.0, 9225.0), (5525.0, 9125.0), (4950.0, 8875.0), (5250.0, 8875.0), (5550.0, 8875.0), (4950.0, 6150.0), (5150.0, 6150.0), (5525.0, 5075.0), (5525.0, 4975.0), (5525.0, 4775.0), (5525.0, 4675.0), (4950.0, 4425.0), (5250.0, 4425.0), (5550.0, 4425.0), (5875.0, 2325.0), (5875.0, 2475.0), (5875.0, 2625.0), (5875.0, 2775.0), (5675.0, 4825.0), (5675.0, 4925.0), (5875.0, 6775.0), (5875.0, 6925.0), (5875.0, 7075.0), (5875.0, 7225.0), (5675.0, 9275.0), (5675.0, 9375.0), (8125.0, 10150.0), (8225.0, 10150.0), (8325.0, 10150.0), (8125.0, 5700.0), (8225.0, 5700.0), (8325.0, 5700.0), (8675.0, 3150.0), (8675.0, 3250.0), (8675.0, 3350.0), (8675.0, 3450.0), (8675.0, 3550.0), (8675.0, 3650.0), (8675.0, 3750.0), (8675.0, 3850.0), (8675.0, 3950.0), (8675.0, 4050.0), (8425.0, 5700.0), (8525.0, 5700.0), (8675.0, 7600.0), (8675.0, 7700.0), (8675.0, 7800.0), (8675.0, 7900.0), (8675.0, 8000.0), (8675.0, 8100.0), (8675.0, 8200.0), (8675.0, 8300.0), (8675.0, 8400.0), (8675.0, 8500.0), (8425.0, 10150.0), (8525.0, 10150.0), (10850.0, 9500.0), (10850.0, 9400.0), (10850.0, 9275.0), (10850.0, 9175.0), (10900.0, 8875.0), (11050.0, 8875.0), (10850.0, 5050.0), (10850.0, 4950.0), (10850.0, 4825.0), (10850.0, 4725.0), (10900.0, 4425.0), (11050.0, 4425.0), (11500.0, 4425.0), (11800.0, 4425.0), (11500.0, 6150.0), (11700.0, 6150.0), (11500.0, 8875.0), (11800.0, 8875.0), (11500.0, 10600.0), (11700.0, 10600.0), (12075.0, 9525.0), (12075.0, 9425.0), (12225.0, 9375.0), (12225.0, 9275.0), (12075.0, 9225.0), (12075.0, 9125.0), (12100.0, 8875.0), (12425.0, 7225.0), (12425.0, 7075.0), (12425.0, 6925.0), (12425.0, 6775.0), (12075.0, 5075.0), (12075.0, 4975.0), (12225.0, 4925.0), (12225.0, 4825.0), (12075.0, 4775.0), (12075.0, 4675.0), (12100.0, 4425.0), (12425.0, 2775.0), (12425.0, 2625.0), (12425.0, 2475.0), (12425.0, 2325.0), (14675.0, 5700.0), (14675.0, 10150.0), (14775.0, 10150.0), (14875.0, 10150.0), (14975.0, 10150.0), (15075.0, 10150.0), (15225.0, 8500.0), (15225.0, 8400.0), (15225.0, 8300.0), (15225.0, 8200.0), (15225.0, 8100.0), (15225.0, 8000.0), (15225.0, 7900.0), (15225.0, 7800.0), (15225.0, 7700.0), (15225.0, 7600.0), (14775.0, 5700.0), (14875.0, 5700.0), (14975.0, 5700.0), (15075.0, 5700.0), (15225.0, 4050.0), (15225.0, 3950.0), (15225.0, 3850.0), (15225.0, 3750.0), (15225.0, 3650.0), (15225.0, 3550.0), (15225.0, 3450.0), (15225.0, 3350.0), (15225.0, 3250.0), (15225.0, 3150.0)]\n",
      "Calculado :True\n",
      "\n",
      "ERROR: Could not find file C:\\Users\\Luiz\\AppData\\Local\\Temp\\ipykernel_10012\\2576218384.py\n"
     ]
    },
    {
     "name": "stderr",
     "output_type": "stream",
     "text": [
      "C:\\Users\\Luiz\\AppData\\Local\\Temp\\ipykernel_10012\\2576218384.py:64: FutureWarning: The frame.append method is deprecated and will be removed from pandas in a future version. Use pandas.concat instead.\n",
      "  dataframe = dataframe.append(nova_linha, ignore_index=True)\n"
     ]
    },
    {
     "name": "stdout",
     "output_type": "stream",
     "text": [
      "Nome do Arquivo: ch150\n",
      "Algoritmo : <function twice_around_the_tree at 0x00000175464D33A0>\n",
      "Tempo : 0.16273856163024902\n",
      "Memória Gasta: 164.58984375 MB\n",
      "Taxa de Aproximação: 1.4096909672125577\n",
      "Rota :[1, 87, 76, 73, 48, 63, 30, 84, 7, 8, 89, 96, 35, 93, 124, 97, 100, 5, 107, 95, 82, 143, 126, 33, 92, 54, 46, 90, 138, 134, 105, 111, 16, 59, 15, 78, 79, 121, 88, 94, 10, 113, 3, 62, 149, 125, 22, 133, 77, 122, 14, 80, 72, 49, 147, 144, 129, 27, 31, 145, 112, 64, 136, 74, 13, 106, 91, 119, 68, 128, 45, 4, 104, 71, 44, 115, 150, 21, 123, 131, 32, 23, 38, 67, 43, 109, 51, 20, 25, 110, 47, 120, 42, 9, 6, 28, 37, 2, 19, 99, 114, 102, 139, 40, 53, 24, 12, 116, 101, 41, 57, 39, 117, 140, 118, 127, 69, 36, 61, 11, 148, 130, 60, 66, 17, 81, 29, 86, 135, 50, 58, 55, 65, 132, 141, 83, 56, 26, 75, 18, 142, 85, 146, 137, 70, 108, 52, 98, 34, 103, 1]\n",
      "Vertices :[(37.4393516691, 541.2090699418), (612.1759508571, 494.3166877396), (38.1312338227, 353.1484581781), (53.4418081065, 131.484901365), (143.0606355347, 631.7200953923), (689.9451267256, 468.5354998742), (112.7478815786, 529.417757826), (141.4875865042, 504.818485571), (661.0513901702, 445.9375182115), (98.7899036592, 384.5926031158), (697.3881696597, 180.3962284275), (536.4894189738, 287.2279085051), (192.4067320507, 20.439405931), (282.7865258765, 229.8001556189), (240.8251726391, 281.51414372), (246.9281323057, 322.461332116), (649.7313216456, 62.3331575282), (352.96585626, 666.7873101942), (633.392367658, 534.9398453712), (488.311799404, 437.4869439948), (141.4039286509, 228.4325551488), (17.3632612602, 240.2407068508), (397.5586451389, 231.3591208928), (565.7853781464, 282.3858748974), (475.8975387047, 468.5392706317), (322.4224566559, 550.3165478233), (397.5586634023, 74.7588387765), (672.8618339396, 432.882640963), (571.2189680147, 530.261699153), (104.6531165914, 482.8224768783), (356.7098388794, 67.6477131712), (400.4070255527, 253.6794479997), (282.3036243109, 426.8380500923), (58.7766988363, 507.1712386832), (189.75062244, 460.3815233617), (659.9124120147, 226.6284156239), (639.0307636033, 467.2302300719), (415.0258357432, 233.3045376118), (547.2662016307, 161.6589278401), (616.6547902644, 339.3409309407), (494.8592427417, 148.1217856389), (629.9980812186, 433.4548164038), (471.101431241, 314.2219307579), (138.2440514421, 137.1679919735), (91.5847556724, 110.0203007516), (390.6972811808, 423.9774318385), (565.1617825137, 429.1598152874), (54.5248980387, 438.5515408431), (334.350832971, 153.796923804), (531.0291024509, 612.3874827889), (475.7345905802, 385.7844618897), (228.8325218994, 410.4461939615), (578.3805347586, 321.3303494537), (358.9170574485, 404.4670352898), (486.4648554867, 593.0429937016), (343.169370767, 509.3123571315), (530.3626972076, 137.6881275684), (498.8065475299, 576.2102674608), (224.31827155, 312.4677490415), (595.836073259, 81.8130051356), (661.5588724308, 217.0456944477), (43.6892045516, 305.4722789165), (79.465345253, 445.9641737689), (210.4163247004, 130.7151137038), (432.2642292251, 629.4092661116), (623.2487161301, 69.189285084), (436.5194739944, 282.935645607), (59.4163265482, 40.1280234442), (630.9230074073, 230.342988813), (579.3265539688, 601.0359410602), (117.862450748, 112.9796833705), (297.7912565664, 166.3131886803), (22.7642703744, 455.5340094037), (259.7095810385, 10.6199925885), (342.3579873647, 599.3880182608), (10.0260950143, 488.9310558282), (315.2926064118, 273.2275475579), (220.7044919297, 270.0819745721), (192.1186059948, 314.1839922798), (271.5042718992, 225.2921989972), (530.7320005441, 504.0670155337), (42.5331441666, 656.3645162886), (396.1274792588, 539.4648066027), (118.6631474021, 508.7129103929), (395.6913876595, 699.5376048429), (559.0157105844, 560.8866941411), (22.6471035906, 526.2470392816), (135.6377085256, 325.8409901555), (141.4507014379, 485.2477927763), (396.7741299332, 460.7557115283), (87.7494562765, 19.6170129082), (350.4245639661, 420.6531186835), (216.7010817133, 466.4816410995), (130.9237737024, 351.1491733079), (72.6329856671, 645.7852219213), (144.6002949996, 457.4224283926), (212.3725077442, 594.9216893413), (49.9186786455, 541.4350825349), (656.6943525585, 558.1109593509), (176.5941623792, 648.5239953299), (500.3825200226, 198.7428378322), (634.317867842, 612.8291643194), (59.7537372726, 551.6321886765), (15.2145765106, 143.0441928532), (283.0054378872, 376.4439530184), (146.5389000907, 39.4231794338), (101.8685605377, 635.098685018), (588.1968537448, 580.5946976921), (457.2628632528, 350.0164047376), (537.4663680494, 472.5842276692), (269.3669098585, 367.4763636538), (239.9045383695, 102.629765339), (88.4677500396, 384.0507209275), (658.9133693395, 583.9575181023), (97.7359146347, 157.4558657632), (506.6191384007, 233.0022156094), (500.2566898239, 64.9136393489), (594.4048565021, 275.874186899), (66.230814661, 24.1317387604), (598.4162993909, 414.5557574275), (172.308833083, 344.3963466366), (299.48128518, 251.829512132), (303.8379894831, 21.052606379), (197.896926984, 512.388896098), (56.0199567669, 243.0663818382), (255.5566183121, 448.8651882442), (608.4256112402, 222.5421309272), (70.2722703273, 77.9227026433), (398.2298999899, 119.557657386), (635.4970237093, 133.3225902609), (378.3484559418, 272.2907677147), (484.8029663388, 677.0730379436), (278.8710882619, 299.9308770828), (381.6537300653, 360.3337602785), (557.6070707573, 595.3185092281), (249.0589749342, 76.6595112599), (562.9048787838, 670.0382113114), (398.550436558, 392.6493259144), (590.893972056, 370.7414913742), (558.2008003726, 0.4198814512), (461.4114714423, 530.5254969413), (354.7242881504, 685.40453619), (193.6611295657, 669.7432521028), (352.3140807211, 140.3273323662), (308.434570974, 115.2054269847), (299.588137008, 530.588961902), (334.2748764383, 152.1494569394), (690.9658585947, 134.5793307203), (48.0798124069, 270.968067372), (91.6467647724, 166.3541158474)]\n",
      "Calculado :True\n",
      "\n",
      "ERROR: Could not find file C:\\Users\\Luiz\\AppData\\Local\\Temp\\ipykernel_10012\\2576218384.py\n"
     ]
    },
    {
     "name": "stderr",
     "output_type": "stream",
     "text": [
      "C:\\Users\\Luiz\\AppData\\Local\\Temp\\ipykernel_10012\\2576218384.py:64: FutureWarning: The frame.append method is deprecated and will be removed from pandas in a future version. Use pandas.concat instead.\n",
      "  dataframe = dataframe.append(nova_linha, ignore_index=True)\n"
     ]
    },
    {
     "name": "stdout",
     "output_type": "stream",
     "text": [
      "Nome do Arquivo: kroA150\n",
      "Algoritmo : <function twice_around_the_tree at 0x00000175464D33A0>\n",
      "Tempo : 0.3412139415740967\n",
      "Memória Gasta: 166.921875 MB\n",
      "Taxa de Aproximação: 1.4614157666060303\n",
      "Rota :[1, 130, 92, 8, 42, 89, 133, 138, 122, 80, 31, 139, 56, 143, 97, 4, 65, 66, 124, 26, 129, 118, 75, 19, 53, 134, 79, 106, 90, 10, 72, 21, 74, 11, 15, 17, 32, 109, 47, 131, 93, 28, 105, 67, 108, 58, 61, 25, 81, 125, 51, 87, 145, 9, 7, 57, 20, 12, 27, 86, 35, 150, 62, 60, 77, 110, 149, 55, 83, 34, 120, 115, 123, 43, 3, 14, 71, 41, 100, 48, 46, 29, 132, 112, 107, 121, 30, 101, 39, 96, 78, 5, 37, 103, 146, 33, 13, 95, 126, 82, 116, 50, 44, 114, 144, 2, 64, 40, 54, 73, 68, 85, 69, 76, 147, 52, 136, 128, 117, 140, 135, 142, 148, 91, 45, 98, 23, 141, 59, 127, 113, 84, 49, 6, 63, 137, 18, 24, 38, 36, 104, 102, 99, 111, 88, 16, 22, 70, 94, 119, 1]\n",
      "Vertices :[(1380.0, 939.0), (2848.0, 96.0), (3510.0, 1671.0), (457.0, 334.0), (3888.0, 666.0), (984.0, 965.0), (2721.0, 1482.0), (1286.0, 525.0), (2716.0, 1432.0), (738.0, 1325.0), (1251.0, 1832.0), (2728.0, 1698.0), (3815.0, 169.0), (3683.0, 1533.0), (1247.0, 1945.0), (123.0, 862.0), (1234.0, 1946.0), (252.0, 1240.0), (611.0, 673.0), (2576.0, 1676.0), (928.0, 1700.0), (53.0, 857.0), (1807.0, 1711.0), (274.0, 1420.0), (2574.0, 946.0), (178.0, 24.0), (2678.0, 1825.0), (1795.0, 962.0), (3384.0, 1498.0), (3520.0, 1079.0), (1256.0, 61.0), (1424.0, 1728.0), (3913.0, 192.0), (3085.0, 1528.0), (2573.0, 1969.0), (463.0, 1670.0), (3875.0, 598.0), (298.0, 1513.0), (3479.0, 821.0), (2542.0, 236.0), (3955.0, 1743.0), (1323.0, 280.0), (3447.0, 1830.0), (2936.0, 337.0), (1621.0, 1830.0), (3373.0, 1646.0), (1393.0, 1368.0), (3874.0, 1318.0), (938.0, 955.0), (3022.0, 474.0), (2482.0, 1183.0), (3854.0, 923.0), (376.0, 825.0), (2519.0, 135.0), (2945.0, 1622.0), (953.0, 268.0), (2628.0, 1479.0), (2097.0, 981.0), (890.0, 1846.0), (2139.0, 1806.0), (2421.0, 1007.0), (2290.0, 1810.0), (1115.0, 1052.0), (2588.0, 302.0), (327.0, 265.0), (241.0, 341.0), (1917.0, 687.0), (2991.0, 792.0), (2573.0, 599.0), (19.0, 674.0), (3911.0, 1673.0), (872.0, 1559.0), (2863.0, 558.0), (929.0, 1766.0), (839.0, 620.0), (3893.0, 102.0), (2178.0, 1619.0), (3822.0, 899.0), (378.0, 1048.0), (1178.0, 100.0), (2599.0, 901.0), (3416.0, 143.0), (2961.0, 1605.0), (611.0, 1384.0), (3113.0, 885.0), (2597.0, 1830.0), (2586.0, 1286.0), (161.0, 906.0), (1429.0, 134.0), (742.0, 1025.0), (1625.0, 1651.0), (1187.0, 706.0), (1787.0, 1009.0), (22.0, 987.0), (3640.0, 43.0), (3756.0, 882.0), (776.0, 392.0), (1724.0, 1642.0), (198.0, 1810.0), (3950.0, 1558.0), (3477.0, 949.0), (91.0, 1732.0), (3972.0, 329.0), (198.0, 1632.0), (1806.0, 733.0), (538.0, 1023.0), (3430.0, 1088.0), (2186.0, 766.0), (1513.0, 1646.0), (2143.0, 1611.0), (53.0, 1657.0), (3404.0, 1307.0), (1034.0, 1344.0), (2823.0, 376.0), (3104.0, 1931.0), (3232.0, 324.0), (2790.0, 1457.0), (374.0, 9.0), (741.0, 146.0), (3083.0, 1938.0), (3502.0, 1067.0), (1280.0, 237.0), (3326.0, 1846.0), (217.0, 38.0), (2503.0, 1172.0), (3527.0, 41.0), (739.0, 1850.0), (3548.0, 1999.0), (48.0, 154.0), (1419.0, 872.0), (1689.0, 1223.0), (3468.0, 1404.0), (1628.0, 253.0), (382.0, 872.0), (3029.0, 1242.0), (3646.0, 1758.0), (285.0, 1029.0), (1782.0, 93.0), (1067.0, 371.0), (2849.0, 1214.0), (920.0, 1835.0), (1741.0, 712.0), (876.0, 220.0), (2753.0, 283.0), (2609.0, 1286.0), (3941.0, 258.0), (3613.0, 523.0), (1754.0, 559.0), (2916.0, 1724.0), (2445.0, 1820.0)]\n",
      "Calculado :True\n",
      "\n",
      "ERROR: Could not find file C:\\Users\\Luiz\\AppData\\Local\\Temp\\ipykernel_10012\\2576218384.py\n"
     ]
    },
    {
     "name": "stderr",
     "output_type": "stream",
     "text": [
      "C:\\Users\\Luiz\\AppData\\Local\\Temp\\ipykernel_10012\\2576218384.py:64: FutureWarning: The frame.append method is deprecated and will be removed from pandas in a future version. Use pandas.concat instead.\n",
      "  dataframe = dataframe.append(nova_linha, ignore_index=True)\n"
     ]
    },
    {
     "name": "stdout",
     "output_type": "stream",
     "text": [
      "Nome do Arquivo: kroB150\n",
      "Algoritmo : <function twice_around_the_tree at 0x00000175464D33A0>\n",
      "Tempo : 0.34366512298583984\n",
      "Memória Gasta: 166.921875 MB\n",
      "Taxa de Aproximação: 1.3506455846872634\n",
      "Rota :[1, 53, 85, 27, 15, 13, 79, 110, 64, 20, 55, 42, 67, 31, 47, 130, 65, 147, 80, 77, 115, 104, 149, 6, 54, 134, 75, 22, 112, 8, 106, 17, 25, 90, 34, 114, 108, 113, 145, 109, 58, 98, 148, 88, 28, 38, 71, 124, 72, 83, 62, 138, 126, 133, 50, 86, 95, 94, 123, 91, 70, 102, 21, 122, 89, 41, 59, 3, 73, 118, 23, 35, 2, 68, 30, 111, 121, 76, 129, 139, 131, 101, 56, 119, 5, 43, 39, 107, 40, 12, 46, 125, 137, 142, 29, 18, 49, 93, 143, 4, 60, 140, 116, 14, 36, 57, 74, 69, 100, 33, 45, 81, 97, 144, 136, 141, 10, 92, 99, 19, 105, 37, 120, 16, 63, 44, 66, 103, 48, 84, 11, 52, 150, 87, 96, 128, 51, 127, 135, 146, 132, 32, 24, 117, 61, 26, 78, 9, 82, 7, 1]\n",
      "Vertices :[(1357.0, 1905.0), (2650.0, 802.0), (1774.0, 107.0), (1307.0, 964.0), (3806.0, 746.0), (2687.0, 1353.0), (43.0, 1957.0), (3092.0, 1668.0), (185.0, 1542.0), (834.0, 629.0), (40.0, 462.0), (1183.0, 1391.0), (2048.0, 1628.0), (1097.0, 643.0), (1838.0, 1732.0), (234.0, 1118.0), (3314.0, 1881.0), (737.0, 1285.0), (779.0, 777.0), (2312.0, 1949.0), (2576.0, 189.0), (3078.0, 1541.0), (2781.0, 478.0), (705.0, 1812.0), (3409.0, 1917.0), (323.0, 1714.0), (1660.0, 1556.0), (3729.0, 1188.0), (693.0, 1383.0), (2361.0, 640.0), (2433.0, 1538.0), (554.0, 1825.0), (913.0, 317.0), (3586.0, 1909.0), (2636.0, 727.0), (1000.0, 457.0), (482.0, 1337.0), (3704.0, 1082.0), (3635.0, 1174.0), (1362.0, 1526.0), (2049.0, 417.0), (2552.0, 1909.0), (3939.0, 640.0), (219.0, 898.0), (812.0, 351.0), (901.0, 1552.0), (2513.0, 1572.0), (242.0, 584.0), (826.0, 1226.0), (3278.0, 799.0), (86.0, 1065.0), (14.0, 454.0), (1327.0, 1893.0), (2773.0, 1286.0), (2469.0, 1838.0), (3835.0, 963.0), (1031.0, 428.0), (3853.0, 1712.0), (1868.0, 197.0), (1544.0, 863.0), (457.0, 1607.0), (3174.0, 1064.0), (192.0, 1004.0), (2318.0, 1925.0), (2232.0, 1374.0), (396.0, 828.0), (2365.0, 1649.0), (2499.0, 658.0), (1410.0, 307.0), (2990.0, 214.0), (3646.0, 1018.0), (3394.0, 1028.0), (1779.0, 90.0), (1058.0, 372.0), (2933.0, 1459.0), (3099.0, 173.0), (2178.0, 978.0), (138.0, 1610.0), (2082.0, 1753.0), (2302.0, 1127.0), (805.0, 272.0), (22.0, 1617.0), (3213.0, 1085.0), (99.0, 536.0), (1533.0, 1780.0), (3564.0, 676.0), (29.0, 6.0), (3808.0, 1375.0), (2221.0, 291.0), (3499.0, 1885.0), (3124.0, 408.0), (781.0, 671.0), (1027.0, 1041.0), (3249.0, 378.0), (3297.0, 491.0), (213.0, 220.0), (721.0, 186.0), (3736.0, 1542.0), (868.0, 731.0), (960.0, 303.0), (3825.0, 1101.0), (2779.0, 435.0), (201.0, 693.0), (2502.0, 1274.0), (765.0, 833.0), (3105.0, 1823.0), (1937.0, 1400.0), (3364.0, 1498.0), (3702.0, 1624.0), (2164.0, 1874.0), (3019.0, 189.0), (3098.0, 1594.0), (3239.0, 1376.0), (3359.0, 1693.0), (2081.0, 1011.0), (1398.0, 1100.0), (618.0, 1953.0), (1878.0, 59.0), (3803.0, 886.0), (397.0, 1217.0), (3035.0, 152.0), (2502.0, 146.0), (3230.0, 380.0), (3479.0, 1023.0), (958.0, 1670.0), (3423.0, 1241.0), (78.0, 1066.0), (96.0, 691.0), (3431.0, 78.0), (2053.0, 1461.0), (3048.0, 1.0), (571.0, 1711.0), (3393.0, 782.0), (2835.0, 1472.0), (144.0, 1185.0), (923.0, 108.0), (989.0, 1997.0), (3061.0, 1211.0), (2977.0, 39.0), (1668.0, 658.0), (878.0, 715.0), (678.0, 1599.0), (1086.0, 868.0), (640.0, 110.0), (3551.0, 1673.0), (106.0, 1267.0), (2243.0, 1332.0), (3796.0, 1401.0), (2643.0, 1320.0), (48.0, 267.0)]\n",
      "Calculado :True\n",
      "\n",
      "ERROR: Could not find file C:\\Users\\Luiz\\AppData\\Local\\Temp\\ipykernel_10012\\2576218384.py\n"
     ]
    },
    {
     "name": "stderr",
     "output_type": "stream",
     "text": [
      "C:\\Users\\Luiz\\AppData\\Local\\Temp\\ipykernel_10012\\2576218384.py:64: FutureWarning: The frame.append method is deprecated and will be removed from pandas in a future version. Use pandas.concat instead.\n",
      "  dataframe = dataframe.append(nova_linha, ignore_index=True)\n"
     ]
    },
    {
     "name": "stdout",
     "output_type": "stream",
     "text": [
      "Nome do Arquivo: pr152\n",
      "Algoritmo : <function twice_around_the_tree at 0x00000175464D33A0>\n",
      "Tempo : 0.09047675132751465\n",
      "Memória Gasta: 167.0859375 MB\n",
      "Taxa de Aproximação: 1.255039844166789\n",
      "Rota :[1, 35, 36, 34, 16, 2, 15, 3, 31, 30, 29, 14, 4, 13, 5, 26, 25, 24, 12, 6, 11, 7, 20, 21, 19, 10, 8, 9, 17, 18, 40, 22, 23, 39, 27, 28, 38, 45, 54, 69, 70, 71, 72, 53, 52, 46, 79, 91, 78, 92, 95, 94, 93, 77, 74, 75, 73, 51, 47, 76, 50, 49, 48, 96, 115, 116, 97, 98, 99, 90, 80, 89, 81, 67, 66, 65, 57, 43, 68, 56, 55, 44, 101, 102, 103, 88, 82, 87, 83, 63, 62, 61, 60, 41, 64, 59, 58, 42, 105, 106, 107, 86, 84, 85, 108, 109, 110, 104, 111, 112, 100, 113, 114, 121, 120, 133, 134, 146, 145, 144, 135, 136, 119, 118, 137, 138, 143, 142, 141, 139, 140, 117, 132, 131, 147, 148, 149, 130, 129, 122, 123, 128, 127, 151, 150, 152, 126, 125, 124, 32, 33, 37, 1]\n",
      "Vertices :[(2100.0, 1850.0), (2100.0, 3000.0), (2100.0, 4400.0), (2100.0, 5550.0), (2100.0, 6950.0), (2100.0, 8100.0), (2100.0, 9500.0), (2100.0, 10650.0), (2348.0, 11205.0), (2350.0, 10050.0), (2348.0, 8655.0), (2350.0, 7500.0), (2348.0, 6105.0), (2350.0, 4950.0), (2348.0, 3555.0), (2350.0, 2400.0), (2625.0, 11175.0), (2775.0, 10995.0), (2625.0, 10025.0), (2634.0, 9748.0), (2607.0, 9831.0), (2625.0, 8625.0), (2775.0, 8445.0), (2625.0, 7475.0), (2607.0, 7281.0), (2634.0, 7198.0), (2625.0, 6075.0), (2775.0, 5895.0), (2625.0, 4925.0), (2607.0, 4731.0), (2634.0, 4648.0), (2625.0, 3525.0), (2775.0, 3345.0), (2625.0, 2375.0), (2634.0, 2098.0), (2607.0, 2181.0), (2825.0, 3025.0), (2825.0, 5575.0), (2825.0, 8125.0), (2825.0, 10675.0), (8349.0, 10106.0), (8353.0, 9397.0), (8349.0, 7556.0), (8353.0, 6847.0), (8349.0, 5006.0), (8353.0, 4297.0), (8349.0, 2456.0), (8353.0, 1747.0), (8474.0, 1777.0), (8576.0, 1803.0), (8575.0, 2325.0), (8474.0, 4327.0), (8576.0, 4353.0), (8575.0, 4875.0), (8474.0, 6877.0), (8576.0, 6903.0), (8575.0, 7425.0), (8474.0, 9427.0), (8576.0, 9453.0), (8575.0, 9975.0), (8625.0, 9875.0), (8675.0, 9675.0), (8675.0, 9525.0), (8669.0, 9450.0), (8625.0, 7325.0), (8675.0, 7125.0), (8675.0, 6975.0), (8669.0, 6900.0), (8625.0, 4775.0), (8675.0, 4575.0), (8675.0, 4425.0), (8669.0, 4350.0), (8625.0, 2225.0), (8675.0, 1875.0), (8675.0, 2025.0), (8669.0, 1800.0), (9250.0, 1850.0), (9250.0, 3000.0), (9250.0, 4400.0), (9250.0, 5550.0), (9250.0, 6950.0), (9250.0, 8100.0), (9250.0, 9500.0), (9250.0, 10650.0), (9498.0, 11205.0), (9500.0, 10050.0), (9498.0, 8655.0), (9500.0, 7500.0), (9498.0, 6105.0), (9500.0, 4950.0), (9498.0, 3555.0), (9500.0, 2400.0), (9784.0, 2098.0), (9757.0, 2181.0), (9775.0, 2375.0), (9775.0, 3525.0), (9784.0, 4648.0), (9757.0, 4731.0), (9775.0, 4925.0), (9775.0, 6075.0), (9784.0, 7198.0), (9757.0, 7281.0), (9775.0, 7475.0), (9775.0, 8625.0), (9784.0, 9748.0), (9757.0, 9831.0), (9775.0, 10025.0), (9775.0, 11175.0), (9925.0, 10995.0), (9975.0, 10675.0), (9925.0, 8445.0), (9975.0, 8125.0), (9925.0, 5895.0), (9975.0, 5575.0), (9925.0, 3345.0), (9975.0, 3025.0), (15499.0, 10106.0), (15503.0, 9397.0), (15499.0, 7556.0), (15503.0, 6847.0), (15499.0, 5006.0), (15503.0, 4297.0), (15499.0, 2456.0), (15503.0, 1747.0), (15624.0, 1777.0), (15726.0, 1803.0), (15775.0, 2225.0), (15725.0, 2325.0), (15624.0, 4327.0), (15726.0, 4353.0), (15775.0, 4775.0), (15725.0, 4875.0), (15624.0, 6877.0), (15726.0, 6903.0), (15775.0, 7325.0), (15725.0, 7425.0), (15624.0, 9427.0), (15726.0, 9453.0), (15775.0, 9875.0), (15725.0, 9975.0), (15825.0, 9675.0), (15825.0, 9525.0), (15819.0, 9450.0), (15825.0, 7125.0), (15825.0, 6975.0), (15819.0, 6900.0), (15825.0, 4575.0), (15825.0, 4425.0), (15819.0, 4350.0), (15825.0, 1875.0), (15825.0, 2025.0), (15819.0, 1800.0)]\n",
      "Calculado :True\n",
      "\n",
      "ERROR: Could not find file C:\\Users\\Luiz\\AppData\\Local\\Temp\\ipykernel_10012\\2576218384.py\n"
     ]
    },
    {
     "name": "stderr",
     "output_type": "stream",
     "text": [
      "C:\\Users\\Luiz\\AppData\\Local\\Temp\\ipykernel_10012\\2576218384.py:64: FutureWarning: The frame.append method is deprecated and will be removed from pandas in a future version. Use pandas.concat instead.\n",
      "  dataframe = dataframe.append(nova_linha, ignore_index=True)\n"
     ]
    },
    {
     "name": "stdout",
     "output_type": "stream",
     "text": [
      "Nome do Arquivo: u159\n",
      "Algoritmo : <function twice_around_the_tree at 0x00000175464D33A0>\n",
      "Tempo : 0.404998779296875\n",
      "Memória Gasta: 167.1015625 MB\n",
      "Taxa de Aproximação: 1.3030382379061427\n",
      "Rota :[1, 159, 2, 3, 4, 5, 153, 6, 152, 7, 8, 9, 10, 148, 147, 146, 144, 11, 12, 13, 14, 15, 16, 17, 18, 19, 20, 21, 23, 22, 24, 25, 27, 26, 28, 31, 30, 29, 32, 143, 142, 141, 139, 137, 138, 37, 35, 34, 33, 36, 38, 39, 40, 41, 42, 43, 44, 45, 46, 47, 48, 49, 50, 51, 52, 75, 74, 76, 73, 71, 70, 69, 68, 67, 66, 65, 64, 62, 61, 60, 59, 58, 57, 56, 55, 63, 54, 53, 72, 78, 79, 80, 81, 82, 83, 84, 85, 86, 97, 87, 88, 89, 90, 91, 92, 93, 94, 96, 95, 98, 99, 100, 101, 102, 103, 104, 105, 106, 107, 77, 122, 121, 120, 117, 110, 109, 108, 111, 112, 113, 116, 115, 114, 118, 119, 123, 135, 136, 133, 134, 132, 131, 128, 127, 126, 125, 129, 124, 130, 140, 145, 149, 150, 151, 154, 155, 156, 157, 158, 1]\n",
      "Vertices :[(3300.0, 2200.0), (3500.0, 2900.0), (3300.0, 2900.0), (3500.0, 3100.0), (3500.0, 3300.0), (3300.0, 3500.0), (3500.0, 3700.0), (3500.0, 3900.0), (3500.0, 4000.0), (3500.0, 4100.0), (3500.0, 4300.0), (3300.0, 4300.0), (3500.0, 4500.0), (3500.0, 4700.0), (3500.0, 4800.0), (3300.0, 4900.0), (3500.0, 5000.0), (3800.0, 5500.0), (3900.0, 5700.0), (3800.0, 5800.0), (3700.0, 5800.0), (3500.0, 5600.0), (3500.0, 5700.0), (3300.0, 5900.0), (3500.0, 6100.0), (3300.0, 6500.0), (3500.0, 6400.0), (3800.0, 6600.0), (4500.0, 6500.0), (4700.0, 6100.0), (4300.0, 5700.0), (4500.0, 5400.0), (5100.0, 5300.0), (5100.0, 5000.0), (5000.0, 5000.0), (5100.0, 4700.0), (5000.0, 4700.0), (5200.0, 4500.0), (5500.0, 4400.0), (5600.0, 4400.0), (5500.0, 4100.0), (5700.0, 3900.0), (5900.0, 4100.0), (6100.0, 3900.0), (6300.0, 4100.0), (6500.0, 4100.0), (6700.0, 4100.0), (6900.0, 4100.0), (7000.0, 4500.0), (7300.0, 4500.0), (7300.0, 4700.0), (7400.0, 5100.0), (7700.0, 5500.0), (7800.0, 5700.0), (7300.0, 6200.0), (7300.0, 6500.0), (7600.0, 6500.0), (7700.0, 6600.0), (8100.0, 6600.0), (8500.0, 6300.0), (8500.0, 6000.0), (8500.0, 5700.0), (8200.0, 5700.0), (8500.0, 5300.0), (8500.0, 5200.0), (8500.0, 5100.0), (8500.0, 5000.0), (8500.0, 4900.0), (8500.0, 4800.0), (8500.0, 4700.0), (8500.0, 4600.0), (8500.0, 4500.0), (8200.0, 4600.0), (7800.0, 4600.0), (7700.0, 4300.0), (8000.0, 4300.0), (8100.0, 4000.0), (8500.0, 4200.0), (8500.0, 4100.0), (8500.0, 4000.0), (8500.0, 3900.0), (8500.0, 3800.0), (8500.0, 3700.0), (8500.0, 3600.0), (8500.0, 3500.0), (8500.0, 3400.0), (8200.0, 3200.0), (8000.0, 3200.0), (7800.0, 3400.0), (7600.0, 3400.0), (7400.0, 3400.0), (7300.0, 3000.0), (7300.0, 2800.0), (7700.0, 3200.0), (8000.0, 2900.0), (8100.0, 3000.0), (8500.0, 3100.0), (8500.0, 3000.0), (8500.0, 2900.0), (8500.0, 2800.0), (8500.0, 2700.0), (8500.0, 2600.0), (8500.0, 2500.0), (8500.0, 2400.0), (8500.0, 2300.0), (8200.0, 2100.0), (7800.0, 2100.0), (6900.0, 2200.0), (6700.0, 2300.0), (6500.0, 2300.0), (6300.0, 2300.0), (6100.0, 2300.0), (5900.0, 2300.0), (5900.0, 2900.0), (6100.0, 2900.0), (6300.0, 2900.0), (6500.0, 2900.0), (6700.0, 2900.0), (6700.0, 3500.0), (6500.0, 3500.0), (6300.0, 3500.0), (6100.0, 3500.0), (5900.0, 3500.0), (5300.0, 2800.0), (4700.0, 2100.0), (4300.0, 2600.0), (4700.0, 2900.0), (5000.0, 3100.0), (5100.0, 2900.0), (5300.0, 3100.0), (5000.0, 3400.0), (5200.0, 3700.0), (5000.0, 3900.0), (5100.0, 3900.0), (5100.0, 4200.0), (5000.0, 4200.0), (4700.0, 4400.0), (4700.0, 4700.0), (4300.0, 4400.0), (4300.0, 4600.0), (4100.0, 4400.0), (3900.0, 4600.0), (3700.0, 4400.0), (3700.0, 4300.0), (3800.0, 4300.0), (3700.0, 4100.0), (3700.0, 4000.0), (3700.0, 3900.0), (3800.0, 4000.0), (3900.0, 3800.0), (3700.0, 3700.0), (3500.0, 3600.0), (3500.0, 3500.0), (3700.0, 3500.0), (3800.0, 3500.0), (3700.0, 3200.0), (3800.0, 3200.0), (3900.0, 3000.0), (3500.0, 2400.0)]\n",
      "Calculado :True\n",
      "\n",
      "ERROR: Could not find file C:\\Users\\Luiz\\AppData\\Local\\Temp\\ipykernel_10012\\2576218384.py\n"
     ]
    },
    {
     "name": "stderr",
     "output_type": "stream",
     "text": [
      "C:\\Users\\Luiz\\AppData\\Local\\Temp\\ipykernel_10012\\2576218384.py:64: FutureWarning: The frame.append method is deprecated and will be removed from pandas in a future version. Use pandas.concat instead.\n",
      "  dataframe = dataframe.append(nova_linha, ignore_index=True)\n"
     ]
    },
    {
     "name": "stdout",
     "output_type": "stream",
     "text": [
      "Nome do Arquivo: rat195\n",
      "Algoritmo : <function twice_around_the_tree at 0x00000175464D33A0>\n",
      "Tempo : 0.5396320819854736\n",
      "Memória Gasta: 168.0390625 MB\n",
      "Taxa de Aproximação: 1.4055437085533715\n",
      "Rota :[1, 2, 3, 4, 5, 6, 7, 8, 9, 10, 11, 12, 13, 19, 18, 17, 16, 15, 14, 28, 27, 29, 30, 31, 32, 33, 46, 45, 44, 43, 42, 41, 40, 53, 54, 55, 56, 57, 58, 59, 71, 72, 73, 74, 75, 62, 61, 60, 63, 64, 65, 76, 77, 78, 89, 88, 90, 91, 85, 84, 83, 82, 81, 80, 79, 66, 67, 68, 69, 70, 97, 96, 95, 94, 93, 92, 105, 107, 106, 98, 99, 100, 101, 102, 103, 104, 111, 112, 113, 114, 115, 116, 117, 127, 126, 125, 124, 123, 122, 121, 108, 109, 110, 128, 129, 130, 142, 141, 140, 139, 138, 137, 136, 135, 134, 133, 120, 119, 118, 132, 131, 145, 144, 147, 146, 160, 159, 158, 157, 172, 171, 170, 185, 184, 183, 186, 187, 188, 189, 190, 173, 174, 175, 176, 177, 178, 179, 180, 167, 168, 169, 181, 182, 192, 191, 193, 194, 195, 148, 149, 150, 151, 152, 153, 154, 155, 156, 166, 165, 164, 163, 162, 161, 143, 86, 87, 47, 48, 49, 20, 21, 22, 23, 24, 25, 26, 34, 35, 36, 37, 38, 39, 50, 51, 52, 1]\n",
      "Vertices :[(3.0, 12.0), (17.0, 12.0), (23.0, 9.0), (34.0, 11.0), (47.0, 11.0), (54.0, 12.0), (66.0, 16.0), (75.0, 7.0), (86.0, 6.0), (94.0, 8.0), (107.0, 9.0), (115.0, 14.0), (123.0, 15.0), (3.0, 32.0), (15.0, 32.0), (26.0, 34.0), (33.0, 34.0), (42.0, 34.0), (53.0, 25.0), (64.0, 32.0), (74.0, 32.0), (85.0, 34.0), (95.0, 28.0), (104.0, 25.0), (113.0, 31.0), (125.0, 34.0), (3.0, 48.0), (15.0, 46.0), (26.0, 50.0), (36.0, 54.0), (48.0, 50.0), (54.0, 46.0), (64.0, 54.0), (75.0, 44.0), (88.0, 49.0), (98.0, 50.0), (103.0, 54.0), (115.0, 47.0), (127.0, 49.0), (6.0, 75.0), (15.0, 75.0), (27.0, 73.0), (36.0, 73.0), (47.0, 68.0), (54.0, 72.0), (66.0, 68.0), (74.0, 67.0), (85.0, 65.0), (94.0, 74.0), (107.0, 65.0), (117.0, 65.0), (125.0, 68.0), (6.0, 84.0), (13.0, 95.0), (25.0, 94.0), (37.0, 84.0), (47.0, 87.0), (53.0, 95.0), (63.0, 86.0), (77.0, 93.0), (83.0, 89.0), (94.0, 95.0), (103.0, 92.0), (115.0, 95.0), (123.0, 93.0), (7.0, 114.0), (15.0, 111.0), (24.0, 112.0), (36.0, 108.0), (43.0, 112.0), (56.0, 105.0), (64.0, 112.0), (73.0, 112.0), (86.0, 107.0), (98.0, 108.0), (104.0, 113.0), (117.0, 115.0), (126.0, 109.0), (6.0, 127.0), (17.0, 125.0), (27.0, 134.0), (35.0, 126.0), (44.0, 131.0), (54.0, 132.0), (63.0, 124.0), (77.0, 127.0), (82.0, 134.0), (96.0, 128.0), (103.0, 126.0), (116.0, 130.0), (126.0, 134.0), (7.0, 152.0), (16.0, 147.0), (24.0, 153.0), (35.0, 151.0), (45.0, 154.0), (55.0, 146.0), (63.0, 155.0), (75.0, 151.0), (87.0, 154.0), (93.0, 156.0), (104.0, 151.0), (117.0, 153.0), (127.0, 148.0), (3.0, 164.0), (16.0, 172.0), (25.0, 165.0), (35.0, 175.0), (44.0, 169.0), (53.0, 174.0), (64.0, 168.0), (76.0, 171.0), (87.0, 173.0), (95.0, 174.0), (106.0, 168.0), (114.0, 169.0), (125.0, 169.0), (3.0, 190.0), (16.0, 188.0), (25.0, 195.0), (37.0, 186.0), (44.0, 189.0), (54.0, 194.0), (66.0, 192.0), (77.0, 192.0), (85.0, 188.0), (93.0, 185.0), (106.0, 192.0), (113.0, 193.0), (125.0, 195.0), (5.0, 207.0), (15.0, 213.0), (24.0, 209.0), (33.0, 214.0), (43.0, 206.0), (53.0, 211.0), (64.0, 213.0), (74.0, 212.0), (84.0, 212.0), (94.0, 209.0), (104.0, 215.0), (115.0, 206.0), (127.0, 209.0), (6.0, 229.0), (13.0, 227.0), (26.0, 235.0), (34.0, 225.0), (43.0, 227.0), (55.0, 225.0), (67.0, 229.0), (75.0, 234.0), (87.0, 230.0), (95.0, 235.0), (105.0, 228.0), (117.0, 225.0), (127.0, 230.0), (6.0, 249.0), (15.0, 246.0), (26.0, 255.0), (33.0, 246.0), (47.0, 248.0), (58.0, 252.0), (65.0, 248.0), (73.0, 247.0), (87.0, 249.0), (94.0, 245.0), (104.0, 256.0), (113.0, 246.0), (125.0, 253.0), (5.0, 266.0), (16.0, 274.0), (24.0, 267.0), (37.0, 266.0), (45.0, 267.0), (54.0, 266.0), (67.0, 267.0), (74.0, 265.0), (87.0, 264.0), (95.0, 271.0), (106.0, 264.0), (116.0, 271.0), (127.0, 273.0), (7.0, 287.0), (17.0, 294.0), (23.0, 287.0), (33.0, 284.0), (43.0, 288.0), (53.0, 295.0), (67.0, 288.0), (73.0, 286.0), (87.0, 293.0), (94.0, 284.0), (104.0, 291.0), (114.0, 294.0), (127.0, 290.0)]\n",
      "Calculado :True\n",
      "\n",
      "ERROR: Could not find file C:\\Users\\Luiz\\AppData\\Local\\Temp\\ipykernel_10012\\2576218384.py\n"
     ]
    },
    {
     "name": "stderr",
     "output_type": "stream",
     "text": [
      "C:\\Users\\Luiz\\AppData\\Local\\Temp\\ipykernel_10012\\2576218384.py:64: FutureWarning: The frame.append method is deprecated and will be removed from pandas in a future version. Use pandas.concat instead.\n",
      "  dataframe = dataframe.append(nova_linha, ignore_index=True)\n"
     ]
    },
    {
     "name": "stdout",
     "output_type": "stream",
     "text": [
      "Nome do Arquivo: d198\n",
      "Algoritmo : <function twice_around_the_tree at 0x00000175464D33A0>\n",
      "Tempo : 0.7633907794952393\n",
      "Memória Gasta: 166.96875 MB\n",
      "Taxa de Aproximação: 1.2203761108454545\n",
      "Rota :[1, 2, 7, 6, 3, 4, 5, 8, 9, 10, 11, 12, 13, 41, 40, 15, 14, 16, 17, 57, 42, 43, 56, 55, 44, 59, 60, 68, 67, 70, 66, 61, 54, 45, 62, 53, 46, 52, 47, 39, 34, 33, 36, 37, 32, 30, 28, 27, 26, 25, 24, 21, 20, 19, 18, 22, 23, 29, 31, 38, 35, 51, 50, 48, 49, 63, 64, 78, 77, 76, 81, 80, 79, 92, 91, 65, 74, 83, 82, 75, 89, 90, 96, 95, 94, 93, 101, 102, 103, 104, 105, 114, 113, 112, 106, 107, 111, 110, 109, 108, 167, 168, 116, 115, 122, 117, 118, 119, 120, 124, 125, 126, 130, 129, 127, 128, 171, 172, 190, 189, 191, 188, 183, 181, 177, 175, 174, 173, 176, 178, 179, 194, 195, 198, 197, 196, 180, 184, 185, 187, 192, 193, 186, 182, 170, 131, 132, 134, 138, 139, 140, 142, 147, 146, 143, 145, 144, 137, 150, 151, 163, 164, 165, 166, 148, 153, 152, 149, 162, 161, 160, 159, 158, 157, 156, 155, 154, 133, 135, 136, 141, 169, 123, 121, 88, 98, 97, 73, 72, 84, 87, 99, 58, 69, 71, 85, 86, 100, 1]\n",
      "Vertices :[(0.0, 0.0), (551.2, 996.4), (627.4, 996.4), (703.6, 996.4), (703.6, 1047.2), (627.4, 1047.2), (551.2, 1047.2), (881.4, 1352.0), (932.2, 1352.0), (957.6, 1352.0), (983.0, 1352.0), (1008.4, 1352.0), (1033.8, 1352.0), (1313.2, 1123.4), (1287.8, 1098.0), (1287.8, 996.4), (1313.2, 996.4), (1465.6, 996.4), (1516.4, 996.4), (1592.6, 996.4), (1592.6, 1098.0), (1516.4, 1098.0), (1465.6, 1098.0), (1567.2, 1123.4), (1592.6, 1148.8), (1567.2, 1174.2), (1541.8, 1174.2), (1491.0, 1174.2), (1440.2, 1174.2), (1465.6, 1199.6), (1414.8, 1225.0), (1440.2, 1225.0), (1491.0, 1225.0), (1516.4, 1225.0), (1592.6, 1250.4), (1465.6, 1250.4), (1440.2, 1250.4), (1389.4, 1250.4), (1541.8, 1275.8), (1160.8, 1123.4), (1160.8, 1225.0), (1262.4, 1301.2), (1287.8, 1301.2), (1338.6, 1301.2), (1414.8, 1301.2), (1491.0, 1301.2), (1541.8, 1301.2), (1643.4, 1301.2), (1668.8, 1326.6), (1618.0, 1326.6), (1567.2, 1326.6), (1516.4, 1326.6), (1465.6, 1326.6), (1414.8, 1326.6), (1338.6, 1326.6), (1313.2, 1326.6), (1237.0, 1326.6), (1237.0, 1352.0), (1313.2, 1352.0), (1338.6, 1352.0), (1414.8, 1352.0), (1465.6, 1352.0), (1694.2, 1352.0), (1618.0, 1377.4), (1516.4, 1377.4), (1414.8, 1377.4), (1338.6, 1377.4), (1313.2, 1377.4), (1237.0, 1377.4), (1357.7, 1390.1), (1237.0, 1402.8), (1313.2, 1402.8), (1338.6, 1402.8), (1414.8, 1402.8), (1465.6, 1402.8), (1567.2, 1402.8), (1592.6, 1402.8), (1618.0, 1402.8), (1694.2, 1428.2), (1668.8, 1428.2), (1541.8, 1428.2), (1440.2, 1428.2), (1414.8, 1428.2), (1338.6, 1428.2), (1262.4, 1428.2), (1237.0, 1453.6), (1338.6, 1453.6), (1414.8, 1453.6), (1465.6, 1453.6), (1491.0, 1453.6), (1668.8, 1453.6), (1694.2, 1453.6), (1618.0, 1479.0), (1592.6, 1479.0), (1567.2, 1479.0), (1516.4, 1479.0), (1440.2, 1479.0), (1414.8, 1479.0), (1338.6, 1479.0), (1262.4, 1479.0), (1592.6, 1504.4), (1618.0, 1504.4), (1668.8, 1529.8), (1694.2, 1529.8), (1745.0, 1529.8), (1821.2, 1529.8), (1846.6, 1529.8), (1948.2, 1529.8), (1922.8, 1555.2), (1897.4, 1555.2), (1872.0, 1555.2), (1821.2, 1555.2), (1795.8, 1555.2), (1770.4, 1555.2), (1770.4, 1656.8), (1795.8, 1656.8), (1821.2, 1656.8), (1872.0, 1656.8), (1897.4, 1656.8), (1922.8, 1656.8), (1808.5, 1694.9), (1757.7, 1694.9), (1884.7, 1733.0), (1999.0, 1733.0), (2075.2, 1733.0), (2113.3, 1733.0), (2176.8, 1733.0), (2236.5, 1733.0), (2176.8, 1783.8), (2126.0, 1783.8), (2100.6, 1783.8), (2100.6, 1809.2), (2126.0, 1809.2), (2100.6, 1834.6), (2126.0, 1834.6), (2151.4, 1834.6), (2236.5, 1847.3), (1999.0, 1847.3), (1884.7, 1847.3), (2100.6, 1860.0), (2126.0, 1860.0), (2100.6, 1885.4), (2126.0, 1885.4), (2176.8, 1885.4), (2151.4, 1910.8), (2126.0, 1910.8), (2100.6, 1910.8), (2100.6, 1936.2), (2126.0, 1936.2), (2176.8, 1936.2), (2227.6, 1936.2), (2126.0, 1961.6), (2100.6, 1961.6), (1795.8, 1987.0), (1821.2, 1987.0), (1846.6, 1987.0), (1872.0, 1987.0), (1897.4, 1987.0), (1948.2, 1987.0), (2056.2, 1987.0), (2100.6, 1987.0), (2126.0, 1987.0), (2253.0, 1987.0), (2303.8, 1987.0), (2380.0, 1987.0), (2405.4, 1987.0), (2024.4, 1402.8), (2151.4, 1402.8), (2075.2, 1707.6), (2176.8, 1707.6), (2350.8, 1733.0), (2350.8, 1847.3), (3652.1, 1010.3), (3725.7, 1010.3), (3725.7, 1086.5), (3652.1, 1086.5), (3726.2, 1148.8), (3802.4, 1148.8), (3853.2, 1148.8), (3802.4, 1174.2), (3700.8, 1174.2), (3605.6, 1199.6), (3700.8, 1199.6), (3802.4, 1199.6), (3853.2, 1199.6), (4028.3, 1310.3), (3952.1, 1310.3), (3728.3, 1310.3), (3652.1, 1310.3), (3652.1, 1386.5), (3728.3, 1386.5), (3952.1, 1386.5), (4028.3, 1386.5), (3853.2, 1123.4), (3952.1, 1086.5), (4028.3, 1086.5), (4028.3, 1010.3), (3952.1, 1010.3)]\n",
      "Calculado :True\n",
      "\n",
      "ERROR: Could not find file C:\\Users\\Luiz\\AppData\\Local\\Temp\\ipykernel_10012\\2576218384.py\n"
     ]
    },
    {
     "name": "stderr",
     "output_type": "stream",
     "text": [
      "C:\\Users\\Luiz\\AppData\\Local\\Temp\\ipykernel_10012\\2576218384.py:64: FutureWarning: The frame.append method is deprecated and will be removed from pandas in a future version. Use pandas.concat instead.\n",
      "  dataframe = dataframe.append(nova_linha, ignore_index=True)\n"
     ]
    },
    {
     "name": "stdout",
     "output_type": "stream",
     "text": [
      "Nome do Arquivo: kroA200\n",
      "Algoritmo : <function twice_around_the_tree at 0x00000175464D33A0>\n",
      "Tempo : 0.7998037338256836\n",
      "Memória Gasta: 168.984375 MB\n",
      "Taxa de Aproximação: 1.3700372386085928\n",
      "Rota :[1, 53, 111, 115, 117, 132, 40, 147, 12, 85, 145, 191, 27, 198, 123, 15, 13, 79, 160, 162, 64, 20, 55, 42, 135, 186, 127, 112, 120, 47, 31, 67, 157, 107, 75, 183, 22, 8, 134, 155, 109, 6, 54, 187, 151, 161, 80, 77, 158, 128, 60, 101, 4, 163, 93, 106, 149, 99, 19, 92, 10, 175, 36, 14, 192, 108, 142, 69, 189, 131, 180, 57, 74, 100, 33, 45, 81, 97, 197, 156, 119, 190, 49, 18, 110, 29, 184, 37, 124, 118, 16, 63, 51, 194, 188, 44, 153, 66, 116, 122, 170, 84, 11, 52, 166, 165, 96, 126, 87, 104, 48, 179, 138, 9, 78, 82, 61, 136, 26, 199, 7, 32, 24, 159, 174, 121, 46, 172, 167, 41, 59, 3, 73, 89, 193, 125, 181, 2, 35, 169, 23, 164, 140, 21, 154, 173, 150, 91, 94, 95, 182, 195, 113, 133, 176, 144, 70, 76, 102, 168, 185, 50, 139, 86, 62, 83, 72, 130, 71, 38, 28, 39, 148, 88, 98, 58, 171, 141, 200, 114, 103, 143, 25, 17, 90, 34, 146, 129, 196, 5, 105, 43, 137, 178, 152, 56, 68, 30, 177, 65, 1]\n",
      "Vertices :[(1357.0, 1905.0), (2650.0, 802.0), (1774.0, 107.0), (1307.0, 964.0), (3806.0, 746.0), (2687.0, 1353.0), (43.0, 1957.0), (3092.0, 1668.0), (185.0, 1542.0), (834.0, 629.0), (40.0, 462.0), (1183.0, 1391.0), (2048.0, 1628.0), (1097.0, 643.0), (1838.0, 1732.0), (234.0, 1118.0), (3314.0, 1881.0), (737.0, 1285.0), (779.0, 777.0), (2312.0, 1949.0), (2576.0, 189.0), (3078.0, 1541.0), (2781.0, 478.0), (705.0, 1812.0), (3409.0, 1917.0), (323.0, 1714.0), (1660.0, 1556.0), (3729.0, 1188.0), (693.0, 1383.0), (2361.0, 640.0), (2433.0, 1538.0), (554.0, 1825.0), (913.0, 317.0), (3586.0, 1909.0), (2636.0, 727.0), (1000.0, 457.0), (482.0, 1337.0), (3704.0, 1082.0), (3635.0, 1174.0), (1362.0, 1526.0), (2049.0, 417.0), (2552.0, 1909.0), (3939.0, 640.0), (219.0, 898.0), (812.0, 351.0), (901.0, 1552.0), (2513.0, 1572.0), (242.0, 584.0), (826.0, 1226.0), (3278.0, 799.0), (86.0, 1065.0), (14.0, 454.0), (1327.0, 1893.0), (2773.0, 1286.0), (2469.0, 1838.0), (3835.0, 963.0), (1031.0, 428.0), (3853.0, 1712.0), (1868.0, 197.0), (1544.0, 863.0), (457.0, 1607.0), (3174.0, 1064.0), (192.0, 1004.0), (2318.0, 1925.0), (2232.0, 1374.0), (396.0, 828.0), (2365.0, 1649.0), (2499.0, 658.0), (1410.0, 307.0), (2990.0, 214.0), (3646.0, 1018.0), (3394.0, 1028.0), (1779.0, 90.0), (1058.0, 372.0), (2933.0, 1459.0), (3099.0, 173.0), (2178.0, 978.0), (138.0, 1610.0), (2082.0, 1753.0), (2302.0, 1127.0), (805.0, 272.0), (22.0, 1617.0), (3213.0, 1085.0), (99.0, 536.0), (1533.0, 1780.0), (3564.0, 676.0), (29.0, 6.0), (3808.0, 1375.0), (2221.0, 291.0), (3499.0, 1885.0), (3124.0, 408.0), (781.0, 671.0), (1027.0, 1041.0), (3249.0, 378.0), (3297.0, 491.0), (213.0, 220.0), (721.0, 186.0), (3736.0, 1542.0), (868.0, 731.0), (960.0, 303.0), (1380.0, 939.0), (2848.0, 96.0), (3510.0, 1671.0), (457.0, 334.0), (3888.0, 666.0), (984.0, 965.0), (2721.0, 1482.0), (1286.0, 525.0), (2716.0, 1432.0), (738.0, 1325.0), (1251.0, 1832.0), (2728.0, 1698.0), (3815.0, 169.0), (3683.0, 1533.0), (1247.0, 1945.0), (123.0, 862.0), (1234.0, 1946.0), (252.0, 1240.0), (611.0, 673.0), (2576.0, 1676.0), (928.0, 1700.0), (53.0, 857.0), (1807.0, 1711.0), (274.0, 1420.0), (2574.0, 946.0), (178.0, 24.0), (2678.0, 1825.0), (1795.0, 962.0), (3384.0, 1498.0), (3520.0, 1079.0), (1256.0, 61.0), (1424.0, 1728.0), (3913.0, 192.0), (3085.0, 1528.0), (2573.0, 1969.0), (463.0, 1670.0), (3875.0, 598.0), (298.0, 1513.0), (3479.0, 821.0), (2542.0, 236.0), (3955.0, 1743.0), (1323.0, 280.0), (3447.0, 1830.0), (2936.0, 337.0), (1621.0, 1830.0), (3373.0, 1646.0), (1393.0, 1368.0), (3874.0, 1318.0), (938.0, 955.0), (3022.0, 474.0), (2482.0, 1183.0), (3854.0, 923.0), (376.0, 825.0), (2519.0, 135.0), (2945.0, 1622.0), (953.0, 268.0), (2628.0, 1479.0), (2097.0, 981.0), (890.0, 1846.0), (2139.0, 1806.0), (2421.0, 1007.0), (2290.0, 1810.0), (1115.0, 1052.0), (2588.0, 302.0), (327.0, 265.0), (241.0, 341.0), (1917.0, 687.0), (2991.0, 792.0), (2573.0, 599.0), (19.0, 674.0), (3911.0, 1673.0), (872.0, 1559.0), (2863.0, 558.0), (929.0, 1766.0), (839.0, 620.0), (3893.0, 102.0), (2178.0, 1619.0), (3822.0, 899.0), (378.0, 1048.0), (1178.0, 100.0), (2599.0, 901.0), (3416.0, 143.0), (2961.0, 1605.0), (611.0, 1384.0), (3113.0, 885.0), (2597.0, 1830.0), (2586.0, 1286.0), (161.0, 906.0), (1429.0, 134.0), (742.0, 1025.0), (1625.0, 1651.0), (1187.0, 706.0), (1787.0, 1009.0), (22.0, 987.0), (3640.0, 43.0), (3756.0, 882.0), (776.0, 392.0), (1724.0, 1642.0), (198.0, 1810.0), (3950.0, 1558.0)]\n",
      "Calculado :True\n",
      "\n",
      "ERROR: Could not find file C:\\Users\\Luiz\\AppData\\Local\\Temp\\ipykernel_10012\\2576218384.py\n"
     ]
    },
    {
     "name": "stderr",
     "output_type": "stream",
     "text": [
      "C:\\Users\\Luiz\\AppData\\Local\\Temp\\ipykernel_10012\\2576218384.py:64: FutureWarning: The frame.append method is deprecated and will be removed from pandas in a future version. Use pandas.concat instead.\n",
      "  dataframe = dataframe.append(nova_linha, ignore_index=True)\n"
     ]
    },
    {
     "name": "stdout",
     "output_type": "stream",
     "text": [
      "Nome do Arquivo: kroB200\n",
      "Algoritmo : <function twice_around_the_tree at 0x00000175464D33A0>\n",
      "Tempo : 0.5386455059051514\n",
      "Memória Gasta: 174.3203125 MB\n",
      "Taxa de Aproximação: 1.3798928762053815\n",
      "Rota :[1, 90, 21, 108, 152, 146, 46, 25, 9, 166, 138, 86, 49, 134, 181, 30, 75, 150, 69, 101, 100, 26, 62, 56, 80, 20, 38, 123, 10, 68, 111, 190, 117, 40, 39, 70, 149, 170, 53, 198, 194, 132, 5, 197, 67, 189, 142, 95, 174, 12, 107, 161, 71, 27, 176, 61, 35, 172, 157, 131, 178, 199, 145, 66, 133, 168, 114, 87, 165, 60, 186, 196, 43, 89, 185, 118, 159, 50, 164, 140, 106, 183, 103, 16, 2, 109, 42, 110, 120, 125, 14, 64, 82, 121, 147, 33, 15, 6, 4, 83, 182, 112, 128, 155, 13, 126, 63, 31, 48, 195, 156, 51, 187, 78, 17, 45, 36, 119, 92, 151, 19, 135, 137, 96, 162, 200, 102, 44, 130, 192, 41, 148, 77, 105, 18, 24, 153, 160, 144, 104, 55, 171, 22, 23, 88, 143, 177, 154, 163, 54, 115, 37, 72, 184, 141, 65, 124, 127, 188, 79, 113, 81, 179, 47, 116, 52, 58, 84, 7, 169, 191, 139, 173, 193, 74, 180, 94, 57, 34, 98, 32, 167, 59, 136, 29, 8, 99, 76, 97, 91, 129, 28, 158, 3, 11, 93, 122, 85, 73, 175, 1]\n",
      "Vertices :[(3140.0, 1401.0), (556.0, 1056.0), (3675.0, 1522.0), (1182.0, 1853.0), (3595.0, 111.0), (962.0, 1895.0), (2030.0, 1186.0), (3507.0, 1851.0), (2642.0, 1269.0), (3438.0, 901.0), (3858.0, 1472.0), (2937.0, 1568.0), (376.0, 1018.0), (839.0, 1355.0), (706.0, 1925.0), (749.0, 920.0), (298.0, 615.0), (694.0, 552.0), (387.0, 190.0), (2801.0, 695.0), (3133.0, 1143.0), (1517.0, 266.0), (1538.0, 224.0), (844.0, 520.0), (2639.0, 1239.0), (3123.0, 217.0), (2489.0, 1520.0), (3834.0, 1827.0), (3417.0, 1808.0), (2938.0, 543.0), (71.0, 1323.0), (3245.0, 1828.0), (731.0, 1741.0), (2312.0, 1270.0), (2426.0, 1851.0), (380.0, 478.0), (2310.0, 635.0), (2830.0, 775.0), (3829.0, 513.0), (3684.0, 445.0), (171.0, 514.0), (627.0, 1261.0), (1490.0, 1123.0), (61.0, 81.0), (422.0, 542.0), (2698.0, 1221.0), (2372.0, 127.0), (177.0, 1390.0), (3084.0, 748.0), (1213.0, 910.0), (3.0, 1817.0), (1782.0, 995.0), (3896.0, 742.0), (1829.0, 812.0), (1286.0, 550.0), (3017.0, 108.0), (2132.0, 1432.0), (2000.0, 1110.0), (3317.0, 1966.0), (1729.0, 1498.0), (2408.0, 1747.0), (3292.0, 152.0), (193.0, 1210.0), (782.0, 1462.0), (2503.0, 352.0), (1697.0, 1924.0), (3821.0, 147.0), (3370.0, 791.0), (3162.0, 367.0), (3938.0, 516.0), (2741.0, 1583.0), (2330.0, 741.0), (3918.0, 1088.0), (1794.0, 1589.0), (2929.0, 485.0), (3453.0, 1998.0), (896.0, 705.0), (399.0, 850.0), (2614.0, 195.0), (2800.0, 653.0), (2630.0, 20.0), (563.0, 1513.0), (1090.0, 1652.0), (2009.0, 1163.0), (3876.0, 1165.0), (3084.0, 774.0), (1526.0, 1612.0), (1612.0, 328.0), (1423.0, 1322.0), (3058.0, 1276.0), (3782.0, 1865.0), (347.0, 252.0), (3904.0, 1444.0), (2191.0, 1579.0), (3220.0, 1454.0), (468.0, 319.0), (3611.0, 1968.0), (3114.0, 1629.0), (3515.0, 1892.0), (3060.0, 155.0), (2995.0, 264.0), (202.0, 233.0), (981.0, 848.0), (1346.0, 408.0), (781.0, 670.0), (1009.0, 1001.0), (2927.0, 1777.0), (2982.0, 949.0), (555.0, 1121.0), (464.0, 1302.0), (3452.0, 637.0), (571.0, 1982.0), (2656.0, 128.0), (1623.0, 1723.0), (2067.0, 694.0), (1725.0, 927.0), (3600.0, 459.0), (1109.0, 1196.0), (366.0, 339.0), (778.0, 1282.0), (386.0, 1616.0), (3918.0, 1217.0), (3332.0, 1049.0), (2597.0, 349.0), (811.0, 1295.0), (241.0, 1069.0), (2658.0, 360.0), (394.0, 1944.0), (3786.0, 1862.0), (264.0, 36.0), (2050.0, 1833.0), (3538.0, 125.0), (1646.0, 1817.0), (2993.0, 624.0), (547.0, 25.0), (3373.0, 1902.0), (460.0, 267.0), (3060.0, 781.0), (1828.0, 456.0), (1021.0, 962.0), (2347.0, 388.0), (3535.0, 1112.0), (1529.0, 581.0), (1203.0, 385.0), (1787.0, 1902.0), (2740.0, 1101.0), (555.0, 1753.0), (47.0, 363.0), (3935.0, 540.0), (3062.0, 329.0), (387.0, 199.0), (2901.0, 920.0), (931.0, 512.0), (1766.0, 692.0), (401.0, 980.0), (149.0, 1629.0), (2214.0, 1977.0), (3805.0, 1619.0), (1179.0, 969.0), (1017.0, 333.0), (2834.0, 1512.0), (634.0, 294.0), (1819.0, 814.0), (1393.0, 859.0), (1768.0, 1578.0), (3023.0, 871.0), (3248.0, 1906.0), (1632.0, 1742.0), (2223.0, 990.0), (3868.0, 697.0), (1541.0, 354.0), (2374.0, 1944.0), (1962.0, 389.0), (3007.0, 1524.0), (3220.0, 1945.0), (2356.0, 1568.0), (1604.0, 706.0), (2028.0, 1736.0), (2581.0, 121.0), (2221.0, 1578.0), (2944.0, 632.0), (1082.0, 1561.0), (997.0, 942.0), (2334.0, 523.0), (1264.0, 1090.0), (1699.0, 1294.0), (235.0, 1059.0), (2592.0, 248.0), (3642.0, 699.0), (3599.0, 514.0), (1766.0, 678.0), (240.0, 619.0), (1272.0, 246.0), (3503.0, 301.0), (80.0, 1533.0), (1677.0, 1238.0), (3766.0, 154.0), (3946.0, 459.0), (1994.0, 1852.0), (278.0, 165.0)]\n",
      "Calculado :True\n",
      "\n",
      "ERROR: Could not find file C:\\Users\\Luiz\\AppData\\Local\\Temp\\ipykernel_10012\\2576218384.py\n"
     ]
    },
    {
     "name": "stderr",
     "output_type": "stream",
     "text": [
      "C:\\Users\\Luiz\\AppData\\Local\\Temp\\ipykernel_10012\\2576218384.py:64: FutureWarning: The frame.append method is deprecated and will be removed from pandas in a future version. Use pandas.concat instead.\n",
      "  dataframe = dataframe.append(nova_linha, ignore_index=True)\n"
     ]
    },
    {
     "name": "stdout",
     "output_type": "stream",
     "text": [
      "Nome do Arquivo: ts225\n",
      "Algoritmo : <function twice_around_the_tree at 0x00000175464D33A0>\n",
      "Tempo : 0.19444799423217773\n",
      "Memória Gasta: 175.7734375 MB\n",
      "Taxa de Aproximação: 1.428570566601069\n",
      "Rota :[1, 2, 126, 127, 128, 129, 130, 26, 27, 28, 29, 30, 31, 32, 33, 34, 35, 36, 37, 38, 39, 40, 41, 42, 43, 44, 45, 46, 47, 48, 49, 50, 150, 171, 172, 173, 174, 175, 75, 74, 73, 72, 71, 70, 69, 68, 67, 66, 65, 64, 63, 62, 61, 60, 59, 58, 57, 56, 55, 54, 53, 52, 51, 155, 154, 153, 152, 176, 177, 178, 179, 160, 181, 165, 186, 187, 188, 189, 190, 88, 87, 86, 85, 84, 83, 82, 81, 80, 79, 78, 77, 76, 180, 201, 202, 203, 204, 205, 101, 102, 103, 104, 105, 106, 107, 108, 109, 110, 111, 112, 210, 185, 184, 183, 182, 206, 207, 208, 209, 89, 90, 91, 92, 93, 94, 95, 96, 97, 98, 99, 100, 200, 221, 222, 223, 224, 225, 125, 124, 123, 122, 121, 195, 216, 217, 218, 219, 220, 119, 120, 211, 212, 213, 214, 215, 113, 114, 115, 116, 117, 118, 170, 169, 168, 167, 191, 192, 193, 194, 196, 197, 198, 199, 145, 166, 140, 161, 162, 163, 164, 135, 134, 133, 132, 131, 7, 6, 5, 4, 3, 8, 9, 10, 11, 12, 13, 14, 15, 16, 17, 18, 19, 20, 21, 22, 23, 24, 25, 146, 147, 148, 149, 141, 142, 143, 144, 136, 137, 138, 139, 156, 157, 158, 159, 151, 1]\n",
      "Vertices :[(4000.0, 4000.0), (4000.0, 4500.0), (4000.0, 5000.0), (4000.0, 5500.0), (4000.0, 6000.0), (4000.0, 6500.0), (4000.0, 7000.0), (4000.0, 7500.0), (4000.0, 8000.0), (4000.0, 8500.0), (4000.0, 9000.0), (4000.0, 9500.0), (4000.0, 10000.0), (4000.0, 10500.0), (4000.0, 11000.0), (4000.0, 11500.0), (4000.0, 12000.0), (4000.0, 12500.0), (4000.0, 13000.0), (4000.0, 13500.0), (4000.0, 14000.0), (4000.0, 14500.0), (4000.0, 15000.0), (4000.0, 15500.0), (4000.0, 16000.0), (7000.0, 4000.0), (7000.0, 4500.0), (7000.0, 5000.0), (7000.0, 5500.0), (7000.0, 6000.0), (7000.0, 6500.0), (7000.0, 7000.0), (7000.0, 7500.0), (7000.0, 8000.0), (7000.0, 8500.0), (7000.0, 9000.0), (7000.0, 9500.0), (7000.0, 10000.0), (7000.0, 10500.0), (7000.0, 11000.0), (7000.0, 11500.0), (7000.0, 12000.0), (7000.0, 12500.0), (7000.0, 13000.0), (7000.0, 13500.0), (7000.0, 14000.0), (7000.0, 14500.0), (7000.0, 15000.0), (7000.0, 15500.0), (7000.0, 16000.0), (10000.0, 4000.0), (10000.0, 4500.0), (10000.0, 5000.0), (10000.0, 5500.0), (10000.0, 6000.0), (10000.0, 6500.0), (10000.0, 7000.0), (10000.0, 7500.0), (10000.0, 8000.0), (10000.0, 8500.0), (10000.0, 9000.0), (10000.0, 9500.0), (10000.0, 10000.0), (10000.0, 10500.0), (10000.0, 11000.0), (10000.0, 11500.0), (10000.0, 12000.0), (10000.0, 12500.0), (10000.0, 13000.0), (10000.0, 13500.0), (10000.0, 14000.0), (10000.0, 14500.0), (10000.0, 15000.0), (10000.0, 15500.0), (10000.0, 16000.0), (13000.0, 4000.0), (13000.0, 4500.0), (13000.0, 5000.0), (13000.0, 5500.0), (13000.0, 6000.0), (13000.0, 6500.0), (13000.0, 7000.0), (13000.0, 7500.0), (13000.0, 8000.0), (13000.0, 8500.0), (13000.0, 9000.0), (13000.0, 9500.0), (13000.0, 10000.0), (13000.0, 10500.0), (13000.0, 11000.0), (13000.0, 11500.0), (13000.0, 12000.0), (13000.0, 12500.0), (13000.0, 13000.0), (13000.0, 13500.0), (13000.0, 14000.0), (13000.0, 14500.0), (13000.0, 15000.0), (13000.0, 15500.0), (13000.0, 16000.0), (16000.0, 4000.0), (16000.0, 4500.0), (16000.0, 5000.0), (16000.0, 5500.0), (16000.0, 6000.0), (16000.0, 6500.0), (16000.0, 7000.0), (16000.0, 7500.0), (16000.0, 8000.0), (16000.0, 8500.0), (16000.0, 9000.0), (16000.0, 9500.0), (16000.0, 10000.0), (16000.0, 10500.0), (16000.0, 11000.0), (16000.0, 11500.0), (16000.0, 12000.0), (16000.0, 12500.0), (16000.0, 13000.0), (16000.0, 13500.0), (16000.0, 14000.0), (16000.0, 14500.0), (16000.0, 15000.0), (16000.0, 15500.0), (16000.0, 16000.0), (4500.0, 4000.0), (5000.0, 4000.0), (5500.0, 4000.0), (6000.0, 4000.0), (6500.0, 4000.0), (4500.0, 7000.0), (5000.0, 7000.0), (5500.0, 7000.0), (6000.0, 7000.0), (6500.0, 7000.0), (4500.0, 10000.0), (5000.0, 10000.0), (5500.0, 10000.0), (6000.0, 10000.0), (6500.0, 10000.0), (4500.0, 13000.0), (5000.0, 13000.0), (5500.0, 13000.0), (6000.0, 13000.0), (6500.0, 13000.0), (4500.0, 16000.0), (5000.0, 16000.0), (5500.0, 16000.0), (6000.0, 16000.0), (6500.0, 16000.0), (7500.0, 4000.0), (8000.0, 4000.0), (8500.0, 4000.0), (9000.0, 4000.0), (9500.0, 4000.0), (7500.0, 7000.0), (8000.0, 7000.0), (8500.0, 7000.0), (9000.0, 7000.0), (9500.0, 7000.0), (7500.0, 10000.0), (8000.0, 10000.0), (8500.0, 10000.0), (9000.0, 10000.0), (9500.0, 10000.0), (7500.0, 13000.0), (8000.0, 13000.0), (8500.0, 13000.0), (9000.0, 13000.0), (9500.0, 13000.0), (7500.0, 16000.0), (8000.0, 16000.0), (8500.0, 16000.0), (9000.0, 16000.0), (9500.0, 16000.0), (10500.0, 4000.0), (11000.0, 4000.0), (11500.0, 4000.0), (12000.0, 4000.0), (12500.0, 4000.0), (10500.0, 7000.0), (11000.0, 7000.0), (11500.0, 7000.0), (12000.0, 7000.0), (12500.0, 7000.0), (10500.0, 10000.0), (11000.0, 10000.0), (11500.0, 10000.0), (12000.0, 10000.0), (12500.0, 10000.0), (10500.0, 13000.0), (11000.0, 13000.0), (11500.0, 13000.0), (12000.0, 13000.0), (12500.0, 13000.0), (10500.0, 16000.0), (11000.0, 16000.0), (11500.0, 16000.0), (12000.0, 16000.0), (12500.0, 16000.0), (13500.0, 4000.0), (14000.0, 4000.0), (14500.0, 4000.0), (15000.0, 4000.0), (15500.0, 4000.0), (13500.0, 7000.0), (14000.0, 7000.0), (14500.0, 7000.0), (15000.0, 7000.0), (15500.0, 7000.0), (13500.0, 10000.0), (14000.0, 10000.0), (14500.0, 10000.0), (15000.0, 10000.0), (15500.0, 10000.0), (13500.0, 13000.0), (14000.0, 13000.0), (14500.0, 13000.0), (15000.0, 13000.0), (15500.0, 13000.0), (13500.0, 16000.0), (14000.0, 16000.0), (14500.0, 16000.0), (15000.0, 16000.0), (15500.0, 16000.0)]\n",
      "Calculado :True\n",
      "\n",
      "ERROR: Could not find file C:\\Users\\Luiz\\AppData\\Local\\Temp\\ipykernel_10012\\2576218384.py\n"
     ]
    },
    {
     "name": "stderr",
     "output_type": "stream",
     "text": [
      "C:\\Users\\Luiz\\AppData\\Local\\Temp\\ipykernel_10012\\2576218384.py:64: FutureWarning: The frame.append method is deprecated and will be removed from pandas in a future version. Use pandas.concat instead.\n",
      "  dataframe = dataframe.append(nova_linha, ignore_index=True)\n"
     ]
    },
    {
     "name": "stdout",
     "output_type": "stream",
     "text": [
      "Nome do Arquivo: tsp225\n",
      "Algoritmo : <function twice_around_the_tree at 0x00000175464D33A0>\n",
      "Tempo : 0.6761283874511719\n",
      "Memória Gasta: 172.47265625 MB\n",
      "Taxa de Aproximação: 1.3169525951635492\n",
      "Rota :[1, 3, 198, 4, 5, 6, 7, 8, 9, 10, 11, 12, 13, 14, 15, 16, 17, 20, 203, 19, 18, 22, 21, 23, 24, 208, 25, 26, 34, 33, 35, 30, 29, 28, 204, 77, 78, 79, 97, 96, 95, 80, 81, 209, 94, 93, 92, 91, 90, 87, 210, 84, 83, 82, 85, 86, 131, 211, 130, 222, 129, 128, 127, 126, 125, 132, 89, 88, 221, 99, 98, 100, 101, 102, 103, 104, 220, 105, 106, 107, 108, 109, 217, 219, 216, 76, 75, 74, 73, 72, 71, 70, 69, 68, 67, 66, 63, 62, 61, 60, 59, 2, 47, 225, 189, 27, 188, 190, 133, 199, 191, 192, 196, 193, 218, 45, 48, 194, 46, 44, 43, 42, 195, 205, 224, 207, 49, 51, 50, 57, 56, 55, 52, 53, 54, 58, 64, 112, 111, 110, 113, 114, 115, 118, 119, 185, 120, 175, 121, 122, 123, 124, 170, 169, 168, 212, 150, 149, 148, 147, 146, 145, 153, 154, 155, 156, 157, 144, 143, 201, 142, 141, 140, 139, 138, 137, 136, 183, 135, 134, 215, 164, 163, 158, 213, 162, 161, 160, 159, 152, 151, 214, 167, 166, 165, 171, 172, 173, 181, 174, 180, 179, 176, 177, 178, 182, 184, 186, 223, 116, 117, 187, 65, 202, 206, 31, 32, 36, 37, 38, 39, 40, 41, 197, 200, 1]\n",
      "Vertices :[(155.42, 150.65), (375.92, 164.65), (183.92, 150.65), (205.42, 150.65), (205.42, 171.65), (226.42, 171.65), (226.42, 186.15), (226.42, 207.15), (226.42, 235.65), (226.42, 264.15), (226.42, 292.65), (226.42, 314.15), (226.42, 335.65), (205.42, 335.65), (190.92, 335.65), (190.92, 328.15), (176.92, 328.15), (176.92, 299.65), (155.42, 299.65), (155.42, 328.15), (155.42, 356.65), (183.92, 356.65), (219.42, 356.65), (240.92, 356.65), (269.42, 356.65), (290.42, 356.65), (387.42, 136.15), (318.92, 356.65), (318.92, 335.65), (318.92, 328.15), (318.92, 299.65), (297.92, 299.65), (290.42, 328.15), (290.42, 335.65), (297.92, 328.15), (254.92, 335.65), (254.92, 314.15), (254.92, 292.65), (254.92, 271.65), (254.92, 243.15), (254.92, 221.65), (254.92, 193.15), (254.92, 171.65), (276.42, 171.65), (296.42, 150.65), (276.42, 150.65), (375.92, 150.65), (308.92, 150.65), (354.92, 164.65), (338.42, 174.65), (354.92, 174.65), (338.42, 200.15), (338.42, 221.65), (354.92, 221.65), (354.92, 200.15), (361.92, 200.15), (361.92, 186.15), (383.42, 186.15), (383.42, 179.15), (404.42, 179.15), (404.42, 186.15), (418.92, 186.15), (418.92, 200.15), (432.92, 200.15), (432.92, 221.65), (418.92, 221.65), (418.92, 235.65), (397.42, 235.65), (397.42, 243.15), (375.92, 243.15), (375.92, 257.15), (368.92, 257.15), (368.92, 264.15), (347.42, 264.15), (347.42, 278.65), (336.42, 278.65), (336.42, 328.15), (347.42, 328.15), (347.42, 342.65), (368.92, 342.65), (368.92, 353.65), (418.92, 353.65), (418.92, 342.65), (432.92, 342.65), (432.92, 356.65), (447.42, 356.65), (447.42, 321.15), (447.42, 292.65), (432.92, 292.65), (432.92, 314.15), (418.92, 314.15), (418.92, 321.15), (397.42, 321.15), (397.42, 333.65), (375.92, 333.65), (375.92, 321.15), (361.92, 321.15), (361.92, 299.65), (375.92, 299.65), (375.92, 285.65), (397.42, 285.65), (397.42, 271.65), (418.92, 271.65), (418.92, 264.15), (439.92, 264.15), (439.92, 250.15), (454.42, 250.15), (454.42, 243.15), (461.42, 243.15), (461.42, 214.65), (461.42, 193.15), (447.42, 193.15), (447.42, 179.15), (439.92, 179.15), (439.92, 167.65), (419.92, 167.65), (419.92, 150.65), (439.92, 150.65), (454.42, 150.65), (475.92, 150.65), (475.92, 171.65), (496.92, 171.65), (496.92, 193.15), (496.92, 214.65), (496.92, 243.15), (496.92, 271.65), (496.92, 292.65), (496.92, 317.15), (496.92, 335.65), (470.42, 335.65), (470.42, 356.65), (496.92, 356.65), (347.42, 150.65), (539.92, 356.65), (560.92, 356.65), (589.42, 356.65), (589.42, 342.65), (603.92, 342.65), (610.92, 342.65), (610.92, 335.65), (610.92, 321.15), (624.92, 321.15), (624.92, 278.65), (610.92, 278.65), (610.92, 257.15), (589.42, 257.15), (589.42, 250.15), (575.42, 250.15), (560.92, 250.15), (542.92, 250.15), (542.92, 264.15), (560.92, 264.15), (575.42, 264.15), (575.42, 271.65), (582.42, 271.65), (582.42, 285.65), (596.42, 285.65), (560.92, 335.65), (596.42, 314.15), (582.42, 314.15), (582.42, 321.15), (575.42, 321.15), (575.42, 335.65), (525.42, 335.65), (525.42, 314.15), (525.42, 299.65), (525.42, 281.65), (525.42, 233.15), (525.42, 214.65), (525.42, 193.15), (525.42, 171.65), (546.92, 171.65), (546.92, 150.65), (568.42, 150.65), (475.92, 160.65), (603.92, 150.65), (624.92, 150.65), (624.92, 136.15), (596.42, 136.15), (575.42, 136.15), (553.92, 136.15), (532.42, 136.15), (575.42, 356.65), (489.92, 136.15), (468.42, 136.15), (447.42, 136.15), (425.92, 136.15), (404.42, 136.15), (370.42, 136.15), (361.92, 150.65), (340.42, 136.15), (326.42, 136.15), (301.92, 136.15), (276.42, 136.15), (254.92, 136.15), (315.92, 136.15), (212.42, 136.15), (190.92, 136.15), (338.92, 150.65), (155.42, 136.15), (624.92, 299.65), (318.92, 321.65), (155.42, 314.15), (311.92, 356.65), (355.42, 136.15), (318.92, 314.15), (362.92, 164.65), (254.92, 356.65), (383.42, 333.65), (447.42, 335.65), (470.42, 345.65), (525.42, 250.15), (546.92, 335.65), (525.42, 261.15), (525.42, 356.65), (336.42, 298.65), (336.42, 313.15), (293.42, 136.15), (336.42, 306.15), (425.92, 264.15), (391.42, 353.65), (482.92, 335.65), (429.92, 167.65), (330.92, 150.65), (368.42, 150.65)]\n",
      "Calculado :True\n",
      "\n",
      "ERROR: Could not find file C:\\Users\\Luiz\\AppData\\Local\\Temp\\ipykernel_10012\\2576218384.py\n"
     ]
    },
    {
     "name": "stderr",
     "output_type": "stream",
     "text": [
      "C:\\Users\\Luiz\\AppData\\Local\\Temp\\ipykernel_10012\\2576218384.py:64: FutureWarning: The frame.append method is deprecated and will be removed from pandas in a future version. Use pandas.concat instead.\n",
      "  dataframe = dataframe.append(nova_linha, ignore_index=True)\n"
     ]
    },
    {
     "name": "stdout",
     "output_type": "stream",
     "text": [
      "Nome do Arquivo: pr226\n",
      "Algoritmo : <function twice_around_the_tree at 0x00000175464D33A0>\n",
      "Tempo : 0.5515711307525635\n",
      "Memória Gasta: 172.12109375 MB\n",
      "Taxa de Aproximação: 1.4240039277780465\n",
      "Rota :[1, 2, 3, 4, 5, 6, 7, 9, 10, 11, 12, 13, 71, 68, 69, 70, 66, 103, 105, 104, 106, 107, 108, 109, 110, 118, 126, 119, 120, 121, 122, 123, 131, 129, 133, 134, 135, 136, 130, 124, 132, 125, 215, 214, 213, 212, 211, 210, 209, 208, 207, 206, 205, 204, 203, 202, 201, 200, 199, 198, 197, 196, 195, 194, 193, 192, 191, 216, 217, 218, 219, 220, 221, 222, 223, 224, 225, 226, 127, 128, 117, 116, 115, 114, 113, 112, 111, 72, 16, 17, 18, 19, 20, 51, 50, 21, 22, 23, 24, 25, 26, 27, 28, 29, 30, 31, 32, 33, 48, 45, 46, 47, 43, 87, 89, 88, 90, 91, 92, 93, 101, 100, 102, 94, 137, 138, 139, 145, 147, 149, 141, 140, 142, 148, 150, 143, 180, 179, 178, 177, 176, 175, 174, 173, 172, 171, 170, 169, 168, 167, 166, 165, 164, 163, 162, 161, 160, 159, 158, 157, 156, 155, 181, 182, 183, 184, 185, 186, 187, 188, 189, 190, 151, 152, 153, 154, 146, 144, 99, 98, 97, 96, 95, 49, 36, 37, 38, 39, 40, 42, 41, 44, 34, 35, 52, 53, 54, 55, 56, 57, 58, 59, 60, 61, 62, 63, 64, 65, 67, 14, 15, 8, 73, 74, 75, 76, 77, 78, 79, 80, 81, 82, 83, 84, 85, 86, 1]\n",
      "Vertices :[(15625.0, 1150.0), (14625.0, 1200.0), (14525.0, 1200.0), (14425.0, 1200.0), (14125.0, 1200.0), (14025.0, 1200.0), (13925.0, 1200.0), (13975.0, 1500.0), (13625.0, 1200.0), (13475.0, 1200.0), (13475.0, 1600.0), (13475.0, 1750.0), (13475.0, 1900.0), (13325.0, 1200.0), (13175.0, 1200.0), (13100.0, 1725.0), (12675.0, 1725.0), (12025.0, 1300.0), (11425.0, 1600.0), (9725.0, 1450.0), (7975.0, 1150.0), (6975.0, 1200.0), (6875.0, 1200.0), (6775.0, 1200.0), (6475.0, 1200.0), (6375.0, 1200.0), (6275.0, 1200.0), (6325.0, 1500.0), (5975.0, 1200.0), (5825.0, 1200.0), (5825.0, 1600.0), (5825.0, 1750.0), (5825.0, 1900.0), (5675.0, 1200.0), (5525.0, 1200.0), (5450.0, 1725.0), (5025.0, 1725.0), (4375.0, 1300.0), (3775.0, 1600.0), (2075.0, 1450.0), (2075.0, 3850.0), (3775.0, 2300.0), (4375.0, 3300.0), (5025.0, 2150.0), (5450.0, 2150.0), (5475.0, 2500.0), (5475.0, 3000.0), (5825.0, 2050.0), (6325.0, 2200.0), (7975.0, 2150.0), (8725.0, 2550.0), (8725.0, 2650.0), (8725.0, 2750.0), (8725.0, 2850.0), (8725.0, 2950.0), (8725.0, 3050.0), (8725.0, 3200.0), (8725.0, 3300.0), (8725.0, 3400.0), (8725.0, 3500.0), (8725.0, 3600.0), (8725.0, 3700.0), (8725.0, 3800.0), (9725.0, 3850.0), (11425.0, 2300.0), (12025.0, 3300.0), (12675.0, 2150.0), (13100.0, 2150.0), (13125.0, 2500.0), (13125.0, 3000.0), (13475.0, 2050.0), (13975.0, 2200.0), (15625.0, 2150.0), (16375.0, 2550.0), (16375.0, 2650.0), (16375.0, 2750.0), (16375.0, 2850.0), (16375.0, 2950.0), (16375.0, 3050.0), (16375.0, 3200.0), (16375.0, 3300.0), (16375.0, 3400.0), (16375.0, 3500.0), (16375.0, 3600.0), (16375.0, 3700.0), (16375.0, 3800.0), (4875.0, 6500.0), (4875.0, 6700.0), (4875.0, 6600.0), (4875.0, 6800.0), (4875.0, 6900.0), (4875.0, 7000.0), (4875.0, 7100.0), (4875.0, 7200.0), (4975.0, 6500.0), (4975.0, 6600.0), (4975.0, 6700.0), (4975.0, 6800.0), (4975.0, 6900.0), (4975.0, 7000.0), (4975.0, 7100.0), (4975.0, 7200.0), (12525.0, 6500.0), (12525.0, 6700.0), (12525.0, 6600.0), (12525.0, 6800.0), (12525.0, 6900.0), (12525.0, 7000.0), (12525.0, 7100.0), (12525.0, 7200.0), (12625.0, 6500.0), (12625.0, 6600.0), (12625.0, 6700.0), (12625.0, 6800.0), (12625.0, 6900.0), (12625.0, 7000.0), (12625.0, 7100.0), (12625.0, 7200.0), (12625.0, 8450.0), (12625.0, 8550.0), (12625.0, 8650.0), (12625.0, 8750.0), (12625.0, 8850.0), (12625.0, 8950.0), (12625.0, 9050.0), (12525.0, 8450.0), (12525.0, 8650.0), (12525.0, 8550.0), (12525.0, 8750.0), (12525.0, 8950.0), (12525.0, 8850.0), (12525.0, 9050.0), (10075.0, 8800.0), (9975.0, 8800.0), (9875.0, 8800.0), (9775.0, 8800.0), (4975.0, 8450.0), (4975.0, 8550.0), (4975.0, 8650.0), (4975.0, 8750.0), (4975.0, 8850.0), (4975.0, 8950.0), (4975.0, 9050.0), (4875.0, 8450.0), (4875.0, 8650.0), (4875.0, 8550.0), (4875.0, 8750.0), (4875.0, 8950.0), (4875.0, 8850.0), (4875.0, 9050.0), (2425.0, 8800.0), (2325.0, 8800.0), (2225.0, 8800.0), (2125.0, 8800.0), (1875.0, 11850.0), (1975.0, 11850.0), (2075.0, 11850.0), (2425.0, 11850.0), (2525.0, 11850.0), (2625.0, 11850.0), (2725.0, 11850.0), (2825.0, 11850.0), (2925.0, 11850.0), (3025.0, 11850.0), (3125.0, 11850.0), (3375.0, 11850.0), (3475.0, 11850.0), (3575.0, 11850.0), (3675.0, 11850.0), (3775.0, 11850.0), (4075.0, 11850.0), (4175.0, 11850.0), (4275.0, 11850.0), (4375.0, 11850.0), (4475.0, 11850.0), (4575.0, 11850.0), (4675.0, 11850.0), (4775.0, 11850.0), (4875.0, 11850.0), (4975.0, 11850.0), (5375.0, 11850.0), (5475.0, 11850.0), (5575.0, 11850.0), (5675.0, 11850.0), (5775.0, 11850.0), (5875.0, 11850.0), (5975.0, 11850.0), (6075.0, 11850.0), (6175.0, 11850.0), (6275.0, 11850.0), (9525.0, 11850.0), (9625.0, 11850.0), (9725.0, 11850.0), (10075.0, 11850.0), (10175.0, 11850.0), (10275.0, 11850.0), (10375.0, 11850.0), (10475.0, 11850.0), (10575.0, 11850.0), (10675.0, 11850.0), (10775.0, 11850.0), (11025.0, 11850.0), (11125.0, 11850.0), (11225.0, 11850.0), (11325.0, 11850.0), (11425.0, 11850.0), (11725.0, 11850.0), (11825.0, 11850.0), (11925.0, 11850.0), (12025.0, 11850.0), (12125.0, 11850.0), (12225.0, 11850.0), (12325.0, 11850.0), (12425.0, 11850.0), (12525.0, 11850.0), (12625.0, 11850.0), (13025.0, 11850.0), (13125.0, 11850.0), (13225.0, 11850.0), (13325.0, 11850.0), (13425.0, 11850.0), (13525.0, 11850.0), (13625.0, 11850.0), (13725.0, 11850.0), (13825.0, 11850.0), (13925.0, 11850.0)]\n",
      "Calculado :True\n",
      "\n",
      "ERROR: Could not find file C:\\Users\\Luiz\\AppData\\Local\\Temp\\ipykernel_10012\\2576218384.py\n"
     ]
    },
    {
     "name": "stderr",
     "output_type": "stream",
     "text": [
      "C:\\Users\\Luiz\\AppData\\Local\\Temp\\ipykernel_10012\\2576218384.py:64: FutureWarning: The frame.append method is deprecated and will be removed from pandas in a future version. Use pandas.concat instead.\n",
      "  dataframe = dataframe.append(nova_linha, ignore_index=True)\n"
     ]
    },
    {
     "name": "stdout",
     "output_type": "stream",
     "text": [
      "Nome do Arquivo: gil262\n",
      "Algoritmo : <function twice_around_the_tree at 0x00000175464D33A0>\n",
      "Tempo : 1.161733627319336\n",
      "Memória Gasta: 170.3125 MB\n",
      "Taxa de Aproximação: 1.4081298190216074\n",
      "Rota :[1, 229, 71, 31, 205, 139, 202, 231, 68, 142, 232, 70, 99, 209, 145, 100, 21, 138, 254, 33, 234, 186, 81, 4, 172, 140, 164, 7, 160, 246, 25, 141, 104, 74, 215, 126, 116, 208, 251, 199, 44, 22, 120, 23, 48, 128, 179, 161, 93, 46, 216, 63, 180, 152, 200, 91, 77, 50, 88, 151, 86, 149, 247, 94, 187, 45, 212, 174, 143, 14, 98, 240, 117, 107, 196, 236, 111, 252, 255, 92, 178, 210, 41, 110, 60, 158, 134, 159, 109, 20, 227, 29, 97, 132, 37, 165, 6, 243, 16, 84, 135, 118, 3, 123, 8, 112, 96, 73, 198, 204, 54, 18, 30, 137, 257, 124, 49, 12, 133, 5, 191, 262, 79, 19, 185, 72, 130, 129, 61, 90, 211, 221, 228, 53, 261, 27, 195, 2, 170, 148, 26, 9, 153, 248, 89, 167, 13, 121, 106, 189, 230, 58, 183, 36, 83, 206, 65, 217, 220, 150, 114, 253, 101, 193, 173, 207, 166, 213, 190, 146, 52, 219, 15, 102, 39, 38, 122, 223, 43, 225, 241, 11, 214, 57, 203, 131, 238, 10, 235, 82, 157, 249, 62, 237, 177, 69, 224, 64, 125, 163, 250, 242, 56, 256, 233, 176, 136, 226, 32, 67, 51, 78, 201, 245, 147, 259, 175, 47, 55, 17, 24, 40, 127, 168, 66, 103, 113, 80, 194, 197, 42, 75, 162, 59, 181, 169, 171, 222, 85, 105, 115, 108, 155, 76, 154, 87, 188, 95, 34, 182, 28, 156, 260, 239, 35, 184, 192, 144, 218, 119, 258, 244, 1]\n",
      "Vertices :[(-99.0, -97.0), (-59.0, 50.0), (0.0, 14.0), (-17.0, -66.0), (-69.0, -19.0), (31.0, 12.0), (5.0, -41.0), (-12.0, 10.0), (-64.0, 70.0), (-12.0, 85.0), (-18.0, 64.0), (-77.0, -16.0), (-53.0, 88.0), (83.0, -24.0), (24.0, 41.0), (17.0, 21.0), (42.0, 96.0), (-65.0, 0.0), (-47.0, -26.0), (85.0, 36.0), (-35.0, -54.0), (54.0, -21.0), (64.0, -17.0), (55.0, 89.0), (17.0, -25.0), (-61.0, 66.0), (-61.0, 26.0), (17.0, -72.0), (79.0, 38.0), (-62.0, -2.0), (-90.0, -68.0), (52.0, 66.0), (-54.0, -50.0), (8.0, -84.0), (37.0, -90.0), (-83.0, 49.0), (35.0, -1.0), (7.0, 59.0), (12.0, 48.0), (57.0, 95.0), (92.0, 28.0), (-3.0, 97.0), (-7.0, 52.0), (42.0, -15.0), (77.0, -43.0), (59.0, -49.0), (25.0, 91.0), (69.0, -19.0), (-82.0, -14.0), (74.0, -70.0), (69.0, 59.0), (29.0, 33.0), (-97.0, 9.0), (-58.0, 9.0), (28.0, 93.0), (7.0, 73.0), (-28.0, 73.0), (-76.0, 55.0), (41.0, 42.0), (92.0, 40.0), (-84.0, -29.0), (-12.0, 42.0), (51.0, -45.0), (-37.0, 46.0), (-97.0, 35.0), (14.0, 89.0), (60.0, 58.0), (-63.0, -75.0), (-18.0, 34.0), (-46.0, -82.0), (-86.0, -79.0), (-43.0, -30.0), (-44.0, 7.0), (-3.0, -20.0), (36.0, 41.0), (-30.0, -94.0), (79.0, -62.0), (51.0, 70.0), (-61.0, -26.0), (6.0, 94.0), (-19.0, -62.0), (-20.0, 51.0), (-81.0, 37.0), (7.0, 31.0), (52.0, 12.0), (83.0, -91.0), (-7.0, -92.0), (82.0, -74.0), (-70.0, 85.0), (-83.0, -30.0), (71.0, -61.0), (85.0, 11.0), (66.0, -48.0), (78.0, -87.0), (9.0, -79.0), (-36.0, 4.0), (66.0, 39.0), (92.0, -17.0), (-46.0, -79.0), (-30.0, -63.0), (-42.0, 63.0), (20.0, 42.0), (15.0, 98.0), (1.0, -17.0), (64.0, 20.0), (-96.0, 85.0), (93.0, -29.0), (-40.0, -84.0), (86.0, 35.0), (91.0, 36.0), (62.0, -8.0), (-24.0, 4.0), (11.0, 96.0), (-53.0, 62.0), (-28.0, -71.0), (7.0, -4.0), (95.0, -9.0), (-3.0, 17.0), (53.0, -90.0), (58.0, -19.0), (-83.0, 84.0), (-1.0, 49.0), (-4.0, 17.0), (-82.0, -3.0), (-43.0, 47.0), (6.0, -6.0), (70.0, 99.0), (68.0, -29.0), (-94.0, -30.0), (-94.0, -20.0), (-21.0, 77.0), (64.0, 37.0), (-70.0, -19.0), (88.0, 65.0), (2.0, 29.0), (33.0, 57.0), (-70.0, 6.0), (-38.0, -56.0), (-80.0, -95.0), (-5.0, -39.0), (8.0, -22.0), (-61.0, -76.0), (76.0, -22.0), (49.0, -71.0), (-30.0, -68.0), (1.0, 34.0), (77.0, 79.0), (-58.0, 64.0), (82.0, -97.0), (-80.0, 55.0), (81.0, -86.0), (39.0, -49.0), (-67.0, 72.0), (-25.0, -89.0), (-44.0, -95.0), (32.0, -68.0), (-17.0, 49.0), (93.0, 49.0), (99.0, 81.0), (10.0, -49.0), (63.0, -41.0), (38.0, 39.0), (-28.0, 39.0), (-2.0, -47.0), (38.0, 8.0), (-42.0, -6.0), (-67.0, 88.0), (19.0, 93.0), (40.0, 27.0), (-61.0, 56.0), (43.0, 33.0), (-18.0, -39.0), (-69.0, 19.0), (75.0, -18.0), (31.0, 85.0), (25.0, 58.0), (-16.0, 36.0), (91.0, 15.0), (60.0, -39.0), (49.0, -47.0), (42.0, 33.0), (16.0, -81.0), (-78.0, 53.0), (53.0, -80.0), (-46.0, -26.0), (-25.0, -54.0), (69.0, -46.0), (0.0, -78.0), (-84.0, 74.0), (-16.0, 16.0), (-63.0, -14.0), (51.0, -77.0), (-39.0, 61.0), (5.0, 97.0), (-55.0, 39.0), (70.0, -14.0), (0.0, 95.0), (-45.0, 7.0), (38.0, -24.0), (50.0, -37.0), (59.0, 71.0), (-73.0, -96.0), (-29.0, 72.0), (-47.0, 12.0), (-88.0, -61.0), (-88.0, 36.0), (-46.0, -3.0), (26.0, -37.0), (-39.0, -67.0), (92.0, 27.0), (-80.0, -31.0), (93.0, -50.0), (-20.0, -5.0), (-22.0, 73.0), (-4.0, -7.0), (54.0, -48.0), (-70.0, 39.0), (54.0, -82.0), (29.0, 41.0), (-87.0, 51.0), (-96.0, -36.0), (49.0, 8.0), (-5.0, 54.0), (-26.0, 43.0), (-11.0, 60.0), (40.0, 61.0), (82.0, 35.0), (-92.0, 12.0), (-93.0, -86.0), (-66.0, 63.0), (-72.0, -87.0), (-57.0, -84.0), (23.0, 52.0), (-56.0, -62.0), (-19.0, 59.0), (63.0, -14.0), (-13.0, 38.0), (-19.0, 87.0), (44.0, -84.0), (98.0, -17.0), (-16.0, 62.0), (3.0, 66.0), (26.0, 22.0), (-38.0, -81.0), (70.0, 80.0), (17.0, -35.0), (96.0, -83.0), (-77.0, 80.0), (-14.0, 44.0), (-33.0, 33.0), (33.0, -33.0), (70.0, 0.0), (-50.0, 60.0), (-50.0, -60.0), (75.0, 0.0), (0.0, 75.0), (-75.0, 0.0), (0.0, -75.0), (40.0, 80.0), (40.0, -80.0), (-60.0, 20.0), (-60.0, -20.0)]\n",
      "Calculado :True\n",
      "\n",
      "ERROR: Could not find file C:\\Users\\Luiz\\AppData\\Local\\Temp\\ipykernel_10012\\2576218384.py\n"
     ]
    },
    {
     "name": "stderr",
     "output_type": "stream",
     "text": [
      "C:\\Users\\Luiz\\AppData\\Local\\Temp\\ipykernel_10012\\2576218384.py:64: FutureWarning: The frame.append method is deprecated and will be removed from pandas in a future version. Use pandas.concat instead.\n",
      "  dataframe = dataframe.append(nova_linha, ignore_index=True)\n"
     ]
    },
    {
     "name": "stdout",
     "output_type": "stream",
     "text": [
      "Nome do Arquivo: pr264\n",
      "Algoritmo : <function twice_around_the_tree at 0x00000175464D33A0>\n",
      "Tempo : 0.9761111736297607\n",
      "Memória Gasta: 174.04296875 MB\n",
      "Taxa de Aproximação: 1.3492029300196295\n",
      "Rota :[1, 40, 39, 38, 37, 61, 60, 121, 120, 119, 129, 62, 36, 35, 32, 31, 65, 64, 115, 114, 113, 112, 107, 108, 109, 68, 69, 25, 26, 27, 22, 23, 24, 70, 71, 104, 105, 102, 101, 103, 72, 73, 19, 20, 21, 75, 74, 18, 17, 16, 15, 14, 11, 8, 7, 81, 80, 91, 90, 87, 85, 86, 83, 82, 6, 5, 2, 3, 4, 84, 88, 89, 9, 10, 12, 78, 79, 92, 93, 94, 131, 130, 132, 136, 137, 138, 186, 181, 139, 182, 183, 212, 213, 214, 215, 178, 179, 180, 140, 217, 216, 177, 176, 175, 141, 219, 218, 174, 169, 170, 171, 143, 221, 220, 242, 241, 222, 168, 167, 166, 144, 223, 239, 240, 225, 163, 164, 165, 145, 147, 146, 148, 162, 161, 160, 159, 158, 155, 149, 156, 157, 227, 228, 235, 236, 233, 232, 234, 229, 230, 152, 151, 231, 153, 154, 150, 226, 224, 238, 237, 264, 173, 172, 142, 243, 244, 245, 246, 248, 247, 249, 250, 185, 184, 211, 210, 252, 251, 187, 188, 189, 208, 209, 253, 254, 192, 191, 190, 207, 206, 256, 255, 257, 258, 204, 203, 202, 198, 197, 196, 134, 199, 133, 201, 259, 200, 260, 205, 193, 194, 195, 135, 262, 261, 263, 13, 77, 76, 97, 96, 95, 98, 99, 100, 106, 111, 110, 67, 66, 30, 29, 28, 33, 34, 63, 116, 117, 118, 41, 42, 43, 44, 45, 46, 48, 47, 49, 57, 58, 122, 123, 124, 125, 126, 127, 55, 56, 50, 51, 52, 53, 54, 128, 59, 1]\n",
      "Vertices :[(3425.0, 6450.0), (3625.0, 3200.0), (3525.0, 3200.0), (3525.0, 3350.0), (3625.0, 3350.0), (3725.0, 3350.0), (3725.0, 3650.0), (3625.0, 3650.0), (3525.0, 3650.0), (3525.0, 3850.0), (3625.0, 3850.0), (3725.0, 3850.0), (3725.0, 4150.0), (3625.0, 4150.0), (3525.0, 4150.0), (3525.0, 4350.0), (3625.0, 4350.0), (3725.0, 4350.0), (3725.0, 4650.0), (3625.0, 4650.0), (3525.0, 4650.0), (3525.0, 4850.0), (3625.0, 4850.0), (3725.0, 4850.0), (3725.0, 5150.0), (3625.0, 5150.0), (3525.0, 5150.0), (3525.0, 5350.0), (3625.0, 5350.0), (3725.0, 5350.0), (3725.0, 5650.0), (3625.0, 5650.0), (3525.0, 5650.0), (3525.0, 5850.0), (3625.0, 5850.0), (3725.0, 5850.0), (3725.0, 6150.0), (3625.0, 6150.0), (3525.0, 6150.0), (3525.0, 6450.0), (3525.0, 6650.0), (3675.0, 7150.0), (3675.0, 7500.0), (3675.0, 7700.0), (3675.0, 7850.0), (3675.0, 8050.0), (3525.0, 8300.0), (3625.0, 8300.0), (3725.0, 8300.0), (3725.0, 8600.0), (3625.0, 8600.0), (3525.0, 8600.0), (3825.0, 8750.0), (3925.0, 8750.0), (3925.0, 8600.0), (3825.0, 8600.0), (3825.0, 8300.0), (3925.0, 8300.0), (3925.0, 7600.0), (3925.0, 6150.0), (3825.0, 6150.0), (3825.0, 5850.0), (3925.0, 5850.0), (3925.0, 5650.0), (3825.0, 5650.0), (3825.0, 5350.0), (3925.0, 5350.0), (3925.0, 5150.0), (3825.0, 5150.0), (3825.0, 4850.0), (3925.0, 4850.0), (3925.0, 4650.0), (3825.0, 4650.0), (3825.0, 4350.0), (3925.0, 4350.0), (3925.0, 4150.0), (3825.0, 4150.0), (3825.0, 3850.0), (3925.0, 3850.0), (3925.0, 3650.0), (3825.0, 3650.0), (3825.0, 3350.0), (3925.0, 3350.0), (3875.0, 3200.0), (4075.0, 3200.0), (4025.0, 3350.0), (4125.0, 3350.0), (4225.0, 3350.0), (4225.0, 3650.0), (4125.0, 3650.0), (4025.0, 3650.0), (4025.0, 3850.0), (4125.0, 3850.0), (4225.0, 3850.0), (4225.0, 4150.0), (4125.0, 4150.0), (4025.0, 4150.0), (4025.0, 4350.0), (4125.0, 4350.0), (4225.0, 4350.0), (4225.0, 4650.0), (4125.0, 4650.0), (4025.0, 4650.0), (4025.0, 4850.0), (4125.0, 4850.0), (4225.0, 4850.0), (4225.0, 5150.0), (4125.0, 5150.0), (4025.0, 5150.0), (4025.0, 5350.0), (4125.0, 5350.0), (4225.0, 5350.0), (4225.0, 5650.0), (4125.0, 5650.0), (4025.0, 5650.0), (4025.0, 5850.0), (4125.0, 5850.0), (4225.0, 5850.0), (4225.0, 6150.0), (4125.0, 6150.0), (4025.0, 6150.0), (4025.0, 8300.0), (4125.0, 8300.0), (4225.0, 8300.0), (4225.0, 8600.0), (4125.0, 8600.0), (4025.0, 8600.0), (4275.0, 8850.0), (4875.0, 6100.0), (4975.0, 4050.0), (4975.0, 3900.0), (4975.0, 3750.0), (9675.0, 3200.0), (9675.0, 3350.0), (9675.0, 3650.0), (9675.0, 3850.0), (9675.0, 4150.0), (9675.0, 4350.0), (9675.0, 4650.0), (9675.0, 4850.0), (9675.0, 5150.0), (9675.0, 5350.0), (9675.0, 5650.0), (9675.0, 5850.0), (9675.0, 6150.0), (9575.0, 6450.0), (9675.0, 6450.0), (9675.0, 6650.0), (9675.0, 8300.0), (9675.0, 8600.0), (9975.0, 8750.0), (9975.0, 8600.0), (9875.0, 8600.0), (9775.0, 8600.0), (9775.0, 8300.0), (9875.0, 8300.0), (9975.0, 8300.0), (9825.0, 8050.0), (9825.0, 7850.0), (9825.0, 7700.0), (9825.0, 7500.0), (9825.0, 7150.0), (9975.0, 6150.0), (9875.0, 6150.0), (9775.0, 6150.0), (9775.0, 5850.0), (9875.0, 5850.0), (9975.0, 5850.0), (9975.0, 5650.0), (9875.0, 5650.0), (9775.0, 5650.0), (9775.0, 5350.0), (9875.0, 5350.0), (9975.0, 5350.0), (9775.0, 5150.0), (9875.0, 5150.0), (9975.0, 5150.0), (9975.0, 4850.0), (9875.0, 4850.0), (9775.0, 4850.0), (9775.0, 4650.0), (9875.0, 4650.0), (9975.0, 4650.0), (9975.0, 4350.0), (9875.0, 4350.0), (9775.0, 4350.0), (9775.0, 4150.0), (9875.0, 4150.0), (9975.0, 4150.0), (9975.0, 3850.0), (9875.0, 3850.0), (9775.0, 3850.0), (9975.0, 3650.0), (9875.0, 3650.0), (9775.0, 3650.0), (9775.0, 3350.0), (9875.0, 3350.0), (9975.0, 3350.0), (9775.0, 3200.0), (10225.0, 3200.0), (10025.0, 3200.0), (10075.0, 3350.0), (10175.0, 3350.0), (10175.0, 3650.0), (10075.0, 3650.0), (10175.0, 3850.0), (10075.0, 3850.0), (10075.0, 4150.0), (10175.0, 4150.0), (10175.0, 4350.0), (10075.0, 4350.0), (10075.0, 4650.0), (10175.0, 4650.0), (10175.0, 4850.0), (10075.0, 4850.0), (10075.0, 5150.0), (10175.0, 5150.0), (10075.0, 5350.0), (10175.0, 5350.0), (10175.0, 5650.0), (10075.0, 5650.0), (10075.0, 5850.0), (10175.0, 5850.0), (10175.0, 6150.0), (10075.0, 6150.0), (10075.0, 7600.0), (10075.0, 8300.0), (10175.0, 8300.0), (10175.0, 8600.0), (10075.0, 8600.0), (10075.0, 8750.0), (10425.0, 8850.0), (10375.0, 8600.0), (10275.0, 8600.0), (10275.0, 8300.0), (10375.0, 8300.0), (10375.0, 6150.0), (10275.0, 6150.0), (10275.0, 5850.0), (10375.0, 5850.0), (10375.0, 5650.0), (10275.0, 5650.0), (10275.0, 5350.0), (10375.0, 5350.0), (10275.0, 5150.0), (10375.0, 5150.0), (10375.0, 4850.0), (10275.0, 4850.0), (10275.0, 4650.0), (10375.0, 4650.0), (10375.0, 4350.0), (10275.0, 4350.0), (10275.0, 4150.0), (10375.0, 4150.0), (10375.0, 3850.0), (10275.0, 3850.0), (10375.0, 3650.0), (10275.0, 3650.0), (10275.0, 3350.0), (10375.0, 3350.0), (11125.0, 3750.0), (11125.0, 3900.0), (11125.0, 4050.0), (11025.0, 6100.0)]\n",
      "Calculado :True\n",
      "\n",
      "ERROR: Could not find file C:\\Users\\Luiz\\AppData\\Local\\Temp\\ipykernel_10012\\2576218384.py\n"
     ]
    },
    {
     "name": "stderr",
     "output_type": "stream",
     "text": [
      "C:\\Users\\Luiz\\AppData\\Local\\Temp\\ipykernel_10012\\2576218384.py:64: FutureWarning: The frame.append method is deprecated and will be removed from pandas in a future version. Use pandas.concat instead.\n",
      "  dataframe = dataframe.append(nova_linha, ignore_index=True)\n"
     ]
    },
    {
     "name": "stdout",
     "output_type": "stream",
     "text": [
      "Nome do Arquivo: a280\n",
      "Algoritmo : <function twice_around_the_tree at 0x00000175464D33A0>\n",
      "Tempo : 1.686415672302246\n",
      "Memória Gasta: 174.09375 MB\n",
      "Taxa de Aproximação: 1.4627130698326192\n",
      "Rota :[1, 280, 2, 3, 279, 4, 277, 276, 6, 5, 7, 8, 9, 10, 11, 12, 13, 14, 15, 275, 274, 273, 272, 271, 16, 17, 18, 133, 132, 19, 20, 21, 128, 127, 126, 125, 30, 31, 29, 28, 27, 26, 22, 25, 23, 24, 32, 33, 34, 124, 123, 122, 121, 120, 119, 157, 158, 159, 160, 175, 161, 162, 163, 164, 165, 166, 167, 168, 169, 102, 101, 100, 99, 103, 104, 105, 106, 107, 173, 174, 108, 110, 111, 112, 88, 114, 113, 87, 84, 83, 82, 81, 80, 79, 89, 109, 90, 91, 92, 93, 94, 95, 96, 97, 98, 85, 65, 64, 66, 67, 70, 69, 68, 71, 72, 73, 74, 75, 76, 77, 78, 115, 116, 86, 117, 118, 61, 60, 43, 42, 41, 40, 39, 38, 37, 36, 35, 62, 63, 59, 44, 57, 56, 45, 55, 46, 54, 53, 48, 47, 52, 51, 50, 49, 58, 170, 171, 172, 129, 154, 155, 153, 156, 152, 151, 177, 176, 181, 180, 179, 182, 183, 184, 185, 187, 186, 189, 188, 190, 191, 192, 178, 130, 131, 134, 135, 136, 137, 138, 139, 148, 141, 140, 266, 265, 264, 263, 262, 261, 260, 259, 258, 257, 254, 255, 252, 209, 210, 211, 212, 207, 208, 206, 205, 204, 203, 253, 213, 214, 216, 215, 217, 218, 219, 222, 221, 223, 224, 225, 226, 227, 228, 229, 230, 251, 250, 247, 245, 240, 241, 244, 243, 242, 246, 231, 232, 233, 236, 235, 234, 237, 238, 239, 249, 248, 220, 256, 147, 142, 143, 144, 200, 201, 196, 195, 194, 193, 197, 198, 202, 146, 145, 199, 149, 150, 267, 268, 269, 270, 278, 1]\n",
      "Vertices :[(288.0, 149.0), (288.0, 129.0), (270.0, 133.0), (256.0, 141.0), (256.0, 157.0), (246.0, 157.0), (236.0, 169.0), (228.0, 169.0), (228.0, 161.0), (220.0, 169.0), (212.0, 169.0), (204.0, 169.0), (196.0, 169.0), (188.0, 169.0), (196.0, 161.0), (188.0, 145.0), (172.0, 145.0), (164.0, 145.0), (156.0, 145.0), (148.0, 145.0), (140.0, 145.0), (148.0, 169.0), (164.0, 169.0), (172.0, 169.0), (156.0, 169.0), (140.0, 169.0), (132.0, 169.0), (124.0, 169.0), (116.0, 161.0), (104.0, 153.0), (104.0, 161.0), (104.0, 169.0), (90.0, 165.0), (80.0, 157.0), (64.0, 157.0), (64.0, 165.0), (56.0, 169.0), (56.0, 161.0), (56.0, 153.0), (56.0, 145.0), (56.0, 137.0), (56.0, 129.0), (56.0, 121.0), (40.0, 121.0), (40.0, 129.0), (40.0, 137.0), (40.0, 145.0), (40.0, 153.0), (40.0, 161.0), (40.0, 169.0), (32.0, 169.0), (32.0, 161.0), (32.0, 153.0), (32.0, 145.0), (32.0, 137.0), (32.0, 129.0), (32.0, 121.0), (32.0, 113.0), (40.0, 113.0), (56.0, 113.0), (56.0, 105.0), (48.0, 99.0), (40.0, 99.0), (32.0, 97.0), (32.0, 89.0), (24.0, 89.0), (16.0, 97.0), (16.0, 109.0), (8.0, 109.0), (8.0, 97.0), (8.0, 89.0), (8.0, 81.0), (8.0, 73.0), (8.0, 65.0), (8.0, 57.0), (16.0, 57.0), (8.0, 49.0), (8.0, 41.0), (24.0, 45.0), (32.0, 41.0), (32.0, 49.0), (32.0, 57.0), (32.0, 65.0), (32.0, 73.0), (32.0, 81.0), (40.0, 83.0), (40.0, 73.0), (40.0, 63.0), (40.0, 51.0), (44.0, 43.0), (44.0, 35.0), (44.0, 27.0), (32.0, 25.0), (24.0, 25.0), (16.0, 25.0), (16.0, 17.0), (24.0, 17.0), (32.0, 17.0), (44.0, 11.0), (56.0, 9.0), (56.0, 17.0), (56.0, 25.0), (56.0, 33.0), (56.0, 41.0), (64.0, 41.0), (72.0, 41.0), (72.0, 49.0), (56.0, 49.0), (48.0, 51.0), (56.0, 57.0), (56.0, 65.0), (48.0, 63.0), (48.0, 73.0), (56.0, 73.0), (56.0, 81.0), (48.0, 83.0), (56.0, 89.0), (56.0, 97.0), (104.0, 97.0), (104.0, 105.0), (104.0, 113.0), (104.0, 121.0), (104.0, 129.0), (104.0, 137.0), (104.0, 145.0), (116.0, 145.0), (124.0, 145.0), (132.0, 145.0), (132.0, 137.0), (140.0, 137.0), (148.0, 137.0), (156.0, 137.0), (164.0, 137.0), (172.0, 125.0), (172.0, 117.0), (172.0, 109.0), (172.0, 101.0), (172.0, 93.0), (172.0, 85.0), (180.0, 85.0), (180.0, 77.0), (180.0, 69.0), (180.0, 61.0), (180.0, 53.0), (172.0, 53.0), (172.0, 61.0), (172.0, 69.0), (172.0, 77.0), (164.0, 81.0), (148.0, 85.0), (124.0, 85.0), (124.0, 93.0), (124.0, 109.0), (124.0, 125.0), (124.0, 117.0), (124.0, 101.0), (104.0, 89.0), (104.0, 81.0), (104.0, 73.0), (104.0, 65.0), (104.0, 49.0), (104.0, 41.0), (104.0, 33.0), (104.0, 25.0), (104.0, 17.0), (92.0, 9.0), (80.0, 9.0), (72.0, 9.0), (64.0, 21.0), (72.0, 25.0), (80.0, 25.0), (80.0, 25.0), (80.0, 41.0), (88.0, 49.0), (104.0, 57.0), (124.0, 69.0), (124.0, 77.0), (132.0, 81.0), (140.0, 65.0), (132.0, 61.0), (124.0, 61.0), (124.0, 53.0), (124.0, 45.0), (124.0, 37.0), (124.0, 29.0), (132.0, 21.0), (124.0, 21.0), (120.0, 9.0), (128.0, 9.0), (136.0, 9.0), (148.0, 9.0), (162.0, 9.0), (156.0, 25.0), (172.0, 21.0), (180.0, 21.0), (180.0, 29.0), (172.0, 29.0), (172.0, 37.0), (172.0, 45.0), (180.0, 45.0), (180.0, 37.0), (188.0, 41.0), (196.0, 49.0), (204.0, 57.0), (212.0, 65.0), (220.0, 73.0), (228.0, 69.0), (228.0, 77.0), (236.0, 77.0), (236.0, 69.0), (236.0, 61.0), (228.0, 61.0), (228.0, 53.0), (236.0, 53.0), (236.0, 45.0), (228.0, 45.0), (228.0, 37.0), (236.0, 37.0), (236.0, 29.0), (228.0, 29.0), (228.0, 21.0), (236.0, 21.0), (252.0, 21.0), (260.0, 29.0), (260.0, 37.0), (260.0, 45.0), (260.0, 53.0), (260.0, 61.0), (260.0, 69.0), (260.0, 77.0), (276.0, 77.0), (276.0, 69.0), (276.0, 61.0), (276.0, 53.0), (284.0, 53.0), (284.0, 61.0), (284.0, 69.0), (284.0, 77.0), (284.0, 85.0), (284.0, 93.0), (284.0, 101.0), (288.0, 109.0), (280.0, 109.0), (276.0, 101.0), (276.0, 93.0), (276.0, 85.0), (268.0, 97.0), (260.0, 109.0), (252.0, 101.0), (260.0, 93.0), (260.0, 85.0), (236.0, 85.0), (228.0, 85.0), (228.0, 93.0), (236.0, 93.0), (236.0, 101.0), (228.0, 101.0), (228.0, 109.0), (228.0, 117.0), (228.0, 125.0), (220.0, 125.0), (212.0, 117.0), (204.0, 109.0), (196.0, 101.0), (188.0, 93.0), (180.0, 93.0), (180.0, 101.0), (180.0, 109.0), (180.0, 117.0), (180.0, 125.0), (196.0, 145.0), (204.0, 145.0), (212.0, 145.0), (220.0, 145.0), (228.0, 145.0), (236.0, 145.0), (246.0, 141.0), (252.0, 125.0), (260.0, 129.0), (280.0, 133.0)]\n",
      "Calculado :True\n",
      "\n",
      "ERROR: Could not find file C:\\Users\\Luiz\\AppData\\Local\\Temp\\ipykernel_10012\\2576218384.py\n"
     ]
    },
    {
     "name": "stderr",
     "output_type": "stream",
     "text": [
      "C:\\Users\\Luiz\\AppData\\Local\\Temp\\ipykernel_10012\\2576218384.py:64: FutureWarning: The frame.append method is deprecated and will be removed from pandas in a future version. Use pandas.concat instead.\n",
      "  dataframe = dataframe.append(nova_linha, ignore_index=True)\n"
     ]
    },
    {
     "name": "stdout",
     "output_type": "stream",
     "text": [
      "Nome do Arquivo: pr299\n",
      "Algoritmo : <function twice_around_the_tree at 0x00000175464D33A0>\n",
      "Tempo : 2.062094211578369\n",
      "Memória Gasta: 180.71875 MB\n",
      "Taxa de Aproximação: 1.3808637770637335\n",
      "Rota :[1, 4, 3, 2, 6, 5, 7, 92, 93, 144, 146, 145, 148, 147, 149, 154, 153, 152, 151, 150, 155, 156, 214, 215, 293, 292, 290, 291, 289, 288, 287, 217, 216, 218, 212, 213, 222, 209, 210, 208, 207, 204, 205, 206, 223, 224, 226, 225, 280, 283, 282, 281, 278, 279, 276, 277, 232, 233, 230, 231, 229, 203, 228, 200, 199, 201, 166, 165, 131, 130, 104, 129, 132, 103, 133, 135, 134, 136, 137, 138, 163, 162, 164, 202, 275, 284, 285, 219, 286, 227, 299, 220, 211, 160, 159, 158, 157, 161, 140, 139, 97, 96, 94, 86, 85, 91, 89, 90, 88, 14, 13, 12, 11, 10, 9, 8, 95, 87, 98, 99, 84, 81, 82, 79, 22, 23, 21, 18, 19, 17, 16, 15, 20, 24, 25, 26, 27, 28, 29, 80, 75, 77, 72, 73, 74, 71, 69, 67, 68, 66, 33, 32, 35, 36, 38, 37, 42, 40, 41, 43, 45, 46, 44, 47, 48, 49, 50, 51, 52, 53, 57, 39, 60, 58, 112, 113, 111, 123, 127, 126, 125, 121, 122, 120, 118, 119, 117, 115, 116, 55, 56, 54, 114, 124, 177, 175, 176, 178, 187, 189, 179, 171, 172, 174, 128, 169, 170, 195, 191, 192, 194, 196, 193, 247, 246, 245, 244, 249, 248, 268, 267, 265, 264, 262, 266, 263, 261, 255, 252, 253, 260, 254, 256, 185, 184, 183, 182, 181, 180, 186, 259, 258, 257, 251, 250, 188, 242, 243, 239, 240, 241, 237, 238, 236, 272, 273, 274, 235, 234, 198, 197, 167, 168, 269, 270, 271, 173, 190, 59, 61, 110, 108, 106, 109, 34, 31, 30, 63, 64, 65, 62, 107, 105, 70, 76, 78, 102, 83, 100, 101, 141, 142, 143, 221, 295, 294, 297, 296, 298, 1]\n",
      "Vertices :[(2156.0, 1639.0), (2456.0, 1639.0), (2355.0, 1640.0), (2256.0, 1640.0), (2656.0, 1640.0), (2556.0, 1639.0), (2975.0, 1725.0), (3275.0, 1600.0), (3375.0, 1600.0), (3475.0, 1600.0), (3575.0, 1600.0), (3700.0, 1600.0), (3900.0, 1625.0), (3875.0, 1775.0), (4275.0, 1625.0), (4275.0, 1725.0), (4375.0, 1675.0), (4500.0, 1675.0), (4450.0, 1750.0), (4550.0, 1750.0), (4560.0, 1565.0), (4775.0, 1725.0), (4710.0, 1565.0), (4860.0, 1565.0), (5010.0, 1565.0), (5160.0, 1565.0), (5310.0, 1565.0), (5460.0, 1565.0), (5610.0, 1565.0), (6375.0, 1575.0), (6525.0, 1575.0), (6675.0, 1575.0), (6675.0, 1725.0), (6525.0, 1725.0), (6875.0, 1575.0), (7075.0, 1575.0), (7260.0, 1575.0), (7259.0, 1576.0), (7625.0, 1775.0), (7410.0, 1575.0), (7560.0, 1575.0), (7409.0, 1576.0), (7560.0, 1576.0), (7825.0, 1675.0), (7710.0, 1575.0), (7711.0, 1575.0), (7875.0, 1575.0), (7975.0, 1575.0), (8075.0, 1575.0), (8175.0, 1575.0), (8275.0, 1575.0), (8375.0, 1575.0), (8475.0, 1575.0), (8825.0, 1625.0), (8820.0, 1928.0), (8825.0, 1825.0), (7725.0, 1825.0), (7725.0, 1975.0), (7475.0, 1975.0), (7625.0, 1925.0), (7575.0, 2075.0), (7075.0, 1975.0), (6825.0, 1925.0), (6775.0, 2075.0), (6975.0, 2075.0), (6675.0, 1925.0), (6200.0, 1975.0), (6425.0, 2075.0), (6000.0, 1975.0), (6025.0, 2075.0), (5675.0, 1825.0), (5275.0, 1825.0), (5425.0, 1825.0), (5525.0, 1825.0), (5025.0, 1825.0), (4975.0, 2025.0), (5075.0, 1925.0), (5075.0, 2075.0), (4775.0, 1875.0), (4925.0, 1925.0), (4675.0, 1950.0), (4775.0, 1975.0), (4425.0, 2050.0), (4525.0, 2050.0), (4175.0, 1950.0), (4125.0, 2050.0), (4275.0, 2050.0), (3875.0, 1900.0), (3875.0, 2075.0), (3975.0, 1975.0), (3975.0, 2075.0), (2925.0, 1875.0), (2925.0, 2150.0), (4175.0, 2150.0), (4325.0, 2150.0), (4275.0, 2225.0), (4275.0, 2325.0), (4425.0, 2150.0), (4525.0, 2150.0), (4600.0, 2225.0), (4600.0, 2325.0), (4775.0, 2125.0), (5175.0, 2325.0), (5450.0, 2375.0), (6775.0, 2225.0), (7275.0, 2275.0), (7075.0, 2175.0), (7425.0, 2325.0), (7525.0, 2375.0), (7475.0, 2175.0), (7775.0, 2350.0), (7825.0, 2175.0), (7875.0, 2350.0), (8825.0, 2225.0), (8725.0, 2375.0), (8703.0, 2197.0), (8825.0, 2425.0), (8575.0, 2450.0), (8725.0, 2525.0), (8625.0, 2600.0), (8375.0, 2600.0), (8475.0, 2600.0), (7975.0, 2475.0), (8225.0, 2500.0), (8225.0, 2600.0), (8125.0, 2575.0), (7975.0, 2625.0), (7750.0, 2650.0), (5350.0, 2400.0), (5450.0, 2525.0), (5450.0, 2675.0), (5250.0, 2400.0), (5175.0, 2475.0), (5175.0, 2675.0), (5075.0, 2575.0), (4975.0, 2525.0), (5025.0, 2675.0), (4875.0, 2675.0), (4175.0, 2425.0), (4175.0, 2625.0), (3925.0, 2450.0), (3725.0, 2450.0), (3325.0, 2450.0), (2925.0, 2425.0), (2575.0, 2525.0), (2675.0, 2525.0), (2275.0, 2525.0), (2375.0, 2525.0), (2175.0, 2525.0), (2148.0, 2786.0), (2249.0, 2786.0), (2352.0, 2786.0), (2451.0, 2785.0), (2552.0, 2785.0), (2651.0, 2787.0), (2925.0, 2925.0), (3325.0, 2900.0), (3725.0, 2900.0), (3925.0, 2900.0), (4175.0, 2925.0), (4175.0, 2725.0), (4975.0, 2825.0), (5075.0, 2775.0), (5175.0, 2875.0), (5450.0, 2825.0), (5450.0, 2925.0), (6125.0, 2875.0), (6025.0, 2875.0), (7575.0, 2875.0), (7425.0, 2875.0), (7925.0, 2875.0), (7875.0, 2775.0), (7825.0, 2925.0), (7750.0, 2800.0), (8125.0, 2775.0), (8075.0, 2875.0), (8025.0, 2775.0), (8125.0, 2975.0), (7975.0, 2975.0), (8775.0, 2825.0), (8775.0, 2925.0), (8775.0, 3025.0), (8775.0, 3125.0), (8775.0, 3275.0), (8625.0, 3225.0), (8525.0, 3225.0), (8075.0, 3075.0), (7975.0, 3275.0), (7975.0, 3075.0), (7825.0, 3125.0), (7575.0, 3075.0), (7600.0, 3175.0), (7425.0, 3275.0), (7425.0, 3125.0), (7425.0, 3025.0), (7325.0, 3225.0), (6125.0, 3025.0), (6025.0, 3175.0), (5375.0, 3250.0), (5275.0, 3250.0), (5450.0, 3025.0), (5175.0, 3150.0), (5075.0, 3275.0), (4525.0, 3200.0), (4575.0, 3125.0), (4575.0, 3025.0), (4425.0, 3200.0), (4325.0, 3200.0), (4175.0, 3200.0), (4275.0, 3125.0), (4275.0, 3025.0), (3975.0, 3275.0), (3875.0, 3275.0), (2925.0, 3198.0), (2925.0, 3475.0), (3925.0, 3475.0), (3825.0, 3475.0), (3975.0, 3375.0), (4325.0, 3575.0), (4275.0, 3300.0), (4175.0, 3400.0), (4125.0, 3300.0), (4500.0, 3300.0), (4400.0, 3300.0), (4725.0, 3525.0), (4675.0, 3400.0), (4775.0, 3375.0), (5175.0, 3300.0), (4975.0, 3325.0), (5175.0, 3475.0), (5025.0, 3450.0), (5375.0, 3525.0), (5275.0, 3525.0), (6050.0, 3375.0), (5908.0, 3574.0), (6450.0, 3375.0), (6675.0, 3325.0), (6575.0, 3525.0), (6975.0, 3525.0), (6875.0, 3325.0), (6775.0, 3425.0), (7150.0, 3325.0), (7150.0, 3475.0), (7625.0, 3525.0), (7575.0, 3425.0), (7475.0, 3525.0), (7425.0, 3425.0), (7825.0, 3525.0), (7725.0, 3525.0), (7825.0, 3375.0), (7725.0, 3375.0), (8225.0, 3425.0), (8225.0, 3325.0), (8475.0, 3525.0), (8325.0, 3525.0), (8575.0, 3325.0), (8775.0, 3700.0), (8675.0, 3800.0), (8575.0, 3700.0), (8425.0, 3625.0), (8325.0, 3625.0), (8375.0, 3775.0), (8175.0, 3625.0), (8225.0, 3775.0), (8075.0, 3775.0), (8075.0, 3675.0), (7925.0, 3775.0), (7875.0, 3675.0), (7075.0, 3675.0), (7150.0, 3750.0), (6975.0, 3725.0), (6575.0, 3750.0), (6375.0, 3750.0), (5975.0, 3750.0), (5325.0, 3775.0), (5275.0, 3675.0), (5375.0, 3675.0), (5075.0, 3800.0), (5204.0, 3772.0), (4675.0, 3675.0), (4925.0, 3800.0), (4925.0, 3675.0), (4775.0, 3675.0), (4575.0, 3675.0), (4425.0, 3675.0), (4325.0, 3725.0), (3825.0, 3650.0), (3625.0, 3750.0), (3475.0, 3750.0), (3225.0, 3750.0), (3325.0, 3750.0), (3125.0, 3725.0), (2925.0, 3725.0), (2575.0, 3675.0), (2675.0, 3675.0), (2275.0, 3675.0), (2375.0, 3675.0), (2175.0, 3675.0), (4775.0, 3225.0)]\n",
      "Calculado :True\n",
      "\n",
      "ERROR: Could not find file C:\\Users\\Luiz\\AppData\\Local\\Temp\\ipykernel_10012\\2576218384.py\n"
     ]
    },
    {
     "name": "stderr",
     "output_type": "stream",
     "text": [
      "C:\\Users\\Luiz\\AppData\\Local\\Temp\\ipykernel_10012\\2576218384.py:64: FutureWarning: The frame.append method is deprecated and will be removed from pandas in a future version. Use pandas.concat instead.\n",
      "  dataframe = dataframe.append(nova_linha, ignore_index=True)\n"
     ]
    },
    {
     "name": "stdout",
     "output_type": "stream",
     "text": [
      "Nome do Arquivo: lin318\n",
      "Algoritmo : <function twice_around_the_tree at 0x00000175464D33A0>\n",
      "Tempo : 2.481248617172241\n",
      "Memória Gasta: 177.95703125 MB\n",
      "Taxa de Aproximação: 1.3895322233963057\n",
      "Rota :[1, 2, 3, 8, 9, 6, 7, 10, 11, 15, 103, 20, 12, 23, 28, 27, 24, 19, 16, 18, 17, 25, 26, 36, 37, 42, 43, 41, 44, 47, 48, 45, 40, 104, 49, 316, 317, 50, 55, 56, 59, 105, 62, 63, 61, 60, 164, 161, 160, 155, 153, 150, 145, 38, 35, 34, 137, 136, 135, 134, 127, 126, 208, 120, 116, 13, 14, 115, 112, 111, 4, 5, 107, 106, 108, 113, 114, 110, 109, 216, 212, 211, 213, 218, 219, 215, 214, 223, 224, 244, 245, 248, 249, 217, 220, 221, 118, 119, 225, 313, 230, 222, 233, 238, 237, 234, 229, 226, 228, 227, 235, 236, 246, 247, 243, 231, 232, 239, 240, 241, 242, 139, 140, 143, 144, 250, 255, 258, 259, 260, 265, 264, 261, 257, 254, 251, 253, 252, 256, 262, 263, 268, 267, 266, 269, 165, 166, 170, 171, 281, 278, 277, 274, 288, 292, 293, 294, 289, 287, 282, 286, 283, 279, 284, 280, 276, 275, 271, 270, 318, 297, 298, 304, 305, 310, 285, 291, 299, 300, 290, 296, 295, 192, 193, 301, 302, 199, 200, 303, 308, 309, 306, 307, 311, 205, 312, 315, 272, 273, 314, 125, 117, 128, 133, 132, 129, 124, 121, 123, 122, 130, 131, 141, 142, 138, 39, 209, 154, 156, 152, 149, 146, 148, 147, 151, 157, 158, 163, 159, 162, 210, 167, 168, 65, 66, 176, 173, 172, 169, 183, 187, 188, 189, 184, 182, 177, 178, 174, 179, 175, 180, 186, 194, 195, 181, 185, 191, 190, 87, 88, 196, 197, 94, 95, 198, 203, 204, 201, 202, 206, 100, 207, 69, 73, 76, 77, 72, 79, 84, 83, 82, 78, 71, 68, 67, 64, 85, 91, 92, 93, 98, 99, 96, 97, 101, 102, 86, 80, 74, 70, 75, 81, 89, 90, 51, 54, 57, 46, 52, 53, 58, 33, 21, 22, 29, 30, 31, 32, 1]\n",
      "Vertices :[(63.0, 71.0), (94.0, 71.0), (142.0, 370.0), (173.0, 1276.0), (205.0, 1213.0), (213.0, 69.0), (244.0, 69.0), (276.0, 630.0), (283.0, 732.0), (362.0, 69.0), (394.0, 69.0), (449.0, 370.0), (480.0, 1276.0), (512.0, 1213.0), (528.0, 157.0), (583.0, 630.0), (591.0, 732.0), (638.0, 654.0), (638.0, 496.0), (638.0, 314.0), (638.0, 142.0), (669.0, 142.0), (677.0, 315.0), (677.0, 496.0), (677.0, 654.0), (709.0, 654.0), (709.0, 496.0), (709.0, 315.0), (701.0, 142.0), (764.0, 220.0), (811.0, 189.0), (843.0, 173.0), (858.0, 370.0), (890.0, 1276.0), (921.0, 1213.0), (992.0, 630.0), (1000.0, 732.0), (1197.0, 1276.0), (1228.0, 1213.0), (1276.0, 205.0), (1299.0, 630.0), (1307.0, 732.0), (1362.0, 654.0), (1362.0, 496.0), (1362.0, 291.0), (1425.0, 654.0), (1425.0, 496.0), (1425.0, 291.0), (1417.0, 173.0), (1488.0, 291.0), (1488.0, 496.0), (1488.0, 654.0), (1551.0, 654.0), (1551.0, 496.0), (1551.0, 291.0), (1614.0, 291.0), (1614.0, 496.0), (1614.0, 654.0), (1732.0, 189.0), (1811.0, 1276.0), (1843.0, 1213.0), (1913.0, 630.0), (1921.0, 732.0), (2087.0, 370.0), (2118.0, 1276.0), (2150.0, 1213.0), (2189.0, 205.0), (2220.0, 189.0), (2220.0, 630.0), (2228.0, 732.0), (2244.0, 142.0), (2276.0, 315.0), (2276.0, 496.0), (2276.0, 654.0), (2315.0, 654.0), (2315.0, 496.0), (2315.0, 315.0), (2331.0, 142.0), (2346.0, 315.0), (2346.0, 496.0), (2346.0, 654.0), (2362.0, 142.0), (2402.0, 157.0), (2402.0, 220.0), (2480.0, 142.0), (2496.0, 370.0), (2528.0, 1276.0), (2559.0, 1213.0), (2630.0, 630.0), (2638.0, 732.0), (2756.0, 69.0), (2787.0, 69.0), (2803.0, 370.0), (2835.0, 1276.0), (2866.0, 1213.0), (2906.0, 69.0), (2937.0, 69.0), (2937.0, 630.0), (2945.0, 732.0), (3016.0, 1276.0), (3055.0, 69.0), (3087.0, 69.0), (606.0, 220.0), (1165.0, 370.0), (1780.0, 370.0), (63.0, 1402.0), (94.0, 1402.0), (142.0, 1701.0), (173.0, 2607.0), (205.0, 2544.0), (213.0, 1400.0), (244.0, 1400.0), (276.0, 1961.0), (283.0, 2063.0), (362.0, 1400.0), (394.0, 1400.0), (449.0, 1701.0), (480.0, 2607.0), (512.0, 2544.0), (528.0, 1488.0), (583.0, 1961.0), (591.0, 2063.0), (638.0, 1985.0), (638.0, 1827.0), (638.0, 1645.0), (638.0, 1473.0), (669.0, 1473.0), (677.0, 1646.0), (677.0, 1827.0), (677.0, 1985.0), (709.0, 1985.0), (709.0, 1827.0), (709.0, 1646.0), (701.0, 1473.0), (764.0, 1551.0), (811.0, 1520.0), (843.0, 1504.0), (858.0, 1701.0), (890.0, 2607.0), (921.0, 2544.0), (992.0, 1961.0), (1000.0, 2063.0), (1197.0, 2607.0), (1228.0, 2544.0), (1276.0, 1536.0), (1299.0, 1961.0), (1307.0, 2063.0), (1362.0, 1985.0), (1362.0, 1827.0), (1362.0, 1622.0), (1425.0, 1985.0), (1425.0, 1827.0), (1425.0, 1622.0), (1417.0, 1504.0), (1488.0, 1622.0), (1488.0, 1827.0), (1488.0, 1985.0), (1551.0, 1985.0), (1551.0, 1827.0), (1551.0, 1622.0), (1614.0, 1622.0), (1614.0, 1827.0), (1614.0, 1985.0), (1732.0, 1520.0), (1811.0, 2607.0), (1843.0, 2544.0), (1913.0, 1961.0), (1921.0, 2063.0), (2087.0, 1701.0), (2118.0, 2607.0), (2150.0, 2544.0), (2189.0, 1536.0), (2220.0, 1520.0), (2220.0, 1961.0), (2228.0, 2063.0), (2244.0, 1473.0), (2276.0, 1646.0), (2276.0, 1827.0), (2276.0, 1985.0), (2315.0, 1985.0), (2315.0, 1827.0), (2315.0, 1646.0), (2331.0, 1473.0), (2346.0, 1646.0), (2346.0, 1827.0), (2346.0, 1985.0), (2362.0, 1473.0), (2402.0, 1488.0), (2402.0, 1551.0), (2480.0, 1473.0), (2496.0, 1701.0), (2528.0, 2607.0), (2559.0, 2544.0), (2630.0, 1961.0), (2638.0, 2063.0), (2756.0, 1400.0), (2787.0, 1400.0), (2803.0, 1701.0), (2835.0, 2607.0), (2866.0, 2544.0), (2906.0, 1400.0), (2937.0, 1400.0), (2937.0, 1961.0), (2945.0, 2063.0), (3016.0, 2607.0), (3055.0, 1400.0), (3087.0, 1400.0), (606.0, 1551.0), (1165.0, 1701.0), (1780.0, 1701.0), (63.0, 2733.0), (94.0, 2733.0), (142.0, 3032.0), (173.0, 3938.0), (205.0, 3875.0), (213.0, 2731.0), (244.0, 2731.0), (276.0, 3292.0), (283.0, 3394.0), (362.0, 2731.0), (394.0, 2731.0), (449.0, 3032.0), (480.0, 3938.0), (512.0, 3875.0), (528.0, 2819.0), (583.0, 3292.0), (591.0, 3394.0), (638.0, 3316.0), (638.0, 3158.0), (638.0, 2976.0), (638.0, 2804.0), (669.0, 2804.0), (677.0, 2977.0), (677.0, 3158.0), (677.0, 3316.0), (709.0, 3316.0), (709.0, 3158.0), (709.0, 2977.0), (701.0, 2804.0), (764.0, 2882.0), (811.0, 2851.0), (843.0, 2835.0), (858.0, 3032.0), (890.0, 3938.0), (921.0, 3875.0), (992.0, 3292.0), (1000.0, 3394.0), (1197.0, 3938.0), (1228.0, 3875.0), (1276.0, 2867.0), (1299.0, 3292.0), (1307.0, 3394.0), (1362.0, 3316.0), (1362.0, 3158.0), (1362.0, 2953.0), (1425.0, 3316.0), (1425.0, 3158.0), (1425.0, 2953.0), (1417.0, 2835.0), (1488.0, 2953.0), (1488.0, 3158.0), (1488.0, 3316.0), (1551.0, 3316.0), (1551.0, 3158.0), (1551.0, 2953.0), (1614.0, 2953.0), (1614.0, 3158.0), (1614.0, 3316.0), (1732.0, 2851.0), (1811.0, 3938.0), (1843.0, 3875.0), (1913.0, 3292.0), (1921.0, 3394.0), (2087.0, 3032.0), (2118.0, 3938.0), (2150.0, 3875.0), (2189.0, 2867.0), (2220.0, 2851.0), (2220.0, 3292.0), (2228.0, 3394.0), (2244.0, 2804.0), (2276.0, 2977.0), (2276.0, 3158.0), (2276.0, 3316.0), (2315.0, 3316.0), (2315.0, 3158.0), (2315.0, 2977.0), (2331.0, 2804.0), (2346.0, 2977.0), (2346.0, 3158.0), (2346.0, 3316.0), (2362.0, 2804.0), (2402.0, 2819.0), (2402.0, 2882.0), (2480.0, 2804.0), (2496.0, 3032.0), (2528.0, 3938.0), (2559.0, 3875.0), (2630.0, 3292.0), (2638.0, 3394.0), (2756.0, 2731.0), (2787.0, 2731.0), (2803.0, 3032.0), (2835.0, 3938.0), (2866.0, 3875.0), (2906.0, 2731.0), (2937.0, 2731.0), (2937.0, 3292.0), (2945.0, 3394.0), (3016.0, 3938.0), (3055.0, 2731.0), (3087.0, 2731.0), (606.0, 2882.0), (1165.0, 3032.0), (1780.0, 3032.0), (1417.0, -79.0), (1496.0, -79.0), (1693.0, 4055.0)]\n",
      "Calculado :True\n",
      "\n",
      "ERROR: Could not find file C:\\Users\\Luiz\\AppData\\Local\\Temp\\ipykernel_10012\\2576218384.py\n"
     ]
    },
    {
     "name": "stderr",
     "output_type": "stream",
     "text": [
      "C:\\Users\\Luiz\\AppData\\Local\\Temp\\ipykernel_10012\\2576218384.py:64: FutureWarning: The frame.append method is deprecated and will be removed from pandas in a future version. Use pandas.concat instead.\n",
      "  dataframe = dataframe.append(nova_linha, ignore_index=True)\n"
     ]
    },
    {
     "name": "stdout",
     "output_type": "stream",
     "text": [
      "Nome do Arquivo: linhp318\n",
      "Algoritmo : <function twice_around_the_tree at 0x00000175464D33A0>\n",
      "Tempo : 3.561830520629883\n",
      "Memória Gasta: 179.3125 MB\n",
      "Taxa de Aproximação: 1.4125202519560607\n",
      "Rota :[1, 2, 3, 8, 9, 6, 7, 10, 11, 15, 103, 20, 12, 23, 28, 27, 24, 19, 16, 18, 17, 25, 26, 36, 37, 42, 43, 41, 44, 47, 48, 45, 40, 104, 49, 316, 317, 50, 55, 56, 59, 105, 62, 63, 61, 60, 164, 161, 160, 155, 153, 150, 145, 38, 35, 34, 137, 136, 135, 134, 127, 126, 208, 120, 116, 13, 14, 115, 112, 111, 4, 5, 107, 106, 108, 113, 114, 110, 109, 216, 212, 211, 213, 218, 219, 215, 214, 223, 224, 244, 245, 248, 249, 217, 220, 221, 118, 119, 225, 313, 230, 222, 233, 238, 237, 234, 229, 226, 228, 227, 235, 236, 246, 247, 243, 231, 232, 239, 240, 241, 242, 139, 140, 143, 144, 250, 255, 258, 259, 260, 265, 264, 261, 257, 254, 251, 253, 252, 256, 262, 263, 268, 267, 266, 269, 165, 166, 170, 171, 281, 278, 277, 274, 288, 292, 293, 294, 289, 287, 282, 286, 283, 279, 284, 280, 276, 275, 271, 270, 318, 297, 298, 304, 305, 310, 285, 291, 299, 300, 290, 296, 295, 192, 193, 301, 302, 199, 200, 303, 308, 309, 306, 307, 311, 205, 312, 315, 272, 273, 314, 125, 117, 128, 133, 132, 129, 124, 121, 123, 122, 130, 131, 141, 142, 138, 39, 209, 154, 156, 152, 149, 146, 148, 147, 151, 157, 158, 163, 159, 162, 210, 167, 168, 65, 66, 176, 173, 172, 169, 183, 187, 188, 189, 184, 182, 177, 178, 174, 179, 175, 180, 186, 194, 195, 181, 185, 191, 190, 87, 88, 196, 197, 94, 95, 198, 203, 204, 201, 202, 206, 100, 207, 69, 73, 76, 77, 72, 79, 84, 83, 82, 78, 71, 68, 67, 64, 85, 91, 92, 93, 98, 99, 96, 97, 101, 102, 86, 80, 74, 70, 75, 81, 89, 90, 51, 54, 57, 46, 52, 53, 58, 33, 21, 22, 29, 30, 31, 32, 1]\n",
      "Vertices :[(63.0, 71.0), (94.0, 71.0), (142.0, 370.0), (173.0, 1276.0), (205.0, 1213.0), (213.0, 69.0), (244.0, 69.0), (276.0, 630.0), (283.0, 732.0), (362.0, 69.0), (394.0, 69.0), (449.0, 370.0), (480.0, 1276.0), (512.0, 1213.0), (528.0, 157.0), (583.0, 630.0), (591.0, 732.0), (638.0, 654.0), (638.0, 496.0), (638.0, 314.0), (638.0, 142.0), (669.0, 142.0), (677.0, 315.0), (677.0, 496.0), (677.0, 654.0), (709.0, 654.0), (709.0, 496.0), (709.0, 315.0), (701.0, 142.0), (764.0, 220.0), (811.0, 189.0), (843.0, 173.0), (858.0, 370.0), (890.0, 1276.0), (921.0, 1213.0), (992.0, 630.0), (1000.0, 732.0), (1197.0, 1276.0), (1228.0, 1213.0), (1276.0, 205.0), (1299.0, 630.0), (1307.0, 732.0), (1362.0, 654.0), (1362.0, 496.0), (1362.0, 291.0), (1425.0, 654.0), (1425.0, 496.0), (1425.0, 291.0), (1417.0, 173.0), (1488.0, 291.0), (1488.0, 496.0), (1488.0, 654.0), (1551.0, 654.0), (1551.0, 496.0), (1551.0, 291.0), (1614.0, 291.0), (1614.0, 496.0), (1614.0, 654.0), (1732.0, 189.0), (1811.0, 1276.0), (1843.0, 1213.0), (1913.0, 630.0), (1921.0, 732.0), (2087.0, 370.0), (2118.0, 1276.0), (2150.0, 1213.0), (2189.0, 205.0), (2220.0, 189.0), (2220.0, 630.0), (2228.0, 732.0), (2244.0, 142.0), (2276.0, 315.0), (2276.0, 496.0), (2276.0, 654.0), (2315.0, 654.0), (2315.0, 496.0), (2315.0, 315.0), (2331.0, 142.0), (2346.0, 315.0), (2346.0, 496.0), (2346.0, 654.0), (2362.0, 142.0), (2402.0, 157.0), (2402.0, 220.0), (2480.0, 142.0), (2496.0, 370.0), (2528.0, 1276.0), (2559.0, 1213.0), (2630.0, 630.0), (2638.0, 732.0), (2756.0, 69.0), (2787.0, 69.0), (2803.0, 370.0), (2835.0, 1276.0), (2866.0, 1213.0), (2906.0, 69.0), (2937.0, 69.0), (2937.0, 630.0), (2945.0, 732.0), (3016.0, 1276.0), (3055.0, 69.0), (3087.0, 69.0), (606.0, 220.0), (1165.0, 370.0), (1780.0, 370.0), (63.0, 1402.0), (94.0, 1402.0), (142.0, 1701.0), (173.0, 2607.0), (205.0, 2544.0), (213.0, 1400.0), (244.0, 1400.0), (276.0, 1961.0), (283.0, 2063.0), (362.0, 1400.0), (394.0, 1400.0), (449.0, 1701.0), (480.0, 2607.0), (512.0, 2544.0), (528.0, 1488.0), (583.0, 1961.0), (591.0, 2063.0), (638.0, 1985.0), (638.0, 1827.0), (638.0, 1645.0), (638.0, 1473.0), (669.0, 1473.0), (677.0, 1646.0), (677.0, 1827.0), (677.0, 1985.0), (709.0, 1985.0), (709.0, 1827.0), (709.0, 1646.0), (701.0, 1473.0), (764.0, 1551.0), (811.0, 1520.0), (843.0, 1504.0), (858.0, 1701.0), (890.0, 2607.0), (921.0, 2544.0), (992.0, 1961.0), (1000.0, 2063.0), (1197.0, 2607.0), (1228.0, 2544.0), (1276.0, 1536.0), (1299.0, 1961.0), (1307.0, 2063.0), (1362.0, 1985.0), (1362.0, 1827.0), (1362.0, 1622.0), (1425.0, 1985.0), (1425.0, 1827.0), (1425.0, 1622.0), (1417.0, 1504.0), (1488.0, 1622.0), (1488.0, 1827.0), (1488.0, 1985.0), (1551.0, 1985.0), (1551.0, 1827.0), (1551.0, 1622.0), (1614.0, 1622.0), (1614.0, 1827.0), (1614.0, 1985.0), (1732.0, 1520.0), (1811.0, 2607.0), (1843.0, 2544.0), (1913.0, 1961.0), (1921.0, 2063.0), (2087.0, 1701.0), (2118.0, 2607.0), (2150.0, 2544.0), (2189.0, 1536.0), (2220.0, 1520.0), (2220.0, 1961.0), (2228.0, 2063.0), (2244.0, 1473.0), (2276.0, 1646.0), (2276.0, 1827.0), (2276.0, 1985.0), (2315.0, 1985.0), (2315.0, 1827.0), (2315.0, 1646.0), (2331.0, 1473.0), (2346.0, 1646.0), (2346.0, 1827.0), (2346.0, 1985.0), (2362.0, 1473.0), (2402.0, 1488.0), (2402.0, 1551.0), (2480.0, 1473.0), (2496.0, 1701.0), (2528.0, 2607.0), (2559.0, 2544.0), (2630.0, 1961.0), (2638.0, 2063.0), (2756.0, 1400.0), (2787.0, 1400.0), (2803.0, 1701.0), (2835.0, 2607.0), (2866.0, 2544.0), (2906.0, 1400.0), (2937.0, 1400.0), (2937.0, 1961.0), (2945.0, 2063.0), (3016.0, 2607.0), (3055.0, 1400.0), (3087.0, 1400.0), (606.0, 1551.0), (1165.0, 1701.0), (1780.0, 1701.0), (63.0, 2733.0), (94.0, 2733.0), (142.0, 3032.0), (173.0, 3938.0), (205.0, 3875.0), (213.0, 2731.0), (244.0, 2731.0), (276.0, 3292.0), (283.0, 3394.0), (362.0, 2731.0), (394.0, 2731.0), (449.0, 3032.0), (480.0, 3938.0), (512.0, 3875.0), (528.0, 2819.0), (583.0, 3292.0), (591.0, 3394.0), (638.0, 3316.0), (638.0, 3158.0), (638.0, 2976.0), (638.0, 2804.0), (669.0, 2804.0), (677.0, 2977.0), (677.0, 3158.0), (677.0, 3316.0), (709.0, 3316.0), (709.0, 3158.0), (709.0, 2977.0), (701.0, 2804.0), (764.0, 2882.0), (811.0, 2851.0), (843.0, 2835.0), (858.0, 3032.0), (890.0, 3938.0), (921.0, 3875.0), (992.0, 3292.0), (1000.0, 3394.0), (1197.0, 3938.0), (1228.0, 3875.0), (1276.0, 2867.0), (1299.0, 3292.0), (1307.0, 3394.0), (1362.0, 3316.0), (1362.0, 3158.0), (1362.0, 2953.0), (1425.0, 3316.0), (1425.0, 3158.0), (1425.0, 2953.0), (1417.0, 2835.0), (1488.0, 2953.0), (1488.0, 3158.0), (1488.0, 3316.0), (1551.0, 3316.0), (1551.0, 3158.0), (1551.0, 2953.0), (1614.0, 2953.0), (1614.0, 3158.0), (1614.0, 3316.0), (1732.0, 2851.0), (1811.0, 3938.0), (1843.0, 3875.0), (1913.0, 3292.0), (1921.0, 3394.0), (2087.0, 3032.0), (2118.0, 3938.0), (2150.0, 3875.0), (2189.0, 2867.0), (2220.0, 2851.0), (2220.0, 3292.0), (2228.0, 3394.0), (2244.0, 2804.0), (2276.0, 2977.0), (2276.0, 3158.0), (2276.0, 3316.0), (2315.0, 3316.0), (2315.0, 3158.0), (2315.0, 2977.0), (2331.0, 2804.0), (2346.0, 2977.0), (2346.0, 3158.0), (2346.0, 3316.0), (2362.0, 2804.0), (2402.0, 2819.0), (2402.0, 2882.0), (2480.0, 2804.0), (2496.0, 3032.0), (2528.0, 3938.0), (2559.0, 3875.0), (2630.0, 3292.0), (2638.0, 3394.0), (2756.0, 2731.0), (2787.0, 2731.0), (2803.0, 3032.0), (2835.0, 3938.0), (2866.0, 3875.0), (2906.0, 2731.0), (2937.0, 2731.0), (2937.0, 3292.0), (2945.0, 3394.0), (3016.0, 3938.0), (3055.0, 2731.0), (3087.0, 2731.0), (606.0, 2882.0), (1165.0, 3032.0), (1780.0, 3032.0), (1417.0, -79.0), (1496.0, -79.0), (1693.0, 4055.0)]\n",
      "Calculado :True\n",
      "\n",
      "ERROR: Could not find file C:\\Users\\Luiz\\AppData\\Local\\Temp\\ipykernel_10012\\2576218384.py\n"
     ]
    },
    {
     "name": "stderr",
     "output_type": "stream",
     "text": [
      "C:\\Users\\Luiz\\AppData\\Local\\Temp\\ipykernel_10012\\2576218384.py:64: FutureWarning: The frame.append method is deprecated and will be removed from pandas in a future version. Use pandas.concat instead.\n",
      "  dataframe = dataframe.append(nova_linha, ignore_index=True)\n"
     ]
    },
    {
     "name": "stdout",
     "output_type": "stream",
     "text": [
      "Nome do Arquivo: rd400\n",
      "Algoritmo : <function twice_around_the_tree at 0x00000175464D33A0>\n",
      "Tempo : 6.724264144897461\n",
      "Memória Gasta: 184.859375 MB\n",
      "Taxa de Aproximação: 1.3728307992779079\n",
      "Rota :[1, 4, 169, 45, 161, 34, 286, 258, 237, 347, 178, 214, 285, 202, 216, 336, 117, 186, 17, 67, 205, 357, 155, 236, 263, 238, 51, 165, 232, 90, 383, 102, 261, 225, 162, 313, 349, 79, 375, 121, 229, 175, 145, 181, 44, 38, 239, 55, 168, 40, 109, 264, 112, 380, 246, 352, 133, 249, 128, 8, 335, 91, 149, 338, 193, 399, 319, 259, 315, 114, 392, 287, 244, 88, 185, 127, 71, 41, 343, 153, 340, 243, 187, 312, 87, 278, 348, 356, 389, 331, 200, 25, 29, 197, 369, 95, 53, 398, 163, 174, 381, 84, 65, 366, 359, 156, 159, 85, 308, 190, 252, 211, 234, 395, 54, 400, 289, 199, 77, 284, 317, 173, 13, 19, 24, 240, 98, 288, 384, 298, 164, 268, 306, 89, 282, 129, 26, 328, 167, 120, 247, 222, 115, 304, 39, 295, 309, 256, 201, 9, 203, 275, 273, 56, 137, 339, 157, 300, 307, 158, 130, 311, 251, 113, 142, 62, 329, 254, 345, 60, 362, 32, 59, 224, 245, 363, 100, 11, 350, 101, 396, 320, 68, 253, 48, 124, 23, 191, 206, 35, 271, 184, 36, 119, 154, 72, 279, 323, 123, 47, 276, 397, 76, 69, 30, 15, 21, 301, 316, 118, 196, 107, 160, 64, 151, 6, 58, 49, 342, 213, 230, 346, 379, 136, 391, 42, 341, 7, 344, 110, 327, 293, 148, 358, 92, 367, 22, 66, 147, 290, 371, 215, 20, 368, 166, 274, 82, 270, 386, 99, 104, 143, 334, 303, 310, 370, 291, 231, 170, 218, 27, 126, 12, 43, 376, 131, 321, 63, 297, 318, 248, 355, 105, 171, 294, 194, 33, 324, 61, 235, 94, 241, 81, 70, 364, 134, 172, 188, 140, 74, 219, 97, 217, 182, 233, 18, 305, 365, 394, 50, 83, 296, 152, 180, 204, 192, 210, 267, 333, 150, 138, 46, 86, 183, 372, 283, 325, 302, 177, 144, 198, 78, 322, 277, 351, 374, 292, 208, 220, 75, 37, 378, 28, 269, 250, 223, 388, 262, 125, 10, 189, 146, 242, 31, 353, 52, 14, 141, 260, 80, 228, 226, 281, 5, 255, 266, 135, 93, 3, 207, 361, 16, 393, 373, 330, 387, 195, 314, 390, 116, 332, 132, 272, 212, 73, 382, 377, 337, 280, 176, 221, 111, 326, 106, 227, 257, 108, 96, 103, 179, 57, 354, 360, 299, 385, 139, 2, 122, 209, 265, 1]\n",
      "Vertices :[(435.841, 587.522), (602.539, 801.704), (861.563, 954.019), (444.217, 553.301), (796.042, 796.519), (88.9064, 838.954), (233.569, 850.798), (476.864, 203.976), (406.271, 601.839), (954.573, 785.053), (593.326, 968.644), (946.1, 432.995), (83.0742, 601.487), (861.254, 754.12), (247.619, 698.637), (963.227, 965.824), (125.872, 536.987), (563.237, 20.7366), (55.259, 619.092), (691.414, 576.653), (237.167, 707.298), (583.448, 609.201), (404.171, 942.218), (15.771, 614.642), (20.0806, 62.8968), (196.656, 613.862), (913.249, 428.902), (828.34, 584.111), (49.6047, 40.6059), (271.361, 736.904), (979.153, 716.97), (489.418, 957.946), (817.106, 281.12), (332.771, 466.52), (278.353, 945.623), (168.54, 974.806), (806.139, 537.748), (445.404, 306.86), (306.696, 552.626), (555.492, 359.315), (156.444, 178.995), (140.141, 704.084), (963.235, 442.629), (460.829, 255.503), (385.534, 487.846), (931.464, 198.146), (279.893, 896.021), (331.283, 923.481), (33.5356, 889.86), (511.528, 60.4103), (232.874, 327.742), (870.562, 747.862), (126.307, 27.0835), (25.7158, 384.711), (550.99, 317.71), (421.545, 669.856), (699.395, 641.832), (30.6059, 881.315), (486.626, 987.924), (547.886, 870.165), (764.19, 227.841), (489.34, 885.471), (908.764, 483.318), (195.225, 821.483), (171.854, 111.942), (599.164, 587.5), (132.524, 507.626), (327.208, 868.8), (267.929, 788.352), (792.919, 136.517), (156.993, 187.479), (186.101, 903.489), (745.996, 818.744), (672.67, 141.516), (795.061, 496.701), (298.827, 796.84), (91.6001, 378.018), (917.898, 105.225), (370.272, 274.581), (789.206, 738.168), (800.35, 158.589), (748.357, 537.031), (486.979, 88.5907), (148.737, 95.1072), (231.984, 10.131), (972.905, 220.419), (40.56, 259.589), (192.47, 292.712), (24.0393, 509.808), (316.686, 311.822), (494.944, 163.27), (525.118, 681.256), (835.669, 882.708), (775.205, 181.054), (109.477, 27.3525), (653.011, 671.869), (628.285, 197.058), (1.94865, 712.335), (730.64, 446.995), (580.371, 933.465), (377.453, 863.505), (258.125, 251.372), (659.297, 693.415), (700.979, 439.308), (801.207, 327.664), (755.117, 581.702), (168.354, 774.785), (607.71, 673.196), (569.788, 359.946), (505.772, 795.094), (692.786, 475.055), (615.258, 416.034), (433.068, 854.106), (226.997, 149.199), (326.41, 615.676), (756.359, 997.073), (175.187, 551.629), (207.262, 753.08), (127.313, 986.134), (245.176, 595.849), (368.488, 322.474), (618.453, 808.454), (284.623, 905.817), (347.487, 932.543), (942.046, 733.577), (923.029, 410.17), (153.759, 230.999), (476.331, 253.181), (232.085, 588.069), (439.629, 819.344), (959.404, 382.332), (659.332, 989.174), (475.22, 422.92), (734.709, 76.166), (844.594, 856.238), (10.2508, 829.527), (359.094, 688.825), (901.1, 207.153), (607.208, 778.844), (682.389, 84.7105), (840.931, 757.357), (449.959, 883.516), (725.65, 402.263), (882.698, 149.994), (429.87, 229.253), (980.879, 821.977), (578.122, 545.104), (541.69, 818.375), (509.211, 164.053), (875.589, 251.226), (101.219, 820.45), (485.894, 5.4797), (134.0, 228.874), (167.243, 943.593), (156.372, 445.891), (267.979, 69.0196), (476.475, 711.843), (456.946, 809.262), (217.245, 20.1127), (165.471, 811.813), (381.612, 457.549), (310.765, 220.815), (2.19756, 25.8493), (135.318, 579.262), (257.714, 332.927), (678.108, 546.502), (176.011, 611.721), (560.389, 331.015), (416.783, 521.535), (852.354, 420.312), (850.689, 321.301), (745.771, 57.0821), (104.725, 588.78), (64.3447, 87.0233), (417.205, 194.188), (884.474, 559.131), (868.707, 180.065), (262.003, 425.604), (669.764, 662.314), (420.178, 34.4287), (424.972, 239.973), (615.069, 4.82106), (967.473, 235.618), (180.64, 963.276), (153.897, 253.897), (138.308, 544.775), (23.8826, 240.295), (701.018, 43.4543), (951.537, 792.325), (190.116, 9.77048), (347.579, 997.518), (331.085, 8.82753), (547.387, 204.852), (776.794, 291.288), (756.586, 917.899), (172.306, 772.747), (85.7052, 33.6732), (904.883, 126.216), (87.5416, 389.28), (21.9732, 102.51), (417.302, 581.199), (205.641, 477.219), (486.743, 625.481), (372.177, 77.9249), (117.937, 480.467), (295.533, 923.189), (879.339, 967.331), (889.914, 107.701), (636.977, 852.552), (382.491, 96.1738), (134.598, 416.191), (759.957, 814.02), (44.5069, 940.863), (244.594, 473.987), (642.573, 589.53), (228.193, 537.552), (645.769, 36.6176), (881.955, 436.361), (680.574, 156.194), (811.997, 466.21), (963.481, 584.969), (312.678, 611.344), (853.959, 621.638), (518.363, 989.629), (272.482, 202.425), (762.214, 751.456), (648.783, 603.79), (783.667, 742.083), (399.475, 192.268), (32.4988, 938.751), (814.209, 436.493), (291.053, 292.049), (607.013, 13.6116), (92.7453, 433.967), (769.072, 182.917), (175.856, 408.861), (344.656, 388.185), (227.183, 343.604), (491.148, 328.614), (25.5217, 669.796), (789.06, 180.381), (980.725, 735.09), (58.1823, 207.452), (195.262, 304.483), (543.707, 996.057), (557.17, 378.511), (256.513, 606.643), (805.435, 372.793), (462.037, 417.062), (818.209, 629.891), (415.46, 823.742), (203.288, 280.22), (325.896, 907.59), (512.472, 906.526), (826.909, 802.719), (374.105, 494.356), (599.164, 619.972), (327.353, 384.372), (360.033, 175.038), (809.911, 758.316), (260.672, 213.383), (934.248, 685.015), (176.023, 365.196), (606.972, 355.066), (667.645, 810.279), (852.864, 824.65), (746.32, 56.0444), (93.5555, 531.101), (818.774, 606.902), (746.616, 491.772), (231.083, 960.553), (683.546, 930.491), (431.006, 685.786), (709.83, 561.077), (452.184, 663.382), (384.806, 812.568), (886.343, 4.94442), (52.5835, 271.001), (152.733, 951.553), (808.889, 763.527), (775.352, 780.347), (178.085, 519.553), (988.743, 256.46), (114.258, 377.412), (236.126, 494.214), (314.339, 438.079), (273.595, 173.028), (49.9968, 742.733), (6.42906, 353.95), (540.007, 528.659), (786.058, 432.582), (995.164, 77.7478), (509.984, 834.341), (890.36, 307.257), (304.468, 535.688), (473.917, 22.3053), (868.559, 484.797), (91.7265, 661.356), (616.789, 748.507), (414.131, 748.199), (236.206, 683.44), (974.766, 171.802), (732.088, 320.501), (334.192, 594.83), (561.254, 14.0532), (33.0116, 545.758), (451.636, 797.971), (197.287, 1.98716), (236.339, 400.124), (747.866, 360.265), (430.779, 816.476), (21.823, 256.845), (344.638, 230.393), (754.786, 929.344), (257.178, 178.95), (233.293, 789.181), (109.638, 555.178), (818.496, 388.539), (438.962, 136.901), (344.937, 837.515), (920.634, 460.336), (950.473, 33.9817), (123.803, 911.149), (826.839, 234.883), (967.716, 166.523), (763.859, 558.636), (477.087, 834.773), (189.042, 621.271), (500.418, 885.256), (807.777, 879.354), (6.13562, 122.624), (680.526, 979.535), (752.455, 173.084), (740.572, 359.87), (494.045, 199.61), (225.447, 556.169), (782.186, 687.569), (559.929, 171.432), (463.399, 711.7), (99.6077, 192.347), (257.615, 814.539), (42.8894, 926.489), (172.907, 173.232), (483.206, 814.332), (537.144, 893.849), (2.99018, 973.272), (286.889, 436.077), (34.4571, 282.052), (382.173, 228.74), (407.053, 857.824), (957.659, 25.5349), (534.254, 449.898), (891.084, 771.611), (609.907, 714.945), (800.506, 368.529), (6.5945, 196.999), (122.621, 436.923), (517.93, 649.464), (235.387, 41.3129), (603.56, 723.736), (910.373, 948.618), (498.328, 926.571), (548.665, 952.849), (779.11, 99.0186), (582.097, 75.6071), (214.744, 82.1886), (560.439, 622.937), (693.672, 555.594), (90.496, 16.7955), (760.5, 411.841), (626.521, 526.724), (995.853, 234.577), (918.947, 876.684), (989.579, 47.3211), (377.688, 314.408), (961.419, 413.034), (825.413, 709.361), (827.455, 580.479), (35.7801, 990.366), (620.154, 281.819), (109.524, 120.779), (738.931, 820.767), (274.222, 258.428), (82.5408, 643.565), (592.712, 764.167), (724.782, 471.166), (778.131, 902.453), (885.712, 666.382), (26.8873, 163.883), (741.314, 972.935), (165.76, 712.313), (256.231, 126.549), (927.385, 899.534), (524.925, 53.7248), (72.1925, 423.799), (367.23, 863.354), (349.224, 799.328), (127.116, 42.9147), (587.637, 139.566), (22.8315, 355.085)]\n",
      "Calculado :True\n",
      "\n"
     ]
    },
    {
     "name": "stdout",
     "output_type": "stream",
     "text": [
      "ERROR: Could not find file C:\\Users\\Luiz\\AppData\\Local\\Temp\\ipykernel_10012\\2576218384.py\n"
     ]
    },
    {
     "name": "stderr",
     "output_type": "stream",
     "text": [
      "C:\\Users\\Luiz\\AppData\\Local\\Temp\\ipykernel_10012\\2576218384.py:64: FutureWarning: The frame.append method is deprecated and will be removed from pandas in a future version. Use pandas.concat instead.\n",
      "  dataframe = dataframe.append(nova_linha, ignore_index=True)\n"
     ]
    },
    {
     "name": "stdout",
     "output_type": "stream",
     "text": [
      "Nome do Arquivo: fl417\n",
      "Algoritmo : <function twice_around_the_tree at 0x00000175464D33A0>\n",
      "Tempo : 2.42504620552063\n",
      "Memória Gasta: 186.81640625 MB\n",
      "Taxa de Aproximação: 1.3776709986971958\n",
      "Rota :[1, 8, 10, 18, 16, 7, 5, 6, 21, 28, 20, 13, 12, 4, 2, 3, 9, 11, 15, 14, 30, 29, 23, 153, 129, 150, 126, 148, 124, 146, 122, 144, 120, 142, 118, 140, 116, 138, 114, 136, 112, 134, 110, 132, 108, 130, 106, 308, 307, 333, 306, 305, 304, 323, 331, 348, 347, 346, 322, 303, 321, 345, 344, 343, 302, 301, 330, 329, 300, 342, 341, 328, 320, 299, 298, 340, 332, 109, 131, 107, 111, 133, 135, 113, 137, 117, 139, 115, 141, 119, 123, 145, 121, 143, 147, 125, 128, 152, 151, 127, 149, 37, 35, 33, 40, 17, 27, 39, 42, 45, 47, 44, 49, 46, 43, 41, 38, 36, 34, 48, 50, 51, 52, 55, 54, 57, 53, 56, 58, 59, 63, 67, 70, 66, 97, 96, 88, 84, 91, 83, 78, 82, 87, 77, 73, 94, 90, 89, 69, 65, 62, 60, 72, 103, 206, 228, 204, 226, 202, 368, 367, 393, 366, 365, 364, 383, 391, 408, 407, 406, 382, 363, 381, 405, 404, 403, 362, 361, 390, 389, 360, 402, 401, 388, 380, 359, 358, 400, 392, 205, 227, 203, 230, 207, 229, 231, 208, 209, 232, 210, 234, 213, 235, 211, 236, 212, 214, 215, 238, 216, 217, 239, 241, 219, 240, 242, 218, 220, 221, 244, 222, 223, 245, 247, 225, 246, 224, 248, 249, 243, 237, 233, 93, 95, 102, 104, 105, 369, 370, 384, 394, 410, 411, 395, 371, 396, 372, 373, 412, 413, 414, 385, 374, 386, 415, 416, 417, 397, 387, 375, 398, 376, 377, 399, 378, 379, 250, 274, 251, 253, 275, 276, 252, 277, 255, 278, 254, 256, 280, 257, 258, 282, 259, 281, 283, 260, 284, 261, 285, 262, 286, 264, 265, 287, 288, 267, 289, 290, 266, 291, 269, 292, 268, 270, 294, 271, 295, 273, 296, 272, 297, 293, 263, 279, 409, 74, 64, 85, 79, 86, 80, 75, 71, 61, 81, 68, 76, 92, 98, 100, 101, 99, 19, 24, 26, 31, 32, 25, 22, 349, 309, 310, 324, 334, 350, 351, 335, 311, 336, 312, 313, 352, 353, 354, 325, 314, 326, 355, 356, 357, 337, 327, 315, 338, 316, 317, 339, 318, 319, 154, 178, 156, 180, 158, 182, 160, 184, 162, 186, 164, 188, 166, 190, 168, 192, 170, 194, 172, 196, 173, 195, 171, 193, 169, 191, 167, 189, 165, 187, 163, 185, 161, 183, 159, 181, 157, 179, 155, 197, 175, 199, 177, 201, 174, 198, 176, 200, 1]\n",
      "Vertices :[(1025.7, 1971.3), (1161.67, 1965.39), (1191.23, 1959.49), (1167.59, 1959.49), (1096.64, 1959.49), (1102.56, 1953.58), (1090.73, 1953.58), (1019.79, 1953.58), (1232.62, 1941.77), (1043.44, 1941.77), (1238.53, 1935.87), (1167.59, 1935.87), (1132.11, 1935.87), (1268.09, 1929.96), (1244.44, 1929.96), (1067.08, 1929.96), (1179.41, 1924.06), (1049.35, 1924.06), (1037.53, 1924.06), (1126.2, 1918.15), (1090.73, 1918.15), (984.319, 1918.15), (1327.2, 1906.34), (1031.61, 1906.34), (996.143, 1906.34), (1049.35, 1900.44), (1185.32, 1894.53), (1114.38, 1894.53), (1315.38, 1882.72), (1291.73, 1882.72), (1078.91, 1882.72), (1013.88, 1876.82), (1735.12, 1746.91), (741.934, 1746.91), (1729.21, 1741.0), (736.022, 1741.0), (1522.3, 1723.29), (529.108, 1723.29), (1185.32, 1646.52), (1569.59, 1522.52), (576.403, 1522.52), (1149.85, 1445.75), (617.786, 1445.75), (1031.61, 1422.13), (1108.47, 1416.22), (753.758, 1416.22), (1031.61, 1410.32), (594.138, 1410.32), (759.67, 1398.51), (605.962, 1398.51), (753.758, 1274.5), (659.169, 1250.88), (1268.09, 1244.98), (594.138, 1244.98), (611.874, 1227.26), (1279.91, 1221.36), (659.169, 1156.4), (1226.7, 1002.87), (1149.85, 996.967), (1610.97, 973.347), (1037.53, 802.101), (1315.38, 796.196), (1114.38, 796.196), (1090.73, 796.196), (1274.0, 790.29), (1132.11, 790.29), (1108.47, 790.29), (1013.88, 790.29), (1268.09, 784.386), (1114.38, 784.386), (1031.61, 784.386), (1664.18, 778.481), (1238.53, 778.481), (1096.64, 778.481), (1049.35, 778.481), (978.407, 778.481), (1232.62, 772.576), (1185.32, 772.576), (1078.91, 772.576), (1055.26, 772.576), (1019.79, 772.576), (1214.88, 766.67), (1191.23, 766.67), (1167.59, 766.67), (1084.82, 766.67), (1073.0, 766.67), (1232.62, 760.765), (1161.67, 760.765), (1262.18, 754.861), (1250.35, 754.861), (1179.41, 754.861), (1025.7, 754.861), (1268.09, 748.955), (1244.44, 748.955), (1173.5, 748.955), (1132.11, 743.05), (1120.29, 743.05), (1019.79, 725.335), (996.143, 725.335), (1037.53, 719.43), (1002.05, 719.43), (1173.5, 559.994), (1610.97, 548.184), (1173.5, 548.184), (1220.79, 536.374), (1628.71, 2048.06), (1628.71, 2036.25), (1616.89, 2048.06), (1616.89, 2036.25), (1605.06, 2048.06), (1605.06, 2036.25), (1593.24, 2048.06), (1593.24, 2036.25), (1581.41, 2048.06), (1581.41, 2036.25), (1569.59, 2048.06), (1569.59, 2036.25), (1557.77, 2048.06), (1557.77, 2036.25), (1545.94, 2048.06), (1545.94, 2036.25), (1534.12, 2048.06), (1534.12, 2036.25), (1522.3, 2048.06), (1522.3, 2036.25), (1510.47, 2048.06), (1510.47, 2036.25), (1498.65, 2048.06), (1498.65, 2036.25), (1622.8, 2042.16), (1622.8, 2030.35), (1610.97, 2042.16), (1610.97, 2030.35), (1599.15, 2042.16), (1599.15, 2030.35), (1587.33, 2042.16), (1587.33, 2030.35), (1575.5, 2042.16), (1575.5, 2030.35), (1563.68, 2042.16), (1563.68, 2030.35), (1551.85, 2042.16), (1551.85, 2030.35), (1540.03, 2042.16), (1540.03, 2030.35), (1528.21, 2042.16), (1528.21, 2030.35), (1516.38, 2042.16), (1516.38, 2030.35), (1504.56, 2042.16), (1504.56, 2030.35), (1492.74, 2042.16), (1492.74, 2030.35), (647.346, 2048.06), (647.346, 2036.25), (635.522, 2048.06), (635.522, 2036.25), (623.699, 2048.06), (623.699, 2036.25), (611.875, 2048.06), (611.875, 2036.25), (600.051, 2048.06), (600.051, 2036.25), (588.228, 2048.06), (588.228, 2036.25), (576.404, 2048.06), (576.404, 2036.25), (564.581, 2048.06), (564.581, 2036.25), (552.757, 2048.06), (552.757, 2036.25), (540.933, 2048.06), (540.933, 2036.25), (529.109, 2048.06), (529.109, 2036.25), (517.286, 2048.06), (517.286, 2036.25), (641.434, 2042.16), (641.434, 2030.35), (629.611, 2042.16), (629.611, 2030.35), (617.787, 2042.16), (617.787, 2030.35), (605.963, 2042.16), (605.963, 2030.35), (594.14, 2042.16), (594.14, 2030.35), (582.316, 2042.16), (582.316, 2030.35), (570.492, 2042.16), (570.492, 2030.35), (558.669, 2042.16), (558.669, 2030.35), (546.845, 2042.16), (546.845, 2030.35), (535.022, 2042.16), (535.022, 2030.35), (523.198, 2042.16), (523.198, 2030.35), (511.374, 2042.16), (511.374, 2030.35), (1628.71, 170.262), (1628.71, 158.452), (1616.89, 170.262), (1616.89, 158.452), (1605.06, 170.262), (1605.06, 158.452), (1593.24, 170.262), (1593.24, 158.452), (1581.41, 170.262), (1581.41, 158.452), (1569.59, 170.262), (1569.59, 158.452), (1557.77, 170.262), (1557.77, 158.452), (1545.94, 170.262), (1545.94, 158.452), (1534.12, 170.262), (1534.12, 158.452), (1522.3, 170.262), (1522.3, 158.452), (1510.47, 170.262), (1510.47, 158.452), (1498.65, 170.262), (1498.65, 158.452), (1622.8, 164.357), (1622.8, 152.547), (1610.97, 164.357), (1610.97, 152.547), (1599.15, 164.357), (1599.15, 152.547), (1587.33, 164.357), (1587.33, 152.547), (1575.5, 164.357), (1575.5, 152.547), (1563.68, 164.357), (1563.68, 152.547), (1551.85, 164.357), (1551.85, 152.547), (1540.03, 164.357), (1540.03, 152.547), (1528.21, 164.357), (1528.21, 152.547), (1516.38, 164.357), (1516.38, 152.547), (1504.56, 164.357), (1504.56, 152.547), (1492.74, 164.357), (1492.74, 152.547), (647.346, 170.262), (647.346, 158.452), (635.522, 170.262), (635.522, 158.452), (623.699, 170.262), (623.699, 158.452), (611.875, 170.262), (611.875, 158.452), (600.051, 170.262), (600.051, 158.452), (588.228, 170.262), (588.228, 158.452), (576.404, 170.262), (576.404, 158.452), (564.581, 170.262), (564.581, 158.452), (552.757, 170.262), (552.757, 158.452), (540.933, 170.262), (540.933, 158.452), (529.109, 170.262), (529.109, 158.452), (517.286, 170.262), (517.286, 158.452), (641.434, 164.357), (641.434, 152.547), (629.611, 164.357), (629.611, 152.547), (617.787, 164.357), (617.787, 152.547), (605.963, 164.357), (605.963, 152.547), (594.14, 164.357), (594.14, 152.547), (582.316, 164.357), (582.316, 152.547), (570.492, 164.357), (570.492, 152.547), (558.669, 164.357), (558.669, 152.547), (546.845, 164.357), (546.845, 152.547), (535.022, 164.357), (535.022, 152.547), (523.198, 164.357), (523.198, 152.547), (511.374, 164.357), (511.374, 152.547), (1888.83, 2048.06), (1877.01, 2048.06), (1853.36, 2048.06), (1841.54, 2048.06), (1829.71, 2048.06), (1782.42, 2048.06), (1746.95, 2048.06), (1723.3, 2048.06), (1711.47, 2048.06), (1676.0, 2048.06), (1652.36, 2048.06), (907.466, 2048.06), (895.642, 2048.06), (871.994, 2048.06), (860.171, 2048.06), (848.347, 2048.06), (801.053, 2048.06), (765.581, 2048.06), (741.934, 2048.06), (730.111, 2048.06), (694.64, 2048.06), (670.992, 2048.06), (1871.09, 2042.16), (1800.15, 2042.16), (1776.51, 2042.16), (1752.86, 2042.16), (889.73, 2042.16), (818.788, 2042.16), (795.141, 2042.16), (771.494, 2042.16), (1877.01, 2036.25), (1853.36, 2036.25), (1841.54, 2036.25), (1746.95, 2036.25), (1723.3, 2036.25), (1699.65, 2036.25), (895.642, 2036.25), (871.994, 2036.25), (860.171, 2036.25), (765.581, 2036.25), (741.934, 2036.25), (718.287, 2036.25), (1894.74, 2030.35), (1871.09, 2030.35), (1859.27, 2030.35), (1823.8, 2030.35), (1811.98, 2030.35), (1800.15, 2030.35), (1776.51, 2030.35), (1764.68, 2030.35), (1752.86, 2030.35), (913.377, 2030.35), (889.73, 2030.35), (877.906, 2030.35), (842.435, 2030.35), (830.612, 2030.35), (818.788, 2030.35), (795.141, 2030.35), (783.317, 2030.35), (771.494, 2030.35), (1888.83, 170.261), (1877.01, 170.261), (1853.36, 170.261), (1841.54, 170.261), (1829.71, 170.261), (1782.42, 170.261), (1746.95, 170.261), (1723.3, 170.261), (1711.47, 170.261), (1676.0, 170.261), (1652.36, 170.261), (907.466, 170.261), (895.642, 170.261), (871.994, 170.261), (860.171, 170.261), (848.347, 170.261), (801.053, 170.261), (765.581, 170.261), (741.934, 170.261), (730.111, 170.261), (694.64, 170.261), (670.992, 170.261), (1871.09, 164.357), (1800.15, 164.357), (1776.51, 164.357), (1752.86, 164.357), (889.73, 164.357), (818.788, 164.357), (795.141, 164.357), (771.494, 164.357), (1877.01, 158.451), (1853.36, 158.451), (1841.54, 158.451), (1746.95, 158.451), (1723.3, 158.451), (1699.65, 158.451), (895.642, 158.451), (871.994, 158.451), (860.171, 158.451), (765.581, 158.451), (741.934, 158.451), (718.287, 158.451), (1894.74, 152.546), (1871.09, 152.546), (1859.27, 152.546), (1823.8, 152.546), (1811.98, 152.546), (1800.15, 152.546), (1776.51, 152.546), (1764.68, 152.546), (1752.86, 152.546), (913.377, 152.546), (889.73, 152.546), (877.906, 152.546), (842.435, 152.546), (830.612, 152.546), (818.788, 152.546), (795.141, 152.546), (783.317, 152.546), (771.494, 152.546)]\n",
      "Calculado :True\n",
      "\n"
     ]
    },
    {
     "name": "stdout",
     "output_type": "stream",
     "text": [
      "ERROR: Could not find file C:\\Users\\Luiz\\AppData\\Local\\Temp\\ipykernel_10012\\2576218384.py\n"
     ]
    },
    {
     "name": "stderr",
     "output_type": "stream",
     "text": [
      "C:\\Users\\Luiz\\AppData\\Local\\Temp\\ipykernel_10012\\2576218384.py:64: FutureWarning: The frame.append method is deprecated and will be removed from pandas in a future version. Use pandas.concat instead.\n",
      "  dataframe = dataframe.append(nova_linha, ignore_index=True)\n"
     ]
    },
    {
     "name": "stdout",
     "output_type": "stream",
     "text": [
      "Nome do Arquivo: pr439\n",
      "Algoritmo : <function twice_around_the_tree at 0x00000175464D33A0>\n",
      "Tempo : 3.3836143016815186\n",
      "Memória Gasta: 186.82421875 MB\n",
      "Taxa de Aproximação: 1.363052508128403\n",
      "Rota :[1, 3, 2, 52, 51, 50, 48, 47, 44, 42, 39, 38, 49, 46, 45, 43, 41, 40, 11, 10, 9, 8, 7, 6, 5, 4, 12, 13, 14, 15, 16, 17, 33, 34, 35, 36, 37, 54, 53, 55, 56, 82, 81, 80, 79, 57, 58, 78, 86, 87, 77, 59, 60, 61, 62, 32, 31, 30, 29, 27, 26, 64, 25, 23, 24, 22, 21, 20, 19, 18, 66, 65, 67, 68, 69, 70, 71, 72, 91, 90, 89, 88, 106, 105, 104, 102, 92, 93, 94, 103, 114, 113, 115, 117, 120, 121, 119, 118, 116, 122, 123, 101, 100, 95, 96, 98, 97, 125, 99, 128, 130, 131, 132, 133, 126, 124, 127, 129, 139, 138, 158, 157, 156, 155, 154, 153, 151, 150, 152, 143, 159, 177, 178, 179, 180, 181, 182, 183, 192, 184, 191, 190, 193, 194, 195, 196, 197, 198, 199, 200, 201, 202, 203, 204, 175, 161, 160, 162, 134, 135, 136, 137, 163, 164, 165, 166, 169, 170, 168, 167, 176, 205, 206, 207, 171, 172, 174, 173, 208, 216, 215, 214, 213, 212, 211, 210, 250, 251, 209, 253, 252, 249, 248, 247, 246, 255, 254, 256, 257, 258, 259, 314, 313, 312, 311, 310, 309, 308, 264, 263, 262, 261, 260, 265, 266, 267, 268, 269, 270, 271, 272, 301, 302, 303, 304, 330, 331, 329, 328, 327, 332, 333, 334, 335, 298, 297, 276, 275, 274, 273, 277, 278, 279, 296, 295, 294, 299, 300, 336, 337, 338, 339, 363, 362, 361, 360, 370, 359, 358, 356, 355, 354, 353, 351, 350, 349, 289, 288, 287, 286, 285, 280, 232, 231, 225, 188, 187, 189, 230, 281, 282, 229, 226, 186, 149, 83, 84, 85, 227, 228, 283, 284, 344, 343, 342, 341, 373, 372, 371, 383, 382, 384, 394, 393, 392, 391, 381, 375, 374, 399, 398, 397, 396, 407, 406, 413, 412, 423, 422, 427, 424, 425, 410, 411, 409, 408, 403, 434, 438, 437, 436, 435, 439, 426, 430, 433, 432, 395, 340, 290, 291, 292, 293, 348, 346, 345, 347, 377, 376, 380, 379, 389, 390, 414, 421, 420, 419, 352, 357, 364, 365, 366, 369, 368, 367, 378, 385, 386, 387, 388, 401, 400, 402, 404, 405, 417, 418, 428, 429, 431, 416, 415, 305, 306, 307, 322, 321, 320, 319, 318, 317, 323, 324, 325, 326, 315, 316, 217, 218, 219, 220, 221, 241, 240, 239, 238, 237, 236, 235, 234, 222, 233, 223, 224, 242, 243, 244, 245, 140, 141, 142, 107, 108, 109, 146, 112, 111, 110, 144, 147, 148, 145, 185, 28, 63, 73, 74, 76, 75, 1]\n",
      "Vertices :[(7125.0, 11300.0), (7225.0, 11050.0), (7225.0, 11150.0), (7375.0, 11300.0), (7500.0, 11200.0), (7625.0, 11275.0), (7725.0, 11275.0), (7825.0, 11275.0), (7925.0, 11275.0), (8050.0, 11225.0), (8050.0, 11125.0), (8150.0, 11125.0), (8275.0, 11300.0), (8400.0, 11300.0), (8525.0, 11300.0), (8650.0, 11300.0), (8750.0, 11200.0), (12475.0, 10800.0), (12075.0, 10800.0), (11975.0, 10975.0), (11575.0, 10975.0), (11525.0, 10850.0), (11400.0, 10975.0), (11425.0, 10850.0), (11000.0, 10975.0), (10475.0, 10850.0), (10375.0, 10850.0), (10300.0, 10975.0), (10250.0, 10850.0), (9900.0, 10975.0), (9850.0, 10850.0), (9350.0, 11000.0), (8750.0, 11000.0), (8650.0, 10900.0), (8525.0, 10900.0), (8400.0, 10900.0), (8275.0, 10900.0), (8050.0, 10775.0), (7900.0, 10775.0), (7925.0, 10975.0), (7825.0, 10975.0), (7750.0, 10775.0), (7725.0, 10975.0), (7600.0, 10775.0), (7625.0, 10975.0), (7500.0, 11000.0), (7425.0, 10750.0), (7325.0, 10750.0), (7375.0, 10900.0), (7225.0, 10750.0), (7125.0, 10750.0), (7125.0, 10900.0), (7125.0, 10450.0), (7225.0, 10450.0), (7325.0, 10450.0), (7425.0, 10450.0), (8300.0, 10500.0), (8600.0, 10500.0), (8950.0, 10425.0), (9050.0, 10425.0), (9150.0, 10425.0), (9350.0, 10600.0), (10200.0, 10600.0), (10700.0, 10600.0), (11375.0, 10575.0), (11525.0, 10625.0), (11650.0, 10625.0), (11775.0, 10450.0), (11775.0, 10250.0), (11650.0, 10125.0), (11525.0, 10125.0), (11375.0, 10175.0), (10250.0, 10325.0), (10250.0, 10125.0), (9275.0, 10275.0), (9175.0, 10275.0), (8950.0, 10200.0), (8750.0, 10200.0), (8050.0, 10275.0), (7900.0, 10275.0), (7750.0, 10275.0), (7600.0, 10275.0), (4975.0, 10125.0), (4750.0, 10125.0), (4525.0, 10125.0), (8750.0, 10000.0), (8950.0, 10000.0), (11375.0, 10000.0), (11475.0, 10000.0), (11575.0, 10000.0), (11675.0, 10000.0), (12100.0, 9875.0), (12225.0, 9875.0), (12350.0, 9875.0), (12750.0, 9925.0), (12875.0, 9925.0), (13125.0, 9875.0), (13000.0, 9800.0), (13000.0, 9550.0), (12600.0, 9775.0), (12600.0, 9575.0), (11975.0, 9800.0), (11975.0, 9550.0), (11675.0, 9700.0), (11575.0, 9700.0), (11475.0, 9700.0), (11375.0, 9700.0), (10975.0, 9600.0), (10850.0, 9600.0), (10375.0, 9250.0), (10475.0, 9250.0), (10575.0, 9250.0), (11725.0, 9325.0), (11850.0, 9375.0), (12100.0, 9475.0), (12050.0, 9275.0), (12225.0, 9475.0), (12150.0, 9275.0), (12250.0, 9275.0), (12350.0, 9475.0), (12350.0, 9275.0), (12525.0, 9325.0), (12750.0, 9425.0), (12775.0, 9275.0), (12875.0, 9425.0), (12875.0, 9275.0), (12975.0, 9275.0), (13125.0, 9475.0), (13075.0, 9275.0), (13250.0, 9375.0), (13375.0, 9375.0), (13500.0, 9375.0), (13625.0, 9375.0), (13075.0, 8975.0), (12975.0, 8975.0), (12875.0, 8975.0), (12775.0, 8975.0), (12525.0, 8925.0), (12350.0, 8975.0), (12250.0, 8975.0), (12150.0, 8975.0), (12050.0, 8975.0), (11725.0, 8925.0), (10975.0, 9200.0), (10900.0, 8975.0), (10850.0, 9200.0), (10800.0, 9075.0), (10800.0, 8975.0), (5150.0, 8750.0), (11650.0, 8725.0), (11775.0, 8775.0), (11850.0, 8875.0), (11900.0, 8725.0), (12025.0, 8625.0), (12150.0, 8650.0), (12275.0, 8725.0), (12400.0, 8625.0), (12525.0, 8725.0), (12650.0, 8625.0), (12850.0, 8725.0), (12975.0, 8625.0), (13100.0, 8775.0), (13250.0, 8875.0), (13375.0, 8875.0), (13500.0, 8875.0), (13475.0, 8725.0), (13625.0, 8875.0), (13700.0, 8500.0), (13600.0, 8600.0), (13600.0, 8500.0), (13475.0, 8325.0), (13350.0, 8350.0), (13250.0, 8450.0), (13250.0, 8350.0), (12975.0, 8425.0), (12850.0, 8325.0), (12650.0, 8425.0), (12525.0, 8325.0), (12400.0, 8425.0), (12275.0, 8325.0), (12150.0, 8400.0), (12025.0, 8425.0), (11900.0, 8325.0), (11650.0, 8325.0), (11000.0, 8575.0), (4900.0, 8500.0), (6150.0, 8275.0), (6625.0, 8300.0), (7025.0, 8300.0), (11225.0, 8125.0), (11550.0, 8125.0), (11775.0, 8275.0), (11850.0, 8125.0), (11975.0, 8125.0), (12100.0, 8125.0), (12225.0, 8125.0), (12350.0, 8125.0), (12475.0, 8025.0), (12600.0, 8125.0), (12725.0, 8125.0), (12850.0, 8125.0), (12975.0, 8125.0), (13100.0, 8125.0), (13100.0, 8275.0), (13225.0, 8125.0), (13375.0, 8175.0), (13500.0, 8175.0), (13625.0, 8125.0), (13625.0, 7725.0), (13225.0, 7725.0), (13100.0, 7725.0), (12975.0, 7725.0), (12850.0, 7725.0), (12725.0, 7725.0), (12600.0, 7725.0), (12475.0, 7825.0), (12350.0, 7725.0), (12225.0, 7725.0), (12100.0, 7725.0), (11975.0, 7725.0), (11850.0, 7725.0), (11550.0, 7725.0), (11225.0, 7725.0), (11000.0, 7775.0), (6625.0, 7950.0), (4800.0, 7825.0), (4550.0, 7825.0), (4550.0, 7425.0), (4800.0, 7425.0), (6150.0, 7525.0), (6825.0, 7575.0), (7075.0, 7575.0), (11450.0, 7500.0), (11550.0, 7500.0), (11650.0, 7500.0), (11750.0, 7500.0), (11850.0, 7500.0), (11950.0, 7500.0), (12050.0, 7500.0), (12150.0, 7500.0), (12325.0, 7550.0), (12500.0, 7500.0), (12600.0, 7500.0), (12700.0, 7500.0), (12800.0, 7500.0), (13025.0, 7500.0), (13125.0, 7500.0), (13225.0, 7500.0), (13325.0, 7500.0), (13375.0, 7675.0), (13500.0, 7675.0), (13500.0, 7450.0), (13625.0, 7550.0), (13625.0, 7150.0), (13500.0, 7250.0), (13325.0, 7200.0), (13225.0, 7200.0), (13125.0, 7200.0), (13025.0, 7200.0), (12800.0, 7200.0), (12700.0, 7200.0), (12600.0, 7200.0), (12500.0, 7200.0), (12325.0, 7150.0), (12150.0, 7200.0), (12050.0, 7200.0), (11950.0, 7200.0), (11850.0, 7200.0), (11750.0, 7200.0), (11650.0, 7200.0), (11550.0, 7200.0), (11450.0, 7200.0), (11050.0, 7125.0), (10950.0, 7125.0), (10850.0, 7125.0), (10750.0, 7125.0), (10650.0, 7125.0), (10550.0, 7125.0), (10450.0, 7125.0), (7075.0, 7175.0), (5825.0, 7350.0), (5425.0, 7350.0), (4425.0, 7275.0), (4425.0, 6875.0), (7075.0, 7075.0), (7250.0, 7025.0), (7250.0, 6900.0), (7750.0, 6900.0), (7900.0, 6900.0), (8200.0, 6900.0), (8350.0, 6900.0), (8650.0, 6900.0), (8800.0, 6900.0), (10450.0, 6825.0), (10550.0, 6825.0), (10650.0, 6825.0), (10750.0, 6825.0), (10850.0, 6825.0), (10950.0, 6825.0), (11050.0, 6825.0), (11425.0, 6975.0), (11575.0, 6925.0), (11575.0, 6825.0), (11675.0, 6825.0), (11850.0, 6975.0), (11975.0, 6975.0), (12225.0, 6975.0), (12350.0, 6975.0), (12475.0, 6975.0), (12600.0, 6975.0), (12725.0, 6875.0), (12850.0, 6975.0), (12975.0, 6975.0), (13125.0, 7025.0), (13275.0, 6975.0), (13400.0, 7025.0), (13400.0, 6525.0), (13275.0, 6575.0), (13125.0, 6525.0), (12975.0, 6575.0), (12850.0, 6575.0), (12725.0, 6675.0), (12600.0, 6575.0), (12475.0, 6575.0), (12350.0, 6575.0), (12225.0, 6575.0), (11975.0, 6575.0), (11850.0, 6575.0), (11675.0, 6575.0), (11575.0, 6675.0), (11575.0, 6575.0), (11425.0, 6575.0), (11050.0, 6625.0), (10950.0, 6625.0), (10850.0, 6625.0), (10750.0, 6625.0), (10650.0, 6625.0), (10550.0, 6625.0), (10450.0, 6625.0), (7075.0, 6675.0), (5675.0, 6650.0), (5175.0, 6650.0), (5050.0, 6575.0), (4650.0, 6575.0), (7650.0, 6375.0), (7750.0, 6375.0), (7750.0, 6500.0), (7850.0, 6375.0), (7900.0, 6500.0), (8100.0, 6375.0), (8200.0, 6375.0), (8200.0, 6500.0), (8300.0, 6375.0), (8350.0, 6500.0), (8550.0, 6375.0), (8650.0, 6375.0), (8650.0, 6500.0), (8750.0, 6375.0), (8800.0, 6500.0), (10450.0, 6325.0), (10550.0, 6325.0), (10650.0, 6325.0), (10750.0, 6325.0), (10850.0, 6325.0), (10950.0, 6325.0), (11050.0, 6325.0), (11100.0, 6075.0), (10950.0, 6075.0), (10800.0, 6125.0), (10300.0, 6125.0), (5550.0, 5675.0), (5625.0, 5625.0), (5675.0, 5750.0), (6175.0, 5750.0), (6225.0, 5625.0), (7625.0, 5850.0), (7875.0, 5850.0), (10950.0, 5800.0), (7875.0, 5350.0), (7625.0, 5350.0), (6175.0, 5400.0), (5675.0, 5400.0), (5550.0, 5425.0), (5550.0, 5200.0), (10950.0, 5300.0), (11050.0, 5075.0), (11200.0, 5075.0), (11350.0, 4875.0), (7875.0, 4875.0), (7675.0, 4875.0), (6225.0, 5000.0), (6175.0, 4875.0), (5675.0, 4875.0), (5625.0, 5000.0), (5550.0, 4950.0), (5550.0, 4475.0), (5550.0, 4675.0), (5675.0, 4675.0), (6175.0, 4675.0), (11350.0, 4425.0), (11350.0, 4650.0), (13225.0, 4275.0), (4225.0, 4075.0), (13225.0, 4075.0), (13225.0, 3700.0), (6350.0, 3600.0), (5950.0, 3600.0), (4225.0, 3675.0), (4225.0, 3525.0), (4475.0, 3300.0), (4475.0, 3450.0), (4975.0, 3300.0), (4975.0, 3450.0), (7900.0, 3350.0), (10650.0, 3525.0), (10850.0, 3525.0), (13225.0, 3500.0), (13225.0, 3125.0), (8275.0, 3000.0), (8125.0, 3000.0), (7900.0, 3200.0), (4975.0, 3000.0), (4975.0, 3150.0), (4475.0, 3000.0), (4475.0, 3150.0), (4225.0, 3125.0), (4675.0, 2700.0), (13225.0, 2925.0), (13225.0, 2525.0), (4675.0, 2550.0), (13225.0, 2325.0), (4675.0, 1825.0), (4675.0, 1975.0), (1975.0, 4025.0), (2075.0, 5675.0), (1975.0, 5575.0), (1875.0, 5475.0), (1775.0, 5375.0), (2075.0, 6475.0)]\n",
      "Calculado :True\n",
      "\n"
     ]
    },
    {
     "name": "stdout",
     "output_type": "stream",
     "text": [
      "ERROR: Could not find file C:\\Users\\Luiz\\AppData\\Local\\Temp\\ipykernel_10012\\2576218384.py\n"
     ]
    },
    {
     "name": "stderr",
     "output_type": "stream",
     "text": [
      "C:\\Users\\Luiz\\AppData\\Local\\Temp\\ipykernel_10012\\2576218384.py:64: FutureWarning: The frame.append method is deprecated and will be removed from pandas in a future version. Use pandas.concat instead.\n",
      "  dataframe = dataframe.append(nova_linha, ignore_index=True)\n"
     ]
    },
    {
     "name": "stdout",
     "output_type": "stream",
     "text": [
      "Nome do Arquivo: pcb442\n",
      "Algoritmo : <function twice_around_the_tree at 0x00000175464D33A0>\n",
      "Tempo : 22.216487407684326\n",
      "Memória Gasta: 194.27734375 MB\n",
      "Taxa de Aproximação: 1.4680780294276456\n",
      "Rota :[1, 2, 35, 67, 66, 34, 102, 103, 114, 126, 136, 149, 161, 172, 185, 400, 405, 227, 234, 238, 239, 266, 269, 270, 271, 267, 240, 235, 228, 406, 401, 407, 274, 277, 426, 280, 283, 309, 308, 310, 284, 311, 285, 312, 286, 313, 287, 314, 288, 424, 421, 425, 315, 289, 316, 290, 317, 291, 318, 292, 319, 293, 320, 294, 321, 295, 322, 296, 278, 323, 297, 324, 298, 299, 300, 325, 326, 301, 327, 302, 328, 303, 329, 304, 330, 305, 331, 306, 332, 333, 334, 307, 335, 336, 427, 337, 338, 432, 429, 430, 340, 339, 433, 348, 347, 346, 349, 350, 351, 352, 343, 353, 354, 355, 434, 356, 357, 358, 435, 359, 360, 361, 344, 362, 363, 364, 365, 366, 367, 345, 368, 369, 370, 371, 372, 373, 374, 375, 431, 440, 273, 276, 279, 281, 282, 428, 342, 341, 441, 386, 115, 104, 127, 137, 150, 151, 152, 392, 138, 116, 162, 173, 174, 396, 399, 187, 175, 186, 387, 389, 68, 36, 69, 70, 38, 71, 72, 40, 7, 6, 5, 4, 3, 37, 39, 8, 9, 10, 11, 12, 13, 14, 15, 16, 17, 18, 19, 20, 21, 22, 23, 24, 56, 88, 89, 90, 58, 25, 57, 59, 26, 60, 27, 61, 28, 62, 29, 63, 30, 64, 31, 65, 32, 376, 377, 33, 95, 379, 96, 380, 97, 98, 94, 93, 101, 436, 112, 124, 134, 147, 159, 170, 183, 198, 209, 219, 411, 226, 220, 210, 199, 184, 171, 160, 148, 135, 125, 113, 383, 384, 410, 414, 237, 265, 92, 91, 378, 87, 86, 85, 84, 83, 439, 382, 109, 120, 131, 143, 156, 167, 180, 192, 193, 204, 216, 225, 233, 394, 395, 179, 398, 178, 166, 155, 142, 130, 119, 108, 390, 388, 191, 190, 202, 402, 201, 189, 177, 165, 154, 141, 129, 118, 107, 140, 139, 128, 117, 105, 106, 153, 163, 176, 188, 200, 213, 212, 221, 211, 403, 229, 222, 230, 393, 164, 397, 214, 223, 231, 203, 215, 224, 232, 385, 121, 122, 110, 132, 145, 144, 391, 157, 168, 181, 194, 205, 206, 195, 196, 197, 182, 169, 158, 146, 133, 123, 111, 208, 218, 207, 217, 404, 409, 408, 412, 260, 259, 258, 257, 256, 255, 254, 253, 252, 251, 250, 415, 249, 248, 247, 246, 245, 244, 243, 242, 241, 418, 417, 261, 262, 263, 236, 264, 416, 268, 420, 272, 423, 275, 437, 438, 419, 422, 413, 381, 55, 54, 53, 52, 51, 50, 82, 49, 81, 48, 80, 100, 47, 79, 46, 78, 45, 77, 99, 44, 42, 41, 73, 74, 75, 43, 76, 442, 1]\n",
      "Vertices :[(200.0, 400.0), (200.0, 500.0), (200.0, 600.0), (200.0, 700.0), (200.0, 800.0), (200.0, 900.0), (200.0, 1000.0), (200.0, 1100.0), (200.0, 1200.0), (200.0, 1300.0), (200.0, 1400.0), (200.0, 1500.0), (200.0, 1600.0), (200.0, 1700.0), (200.0, 1800.0), (200.0, 1900.0), (200.0, 2000.0), (200.0, 2100.0), (200.0, 2200.0), (200.0, 2300.0), (200.0, 2400.0), (200.0, 2500.0), (200.0, 2600.0), (200.0, 2700.0), (200.0, 2800.0), (200.0, 2900.0), (200.0, 3000.0), (200.0, 3100.0), (200.0, 3200.0), (200.0, 3300.0), (200.0, 3400.0), (200.0, 3500.0), (200.0, 3600.0), (300.0, 400.0), (300.0, 500.0), (300.0, 600.0), (300.0, 700.0), (300.0, 800.0), (300.0, 900.0), (300.0, 1000.0), (300.0, 1100.0), (300.0, 1200.0), (300.0, 1300.0), (300.0, 1400.0), (300.0, 1500.0), (300.0, 1600.0), (300.0, 1700.0), (300.0, 1800.0), (300.0, 1900.0), (300.0, 2000.0), (300.0, 2100.0), (300.0, 2200.0), (300.0, 2300.0), (300.0, 2400.0), (300.0, 2500.0), (300.0, 2600.0), (300.0, 2700.0), (300.0, 2800.0), (300.0, 2900.0), (300.0, 3000.0), (300.0, 3100.0), (300.0, 3200.0), (300.0, 3300.0), (300.0, 3400.0), (300.0, 3500.0), (400.0, 400.0), (400.0, 500.0), (400.0, 600.0), (400.0, 700.0), (400.0, 800.0), (400.0, 900.0), (400.0, 1000.0), (400.0, 1100.0), (400.0, 1200.0), (400.0, 1300.0), (400.0, 1400.0), (400.0, 1500.0), (400.0, 1600.0), (400.0, 1700.0), (400.0, 1800.0), (400.0, 1900.0), (400.0, 2000.0), (400.0, 2100.0), (400.0, 2200.0), (400.0, 2300.0), (400.0, 2400.0), (400.0, 2500.0), (400.0, 2600.0), (400.0, 2700.0), (400.0, 2800.0), (400.0, 2900.0), (400.0, 3000.0), (400.0, 3100.0), (400.0, 3200.0), (400.0, 3300.0), (400.0, 3400.0), (400.0, 3500.0), (400.0, 3600.0), (500.0, 1500.0), (500.0, 1829.0), (500.0, 3100.0), (600.0, 400.0), (700.0, 300.0), (700.0, 600.0), (700.0, 1500.0), (700.0, 1600.0), (700.0, 1800.0), (700.0, 2100.0), (700.0, 2400.0), (700.0, 2700.0), (700.0, 3000.0), (700.0, 3300.0), (700.0, 3600.0), (800.0, 300.0), (800.0, 600.0), (800.0, 1030.0), (800.0, 1500.0), (800.0, 1800.0), (800.0, 2100.0), (800.0, 2400.0), (800.0, 2600.0), (800.0, 2700.0), (800.0, 3000.0), (800.0, 3300.0), (800.0, 3600.0), (900.0, 300.0), (900.0, 600.0), (900.0, 1500.0), (900.0, 1800.0), (900.0, 2100.0), (900.0, 2400.0), (900.0, 2700.0), (900.0, 3000.0), (900.0, 3300.0), (900.0, 3600.0), (1000.0, 300.0), (1000.0, 600.0), (1000.0, 1100.0), (1000.0, 1500.0), (1000.0, 1629.0), (1000.0, 1800.0), (1000.0, 2100.0), (1000.0, 2400.0), (1000.0, 2600.0), (1000.0, 2700.0), (1000.0, 3000.0), (1000.0, 3300.0), (1000.0, 3600.0), (1100.0, 300.0), (1100.0, 600.0), (1100.0, 700.0), (1100.0, 900.0), (1100.0, 1500.0), (1100.0, 1800.0), (1100.0, 2100.0), (1100.0, 2400.0), (1100.0, 2700.0), (1100.0, 3000.0), (1100.0, 3300.0), (1100.0, 3600.0), (1200.0, 300.0), (1200.0, 600.0), (1200.0, 1500.0), (1200.0, 1700.0), (1200.0, 1800.0), (1200.0, 2100.0), (1200.0, 2400.0), (1200.0, 2700.0), (1200.0, 3000.0), (1200.0, 3300.0), (1200.0, 3600.0), (1300.0, 300.0), (1300.0, 600.0), (1300.0, 700.0), (1300.0, 1130.0), (1300.0, 1500.0), (1300.0, 1800.0), (1300.0, 2100.0), (1300.0, 2200.0), (1300.0, 2400.0), (1300.0, 2700.0), (1300.0, 3000.0), (1300.0, 3300.0), (1300.0, 3600.0), (1400.0, 300.0), (1400.0, 600.0), (1400.0, 930.0), (1400.0, 1500.0), (1400.0, 1800.0), (1400.0, 2000.0), (1400.0, 2100.0), (1400.0, 2400.0), (1400.0, 2500.0), (1400.0, 2700.0), (1400.0, 2820.0), (1400.0, 2900.0), (1400.0, 3000.0), (1400.0, 3300.0), (1400.0, 3600.0), (1500.0, 1500.0), (1500.0, 1800.0), (1500.0, 1900.0), (1500.0, 2100.0), (1500.0, 2400.0), (1500.0, 2700.0), (1500.0, 2800.0), (1500.0, 2860.0), (1500.0, 3000.0), (1500.0, 3300.0), (1500.0, 3600.0), (1600.0, 1100.0), (1600.0, 1300.0), (1600.0, 1500.0), (1600.0, 1800.0), (1600.0, 2100.0), (1600.0, 2400.0), (1600.0, 2700.0), (1600.0, 3000.0), (1600.0, 3300.0), (1600.0, 3600.0), (1700.0, 1200.0), (1700.0, 1500.0), (1700.0, 1800.0), (1700.0, 2100.0), (1700.0, 2400.0), (1700.0, 3600.0), (1800.0, 300.0), (1800.0, 600.0), (1800.0, 1230.0), (1800.0, 1500.0), (1800.0, 1800.0), (1800.0, 2100.0), (1800.0, 2400.0), (1900.0, 300.0), (1900.0, 600.0), (1900.0, 3000.0), (1900.0, 3520.0), (2000.0, 300.0), (2000.0, 370.0), (2000.0, 600.0), (2000.0, 800.0), (2000.0, 900.0), (2000.0, 1000.0), (2000.0, 1100.0), (2000.0, 1200.0), (2000.0, 1300.0), (2000.0, 1400.0), (2000.0, 1500.0), (2000.0, 1600.0), (2000.0, 1700.0), (2000.0, 1800.0), (2000.0, 1900.0), (2000.0, 2000.0), (2000.0, 2100.0), (2000.0, 2200.0), (2000.0, 2300.0), (2000.0, 2400.0), (2000.0, 2500.0), (2000.0, 2600.0), (2000.0, 2700.0), (2000.0, 2800.0), (2000.0, 2900.0), (2000.0, 3000.0), (2000.0, 3100.0), (2000.0, 3500.0), (2100.0, 300.0), (2100.0, 600.0), (2100.0, 3200.0), (2200.0, 300.0), (2200.0, 469.0), (2200.0, 600.0), (2200.0, 3200.0), (2300.0, 300.0), (2300.0, 600.0), (2300.0, 3400.0), (2400.0, 300.0), (2400.0, 600.0), (2400.0, 2100.0), (2500.0, 300.0), (2500.0, 800.0), (2600.0, 400.0), (2600.0, 500.0), (2600.0, 800.0), (2600.0, 900.0), (2600.0, 1000.0), (2600.0, 1100.0), (2600.0, 1200.0), (2600.0, 1300.0), (2600.0, 1400.0), (2600.0, 1500.0), (2600.0, 1600.0), (2600.0, 1700.0), (2600.0, 1800.0), (2600.0, 1900.0), (2600.0, 2000.0), (2600.0, 2100.0), (2600.0, 2200.0), (2600.0, 2300.0), (2600.0, 2400.0), (2600.0, 2500.0), (2600.0, 2600.0), (2600.0, 2700.0), (2600.0, 2800.0), (2600.0, 2900.0), (2600.0, 3000.0), (2600.0, 3100.0), (2600.0, 3400.0), (2700.0, 700.0), (2700.0, 800.0), (2700.0, 900.0), (2700.0, 1000.0), (2700.0, 1100.0), (2700.0, 1200.0), (2700.0, 1300.0), (2700.0, 1400.0), (2700.0, 1500.0), (2700.0, 1600.0), (2700.0, 1700.0), (2700.0, 1800.0), (2700.0, 1900.0), (2700.0, 2000.0), (2700.0, 2100.0), (2700.0, 2200.0), (2700.0, 2300.0), (2700.0, 2500.0), (2700.0, 2600.0), (2700.0, 2700.0), (2700.0, 2800.0), (2700.0, 2900.0), (2700.0, 3000.0), (2700.0, 3100.0), (2700.0, 3200.0), (2700.0, 3300.0), (2700.0, 3400.0), (2700.0, 3500.0), (2700.0, 3600.0), (2700.0, 3700.0), (2700.0, 3800.0), (2800.0, 900.0), (2800.0, 1130.0), (2900.0, 400.0), (2900.0, 500.0), (2900.0, 1400.0), (2900.0, 2400.0), (2900.0, 3000.0), (3000.0, 700.0), (3000.0, 800.0), (3000.0, 900.0), (3000.0, 1000.0), (3000.0, 1100.0), (3000.0, 1200.0), (3000.0, 1300.0), (3000.0, 1500.0), (3000.0, 1600.0), (3000.0, 1700.0), (3000.0, 1800.0), (3000.0, 1900.0), (3000.0, 2000.0), (3000.0, 2100.0), (3000.0, 2200.0), (3000.0, 2300.0), (3000.0, 2500.0), (3000.0, 2600.0), (3000.0, 2700.0), (3000.0, 2800.0), (3000.0, 2900.0), (3000.0, 3000.0), (3000.0, 3100.0), (3000.0, 3200.0), (3000.0, 3300.0), (3000.0, 3400.0), (3000.0, 3500.0), (3000.0, 3600.0), (3000.0, 3700.0), (3000.0, 3800.0), (150.0, 3500.0), (150.0, 3550.0), (469.0, 2550.0), (469.0, 3350.0), (469.0, 3450.0), (540.0, 2330.0), (540.0, 2430.0), (620.0, 3650.0), (620.0, 3709.0), (750.0, 2550.0), (850.0, 520.0), (850.0, 700.0), (850.0, 2280.0), (939.0, 740.0), (950.0, 2220.0), (910.0, 2600.0), (1050.0, 1050.0), (1150.0, 1350.0), (1170.0, 2280.0), (1220.0, 2210.0), (1350.0, 750.0), (1350.0, 1700.0), (1350.0, 2140.0), (1450.0, 770.0), (1550.0, 300.0), (1550.0, 500.0), (1550.0, 1850.0), (1650.0, 1050.0), (1690.0, 2680.0), (1710.0, 310.0), (1710.0, 510.0), (1750.0, 750.0), (1790.0, 2580.0), (1720.0, 2610.0), (1790.0, 3330.0), (1720.0, 3409.0), (1829.0, 2700.0), (1829.0, 2800.0), (1829.0, 3450.0), (2060.0, 1650.0), (2050.0, 3150.0), (2170.0, 1900.0), (2110.0, 2000.0), (2120.0, 2750.0), (2150.0, 3250.0), (2290.0, 1400.0), (2220.0, 2820.0), (2280.0, 3250.0), (2390.0, 1300.0), (2320.0, 1500.0), (2450.0, 710.0), (2620.0, 3650.0), (2750.0, 520.0), (2760.0, 2360.0), (2850.0, 2200.0), (2850.0, 2700.0), (2850.0, 3350.0), (2930.0, 950.0), (2950.0, 1750.0), (2950.0, 2050.0), (520.0, 3200.0), (2300.0, 3500.0), (2320.0, 3150.0), (530.0, 2100.0), (2550.0, 710.0), (750.0, 490.0), (0.0, 0.0)]\n",
      "Calculado :True\n",
      "\n"
     ]
    },
    {
     "name": "stdout",
     "output_type": "stream",
     "text": [
      "ERROR: Could not find file C:\\Users\\Luiz\\AppData\\Local\\Temp\\ipykernel_10012\\2576218384.py\n"
     ]
    },
    {
     "name": "stderr",
     "output_type": "stream",
     "text": [
      "C:\\Users\\Luiz\\AppData\\Local\\Temp\\ipykernel_10012\\2576218384.py:64: FutureWarning: The frame.append method is deprecated and will be removed from pandas in a future version. Use pandas.concat instead.\n",
      "  dataframe = dataframe.append(nova_linha, ignore_index=True)\n"
     ]
    },
    {
     "name": "stdout",
     "output_type": "stream",
     "text": [
      "Nome do Arquivo: d493\n",
      "Algoritmo : <function twice_around_the_tree at 0x00000175464D33A0>\n",
      "Tempo : 12.311232328414917\n",
      "Memória Gasta: 196.7421875 MB\n",
      "Taxa de Aproximação: 1.304271594238087\n",
      "Rota :[1, 2, 3, 4, 5, 6, 7, 8, 11, 10, 9, 12, 19, 17, 16, 15, 14, 13, 53, 57, 56, 55, 54, 58, 59, 60, 64, 86, 85, 84, 63, 62, 61, 83, 80, 78, 74, 73, 72, 71, 81, 70, 68, 69, 67, 66, 82, 79, 77, 76, 75, 96, 87, 116, 128, 122, 126, 121, 125, 129, 132, 136, 137, 135, 131, 127, 123, 120, 115, 114, 110, 102, 95, 93, 92, 91, 94, 100, 101, 98, 97, 88, 89, 90, 99, 106, 105, 108, 112, 113, 119, 117, 107, 133, 134, 138, 130, 140, 142, 144, 148, 147, 146, 156, 160, 159, 154, 152, 145, 162, 167, 166, 179, 185, 189, 186, 180, 174, 176, 175, 181, 173, 170, 163, 161, 155, 149, 171, 190, 201, 210, 216, 209, 225, 224, 21, 235, 266, 269, 301, 22, 23, 24, 31, 30, 29, 28, 27, 32, 33, 34, 35, 36, 38, 37, 39, 40, 41, 42, 45, 47, 46, 43, 44, 48, 49, 50, 52, 51, 194, 198, 197, 215, 230, 222, 236, 231, 223, 211, 208, 206, 212, 217, 213, 219, 221, 207, 203, 202, 184, 182, 172, 169, 204, 200, 192, 188, 195, 193, 177, 165, 157, 151, 143, 158, 183, 178, 214, 226, 196, 199, 205, 191, 187, 168, 164, 153, 141, 124, 118, 111, 104, 103, 109, 220, 227, 228, 229, 234, 233, 238, 245, 244, 243, 242, 256, 257, 258, 259, 260, 261, 262, 263, 264, 284, 283, 282, 281, 280, 279, 285, 286, 287, 296, 295, 294, 293, 292, 291, 290, 313, 312, 308, 303, 319, 331, 344, 340, 356, 355, 363, 351, 336, 324, 311, 300, 376, 388, 410, 367, 380, 387, 402, 403, 404, 405, 406, 407, 408, 386, 375, 359, 393, 378, 365, 353, 338, 327, 314, 309, 329, 322, 346, 333, 321, 306, 289, 360, 374, 368, 357, 343, 330, 318, 304, 364, 350, 337, 323, 310, 299, 278, 271, 267, 241, 273, 349, 358, 352, 341, 325, 317, 345, 326, 297, 276, 272, 268, 255, 298, 277, 240, 305, 342, 334, 371, 370, 369, 398, 391, 382, 390, 397, 411, 377, 389, 409, 424, 425, 432, 431, 443, 458, 461, 463, 465, 470, 467, 469, 468, 471, 472, 466, 464, 462, 457, 429, 25, 422, 423, 26, 392, 385, 399, 381, 396, 383, 400, 418, 417, 416, 415, 414, 413, 412, 437, 436, 435, 434, 447, 446, 445, 444, 433, 459, 460, 448, 449, 450, 451, 452, 453, 454, 455, 442, 456, 486, 480, 478, 477, 489, 430, 421, 401, 384, 373, 361, 347, 332, 320, 307, 288, 275, 270, 274, 316, 328, 315, 302, 339, 354, 366, 379, 394, 348, 372, 362, 335, 491, 492, 426, 427, 428, 395, 490, 488, 487, 485, 484, 482, 479, 476, 475, 474, 493, 481, 473, 483, 438, 439, 440, 441, 419, 420, 246, 247, 248, 249, 250, 251, 252, 237, 232, 253, 254, 239, 265, 218, 150, 139, 65, 18, 20, 1]\n",
      "Vertices :[(0.0, 0.0), (1116.3, 1555.2), (1357.6, 1479.0), (1148.1, 1771.1), (1186.2, 1796.5), (1205.2, 1885.4), (1237.0, 1993.4), (1300.5, 2006.1), (1160.8, 2025.1), (1173.5, 2037.8), (1224.3, 2050.5), (1351.3, 2241.0), (1732.3, 2133.1), (1745.0, 2190.2), (1764.0, 2291.8), (1764.0, 2342.6), (1732.3, 2393.4), (1745.0, 2418.8), (1649.7, 2431.5), (1757.7, 2520.4), (2297.4, 1771.1), (2214.9, 1428.2), (2227.6, 1339.3), (2183.1, 1320.3), (2614.9, 1110.7), (2507.0, 1161.5), (2348.2, 952.0), (2221.2, 1009.1), (2208.5, 1085.3), (2202.2, 1136.1), (2214.9, 1174.2), (2024.4, 1123.4), (2043.4, 1301.2), (1948.2, 1307.6), (1941.8, 1390.1), (1846.6, 1415.5), (1757.7, 1364.7), (1802.1, 1352.0), (1833.9, 1263.1), (1732.3, 1250.4), (2043.4, 1580.6), (2049.8, 1745.7), (1999.0, 1802.9), (1960.9, 1815.6), (2056.1, 1821.9), (2011.7, 1828.3), (2043.4, 1853.7), (1846.6, 1783.8), (1821.2, 1828.3), (1846.6, 1866.4), (1814.8, 1650.5), (1668.8, 1809.2), (1859.3, 2164.8), (1986.3, 2133.1), (2011.7, 2177.5), (1948.2, 2196.6), (1891.0, 2247.4), (2011.7, 2272.8), (2037.1, 2304.5), (2056.1, 2355.3), (1897.4, 2412.5), (1897.4, 2456.9), (1916.4, 2469.6), (2056.1, 2469.6), (2157.7, 2139.4), (1637.0, 2698.2), (1706.9, 2704.6), (1764.0, 2749.0), (1706.9, 2774.4), (1764.0, 2799.8), (1872.0, 3066.5), (1852.9, 3003.0), (1872.0, 2996.7), (1897.4, 2996.7), (2214.9, 2971.3), (2195.8, 2939.5), (2246.6, 2888.7), (1891.0, 2869.7), (2202.2, 2844.3), (1903.7, 2818.9), (1872.0, 2818.9), (2011.7, 2761.7), (1903.7, 2698.2), (1954.5, 2583.9), (2056.1, 2577.6), (2094.2, 2564.9), (2195.8, 2476.0), (2589.5, 2990.3), (2608.6, 2990.3), (2507.0, 3003.0), (2894.3, 3047.5), (2894.3, 3003.0), (2907.0, 2971.3), (3027.7, 3047.5), (2792.7, 2812.5), (2227.6, 2812.5), (2583.2, 2799.8), (2595.9, 2774.4), (2507.0, 2774.4), (2722.9, 2755.4), (2614.9, 2749.0), (2888.0, 2730.0), (3211.8, 2730.0), (3142.0, 2717.3), (2754.6, 2698.2), (2456.2, 2698.2), (2570.5, 2622.0), (2722.9, 2622.0), (3364.2, 2622.0), (2900.7, 2615.7), (3135.6, 2603.0), (2710.2, 2596.6), (2716.5, 2545.8), (2888.0, 2533.1), (2849.9, 2514.1), (2297.4, 2514.1), (2608.6, 2495.0), (3224.5, 2488.7), (2691.1, 2476.0), (2875.3, 2437.9), (2500.6, 2418.8), (2430.8, 2399.8), (2875.3, 2399.8), (3129.3, 2368.0), (2583.2, 2368.0), (2494.3, 2368.0), (2780.0, 2361.7), (2335.5, 2355.3), (2614.9, 2317.2), (2926.1, 2304.5), (2805.4, 2291.8), (2583.2, 2291.8), (2824.5, 2285.5), (2862.6, 2279.1), (2799.1, 2260.1), (2691.1, 2260.1), (2754.6, 2253.7), (2913.4, 2253.7), (2348.2, 2241.0), (2907.0, 2234.7), (3135.6, 2234.7), (2926.1, 2228.3), (3434.1, 2202.9), (2881.6, 2190.2), (2602.2, 2190.2), (2710.2, 2164.8), (2792.7, 2145.8), (2824.5, 2133.1), (2424.4, 2107.7), (2868.9, 2101.3), (3434.1, 2101.3), (2614.9, 2088.6), (3078.5, 2082.3), (2589.5, 2075.9), (2487.9, 2063.2), (2735.6, 2063.2), (3446.8, 2044.2), (3351.5, 2031.5), (2627.6, 2018.8), (2697.5, 2006.1), (2487.9, 1993.4), (2684.8, 1974.3), (2462.5, 1968.0), (3135.6, 1968.0), (3396.0, 1968.0), (2748.3, 1961.6), (2722.9, 1961.6), (3230.9, 1955.3), (2970.5, 1942.6), (2475.2, 1936.2), (2513.3, 1923.5), (2926.1, 1917.2), (2494.3, 1910.8), (2614.9, 1904.5), (2519.7, 1891.8), (2589.5, 1891.8), (3408.7, 1891.8), (3643.6, 1891.8), (2786.4, 1885.4), (2659.4, 1885.4), (2494.3, 1879.1), (2957.8, 1879.1), (3459.5, 1879.1), (3053.1, 1866.4), (2773.7, 1866.4), (2710.2, 1866.4), (3237.2, 1853.7), (3326.1, 1853.7), (2735.6, 1847.3), (2494.3, 1834.6), (3269.0, 1834.6), (3307.1, 1834.6), (3364.2, 1834.6), (2672.1, 1828.3), (3351.5, 1821.9), (3472.2, 1821.9), (2868.9, 1815.6), (2811.8, 1809.2), (3351.5, 1802.9), (3294.4, 1796.5), (2545.1, 1796.5), (3110.2, 1777.5), (3161.0, 1777.5), (3281.7, 1777.5), (3338.8, 1758.4), (2995.9, 1758.4), (3199.1, 1720.3), (3002.3, 1720.3), (2634.0, 1720.3), (2507.0, 1707.6), (2964.2, 1707.6), (3059.4, 1707.6), (3097.5, 1707.6), (3643.6, 1707.6), (2805.4, 1701.3), (2583.2, 1694.9), (3078.5, 1694.9), (2894.3, 1688.6), (3148.3, 1682.2), (3218.2, 1663.2), (3199.1, 1663.2), (2729.2, 1663.2), (2951.5, 1650.5), (2430.8, 1644.1), (2507.0, 1631.4), (3599.2, 1631.4), (3135.6, 1625.1), (3078.5, 1625.1), (3059.4, 1625.1), (2773.7, 1625.1), (2913.4, 1618.7), (3307.1, 1618.7), (3135.6, 1606.0), (3015.0, 1606.0), (2424.4, 1599.7), (2830.8, 1593.3), (3294.4, 1593.3), (3129.3, 1580.6), (3376.9, 1567.9), (2614.9, 1567.9), (2932.4, 1548.9), (3046.2, 1547.3), (3072.2, 1547.3), (3098.2, 1547.3), (3124.2, 1547.3), (3150.2, 1547.3), (3176.2, 1547.3), (3202.2, 1547.3), (3228.2, 1547.3), (3254.2, 1547.3), (3280.2, 1547.3), (3306.2, 1547.3), (3332.2, 1547.3), (3358.2, 1547.3), (2722.9, 1536.2), (3065.7, 1524.6), (3111.2, 1524.6), (3137.2, 1524.6), (3163.2, 1524.6), (3189.2, 1524.6), (3215.2, 1524.6), (3241.2, 1524.6), (3267.2, 1524.6), (3293.2, 1524.6), (3345.2, 1524.6), (2437.1, 1523.5), (2964.2, 1510.8), (2741.9, 1504.4), (2430.8, 1504.4), (3413.5, 1498.6), (2997.5, 1492.1), (2824.5, 1485.4), (3020.2, 1479.1), (3390.7, 1479.1), (3413.5, 1472.6), (2837.2, 1466.3), (2608.6, 1466.3), (2997.5, 1466.1), (3104.7, 1466.1), (3130.7, 1466.1), (3156.7, 1466.1), (3182.7, 1466.1), (3208.7, 1466.1), (3234.7, 1466.1), (3260.7, 1466.1), (3286.7, 1466.1), (3312.7, 1466.1), (3413.5, 1446.6), (3078.7, 1446.6), (3117.7, 1443.3), (3143.7, 1443.3), (3169.7, 1443.3), (3195.7, 1443.3), (3221.7, 1443.3), (3247.7, 1443.3), (3273.7, 1443.3), (2900.7, 1440.9), (2691.1, 1440.9), (2997.5, 1440.1), (3332.2, 1440.1), (2437.1, 1434.6), (3390.7, 1433.6), (3309.5, 1427.1), (3020.2, 1427.1), (2583.2, 1421.9), (3078.7, 1420.6), (3413.5, 1420.6), (3283.5, 1417.3), (3127.5, 1417.3), (2997.5, 1414.1), (3332.2, 1414.1), (3237.2, 1409.2), (3199.1, 1409.2), (3101.5, 1407.6), (3390.7, 1407.6), (3440.4, 1402.8), (2951.5, 1402.8), (3020.2, 1401.1), (3309.5, 1401.1), (3413.5, 1394.6), (3078.7, 1394.6), (3161.0, 1390.1), (2997.5, 1388.1), (3332.2, 1388.1), (2938.8, 1383.8), (2875.3, 1383.8), (3101.5, 1381.6), (3390.7, 1381.6), (3139.9, 1375.4), (3020.2, 1375.1), (3309.5, 1375.1), (3413.5, 1368.6), (3078.7, 1368.6), (2799.1, 1364.7), (3599.2, 1364.7), (3332.2, 1362.1), (2997.5, 1362.1), (3101.5, 1355.6), (3390.7, 1355.6), (3269.0, 1352.0), (2919.7, 1352.0), (2837.2, 1352.0), (3020.2, 1349.1), (3309.5, 1349.1), (2875.3, 1345.7), (3078.7, 1342.6), (3413.5, 1342.6), (3484.9, 1339.3), (2970.5, 1339.3), (2997.5, 1336.1), (3332.2, 1336.1), (2913.4, 1333.0), (3101.5, 1329.6), (3390.7, 1329.6), (3309.5, 1323.1), (3243.6, 1323.1), (3020.2, 1323.1), (2957.8, 1320.3), (3154.7, 1320.3), (3078.7, 1316.6), (3413.5, 1316.6), (3611.9, 1313.9), (3332.2, 1310.1), (2997.5, 1310.1), (3101.5, 1303.6), (3390.7, 1303.6), (3309.5, 1297.1), (3020.2, 1297.1), (2849.9, 1294.9), (2875.3, 1294.9), (2900.7, 1294.9), (3542.0, 1294.9), (3413.5, 1290.6), (3078.7, 1290.6), (3173.7, 1288.5), (3332.2, 1284.1), (2997.5, 1284.1), (3101.5, 1277.6), (3390.7, 1277.6), (3309.5, 1271.1), (3020.2, 1271.1), (2767.3, 1269.5), (3078.7, 1264.6), (3413.5, 1264.6), (2602.2, 1263.1), (3127.5, 1261.3), (3283.5, 1261.3), (3332.2, 1258.1), (2997.5, 1258.1), (2881.6, 1256.8), (2792.7, 1256.8), (2557.8, 1256.8), (3101.5, 1251.6), (3390.7, 1251.6), (3478.5, 1250.4), (3020.2, 1245.1), (2919.7, 1244.1), (2818.1, 1244.1), (2519.7, 1244.1), (3078.7, 1238.6), (3413.5, 1238.6), (3293.2, 1235.3), (3267.2, 1235.3), (3241.2, 1235.3), (3215.2, 1235.3), (3189.2, 1235.3), (3163.2, 1235.3), (3137.2, 1235.3), (2997.5, 1232.1), (3332.2, 1232.1), (2881.6, 1225.0), (3098.2, 1212.6), (3124.2, 1212.6), (3150.2, 1212.6), (3176.2, 1212.6), (3202.2, 1212.6), (3228.2, 1212.6), (3254.2, 1212.6), (3280.2, 1212.6), (3306.2, 1212.6), (3413.5, 1212.6), (2589.5, 1212.3), (2570.5, 1212.3), (2997.5, 1206.1), (3020.2, 1199.6), (3390.7, 1199.6), (3459.5, 1199.6), (3484.9, 1199.6), (2659.4, 1193.3), (3413.5, 1186.6), (2938.8, 1180.4), (2997.5, 1180.1), (3065.7, 1154.1), (3117.7, 1154.1), (3143.7, 1154.1), (3169.7, 1154.1), (3195.7, 1154.1), (3221.7, 1154.1), (3247.7, 1154.1), (3273.7, 1154.1), (3299.7, 1154.1), (3345.2, 1154.1), (2926.1, 1142.5), (3052.7, 1131.3), (3078.7, 1131.3), (3104.7, 1131.3), (3130.7, 1131.3), (3156.7, 1131.3), (3182.7, 1131.3), (3208.7, 1131.3), (3234.7, 1131.3), (3260.7, 1131.3), (3286.7, 1131.3), (3312.7, 1131.3), (3338.7, 1131.3), (3364.7, 1131.3), (2741.9, 1129.8), (2862.6, 1123.4), (3065.8, 1098.0), (3034.0, 1091.7), (2875.3, 1079.0), (2792.7, 1040.9), (2900.7, 1028.2), (2837.2, 1021.8), (2945.1, 1015.5), (2862.6, 1009.1), (2938.8, 831.3), (3072.1, 932.9), (3059.4, 952.0), (3034.0, 964.7), (3065.8, 971.0), (3091.2, 990.1), (3205.5, 983.7), (3408.7, 875.8), (3459.5, 920.2), (3510.3, 1015.5), (3364.2, 1015.5), (3383.3, 1028.2), (3497.6, 1028.2), (3396.0, 1053.6), (3294.4, 1053.6), (3516.6, 1072.6), (3218.2, 1098.0), (3567.4, 1104.4), (3554.7, 1123.4), (3396.0, 1123.4), (3548.4, 1142.5), (3529.3, 1155.2), (3408.7, 1161.5), (3472.2, 1174.2), (3694.4, 1301.2), (3745.2, 1275.8), (3745.2, 1021.8)]\n",
      "Calculado :True\n",
      "\n"
     ]
    },
    {
     "name": "stdout",
     "output_type": "stream",
     "text": [
      "ERROR: Could not find file C:\\Users\\Luiz\\AppData\\Local\\Temp\\ipykernel_10012\\2576218384.py\n"
     ]
    },
    {
     "name": "stderr",
     "output_type": "stream",
     "text": [
      "C:\\Users\\Luiz\\AppData\\Local\\Temp\\ipykernel_10012\\2576218384.py:64: FutureWarning: The frame.append method is deprecated and will be removed from pandas in a future version. Use pandas.concat instead.\n",
      "  dataframe = dataframe.append(nova_linha, ignore_index=True)\n"
     ]
    },
    {
     "name": "stdout",
     "output_type": "stream",
     "text": [
      "Nome do Arquivo: u574\n",
      "Algoritmo : <function twice_around_the_tree at 0x00000175464D33A0>\n",
      "Tempo : 15.797382831573486\n",
      "Memória Gasta: 197.37109375 MB\n",
      "Taxa de Aproximação: 1.351685050219677\n",
      "Rota :[1, 569, 568, 567, 566, 2, 3, 4, 48, 49, 50, 47, 46, 45, 44, 51, 52, 53, 54, 55, 57, 56, 80, 41, 40, 39, 38, 37, 36, 42, 43, 81, 79, 82, 83, 84, 86, 85, 110, 109, 89, 88, 29, 28, 30, 27, 26, 25, 24, 23, 22, 21, 18, 17, 16, 15, 222, 221, 220, 20, 19, 32, 31, 34, 33, 35, 219, 218, 217, 216, 215, 212, 214, 213, 166, 167, 175, 176, 173, 172, 171, 170, 169, 168, 153, 156, 157, 158, 159, 160, 162, 161, 163, 155, 154, 164, 174, 177, 178, 179, 180, 181, 182, 183, 184, 185, 186, 187, 188, 209, 208, 232, 233, 234, 231, 229, 228, 227, 226, 225, 224, 223, 241, 230, 235, 236, 237, 240, 239, 206, 205, 204, 243, 242, 244, 245, 246, 203, 247, 202, 248, 249, 201, 200, 199, 198, 197, 195, 194, 190, 189, 193, 191, 192, 196, 250, 251, 253, 252, 254, 519, 518, 517, 516, 515, 474, 470, 467, 466, 465, 464, 463, 460, 458, 459, 457, 461, 396, 397, 395, 256, 255, 257, 258, 261, 260, 259, 391, 392, 393, 394, 398, 399, 400, 401, 449, 448, 443, 442, 444, 445, 441, 446, 433, 432, 431, 430, 434, 435, 436, 440, 437, 438, 439, 447, 450, 456, 451, 452, 453, 455, 454, 402, 403, 404, 416, 415, 414, 413, 412, 358, 356, 357, 359, 360, 353, 354, 355, 361, 362, 363, 364, 352, 365, 366, 350, 351, 349, 348, 367, 368, 369, 347, 346, 345, 370, 371, 341, 340, 339, 338, 372, 373, 374, 375, 378, 380, 379, 334, 333, 269, 332, 335, 331, 336, 337, 381, 382, 385, 384, 383, 386, 387, 388, 266, 267, 268, 389, 265, 264, 273, 272, 271, 270, 274, 275, 276, 277, 278, 263, 262, 279, 280, 281, 390, 342, 343, 344, 376, 377, 411, 410, 405, 409, 408, 407, 406, 417, 418, 420, 419, 421, 422, 423, 424, 425, 426, 427, 428, 429, 462, 469, 468, 471, 472, 473, 476, 475, 477, 478, 479, 480, 481, 482, 483, 484, 485, 486, 487, 488, 489, 490, 492, 491, 493, 494, 495, 496, 497, 498, 499, 500, 501, 502, 503, 505, 504, 507, 506, 508, 509, 510, 512, 511, 514, 513, 521, 520, 522, 523, 524, 525, 528, 527, 526, 531, 530, 529, 536, 537, 538, 539, 540, 542, 541, 543, 544, 545, 14, 548, 547, 546, 13, 12, 550, 551, 552, 553, 554, 555, 556, 557, 560, 559, 558, 7, 6, 5, 563, 562, 561, 8, 9, 10, 11, 549, 532, 533, 535, 534, 207, 238, 285, 286, 287, 288, 289, 290, 291, 292, 293, 294, 295, 296, 297, 298, 299, 305, 306, 304, 303, 302, 301, 300, 311, 310, 312, 309, 313, 314, 315, 316, 317, 318, 319, 320, 321, 322, 323, 326, 325, 324, 328, 329, 330, 327, 307, 308, 282, 283, 284, 210, 211, 165, 87, 90, 91, 92, 93, 94, 108, 107, 105, 106, 104, 95, 103, 102, 101, 99, 122, 119, 118, 114, 113, 112, 111, 117, 116, 115, 74, 73, 72, 63, 62, 61, 64, 71, 69, 68, 67, 66, 65, 127, 128, 129, 130, 70, 126, 125, 124, 132, 133, 131, 75, 76, 60, 59, 77, 78, 120, 123, 98, 97, 121, 100, 96, 139, 138, 137, 136, 135, 134, 140, 141, 142, 143, 144, 145, 146, 147, 148, 149, 150, 152, 151, 58, 565, 564, 570, 574, 573, 572, 571, 1]\n",
      "Vertices :[(629.57, 680.86), (756.5, 772.7), (781.89, 772.7), (807.3, 772.7), (1010.51, 899.71), (1035.9, 874.3), (1090.61, 921.19), (1090.61, 971.99), (1090.61, 997.4), (1112.11, 1001.31), (1239.1, 1102.89), (1366.09, 1001.31), (1467.7, 975.9), (1598.59, 997.4), (1700.2, 1149.8), (1700.2, 1175.2), (1636.7, 1226.0), (1598.59, 1251.41), (1543.91, 1306.09), (1531.19, 1229.9), (1645.51, 1306.09), (1649.39, 1378.4), (1624.0, 1429.2), (1624.0, 1454.61), (1598.59, 1505.39), (1543.91, 1509.3), (1518.5, 1433.11), (1370.0, 1505.39), (1340.7, 1509.3), (1391.5, 1433.11), (1416.89, 1306.09), (1455.0, 1280.7), (1408.11, 1226.0), (1370.0, 1251.41), (1344.61, 1251.41), (1217.6, 1353.01), (1166.8, 1353.01), (1154.1, 1276.8), (1090.61, 1314.9), (1065.2, 1327.6), (1039.8, 1353.01), (1035.9, 1306.09), (1023.2, 1280.7), (883.5, 1102.89), (858.11, 1064.8), (811.19, 1048.2), (705.7, 1001.31), (633.4, 921.19), (633.4, 997.4), (654.9, 1026.7), (658.81, 1048.2), (658.81, 1073.59), (654.9, 1102.89), (756.5, 1153.69), (760.39, 1175.2), (861.99, 1302.21), (760.39, 1276.8), (658.81, 1353.01), (709.61, 1530.8), (735.0, 1581.6), (620.7, 1683.2), (658.81, 1734.0), (658.81, 1784.8), (608.01, 1797.5), (654.9, 1890.29), (705.7, 1915.7), (756.5, 1915.7), (756.5, 1890.29), (781.89, 1890.29), (836.6, 1886.41), (781.89, 1839.49), (756.5, 1788.69), (781.89, 1763.3), (807.3, 1763.3), (781.89, 1712.5), (756.5, 1661.7), (807.3, 1661.7), (832.7, 1585.51), (896.19, 1420.39), (959.71, 1344.2), (963.59, 1403.81), (963.59, 1454.61), (1010.51, 1483.91), (1035.9, 1483.91), (1137.5, 1534.71), (1137.5, 1483.91), (1213.69, 1458.5), (1268.4, 1505.39), (1268.4, 1556.19), (1315.29, 1585.51), (1366.09, 1585.51), (1370.0, 1632.4), (1344.61, 1632.4), (1344.61, 1683.2), (1319.2, 1784.8), (1141.41, 1937.21), (1039.8, 1911.8), (1010.51, 1903.01), (1061.31, 1839.49), (1112.11, 1864.9), (1112.11, 1814.1), (1188.3, 1788.69), (1213.69, 1788.69), (1239.1, 1763.3), (1213.69, 1712.5), (1239.1, 1712.5), (1213.69, 1661.7), (1166.8, 1632.4), (1192.21, 1581.6), (1166.8, 1568.91), (1061.31, 1661.7), (1039.8, 1632.4), (963.59, 1708.59), (938.2, 1759.39), (874.71, 1784.8), (883.5, 1814.1), (908.91, 1814.1), (959.71, 1788.69), (985.1, 1788.69), (985.1, 1763.3), (1014.39, 1759.39), (1014.39, 1784.8), (989.0, 1835.61), (938.2, 1962.6), (887.4, 1949.9), (861.99, 1937.21), (709.61, 2064.2), (595.29, 2165.8), (491.99, 2214.8), (514.49, 2297.3), (870.8, 2042.7), (912.79, 2013.4), (912.79, 2064.2), (997.79, 2182.4), (1035.9, 2118.91), (1035.9, 2093.5), (1086.7, 2080.8), (1099.39, 2055.39), (1112.11, 2030.0), (1141.41, 2089.61), (1188.3, 2144.3), (1264.49, 2118.91), (1289.9, 2144.3), (1353.4, 2106.19), (1302.6, 2004.61), (1391.5, 2080.8), (1442.3, 2042.7), (1467.7, 2042.7), (1493.11, 2042.7), (1522.4, 2026.09), (1518.5, 2118.91), (1569.3, 2042.7), (1569.3, 1890.29), (1594.71, 1814.1), (1573.2, 1784.8), (1522.4, 1835.61), (1496.99, 1886.41), (1471.6, 1886.41), (1446.19, 1886.41), (1493.11, 1814.1), (1467.7, 1788.69), (1493.11, 1788.69), (1518.5, 1788.69), (1543.91, 1737.89), (1594.71, 1610.9), (1763.69, 1784.8), (1700.2, 1784.8), (1645.51, 1941.09), (1721.7, 1991.89), (1772.5, 1966.5), (1797.89, 1966.5), (1836.0, 1966.5), (1861.41, 1890.29), (1886.8, 1890.29), (1848.69, 1814.1), (1874.1, 1814.1), (1899.49, 1814.1), (1950.29, 1788.69), (1975.7, 1788.69), (1975.7, 1839.49), (2001.09, 1839.49), (2051.89, 1839.49), (2051.89, 1788.69), (2026.5, 1737.89), (2077.3, 1712.5), (2128.11, 1687.11), (2204.3, 1737.89), (2204.3, 1788.69), (2382.11, 1636.31), (2445.61, 1585.51), (2483.69, 1585.51), (2525.7, 1581.6), (2474.9, 1556.19), (2449.49, 1556.19), (2386.0, 1530.8), (2360.61, 1530.8), (2382.11, 1471.19), (2360.61, 1403.81), (2335.2, 1403.81), (2293.2, 1356.89), (2331.31, 1331.5), (2297.11, 1276.8), (2246.31, 1276.8), (2195.51, 1353.01), (2157.4, 1403.81), (2157.4, 1429.2), (2208.2, 1480.0), (2081.19, 1606.99), (2030.39, 1657.79), (1954.2, 1734.0), (1903.4, 1708.59), (1827.21, 1632.4), (1776.41, 1734.0), (1772.5, 1712.5), (1747.11, 1636.31), (1772.5, 1534.71), (1772.5, 1509.3), (1747.11, 1433.11), (1696.31, 1382.3), (1772.5, 1306.09), (1772.5, 1255.29), (1759.8, 1229.9), (1899.49, 1280.7), (1924.9, 1280.7), (1950.29, 1280.7), (1966.89, 1327.6), (1941.5, 1340.29), (1928.81, 1403.81), (1903.4, 1403.81), (1878.01, 1403.81), (1903.4, 1480.0), (1966.89, 1606.99), (1937.6, 1610.9), (1975.7, 1534.71), (2026.5, 1483.91), (2005.0, 1454.61), (2051.89, 1458.5), (2128.11, 1509.3), (2128.11, 1458.5), (2081.19, 1403.81), (2005.0, 1353.01), (2077.3, 1280.7), (2140.8, 1280.7), (2191.6, 1229.9), (2229.71, 1229.9), (2255.1, 1229.9), (2293.2, 1229.9), (2356.7, 1280.7), (2356.7, 1331.5), (2407.5, 1369.61), (2509.1, 1382.3), (2521.8, 1356.89), (2534.49, 1382.3), (2585.29, 1331.5), (2813.91, 1483.91), (2851.99, 1458.5), (2792.4, 1530.8), (2766.99, 1530.8), (2737.7, 1572.79), (2763.11, 1585.51), (2792.4, 1581.6), (2678.11, 1695.9), (2665.41, 1759.39), (2737.7, 1826.8), (2788.5, 1788.69), (2868.59, 1861.0), (2915.51, 1864.9), (2944.8, 1886.41), (2995.61, 1975.29), (2894.0, 1975.29), (2817.79, 1975.29), (2728.91, 1937.21), (2728.91, 1886.41), (2652.7, 1873.69), (2623.4, 1877.6), (2614.61, 1835.61), (2585.29, 1814.1), (2589.2, 1784.8), (2538.4, 1810.2), (2513.01, 1784.8), (2386.0, 1861.0), (2259.0, 1962.6), (2220.9, 1937.21), (2182.79, 1924.49), (2005.0, 1937.21), (1979.61, 2038.81), (1954.2, 2038.81), (1916.09, 2076.89), (1852.6, 2140.39), (1827.21, 2165.8), (1814.49, 2229.3), (1874.1, 2156.99), (1950.29, 2093.5), (2001.09, 2093.5), (2051.89, 2118.91), (2081.19, 2115.0), (2081.19, 2191.19), (2153.5, 2195.1), (2229.71, 2258.59), (2331.31, 2144.3), (2309.8, 2140.39), (2259.0, 2140.39), (2233.59, 2140.39), (2208.2, 2140.39), (2144.71, 2089.61), (2166.19, 2080.8), (2229.71, 2042.7), (2255.1, 2042.7), (2356.7, 2068.11), (2436.8, 2140.39), (2382.11, 2144.3), (2407.5, 2068.11), (2432.89, 2055.39), (2432.89, 2030.0), (2436.8, 2026.09), (2483.69, 2042.7), (2509.1, 2042.7), (2563.81, 2102.3), (2538.4, 2165.8), (2585.29, 2106.19), (2661.5, 2068.11), (2661.5, 2042.7), (2703.5, 2076.89), (2661.5, 2144.3), (2686.89, 2144.3), (2716.19, 2140.39), (2813.91, 2245.9), (2813.91, 2118.91), (2843.2, 2115.0), (2902.79, 2195.1), (3017.11, 2195.1), (2979.0, 2106.19), (3017.11, 2042.7), (3042.5, 2042.7), (3055.2, 2106.19), (3080.61, 2106.19), (3131.41, 2118.91), (3194.9, 2042.7), (3220.29, 2042.7), (3220.29, 2068.11), (3258.4, 2093.5), (3224.2, 2115.0), (3433.5, 2345.29), (3516.0, 2322.79), (3360.0, 1991.89), (3410.8, 1979.2), (3398.11, 1915.7), (3436.19, 1852.21), (3401.99, 1835.61), (3360.0, 1788.69), (3398.11, 1788.69), (3398.11, 1712.5), (3372.7, 1598.2), (3398.11, 1598.2), (3423.5, 1585.51), (3423.5, 1483.91), (3376.6, 1403.81), (3351.19, 1454.61), (3300.41, 1530.8), (3300.41, 1581.6), (3249.61, 1632.4), (3271.09, 1661.7), (3296.5, 1661.7), (3325.8, 1708.59), (3275.0, 1734.0), (3300.41, 1784.8), (3338.5, 1835.61), (3325.8, 1861.0), (3338.5, 1911.8), (3300.41, 1988.01), (3300.41, 2038.81), (3233.01, 2017.3), (3207.6, 1953.81), (3233.01, 1941.09), (3233.01, 1877.6), (3233.01, 1801.41), (3173.4, 1810.2), (3173.4, 1886.41), (3093.3, 1966.5), (3131.41, 1915.7), (3106.0, 1864.9), (3093.3, 1788.69), (3046.41, 1721.31), (3008.3, 1734.0), (3021.0, 1784.8), (2944.8, 1759.39), (2894.0, 1784.8), (2868.59, 1784.8), (2843.2, 1784.8), (2864.71, 1737.89), (2890.1, 1610.9), (2940.9, 1560.1), (2991.7, 1534.71), (3046.41, 1480.0), (2915.51, 1407.7), (2864.71, 1344.2), (2890.1, 1344.2), (2940.9, 1306.09), (2940.9, 1268.01), (3004.39, 1229.9), (3042.5, 1204.49), (3033.69, 1276.8), (3055.2, 1356.89), (3106.0, 1356.89), (3148.01, 1454.61), (3109.9, 1581.6), (3169.49, 1598.2), (3169.49, 1560.1), (3169.49, 1534.71), (3194.9, 1509.3), (3233.01, 1509.3), (3275.0, 1403.81), (3224.2, 1378.4), (3198.81, 1378.4), (3194.9, 1356.89), (3182.21, 1331.5), (3194.9, 1268.01), (3173.4, 1251.41), (3122.6, 1226.0), (3144.1, 1204.49), (3169.49, 1179.1), (3207.6, 1166.41), (3245.7, 1153.69), (3271.09, 1153.69), (3249.61, 1226.0), (3283.81, 1280.7), (3309.2, 1217.21), (3347.3, 1204.49), (3452.79, 1111.7), (3325.8, 997.4), (3300.41, 997.4), (3275.0, 1022.79), (3224.2, 997.4), (3245.7, 950.51), (3309.2, 772.7), (3347.3, 772.7), (3491.99, 683.01), (3536.99, 683.01), (3564.0, 710.0), (3463.44, 683.01), (3122.6, 921.19), (3021.0, 971.99), (3067.89, 1001.31), (3093.3, 1001.31), (3144.1, 1001.31), (3173.4, 1048.2), (3097.21, 1022.79), (3021.0, 1073.59), (2995.61, 1149.8), (2940.9, 1090.2), (2902.79, 1026.7), (2928.2, 963.2), (2966.31, 874.3), (2855.9, 971.99), (2868.59, 997.4), (2894.0, 1099.0), (2792.4, 1149.8), (2830.51, 1213.3), (2805.1, 1213.3), (2843.2, 1276.8), (2830.51, 1327.6), (2805.1, 1327.6), (2792.4, 1276.8), (2699.61, 1293.4), (2699.61, 1217.21), (2640.0, 1175.2), (2661.5, 1090.2), (2716.19, 1073.59), (2665.41, 1048.2), (2589.2, 1099.0), (2572.6, 1026.7), (2576.5, 946.6), (2551.09, 1022.79), (2500.29, 1099.0), (2538.4, 1200.61), (2513.01, 1200.61), (2382.11, 1052.11), (2394.8, 1026.7), (2394.8, 1001.31), (2420.2, 975.9), (2432.89, 899.71), (2496.41, 836.19), (2534.49, 823.5), (2559.9, 823.5), (2610.7, 836.19), (2737.7, 823.5), (2763.11, 823.5), (2788.5, 823.5), (2839.3, 823.5), (2884.61, 676.6), (2889.61, 671.6), (2886.68, 674.51), (2630.61, 676.6), (2632.7, 674.51), (2635.61, 671.6), (2659.12, 606.8), (2409.71, 683.01), (2293.26, 680.86), (2290.35, 677.95), (2223.42, 680.86), (2220.51, 677.95), (2172.62, 680.86), (2169.71, 677.95), (2093.5, 677.95), (2096.41, 680.86), (2318.59, 874.3), (2347.89, 908.5), (2284.39, 870.39), (2259.0, 870.39), (2246.31, 895.8), (2170.1, 883.11), (2233.59, 921.19), (2331.31, 1026.7), (2360.61, 1022.79), (2398.69, 1073.59), (2373.3, 1099.0), (2386.0, 1124.39), (2347.89, 1149.8), (2309.8, 1149.8), (2182.79, 1073.59), (2195.51, 1149.8), (2131.99, 1149.8), (2068.5, 1149.8), (2030.39, 1149.8), (1912.21, 1153.69), (1928.81, 1022.79), (1903.4, 1022.79), (1852.6, 1073.59), (1721.7, 1001.31), (1772.5, 1001.31), (1823.3, 1014.0), (1823.3, 988.59), (1861.41, 950.51), (1928.81, 895.8), (1865.29, 921.19), (1747.11, 899.71), (1747.11, 874.3), (1747.11, 848.91), (1747.11, 823.5), (1747.11, 798.11), (1700.2, 794.2), (1700.2, 819.61), (1649.39, 794.2), (1649.39, 870.39), (1624.0, 895.8), (1518.5, 899.71), (1531.19, 874.3), (1543.91, 848.91), (1522.4, 819.61), (1471.6, 870.39), (1420.8, 857.7), (1395.39, 845.0), (1395.39, 895.8), (1344.61, 895.8), (1217.6, 908.5), (1166.8, 870.39), (1141.41, 857.7), (1137.5, 899.71), (1217.6, 819.61), (1154.1, 794.2), (1065.2, 768.81), (1039.8, 781.5), (1014.39, 794.2), (826.41, 680.86), (823.5, 677.95), (750.21, 680.86), (747.3, 677.95), (667.66, 680.86), (664.75, 677.95), (652.7, 606.8), (491.99, 755.0), (491.99, 710.0), (519.0, 683.01), (626.64, 677.95)]\n",
      "Calculado :True\n",
      "\n"
     ]
    },
    {
     "name": "stdout",
     "output_type": "stream",
     "text": [
      "ERROR: Could not find file C:\\Users\\Luiz\\AppData\\Local\\Temp\\ipykernel_10012\\2576218384.py\n"
     ]
    },
    {
     "name": "stderr",
     "output_type": "stream",
     "text": [
      "C:\\Users\\Luiz\\AppData\\Local\\Temp\\ipykernel_10012\\2576218384.py:64: FutureWarning: The frame.append method is deprecated and will be removed from pandas in a future version. Use pandas.concat instead.\n",
      "  dataframe = dataframe.append(nova_linha, ignore_index=True)\n"
     ]
    },
    {
     "name": "stdout",
     "output_type": "stream",
     "text": [
      "Nome do Arquivo: rat575\n",
      "Algoritmo : <function twice_around_the_tree at 0x00000175464D33A0>\n",
      "Tempo : 26.02027177810669\n",
      "Memória Gasta: 189.7421875 MB\n",
      "Taxa de Aproximação: 1.3848672280268775\n",
      "Rota :[1, 25, 24, 48, 49, 72, 71, 70, 47, 93, 94, 95, 117, 116, 118, 141, 142, 143, 144, 121, 120, 119, 122, 146, 147, 124, 123, 99, 98, 75, 97, 96, 101, 100, 78, 77, 76, 102, 103, 104, 81, 105, 106, 84, 83, 82, 60, 61, 38, 37, 36, 59, 58, 35, 13, 12, 14, 34, 11, 10, 9, 33, 32, 31, 30, 8, 7, 6, 53, 52, 29, 28, 5, 4, 3, 2, 27, 26, 57, 56, 55, 54, 80, 79, 39, 16, 15, 17, 40, 41, 42, 19, 18, 43, 20, 21, 45, 44, 46, 23, 22, 62, 63, 64, 65, 66, 67, 68, 69, 92, 89, 88, 90, 113, 91, 112, 111, 134, 114, 115, 138, 87, 86, 85, 129, 126, 125, 148, 149, 127, 150, 151, 128, 130, 152, 153, 154, 155, 133, 132, 131, 108, 107, 109, 110, 156, 157, 180, 179, 203, 202, 201, 177, 176, 175, 174, 178, 173, 172, 171, 170, 169, 168, 145, 167, 166, 165, 164, 163, 162, 140, 139, 185, 194, 193, 192, 191, 195, 217, 216, 215, 214, 236, 213, 237, 238, 239, 240, 241, 218, 219, 220, 221, 197, 196, 198, 199, 200, 222, 243, 244, 245, 267, 266, 265, 242, 290, 289, 288, 268, 269, 246, 223, 247, 248, 249, 225, 224, 227, 226, 272, 250, 251, 274, 273, 275, 252, 253, 230, 228, 229, 206, 205, 204, 181, 182, 183, 160, 137, 136, 135, 158, 159, 161, 207, 184, 276, 299, 271, 270, 292, 293, 315, 314, 291, 316, 317, 318, 296, 295, 294, 297, 298, 321, 320, 319, 343, 342, 365, 364, 341, 340, 339, 338, 337, 336, 313, 312, 311, 310, 309, 332, 331, 308, 330, 305, 328, 307, 306, 284, 283, 261, 260, 259, 258, 235, 234, 256, 232, 233, 210, 211, 212, 189, 188, 187, 186, 209, 208, 190, 254, 231, 255, 277, 282, 257, 280, 279, 278, 302, 301, 300, 325, 324, 323, 346, 347, 348, 349, 350, 326, 327, 351, 352, 353, 374, 373, 372, 395, 394, 393, 370, 371, 392, 369, 375, 376, 397, 396, 419, 418, 398, 399, 400, 377, 401, 402, 425, 426, 427, 428, 429, 406, 405, 382, 384, 404, 403, 407, 408, 431, 432, 433, 434, 435, 436, 437, 414, 460, 430, 449, 450, 451, 452, 473, 472, 471, 448, 447, 424, 423, 446, 468, 445, 444, 467, 443, 442, 441, 465, 464, 463, 440, 439, 417, 416, 415, 438, 462, 461, 484, 485, 486, 466, 490, 489, 488, 511, 510, 509, 487, 508, 507, 512, 491, 469, 470, 492, 514, 516, 493, 494, 495, 496, 519, 518, 541, 517, 540, 520, 521, 522, 523, 524, 502, 501, 500, 478, 503, 525, 526, 504, 505, 481, 480, 527, 528, 529, 506, 549, 550, 544, 543, 542, 565, 564, 563, 562, 539, 538, 515, 537, 513, 536, 535, 557, 534, 533, 532, 531, 530, 556, 555, 554, 553, 558, 560, 559, 561, 567, 545, 546, 568, 569, 570, 547, 548, 571, 572, 573, 574, 551, 575, 552, 566, 474, 475, 476, 453, 477, 454, 455, 456, 457, 458, 459, 482, 483, 479, 497, 498, 499, 422, 421, 420, 303, 304, 281, 262, 286, 263, 264, 287, 285, 329, 333, 355, 354, 356, 357, 358, 379, 378, 380, 381, 334, 335, 360, 361, 362, 385, 383, 359, 363, 386, 366, 367, 368, 390, 413, 389, 412, 411, 388, 410, 387, 409, 391, 344, 345, 322, 73, 74, 51, 50, 1]\n",
      "Vertices :[(6.0, 18.0), (11.0, 0.0), (24.0, 6.0), (36.0, 13.0), (41.0, 19.0), (51.0, 5.0), (64.0, 9.0), (71.0, 15.0), (86.0, 1.0), (95.0, 1.0), (104.0, 18.0), (119.0, 14.0), (120.0, 17.0), (132.0, 8.0), (148.0, 13.0), (158.0, 20.0), (163.0, 5.0), (178.0, 11.0), (185.0, 20.0), (196.0, 19.0), (207.0, 19.0), (217.0, 9.0), (229.0, 11.0), (5.0, 32.0), (12.0, 23.0), (28.0, 27.0), (31.0, 26.0), (45.0, 34.0), (55.0, 37.0), (67.0, 23.0), (75.0, 34.0), (85.0, 35.0), (99.0, 28.0), (108.0, 21.0), (113.0, 27.0), (122.0, 40.0), (131.0, 39.0), (141.0, 40.0), (151.0, 28.0), (166.0, 27.0), (177.0, 23.0), (182.0, 22.0), (191.0, 25.0), (203.0, 32.0), (211.0, 28.0), (224.0, 24.0), (1.0, 55.0), (18.0, 42.0), (26.0, 50.0), (38.0, 49.0), (42.0, 60.0), (57.0, 42.0), (69.0, 41.0), (79.0, 55.0), (85.0, 52.0), (95.0, 48.0), (102.0, 43.0), (114.0, 42.0), (121.0, 45.0), (135.0, 55.0), (146.0, 51.0), (159.0, 47.0), (161.0, 49.0), (171.0, 48.0), (181.0, 52.0), (194.0, 52.0), (208.0, 50.0), (214.0, 52.0), (223.0, 46.0), (1.0, 71.0), (14.0, 73.0), (25.0, 61.0), (35.0, 63.0), (42.0, 65.0), (54.0, 79.0), (65.0, 69.0), (73.0, 69.0), (81.0, 70.0), (98.0, 66.0), (105.0, 60.0), (115.0, 77.0), (125.0, 65.0), (135.0, 71.0), (143.0, 77.0), (151.0, 77.0), (162.0, 65.0), (175.0, 64.0), (187.0, 74.0), (197.0, 67.0), (202.0, 68.0), (215.0, 78.0), (225.0, 62.0), (8.0, 83.0), (16.0, 89.0), (20.0, 99.0), (34.0, 85.0), (47.0, 86.0), (56.0, 86.0), (67.0, 92.0), (78.0, 84.0), (84.0, 95.0), (99.0, 93.0), (101.0, 97.0), (115.0, 92.0), (127.0, 97.0), (132.0, 87.0), (149.0, 95.0), (156.0, 100.0), (164.0, 95.0), (171.0, 81.0), (189.0, 100.0), (198.0, 89.0), (208.0, 81.0), (216.0, 92.0), (229.0, 86.0), (1.0, 100.0), (12.0, 102.0), (22.0, 113.0), (37.0, 103.0), (48.0, 104.0), (56.0, 113.0), (68.0, 119.0), (72.0, 100.0), (81.0, 110.0), (98.0, 107.0), (103.0, 103.0), (112.0, 120.0), (130.0, 120.0), (136.0, 104.0), (142.0, 120.0), (157.0, 106.0), (164.0, 112.0), (174.0, 119.0), (184.0, 101.0), (198.0, 115.0), (202.0, 115.0), (212.0, 118.0), (229.0, 101.0), (6.0, 127.0), (12.0, 140.0), (22.0, 121.0), (31.0, 132.0), (41.0, 132.0), (53.0, 124.0), (62.0, 136.0), (80.0, 126.0), (84.0, 123.0), (98.0, 126.0), (108.0, 130.0), (115.0, 134.0), (128.0, 125.0), (136.0, 133.0), (145.0, 134.0), (152.0, 131.0), (167.0, 127.0), (171.0, 135.0), (184.0, 139.0), (199.0, 124.0), (202.0, 127.0), (217.0, 128.0), (225.0, 121.0), (8.0, 148.0), (16.0, 148.0), (27.0, 149.0), (37.0, 155.0), (42.0, 150.0), (54.0, 144.0), (65.0, 145.0), (75.0, 142.0), (82.0, 144.0), (91.0, 151.0), (101.0, 143.0), (115.0, 142.0), (127.0, 157.0), (139.0, 157.0), (147.0, 159.0), (155.0, 159.0), (163.0, 142.0), (177.0, 154.0), (183.0, 149.0), (199.0, 157.0), (201.0, 145.0), (218.0, 144.0), (228.0, 158.0), (3.0, 166.0), (18.0, 178.0), (29.0, 172.0), (33.0, 171.0), (43.0, 173.0), (52.0, 168.0), (68.0, 175.0), (73.0, 164.0), (82.0, 173.0), (93.0, 165.0), (101.0, 173.0), (117.0, 172.0), (124.0, 177.0), (139.0, 175.0), (145.0, 177.0), (151.0, 177.0), (166.0, 165.0), (178.0, 169.0), (181.0, 161.0), (199.0, 166.0), (208.0, 173.0), (219.0, 172.0), (223.0, 171.0), (8.0, 190.0), (15.0, 183.0), (24.0, 194.0), (34.0, 196.0), (42.0, 185.0), (51.0, 198.0), (65.0, 199.0), (72.0, 195.0), (83.0, 191.0), (96.0, 183.0), (107.0, 195.0), (117.0, 191.0), (123.0, 194.0), (132.0, 184.0), (148.0, 188.0), (158.0, 199.0), (165.0, 184.0), (174.0, 193.0), (184.0, 186.0), (190.0, 195.0), (209.0, 194.0), (219.0, 180.0), (226.0, 192.0), (1.0, 210.0), (17.0, 207.0), (22.0, 201.0), (34.0, 213.0), (44.0, 213.0), (56.0, 202.0), (62.0, 209.0), (74.0, 213.0), (89.0, 209.0), (95.0, 212.0), (108.0, 205.0), (119.0, 218.0), (124.0, 203.0), (133.0, 208.0), (141.0, 207.0), (157.0, 211.0), (167.0, 213.0), (176.0, 210.0), (182.0, 201.0), (196.0, 218.0), (205.0, 219.0), (219.0, 218.0), (228.0, 208.0), (6.0, 222.0), (11.0, 234.0), (21.0, 222.0), (38.0, 239.0), (48.0, 227.0), (50.0, 231.0), (63.0, 232.0), (73.0, 240.0), (87.0, 234.0), (96.0, 237.0), (102.0, 228.0), (118.0, 224.0), (128.0, 229.0), (137.0, 221.0), (147.0, 227.0), (151.0, 224.0), (169.0, 233.0), (177.0, 225.0), (185.0, 220.0), (193.0, 238.0), (207.0, 229.0), (214.0, 230.0), (224.0, 234.0), (6.0, 240.0), (14.0, 257.0), (23.0, 253.0), (36.0, 247.0), (49.0, 254.0), (51.0, 242.0), (64.0, 251.0), (71.0, 258.0), (81.0, 260.0), (92.0, 242.0), (102.0, 254.0), (118.0, 253.0), (123.0, 244.0), (133.0, 241.0), (148.0, 254.0), (155.0, 240.0), (161.0, 250.0), (173.0, 257.0), (181.0, 254.0), (192.0, 256.0), (205.0, 251.0), (218.0, 254.0), (229.0, 241.0), (2.0, 277.0), (15.0, 275.0), (22.0, 267.0), (32.0, 274.0), (44.0, 269.0), (57.0, 278.0), (64.0, 261.0), (71.0, 273.0), (81.0, 278.0), (96.0, 272.0), (102.0, 272.0), (115.0, 271.0), (120.0, 280.0), (135.0, 278.0), (149.0, 261.0), (158.0, 263.0), (163.0, 270.0), (175.0, 273.0), (185.0, 265.0), (200.0, 276.0), (204.0, 273.0), (215.0, 263.0), (227.0, 265.0), (4.0, 300.0), (13.0, 293.0), (22.0, 287.0), (38.0, 297.0), (41.0, 296.0), (54.0, 286.0), (68.0, 296.0), (71.0, 281.0), (86.0, 288.0), (96.0, 285.0), (101.0, 296.0), (119.0, 292.0), (122.0, 292.0), (140.0, 293.0), (147.0, 300.0), (158.0, 290.0), (163.0, 286.0), (174.0, 294.0), (187.0, 298.0), (199.0, 290.0), (203.0, 280.0), (216.0, 281.0), (226.0, 288.0), (9.0, 310.0), (17.0, 308.0), (24.0, 308.0), (31.0, 305.0), (41.0, 305.0), (52.0, 313.0), (65.0, 315.0), (72.0, 311.0), (87.0, 313.0), (93.0, 303.0), (104.0, 307.0), (112.0, 305.0), (122.0, 307.0), (135.0, 317.0), (147.0, 313.0), (157.0, 314.0), (163.0, 306.0), (177.0, 316.0), (188.0, 306.0), (195.0, 302.0), (208.0, 301.0), (215.0, 313.0), (221.0, 308.0), (1.0, 338.0), (18.0, 331.0), (27.0, 324.0), (37.0, 338.0), (46.0, 332.0), (54.0, 327.0), (62.0, 337.0), (71.0, 328.0), (81.0, 338.0), (98.0, 325.0), (108.0, 322.0), (112.0, 327.0), (124.0, 329.0), (138.0, 338.0), (145.0, 322.0), (151.0, 337.0), (162.0, 324.0), (179.0, 320.0), (182.0, 340.0), (196.0, 335.0), (209.0, 340.0), (212.0, 324.0), (229.0, 333.0), (9.0, 352.0), (17.0, 341.0), (24.0, 344.0), (37.0, 340.0), (46.0, 357.0), (57.0, 348.0), (68.0, 351.0), (77.0, 352.0), (85.0, 349.0), (96.0, 349.0), (109.0, 358.0), (112.0, 343.0), (122.0, 345.0), (131.0, 350.0), (143.0, 357.0), (151.0, 356.0), (163.0, 354.0), (176.0, 344.0), (185.0, 340.0), (199.0, 341.0), (203.0, 343.0), (213.0, 340.0), (225.0, 357.0), (7.0, 376.0), (17.0, 371.0), (22.0, 376.0), (34.0, 362.0), (41.0, 364.0), (56.0, 374.0), (62.0, 365.0), (74.0, 362.0), (82.0, 379.0), (96.0, 379.0), (106.0, 370.0), (119.0, 370.0), (127.0, 376.0), (136.0, 372.0), (143.0, 368.0), (156.0, 375.0), (168.0, 365.0), (178.0, 370.0), (189.0, 366.0), (191.0, 368.0), (204.0, 376.0), (213.0, 369.0), (229.0, 367.0), (4.0, 396.0), (17.0, 392.0), (29.0, 394.0), (39.0, 380.0), (45.0, 391.0), (56.0, 398.0), (66.0, 390.0), (75.0, 394.0), (88.0, 400.0), (96.0, 392.0), (102.0, 393.0), (119.0, 382.0), (126.0, 393.0), (135.0, 391.0), (143.0, 397.0), (156.0, 397.0), (167.0, 396.0), (171.0, 389.0), (186.0, 387.0), (193.0, 397.0), (208.0, 399.0), (212.0, 399.0), (226.0, 385.0), (9.0, 419.0), (18.0, 409.0), (25.0, 407.0), (39.0, 407.0), (41.0, 406.0), (59.0, 414.0), (61.0, 401.0), (78.0, 406.0), (89.0, 418.0), (94.0, 418.0), (108.0, 401.0), (117.0, 404.0), (128.0, 403.0), (136.0, 412.0), (147.0, 410.0), (158.0, 404.0), (167.0, 405.0), (175.0, 419.0), (189.0, 403.0), (193.0, 419.0), (202.0, 418.0), (215.0, 407.0), (224.0, 416.0), (2.0, 421.0), (11.0, 430.0), (29.0, 421.0), (33.0, 439.0), (46.0, 432.0), (54.0, 438.0), (67.0, 426.0), (79.0, 423.0), (84.0, 433.0), (96.0, 435.0), (104.0, 427.0), (114.0, 432.0), (125.0, 435.0), (135.0, 422.0), (142.0, 431.0), (150.0, 430.0), (166.0, 430.0), (178.0, 437.0), (181.0, 439.0), (191.0, 436.0), (204.0, 438.0), (211.0, 425.0), (227.0, 439.0), (1.0, 451.0), (16.0, 459.0), (27.0, 449.0), (33.0, 451.0), (43.0, 445.0), (57.0, 443.0), (67.0, 458.0), (77.0, 441.0), (84.0, 454.0), (92.0, 440.0), (102.0, 460.0), (116.0, 451.0), (126.0, 444.0), (134.0, 449.0), (147.0, 447.0), (154.0, 446.0), (167.0, 444.0), (177.0, 449.0), (189.0, 451.0), (198.0, 446.0), (203.0, 455.0), (213.0, 449.0), (221.0, 450.0), (7.0, 475.0), (19.0, 480.0), (23.0, 477.0), (33.0, 480.0), (43.0, 474.0), (54.0, 474.0), (68.0, 472.0), (74.0, 464.0), (85.0, 466.0), (94.0, 475.0), (108.0, 470.0), (113.0, 461.0), (129.0, 470.0), (136.0, 473.0), (143.0, 461.0), (153.0, 478.0), (160.0, 470.0), (172.0, 479.0), (181.0, 469.0), (198.0, 460.0), (206.0, 464.0), (217.0, 478.0), (228.0, 473.0), (9.0, 498.0), (16.0, 494.0), (24.0, 496.0), (33.0, 490.0), (46.0, 481.0), (51.0, 499.0), (69.0, 491.0), (71.0, 484.0), (85.0, 485.0), (93.0, 481.0), (106.0, 485.0), (117.0, 482.0), (121.0, 482.0), (136.0, 497.0), (143.0, 489.0), (156.0, 480.0), (165.0, 492.0), (176.0, 488.0), (183.0, 499.0), (192.0, 493.0), (201.0, 494.0), (212.0, 491.0), (226.0, 482.0)]\n",
      "Calculado :True\n",
      "\n"
     ]
    },
    {
     "name": "stdout",
     "output_type": "stream",
     "text": [
      "ERROR: Could not find file C:\\Users\\Luiz\\AppData\\Local\\Temp\\ipykernel_10012\\2576218384.py\n"
     ]
    },
    {
     "name": "stderr",
     "output_type": "stream",
     "text": [
      "C:\\Users\\Luiz\\AppData\\Local\\Temp\\ipykernel_10012\\2576218384.py:64: FutureWarning: The frame.append method is deprecated and will be removed from pandas in a future version. Use pandas.concat instead.\n",
      "  dataframe = dataframe.append(nova_linha, ignore_index=True)\n"
     ]
    },
    {
     "name": "stdout",
     "output_type": "stream",
     "text": [
      "Nome do Arquivo: p654\n",
      "Algoritmo : <function twice_around_the_tree at 0x00000175464D33A0>\n",
      "Tempo : 32.161532163619995\n",
      "Memória Gasta: 202.50390625 MB\n",
      "Taxa de Aproximação: 1.366563663638392\n",
      "Rota :[1, 549, 533, 534, 521, 493, 492, 491, 550, 551, 535, 495, 494, 496, 497, 522, 536, 552, 553, 554, 523, 498, 499, 524, 555, 556, 557, 537, 525, 500, 501, 558, 538, 502, 503, 526, 539, 540, 504, 505, 560, 110, 114, 118, 122, 121, 120, 116, 112, 108, 107, 111, 109, 113, 115, 117, 119, 124, 123, 127, 128, 131, 126, 125, 129, 133, 132, 134, 137, 141, 145, 144, 140, 136, 139, 135, 143, 148, 147, 151, 146, 142, 138, 150, 149, 153, 152, 157, 156, 155, 158, 154, 161, 160, 159, 165, 164, 163, 167, 171, 168, 166, 162, 170, 174, 178, 177, 173, 181, 180, 176, 172, 175, 179, 183, 184, 188, 187, 191, 182, 185, 186, 190, 189, 193, 197, 196, 192, 195, 200, 199, 198, 194, 202, 102, 100, 99, 98, 97, 96, 95, 92, 91, 89, 85, 84, 83, 80, 79, 76, 77, 74, 78, 75, 561, 541, 542, 527, 508, 507, 506, 562, 563, 543, 510, 509, 511, 512, 528, 544, 564, 565, 566, 529, 513, 514, 530, 515, 567, 568, 569, 545, 531, 516, 570, 546, 517, 518, 532, 547, 548, 519, 520, 572, 206, 205, 204, 203, 207, 211, 208, 212, 209, 213, 214, 218, 217, 221, 220, 216, 219, 215, 223, 227, 228, 224, 229, 231, 232, 235, 239, 240, 236, 241, 242, 238, 234, 233, 237, 246, 245, 244, 248, 247, 252, 253, 249, 254, 250, 258, 262, 261, 266, 265, 264, 263, 259, 255, 251, 260, 267, 271, 272, 268, 273, 269, 274, 270, 276, 280, 281, 277, 282, 278, 286, 290, 284, 283, 279, 287, 291, 295, 285, 288, 289, 293, 294, 298, 106, 297, 292, 296, 275, 257, 256, 243, 222, 225, 226, 230, 210, 571, 103, 104, 105, 73, 72, 64, 63, 10, 9, 8, 7, 6, 13, 11, 12, 62, 14, 52, 51, 49, 48, 46, 44, 42, 39, 38, 41, 40, 37, 36, 35, 30, 29, 23, 22, 28, 27, 25, 24, 21, 20, 26, 31, 32, 33, 34, 43, 47, 45, 54, 53, 50, 19, 18, 588, 589, 590, 609, 624, 623, 643, 644, 645, 625, 592, 591, 593, 594, 610, 626, 646, 647, 648, 611, 595, 596, 612, 597, 649, 650, 651, 627, 613, 598, 652, 628, 599, 600, 614, 629, 630, 601, 602, 395, 396, 400, 404, 405, 401, 397, 406, 402, 398, 410, 408, 407, 403, 399, 411, 415, 419, 420, 421, 424, 428, 427, 423, 431, 432, 436, 440, 435, 439, 443, 444, 448, 447, 452, 451, 455, 459, 453, 449, 445, 454, 450, 446, 458, 457, 461, 460, 462, 465, 464, 463, 469, 468, 470, 466, 474, 473, 472, 471, 467, 475, 476, 477, 481, 480, 482, 478, 486, 485, 489, 488, 484, 483, 479, 487, 490, 456, 429, 425, 430, 426, 434, 433, 437, 438, 442, 441, 409, 413, 414, 418, 422, 417, 412, 416, 654, 653, 55, 56, 58, 59, 60, 61, 15, 17, 311, 307, 303, 299, 587, 586, 622, 621, 608, 585, 584, 620, 640, 619, 607, 583, 639, 638, 637, 606, 581, 605, 580, 636, 635, 634, 618, 604, 579, 578, 577, 576, 617, 633, 632, 616, 603, 575, 574, 573, 615, 631, 16, 582, 641, 642, 308, 304, 300, 309, 305, 301, 306, 302, 310, 312, 315, 316, 317, 313, 318, 314, 322, 321, 320, 324, 323, 325, 329, 333, 332, 328, 331, 327, 335, 336, 334, 330, 326, 338, 342, 346, 345, 344, 340, 341, 343, 339, 347, 348, 352, 356, 355, 351, 359, 363, 367, 368, 369, 371, 375, 379, 380, 376, 372, 381, 377, 373, 378, 374, 382, 384, 388, 392, 391, 387, 383, 393, 389, 385, 394, 390, 386, 357, 353, 349, 354, 350, 358, 361, 362, 366, 370, 365, 360, 364, 337, 319, 57, 71, 70, 68, 67, 66, 65, 69, 88, 87, 86, 81, 82, 90, 93, 94, 101, 4, 3, 2, 5, 201, 169, 130, 559, 1]\n",
      "Vertices :[(1245.0, 1255.0), (1807.5, 2192.5), (1822.5, 2207.5), (1867.5, 2732.5), (2377.5, 2612.5), (2467.5, 3587.5), (2497.5, 3587.5), (2572.5, 3677.5), (2647.5, 3782.5), (2662.5, 3977.5), (3307.5, 3377.5), (3337.5, 3347.5), (3322.5, 3632.5), (3712.5, 3677.5), (4267.5, 2372.5), (5655.0, 1255.0), (4852.5, 2507.5), (4882.5, 3497.5), (4852.5, 3617.5), (4402.5, 4067.5), (4417.5, 4052.5), (4237.5, 4022.5), (4267.5, 4007.5), (4402.5, 4007.5), (4357.5, 3977.5), (4417.5, 3962.5), (4357.5, 3947.5), (4312.5, 3932.5), (4252.5, 3932.5), (4222.5, 3902.5), (4327.5, 3887.5), (4297.5, 3872.5), (4297.5, 3842.5), (4327.5, 3827.5), (4207.5, 3827.5), (4222.5, 3767.5), (4252.5, 3767.5), (4357.5, 3752.5), (4357.5, 3722.5), (4237.5, 3722.5), (4267.5, 3707.5), (4312.5, 3692.5), (4252.5, 3662.5), (4312.5, 3647.5), (4297.5, 3632.5), (4342.5, 3617.5), (4222.5, 3602.5), (4327.5, 3587.5), (4327.5, 3527.5), (4387.5, 3467.5), (4282.5, 3467.5), (4207.5, 3467.5), (4342.5, 3437.5), (4327.5, 3422.5), (4327.5, 3392.5), (4342.5, 3377.5), (4237.5, 3362.5), (4387.5, 3317.5), (4312.5, 3272.5), (4222.5, 3257.5), (4207.5, 3227.5), (3697.5, 3482.5), (2692.5, 4667.5), (2647.5, 4682.5), (3067.5, 4922.5), (3127.5, 5042.5), (3082.5, 5087.5), (3007.5, 5117.5), (3142.5, 5222.5), (2707.5, 5117.5), (2692.5, 5057.5), (2572.5, 5027.5), (2377.5, 5132.5), (1477.5, 4022.5), (1237.5, 3992.5), (1357.5, 3962.5), (1417.5, 3932.5), (1252.5, 3932.5), (1312.5, 3902.5), (1282.5, 3827.5), (1372.5, 3827.5), (1507.5, 3827.5), (1267.5, 3812.5), (1282.5, 3797.5), (1267.5, 3767.5), (1432.5, 3767.5), (1372.5, 3737.5), (1327.5, 3722.5), (1267.5, 3707.5), (1492.5, 3662.5), (1267.5, 3632.5), (1357.5, 3602.5), (1507.5, 3587.5), (1267.5, 3572.5), (1387.5, 3527.5), (1342.5, 3512.5), (1327.5, 3452.5), (1342.5, 3377.5), (1327.5, 3317.5), (1432.5, 3272.5), (1462.5, 3257.5), (1402.5, 3227.5), (1807.5, 4712.5), (1822.5, 4727.5), (1867.5, 5252.5), (1245.0, 5845.0), (1042.5, 2462.5), (1057.5, 2462.5), (1072.5, 2462.5), (1087.5, 2462.5), (1042.5, 2477.5), (1057.5, 2477.5), (1072.5, 2477.5), (1087.5, 2477.5), (1042.5, 2492.5), (1057.5, 2492.5), (1072.5, 2492.5), (1087.5, 2492.5), (1042.5, 2507.5), (1057.5, 2507.5), (1072.5, 2507.5), (1087.5, 2507.5), (1042.5, 2522.5), (1057.5, 2522.5), (1072.5, 2522.5), (1087.5, 2522.5), (1042.5, 2537.5), (1057.5, 2537.5), (1072.5, 2537.5), (1087.5, 2537.5), (1042.5, 2552.5), (1057.5, 2552.5), (1072.5, 2552.5), (1087.5, 2552.5), (1042.5, 2567.5), (1057.5, 2567.5), (1072.5, 2567.5), (1087.5, 2567.5), (1042.5, 2582.5), (1057.5, 2582.5), (1072.5, 2582.5), (1087.5, 2582.5), (1042.5, 2597.5), (1057.5, 2597.5), (1072.5, 2597.5), (1087.5, 2597.5), (1042.5, 2612.5), (1057.5, 2612.5), (1072.5, 2612.5), (1087.5, 2612.5), (1042.5, 2627.5), (1057.5, 2627.5), (1072.5, 2627.5), (1087.5, 2627.5), (1042.5, 2642.5), (1057.5, 2642.5), (1072.5, 2642.5), (1087.5, 2642.5), (1042.5, 2657.5), (1057.5, 2657.5), (1072.5, 2657.5), (1087.5, 2657.5), (1042.5, 2672.5), (1057.5, 2672.5), (1072.5, 2672.5), (1087.5, 2672.5), (1042.5, 2687.5), (1057.5, 2687.5), (1072.5, 2687.5), (1087.5, 2687.5), (1042.5, 2702.5), (1057.5, 2702.5), (1072.5, 2702.5), (1087.5, 2702.5), (1042.5, 2717.5), (1057.5, 2717.5), (1072.5, 2717.5), (1087.5, 2717.5), (1042.5, 2732.5), (1057.5, 2732.5), (1072.5, 2732.5), (1087.5, 2732.5), (1042.5, 2747.5), (1057.5, 2747.5), (1072.5, 2747.5), (1087.5, 2747.5), (1042.5, 2762.5), (1057.5, 2762.5), (1072.5, 2762.5), (1087.5, 2762.5), (1042.5, 2777.5), (1057.5, 2777.5), (1072.5, 2777.5), (1087.5, 2777.5), (1042.5, 2792.5), (1057.5, 2792.5), (1072.5, 2792.5), (1087.5, 2792.5), (1042.5, 2807.5), (1057.5, 2807.5), (1072.5, 2807.5), (1087.5, 2807.5), (1042.5, 4952.5), (1057.5, 4952.5), (1072.5, 4952.5), (1087.5, 4952.5), (1042.5, 4967.5), (1057.5, 4967.5), (1072.5, 4967.5), (1087.5, 4967.5), (1042.5, 4982.5), (1057.5, 4982.5), (1072.5, 4982.5), (1087.5, 4982.5), (1042.5, 4997.5), (1057.5, 4997.5), (1072.5, 4997.5), (1087.5, 4997.5), (1042.5, 5012.5), (1057.5, 5012.5), (1072.5, 5012.5), (1087.5, 5012.5), (1042.5, 5027.5), (1057.5, 5027.5), (1072.5, 5027.5), (1087.5, 5027.5), (1042.5, 5042.5), (1057.5, 5042.5), (1072.5, 5042.5), (1087.5, 5042.5), (1042.5, 5057.5), (1057.5, 5057.5), (1072.5, 5057.5), (1087.5, 5057.5), (1042.5, 5072.5), (1057.5, 5072.5), (1072.5, 5072.5), (1087.5, 5072.5), (1042.5, 5087.5), (1057.5, 5087.5), (1072.5, 5087.5), (1087.5, 5087.5), (1042.5, 5102.5), (1057.5, 5102.5), (1072.5, 5102.5), (1087.5, 5102.5), (1042.5, 5117.5), (1057.5, 5117.5), (1072.5, 5117.5), (1087.5, 5117.5), (1042.5, 5132.5), (1057.5, 5132.5), (1072.5, 5132.5), (1087.5, 5132.5), (1042.5, 5147.5), (1057.5, 5147.5), (1072.5, 5147.5), (1087.5, 5147.5), (1042.5, 5162.5), (1057.5, 5162.5), (1072.5, 5162.5), (1087.5, 5162.5), (1042.5, 5177.5), (1057.5, 5177.5), (1072.5, 5177.5), (1087.5, 5177.5), (1042.5, 5192.5), (1057.5, 5192.5), (1072.5, 5192.5), (1087.5, 5192.5), (1042.5, 5207.5), (1057.5, 5207.5), (1072.5, 5207.5), (1087.5, 5207.5), (1042.5, 5222.5), (1057.5, 5222.5), (1072.5, 5222.5), (1087.5, 5222.5), (1042.5, 5237.5), (1057.5, 5237.5), (1072.5, 5237.5), (1087.5, 5237.5), (1042.5, 5252.5), (1057.5, 5252.5), (1072.5, 5252.5), (1087.5, 5252.5), (1042.5, 5267.5), (1057.5, 5267.5), (1072.5, 5267.5), (1087.5, 5267.5), (1042.5, 5282.5), (1057.5, 5282.5), (1072.5, 5282.5), (1087.5, 5282.5), (1042.5, 5297.5), (1057.5, 5297.5), (1072.5, 5297.5), (1087.5, 5297.5), (5812.5, 2462.5), (5827.5, 2462.5), (5842.5, 2462.5), (5857.5, 2462.5), (5812.5, 2477.5), (5827.5, 2477.5), (5842.5, 2477.5), (5857.5, 2477.5), (5812.5, 2492.5), (5827.5, 2492.5), (5842.5, 2492.5), (5857.5, 2492.5), (5812.5, 2507.5), (5827.5, 2507.5), (5842.5, 2507.5), (5857.5, 2507.5), (5812.5, 2522.5), (5827.5, 2522.5), (5842.5, 2522.5), (5857.5, 2522.5), (5812.5, 2537.5), (5827.5, 2537.5), (5842.5, 2537.5), (5857.5, 2537.5), (5812.5, 2552.5), (5827.5, 2552.5), (5842.5, 2552.5), (5857.5, 2552.5), (5812.5, 2567.5), (5827.5, 2567.5), (5842.5, 2567.5), (5857.5, 2567.5), (5812.5, 2582.5), (5827.5, 2582.5), (5842.5, 2582.5), (5857.5, 2582.5), (5812.5, 2597.5), (5827.5, 2597.5), (5842.5, 2597.5), (5857.5, 2597.5), (5812.5, 2612.5), (5827.5, 2612.5), (5842.5, 2612.5), (5857.5, 2612.5), (5812.5, 2627.5), (5827.5, 2627.5), (5842.5, 2627.5), (5857.5, 2627.5), (5812.5, 2642.5), (5827.5, 2642.5), (5842.5, 2642.5), (5857.5, 2642.5), (5812.5, 2657.5), (5827.5, 2657.5), (5842.5, 2657.5), (5857.5, 2657.5), (5812.5, 2672.5), (5827.5, 2672.5), (5842.5, 2672.5), (5857.5, 2672.5), (5812.5, 2687.5), (5827.5, 2687.5), (5842.5, 2687.5), (5857.5, 2687.5), (5812.5, 2702.5), (5827.5, 2702.5), (5842.5, 2702.5), (5857.5, 2702.5), (5812.5, 2717.5), (5827.5, 2717.5), (5842.5, 2717.5), (5857.5, 2717.5), (5812.5, 2732.5), (5827.5, 2732.5), (5842.5, 2732.5), (5857.5, 2732.5), (5812.5, 2747.5), (5827.5, 2747.5), (5842.5, 2747.5), (5857.5, 2747.5), (5812.5, 2762.5), (5827.5, 2762.5), (5842.5, 2762.5), (5857.5, 2762.5), (5812.5, 2777.5), (5827.5, 2777.5), (5842.5, 2777.5), (5857.5, 2777.5), (5812.5, 2792.5), (5827.5, 2792.5), (5842.5, 2792.5), (5857.5, 2792.5), (5812.5, 2807.5), (5827.5, 2807.5), (5842.5, 2807.5), (5857.5, 2807.5), (5812.5, 4952.5), (5827.5, 4952.5), (5842.5, 4952.5), (5857.5, 4952.5), (5812.5, 4967.5), (5827.5, 4967.5), (5842.5, 4967.5), (5857.5, 4967.5), (5812.5, 4982.5), (5827.5, 4982.5), (5842.5, 4982.5), (5857.5, 4982.5), (5812.5, 4997.5), (5827.5, 4997.5), (5842.5, 4997.5), (5857.5, 4997.5), (5812.5, 5012.5), (5827.5, 5012.5), (5842.5, 5012.5), (5857.5, 5012.5), (5812.5, 5027.5), (5827.5, 5027.5), (5842.5, 5027.5), (5857.5, 5027.5), (5812.5, 5042.5), (5827.5, 5042.5), (5842.5, 5042.5), (5857.5, 5042.5), (5812.5, 5057.5), (5827.5, 5057.5), (5842.5, 5057.5), (5857.5, 5057.5), (5812.5, 5072.5), (5827.5, 5072.5), (5842.5, 5072.5), (5857.5, 5072.5), (5812.5, 5087.5), (5827.5, 5087.5), (5842.5, 5087.5), (5857.5, 5087.5), (5812.5, 5102.5), (5827.5, 5102.5), (5842.5, 5102.5), (5857.5, 5102.5), (5812.5, 5117.5), (5827.5, 5117.5), (5842.5, 5117.5), (5857.5, 5117.5), (5812.5, 5132.5), (5827.5, 5132.5), (5842.5, 5132.5), (5857.5, 5132.5), (5812.5, 5147.5), (5827.5, 5147.5), (5842.5, 5147.5), (5857.5, 5147.5), (5812.5, 5162.5), (5827.5, 5162.5), (5842.5, 5162.5), (5857.5, 5162.5), (5812.5, 5177.5), (5827.5, 5177.5), (5842.5, 5177.5), (5857.5, 5177.5), (5812.5, 5192.5), (5827.5, 5192.5), (5842.5, 5192.5), (5857.5, 5192.5), (5812.5, 5207.5), (5827.5, 5207.5), (5842.5, 5207.5), (5857.5, 5207.5), (5812.5, 5222.5), (5827.5, 5222.5), (5842.5, 5222.5), (5857.5, 5222.5), (5812.5, 5237.5), (5827.5, 5237.5), (5842.5, 5237.5), (5857.5, 5237.5), (5812.5, 5252.5), (5827.5, 5252.5), (5842.5, 5252.5), (5857.5, 5252.5), (5812.5, 5267.5), (5827.5, 5267.5), (5842.5, 5267.5), (5857.5, 5267.5), (5812.5, 5282.5), (5827.5, 5282.5), (5842.5, 5282.5), (5857.5, 5282.5), (5812.5, 5297.5), (5827.5, 5297.5), (5842.5, 5297.5), (5857.5, 5297.5), (1042.5, 1802.5), (1042.5, 1817.5), (1042.5, 1832.5), (1042.5, 1877.5), (1042.5, 1892.5), (1042.5, 1922.5), (1042.5, 1952.5), (1042.5, 1997.5), (1042.5, 2072.5), (1042.5, 2117.5), (1042.5, 2162.5), (1042.5, 2222.5), (1042.5, 2252.5), (1042.5, 2357.5), (1042.5, 2402.5), (1042.5, 4292.5), (1042.5, 4307.5), (1042.5, 4322.5), (1042.5, 4367.5), (1042.5, 4382.5), (1042.5, 4412.5), (1042.5, 4442.5), (1042.5, 4487.5), (1042.5, 4562.5), (1042.5, 4607.5), (1042.5, 4652.5), (1042.5, 4712.5), (1042.5, 4742.5), (1042.5, 4847.5), (1042.5, 4892.5), (1057.5, 1847.5), (1057.5, 1952.5), (1057.5, 2027.5), (1057.5, 2087.5), (1057.5, 2147.5), (1057.5, 2282.5), (1057.5, 4337.5), (1057.5, 4442.5), (1057.5, 4517.5), (1057.5, 4577.5), (1057.5, 4637.5), (1057.5, 4772.5), (1072.5, 1817.5), (1072.5, 1832.5), (1072.5, 1892.5), (1072.5, 1967.5), (1072.5, 2162.5), (1072.5, 2222.5), (1072.5, 2282.5), (1072.5, 2357.5), (1072.5, 4307.5), (1072.5, 4322.5), (1072.5, 4382.5), (1072.5, 4457.5), (1072.5, 4652.5), (1072.5, 4712.5), (1072.5, 4772.5), (1072.5, 4847.5), (1087.5, 1787.5), (1087.5, 1847.5), (1087.5, 1877.5), (1087.5, 1967.5), (1087.5, 1997.5), (1087.5, 2027.5), (1087.5, 2087.5), (1087.5, 2117.5), (1087.5, 2147.5), (1087.5, 2192.5), (1087.5, 2252.5), (1087.5, 2402.5), (1087.5, 4277.5), (1087.5, 4337.5), (1087.5, 4367.5), (1087.5, 4457.5), (1087.5, 4487.5), (1087.5, 4517.5), (1087.5, 4577.5), (1087.5, 4607.5), (1087.5, 4637.5), (1087.5, 4682.5), (1087.5, 4742.5), (1087.5, 4892.5), (5812.5, 1802.5), (5812.5, 1817.5), (5812.5, 1832.5), (5812.5, 1877.5), (5812.5, 1892.5), (5812.5, 1922.5), (5812.5, 1952.5), (5812.5, 1997.5), (5812.5, 2072.5), (5812.5, 2117.5), (5812.5, 2162.5), (5812.5, 2222.5), (5812.5, 2252.5), (5812.5, 2357.5), (5812.5, 2402.5), (5812.5, 4292.5), (5812.5, 4307.5), (5812.5, 4322.5), (5812.5, 4367.5), (5812.5, 4382.5), (5812.5, 4412.5), (5812.5, 4442.5), (5812.5, 4487.5), (5812.5, 4562.5), (5812.5, 4607.5), (5812.5, 4652.5), (5812.5, 4712.5), (5812.5, 4742.5), (5812.5, 4847.5), (5812.5, 4892.5), (5827.5, 1847.5), (5827.5, 1952.5), (5827.5, 2027.5), (5827.5, 2087.5), (5827.5, 2147.5), (5827.5, 2282.5), (5827.5, 4337.5), (5827.5, 4442.5), (5827.5, 4517.5), (5827.5, 4577.5), (5827.5, 4637.5), (5827.5, 4772.5), (5842.5, 1817.5), (5842.5, 1832.5), (5842.5, 1892.5), (5842.5, 1967.5), (5842.5, 2162.5), (5842.5, 2222.5), (5842.5, 2282.5), (5842.5, 2357.5), (5842.5, 4307.5), (5842.5, 4322.5), (5842.5, 4382.5), (5842.5, 4457.5), (5842.5, 4652.5), (5842.5, 4712.5), (5842.5, 4772.5), (5842.5, 4847.5), (5857.5, 1787.5), (5857.5, 1847.5), (5857.5, 1877.5), (5857.5, 1967.5), (5857.5, 1997.5), (5857.5, 2027.5), (5857.5, 2087.5), (5857.5, 2117.5), (5857.5, 2147.5), (5857.5, 2192.5), (5857.5, 2252.5), (5857.5, 2402.5), (5857.5, 4277.5), (5857.5, 4337.5), (5857.5, 4367.5), (5857.5, 4457.5), (5857.5, 4487.5), (5857.5, 4517.5), (5857.5, 4577.5), (5857.5, 4607.5), (5857.5, 4637.5), (5857.5, 4682.5), (5857.5, 4742.5), (5857.5, 4892.5)]\n",
      "Calculado :True\n",
      "\n"
     ]
    },
    {
     "name": "stdout",
     "output_type": "stream",
     "text": [
      "ERROR: Could not find file C:\\Users\\Luiz\\AppData\\Local\\Temp\\ipykernel_10012\\2576218384.py\n"
     ]
    },
    {
     "name": "stderr",
     "output_type": "stream",
     "text": [
      "C:\\Users\\Luiz\\AppData\\Local\\Temp\\ipykernel_10012\\2576218384.py:64: FutureWarning: The frame.append method is deprecated and will be removed from pandas in a future version. Use pandas.concat instead.\n",
      "  dataframe = dataframe.append(nova_linha, ignore_index=True)\n"
     ]
    },
    {
     "name": "stdout",
     "output_type": "stream",
     "text": [
      "Nome do Arquivo: d657\n",
      "Algoritmo : <function twice_around_the_tree at 0x00000175464D33A0>\n",
      "Tempo : 23.43578863143921\n",
      "Memória Gasta: 181.65625 MB\n",
      "Taxa de Aproximação: 1.346446796210567\n",
      "Rota :[1, 2, 3, 4, 5, 11, 10, 8, 34, 33, 25, 22, 15, 16, 17, 18, 14, 19, 20, 23, 30, 28, 27, 26, 24, 441, 442, 444, 447, 448, 31, 32, 38, 35, 39, 43, 47, 59, 71, 91, 105, 106, 122, 44, 48, 52, 63, 57, 68, 77, 83, 97, 101, 108, 107, 113, 123, 144, 154, 159, 151, 167, 168, 152, 112, 111, 124, 135, 147, 177, 193, 189, 176, 84, 90, 89, 88, 96, 110, 128, 125, 506, 507, 126, 136, 153, 505, 127, 503, 500, 496, 493, 490, 485, 489, 488, 486, 481, 482, 487, 491, 497, 498, 495, 492, 483, 473, 484, 472, 499, 494, 515, 516, 519, 518, 517, 514, 513, 504, 502, 501, 508, 134, 137, 509, 510, 511, 160, 183, 174, 184, 195, 201, 202, 203, 190, 175, 161, 194, 204, 206, 213, 214, 581, 230, 247, 258, 280, 593, 307, 298, 281, 274, 259, 267, 297, 303, 296, 282, 266, 279, 286, 283, 268, 257, 245, 212, 234, 275, 273, 250, 278, 292, 284, 287, 302, 320, 331, 344, 337, 355, 361, 356, 332, 376, 381, 384, 382, 394, 419, 587, 582, 583, 579, 575, 574, 578, 577, 584, 585, 586, 580, 576, 657, 589, 588, 591, 594, 600, 604, 605, 610, 590, 599, 601, 602, 596, 597, 592, 598, 595, 603, 612, 613, 620, 625, 428, 409, 427, 623, 621, 619, 618, 617, 616, 614, 626, 615, 622, 624, 606, 607, 611, 608, 338, 357, 609, 217, 223, 246, 512, 568, 571, 529, 560, 557, 552, 551, 550, 544, 543, 555, 554, 549, 548, 547, 546, 545, 553, 629, 630, 631, 632, 633, 634, 635, 636, 639, 638, 637, 640, 641, 642, 643, 644, 645, 646, 647, 559, 564, 561, 565, 562, 563, 569, 570, 572, 573, 627, 656, 655, 628, 654, 653, 649, 648, 650, 651, 652, 566, 556, 558, 567, 146, 145, 109, 95, 471, 62, 67, 72, 81, 82, 76, 470, 464, 463, 465, 459, 454, 450, 443, 451, 449, 453, 452, 455, 462, 466, 468, 461, 456, 460, 458, 457, 474, 476, 477, 478, 479, 480, 520, 521, 475, 522, 528, 527, 526, 523, 525, 531, 524, 530, 532, 533, 536, 535, 537, 538, 539, 540, 541, 542, 534, 467, 469, 445, 446, 21, 29, 36, 37, 40, 42, 46, 45, 50, 55, 51, 41, 64, 69, 74, 78, 75, 85, 94, 99, 98, 92, 103, 115, 119, 104, 86, 73, 66, 58, 53, 49, 60, 56, 70, 120, 114, 100, 93, 87, 121, 140, 149, 148, 155, 150, 178, 185, 180, 162, 171, 170, 172, 116, 133, 141, 156, 163, 143, 138, 131, 117, 102, 129, 130, 139, 132, 118, 142, 165, 157, 164, 191, 197, 169, 173, 179, 186, 196, 192, 187, 181, 182, 188, 166, 158, 198, 199, 200, 210, 218, 219, 207, 235, 241, 254, 240, 231, 221, 239, 236, 232, 211, 238, 270, 263, 262, 264, 265, 272, 291, 290, 299, 308, 318, 323, 336, 341, 324, 325, 304, 300, 294, 289, 335, 309, 310, 293, 288, 276, 255, 242, 233, 222, 248, 252, 261, 269, 253, 228, 220, 215, 208, 209, 227, 225, 229, 224, 244, 256, 260, 285, 243, 251, 277, 271, 301, 311, 321, 327, 351, 370, 378, 366, 387, 402, 406, 415, 424, 432, 425, 420, 411, 426, 414, 407, 403, 395, 380, 377, 375, 369, 367, 360, 340, 329, 314, 315, 316, 330, 317, 339, 333, 345, 354, 363, 368, 383, 393, 353, 364, 385, 404, 408, 413, 434, 435, 430, 418, 412, 429, 396, 386, 397, 379, 374, 359, 352, 334, 319, 313, 306, 305, 312, 328, 358, 433, 388, 249, 237, 226, 205, 216, 295, 322, 326, 343, 349, 350, 365, 371, 389, 398, 423, 437, 431, 436, 347, 346, 342, 348, 362, 373, 392, 399, 401, 390, 405, 416, 422, 440, 410, 417, 391, 372, 400, 421, 438, 439, 54, 61, 65, 80, 79, 7, 6, 9, 12, 13, 1]\n",
      "Vertices :[(0.0, 0.0), (875.1, 983.7), (887.8, 1040.9), (875.1, 1136.1), (887.8, 1275.8), (887.8, 1498.1), (964.0, 1504.4), (1116.4, 1212.3), (1014.8, 1148.8), (1052.9, 1136.1), (1014.8, 1059.9), (1116.4, 1059.9), (1167.2, 1015.5), (1497.4, 1040.9), (1345.0, 1034.5), (1370.4, 1053.6), (1433.9, 1059.9), (1465.6, 1059.9), (1548.2, 1059.9), (1586.3, 1059.9), (1433.9, 1098.0), (1306.9, 1110.7), (1624.4, 1110.7), (1713.3, 1110.7), (1249.7, 1117.1), (1751.4, 1136.1), (1726.0, 1161.5), (1700.6, 1174.2), (1427.5, 1174.2), (1624.4, 1186.9), (1706.9, 1212.3), (1795.8, 1225.0), (1224.3, 1225.0), (1211.6, 1237.7), (1878.4, 1237.7), (1224.3, 1250.4), (1211.6, 1263.1), (1853.0, 1263.1), (1891.1, 1275.8), (1224.3, 1275.8), (1503.7, 1288.5), (1218.0, 1294.9), (1878.4, 1301.2), (1954.6, 1301.2), (1325.9, 1307.6), (1306.9, 1320.3), (1865.7, 1320.3), (2030.8, 1333.0), (1611.7, 1333.0), (1383.1, 1333.0), (1433.9, 1339.3), (2094.3, 1339.3), (1599.0, 1352.0), (1110.0, 1364.7), (1402.1, 1364.7), (1675.2, 1364.7), (2189.5, 1364.7), (1586.3, 1371.1), (1891.1, 1377.4), (1618.0, 1383.8), (1103.7, 1390.1), (1992.7, 1390.1), (2132.4, 1390.1), (1268.8, 1402.8), (1091.0, 1415.5), (1510.1, 1415.5), (1973.6, 1415.5), (2234.0, 1428.2), (1243.4, 1428.2), (1618.0, 1440.9), (1878.4, 1466.3), (1980.0, 1472.7), (1535.5, 1479.0), (1249.7, 1479.0), (1294.2, 1491.7), (2068.9, 1491.7), (2234.0, 1504.4), (1256.1, 1504.4), (1014.8, 1517.1), (1116.4, 1517.1), (1980.0, 1517.1), (2068.9, 1517.1), (2183.2, 1517.1), (2246.7, 1517.1), (1268.8, 1523.5), (1516.4, 1542.5), (1738.7, 1542.5), (2329.2, 1542.5), (2316.5, 1555.2), (2246.7, 1555.2), (1859.3, 1555.2), (1364.0, 1555.2), (1713.3, 1561.6), (1313.2, 1567.9), (2234.0, 1567.9), (2335.6, 1567.9), (2164.1, 1580.6), (1351.3, 1580.6), (1338.6, 1593.3), (1706.9, 1593.3), (2126.0, 1599.7), (1205.3, 1612.4), (1408.5, 1618.7), (1573.6, 1618.7), (1846.6, 1618.7), (1929.2, 1618.7), (2049.8, 1618.7), (2107.0, 1618.7), (2284.8, 1618.7), (2367.3, 1644.1), (2183.2, 1644.1), (2113.3, 1644.1), (2018.1, 1644.1), (1649.8, 1644.1), (1472.0, 1644.1), (1313.2, 1644.1), (1154.5, 1663.2), (951.3, 1669.5), (1503.7, 1669.5), (1599.0, 1669.5), (1738.7, 1669.5), (1929.2, 1669.5), (2037.1, 1669.5), (2234.0, 1669.5), (2462.6, 1669.5), (2564.2, 1669.5), (2640.4, 1669.5), (2430.8, 1675.9), (1129.1, 1675.9), (1091.0, 1682.2), (1141.8, 1688.6), (1002.1, 1694.9), (1262.4, 1694.9), (2742.0, 1694.9), (2297.5, 1701.3), (2570.5, 1707.6), (2716.6, 1720.3), (1167.2, 1720.3), (1014.8, 1726.7), (1694.2, 1733.0), (1262.4, 1739.4), (875.1, 1739.4), (1116.4, 1745.7), (2075.2, 1745.7), (2405.4, 1745.7), (2437.2, 1745.7), (2253.0, 1758.4), (1757.7, 1771.1), (1687.9, 1771.1), (1827.6, 1783.8), (2030.8, 1783.8), (2157.8, 1796.5), (2583.2, 1796.5), (2081.6, 1802.9), (1814.9, 1809.2), (1211.6, 1815.6), (1014.8, 1821.9), (1503.7, 1821.9), (2030.8, 1821.9), (2818.2, 1821.9), (2691.2, 1834.6), (1694.2, 1834.6), (1122.7, 1834.6), (989.4, 1841.0), (1103.7, 1847.3), (1421.2, 1847.3), (2030.8, 1847.3), (2132.4, 1847.3), (1249.7, 1853.7), (1624.4, 1860.0), (1681.5, 1860.0), (1624.4, 1879.1), (1230.7, 1891.8), (2919.8, 1891.8), (2716.6, 1898.1), (2475.3, 1898.1), (2265.7, 1898.1), (1865.7, 1898.1), (1249.7, 1898.1), (1903.8, 1904.5), (1306.9, 1910.8), (1325.9, 1910.8), (2843.6, 1910.8), (2938.8, 1910.8), (1891.1, 1917.2), (1243.4, 1923.5), (1294.2, 1923.5), (1376.7, 1923.5), (2348.3, 1923.5), (2786.4, 1923.5), (1141.8, 1936.2), (1287.8, 1942.6), (2316.5, 1942.6), (2678.5, 1942.6), (2976.9, 1948.9), (1275.1, 1955.3), (1141.8, 1968.0), (1275.1, 1974.3), (1294.2, 1980.7), (1300.5, 1999.7), (2996.0, 1999.7), (3097.6, 1999.7), (3116.6, 2018.8), (2761.0, 2025.1), (1516.4, 2025.1), (2805.5, 2037.8), (1205.3, 2069.6), (2005.4, 2075.9), (1929.2, 2088.6), (1281.5, 2095.0), (1002.1, 2095.0), (2576.9, 2101.3), (2849.9, 2101.3), (2951.5, 2101.3), (1948.2, 2107.7), (1662.5, 2114.0), (2824.5, 2114.0), (1313.2, 2126.7), (1243.4, 2139.4), (1973.6, 2139.4), (1154.5, 2152.1), (1789.5, 2152.1), (2805.5, 2152.1), (2227.6, 2164.8), (2100.6, 2164.8), (1579.9, 2164.8), (2081.6, 2177.5), (1929.2, 2190.2), (2151.4, 2190.2), (3097.6, 2190.2), (1148.1, 2196.6), (989.4, 2202.9), (1738.7, 2202.9), (2462.6, 2202.9), (1256.1, 2209.3), (1014.8, 2209.3), (1573.6, 2222.0), (913.2, 2228.3), (1110.0, 2228.3), (1167.2, 2228.3), (1351.3, 2228.3), (1745.0, 2228.3), (2075.2, 2228.3), (2170.5, 2228.3), (2500.7, 2228.3), (2824.5, 2228.3), (3148.4, 2228.3), (1840.3, 2241.0), (1586.3, 2247.4), (2361.0, 2247.4), (2094.3, 2253.7), (1846.6, 2260.1), (1948.2, 2266.4), (1205.3, 2272.8), (1643.4, 2279.1), (2170.5, 2279.1), (2564.2, 2279.1), (3148.4, 2279.1), (3002.3, 2304.5), (2170.5, 2304.5), (1808.5, 2304.5), (1230.7, 2310.9), (1116.4, 2310.9), (1281.5, 2317.2), (1306.9, 2323.6), (2881.7, 2323.6), (3053.1, 2323.6), (2608.6, 2329.9), (1910.1, 2329.9), (900.5, 2329.9), (2005.4, 2336.3), (1230.7, 2342.6), (2405.4, 2342.6), (2970.6, 2342.6), (2488.0, 2355.3), (1599.0, 2355.3), (1980.0, 2361.7), (2361.0, 2361.7), (2786.4, 2361.7), (3148.4, 2380.7), (3002.3, 2380.7), (2811.8, 2380.7), (2640.4, 2380.7), (2500.7, 2380.7), (2170.5, 2380.7), (2729.3, 2393.4), (2519.7, 2393.4), (1586.3, 2393.4), (1446.6, 2393.4), (1078.3, 2393.4), (1167.2, 2406.1), (2348.3, 2406.1), (1599.0, 2431.5), (1427.5, 2431.5), (1694.2, 2444.2), (2849.9, 2444.2), (2938.8, 2444.2), (3002.3, 2450.6), (1154.5, 2450.6), (1427.5, 2456.9), (1980.0, 2456.9), (2811.8, 2456.9), (2875.3, 2469.6), (1414.8, 2469.6), (2151.4, 2495.0), (2176.8, 2507.7), (3053.1, 2507.7), (1224.3, 2514.1), (1548.2, 2533.1), (1592.6, 2533.1), (1980.0, 2533.1), (2107.0, 2533.1), (2183.2, 2533.1), (2462.6, 2533.1), (2545.1, 2533.1), (2564.2, 2533.1), (2672.1, 2533.1), (1243.4, 2545.8), (2189.5, 2558.5), (2830.9, 2558.5), (1922.8, 2564.9), (1624.4, 2564.9), (1198.9, 2564.9), (1332.3, 2577.6), (1395.8, 2583.9), (1675.2, 2583.9), (1903.8, 2583.9), (2132.4, 2583.9), (2437.2, 2583.9), (2608.6, 2583.9), (2862.6, 2590.3), (2970.6, 2590.3), (2538.8, 2609.3), (2208.6, 2609.3), (1446.6, 2609.3), (1224.3, 2622.0), (2761.0, 2628.4), (3123.0, 2634.7), (2589.6, 2634.7), (2380.0, 2634.7), (1306.9, 2634.7), (1167.2, 2641.1), (1592.6, 2647.4), (2811.8, 2647.4), (2608.6, 2660.1), (1192.6, 2660.1), (1370.4, 2672.8), (1141.8, 2685.5), (1630.7, 2685.5), (1700.6, 2685.5), (1922.8, 2685.5), (2176.8, 2685.5), (2481.6, 2685.5), (2627.7, 2685.5), (2830.9, 2685.5), (2938.8, 2685.5), (3097.6, 2685.5), (2202.2, 2698.2), (2107.0, 2698.2), (2437.2, 2704.6), (2900.7, 2704.6), (1211.6, 2710.9), (2576.9, 2717.3), (2462.6, 2736.3), (1630.7, 2736.3), (1980.0, 2749.0), (2380.0, 2749.0), (2608.6, 2761.7), (2322.9, 2761.7), (1922.8, 2761.7), (1586.3, 2761.7), (1027.5, 2768.1), (1268.8, 2774.4), (2107.0, 2787.1), (2335.6, 2787.1), (2761.0, 2787.1), (2322.9, 2799.8), (1960.9, 2799.8), (2176.8, 2812.5), (2348.3, 2812.5), (2773.7, 2812.5), (2849.9, 2818.9), (2589.6, 2825.2), (2811.8, 2837.9), (2380.0, 2837.9), (2234.0, 2837.9), (1973.6, 2837.9), (1827.6, 2837.9), (1611.7, 2837.9), (1446.6, 2837.9), (1110.0, 2837.9), (1281.5, 2850.6), (2507.0, 2857.0), (2919.8, 2863.3), (2310.2, 2863.3), (2221.3, 2863.3), (2195.9, 2863.3), (1579.9, 2863.3), (1357.7, 2876.0), (983.0, 2876.0), (1440.2, 2888.7), (2062.5, 2888.7), (2234.0, 2888.7), (2322.9, 2888.7), (1446.6, 2914.1), (2081.6, 2914.1), (2246.7, 2914.1), (2335.6, 2914.1), (3230.9, 2914.1), (1173.5, 2920.5), (2176.8, 2926.8), (2589.6, 2926.8), (2348.3, 2939.5), (2259.4, 2939.5), (2107.0, 2939.5), (1446.6, 2939.5), (1110.0, 2939.5), (2570.5, 2952.2), (2786.4, 2958.6), (2195.9, 2964.9), (1179.9, 2990.3), (1446.6, 2990.3), (1579.9, 2990.3), (2081.6, 2990.3), (2176.8, 2990.3), (2246.7, 2990.3), (3173.8, 2990.3), (3275.4, 2990.3), (2665.8, 3003.0), (2488.0, 3003.0), (1745.0, 3003.0), (2119.7, 3009.4), (2018.1, 3015.7), (2361.0, 3022.1), (2462.6, 3022.1), (1764.1, 3028.4), (1618.0, 3034.8), (1218.0, 3041.1), (1116.4, 3053.8), (1395.8, 3091.9), (1738.7, 1085.3), (1776.8, 1053.6), (1878.4, 1040.9), (1764.1, 1028.2), (1630.7, 1021.8), (1668.8, 1015.5), (1789.5, 996.4), (1751.4, 971.0), (2005.4, 971.0), (1954.6, 1002.8), (2024.4, 1002.8), (2100.6, 1002.8), (2056.2, 1009.1), (2005.4, 1021.8), (2094.3, 1040.9), (2202.2, 1040.9), (2297.5, 1040.9), (2310.2, 1066.3), (2005.4, 1079.0), (2259.4, 1085.3), (2208.6, 1104.4), (2132.4, 1110.7), (1929.2, 1110.7), (1910.1, 1123.4), (1980.0, 1123.4), (2132.4, 1148.8), (1967.3, 1155.2), (2202.2, 1174.2), (1980.0, 1180.6), (1878.4, 1206.0), (2145.1, 1263.1), (2310.2, 1320.3), (2405.4, 1339.3), (2278.4, 1009.1), (2576.9, 1028.2), (2437.2, 1059.9), (2500.7, 1155.2), (2557.8, 1155.2), (2557.8, 1212.3), (2494.3, 1237.7), (2538.8, 1364.7), (2570.5, 1364.7), (2411.8, 1371.1), (2335.6, 1390.1), (2615.0, 1390.1), (2519.7, 1396.5), (2488.0, 1415.5), (2564.2, 1415.5), (2583.2, 1428.2), (2640.4, 1434.6), (2513.4, 1440.9), (2411.8, 1453.6), (2653.1, 1479.0), (2583.2, 1491.7), (2424.5, 1491.7), (2691.2, 1504.4), (2494.3, 1517.1), (2424.5, 1517.1), (2513.4, 1542.5), (2640.4, 1555.2), (2729.3, 1567.9), (2703.9, 1580.6), (2659.4, 1580.6), (2691.2, 1599.7), (2615.0, 1618.7), (2475.3, 1618.7), (2538.8, 1644.1), (2716.6, 1644.1), (2818.2, 1669.5), (2869.0, 1669.5), (2869.0, 1764.8), (2970.6, 1764.8), (2843.6, 1409.2), (2837.2, 1390.1), (2672.1, 1313.9), (2672.1, 1275.8), (2818.2, 1275.8), (2799.1, 1250.4), (2786.4, 1237.7), (2672.1, 1110.7), (2659.4, 1059.9), (2722.9, 1040.9), (2900.7, 1040.9), (2996.0, 1040.9), (2913.4, 1009.1), (2843.6, 1009.1), (2792.8, 1009.1), (2742.0, 971.0), (2900.7, 1542.5), (3046.8, 1009.1), (2970.6, 1002.8), (3097.6, 1002.8), (3148.4, 1002.8), (2996.0, 971.0), (3250.0, 971.0), (3211.9, 996.4), (3319.8, 1002.8), (3288.1, 1040.9), (3237.3, 1098.0), (3230.9, 1123.4), (3243.6, 1136.1), (3262.7, 1148.8), (3256.3, 1301.2), (3256.3, 1453.6), (3415.1, 1390.1), (3453.2, 1421.9), (3440.5, 1440.9), (3383.3, 1466.3), (3370.6, 1479.0), (3269.0, 1485.4), (3269.0, 1504.4), (3199.2, 1510.8), (3523.0, 1510.8), (3351.6, 1542.5), (3300.8, 1548.9), (3275.4, 1567.9), (3123.0, 1587.0), (3243.6, 1593.3), (3351.6, 1593.3), (3021.4, 1618.7), (3446.8, 1656.8), (3586.5, 1656.8), (3611.9, 1656.8), (3396.0, 1663.2), (3491.3, 1694.9), (3396.0, 1694.9), (3269.0, 1694.9), (3123.0, 1796.5), (3631.0, 1796.5), (3631.0, 1847.3), (3224.6, 1853.7), (3611.9, 1898.1), (3707.2, 1923.5), (3548.4, 2037.8), (3396.0, 2050.5), (3808.8, 2101.3), (3637.3, 2126.7), (3580.2, 2126.7), (3415.1, 2152.1), (3808.8, 2152.1), (3027.7, 2158.5), (3281.7, 2202.9), (3415.1, 2228.3), (3580.2, 2228.3), (3631.0, 2228.3), (3707.2, 2228.3), (3269.0, 2241.0), (3777.0, 2279.1), (3719.9, 2310.9), (3269.0, 2361.7), (3827.8, 2380.7), (3491.3, 2406.1), (3097.6, 2425.2), (3916.7, 2437.9), (3631.0, 2450.6), (3377.0, 2450.6), (3491.3, 2456.9), (3554.8, 2469.6), (3230.9, 2476.0), (3808.8, 2482.3), (3243.6, 2488.7), (3326.2, 2507.7), (3580.2, 2533.1), (3808.8, 2533.1), (3808.8, 2558.5), (3307.1, 2558.5), (3294.4, 2571.2), (3256.3, 2583.9), (3415.1, 2583.9), (3808.8, 2583.9), (3281.7, 2596.6), (3631.0, 2647.4), (3554.8, 2736.3), (3377.0, 2780.8), (3777.0, 2780.8), (3307.1, 2825.2), (3294.4, 2850.6), (3281.7, 2863.3), (3269.0, 2876.0), (3504.0, 2876.0), (3256.3, 2888.7), (3777.0, 2895.1), (3243.6, 2901.4), (3732.6, 2971.3), (3402.4, 2990.3), (3453.2, 3041.1), (3777.0, 1872.7), (3802.4, 1682.2), (3592.9, 1498.1), (3643.7, 1333.0), (3656.4, 1320.3), (3567.5, 1256.8), (3548.4, 1244.1), (3529.4, 1218.7), (3554.8, 1180.6), (3529.4, 1167.9), (3631.0, 1148.8), (3618.3, 1136.1), (3599.2, 1123.4), (3586.5, 1110.7), (3618.3, 1091.7), (3631.0, 1079.0), (3656.4, 1015.5), (3834.2, 983.7), (3859.6, 983.7), (3948.5, 996.4), (3967.5, 971.0), (3929.4, 1301.2), (4005.6, 1390.1), (3859.6, 1428.2), (3815.1, 1460.0), (3783.4, 1485.4), (3967.5, 1542.5), (3967.5, 1714.0), (3885.0, 1796.5), (3885.0, 1847.3), (3942.1, 2037.8)]\n",
      "Calculado :True\n",
      "\n"
     ]
    },
    {
     "name": "stdout",
     "output_type": "stream",
     "text": [
      "ERROR: Could not find file C:\\Users\\Luiz\\AppData\\Local\\Temp\\ipykernel_10012\\2576218384.py\n"
     ]
    },
    {
     "name": "stderr",
     "output_type": "stream",
     "text": [
      "C:\\Users\\Luiz\\AppData\\Local\\Temp\\ipykernel_10012\\2576218384.py:64: FutureWarning: The frame.append method is deprecated and will be removed from pandas in a future version. Use pandas.concat instead.\n",
      "  dataframe = dataframe.append(nova_linha, ignore_index=True)\n"
     ]
    },
    {
     "name": "stdout",
     "output_type": "stream",
     "text": [
      "Nome do Arquivo: u724\n",
      "Algoritmo : <function twice_around_the_tree at 0x00000175464D33A0>\n",
      "Tempo : 33.613123655319214\n",
      "Memória Gasta: 193.65625 MB\n",
      "Taxa de Aproximação: 1.4421622659167244\n",
      "Rota :[1, 724, 13, 12, 715, 2, 11, 721, 697, 21, 25, 24, 29, 44, 37, 39, 45, 686, 33, 36, 688, 93, 689, 47, 30, 31, 82, 65, 34, 67, 66, 50, 51, 59, 52, 60, 105, 62, 61, 58, 56, 57, 77, 74, 73, 53, 72, 54, 55, 111, 115, 64, 85, 83, 116, 71, 104, 70, 63, 84, 86, 106, 76, 113, 114, 75, 110, 112, 69, 90, 101, 100, 17, 109, 68, 108, 78, 107, 117, 652, 645, 646, 642, 644, 634, 629, 626, 667, 676, 635, 621, 637, 619, 159, 660, 624, 625, 627, 658, 657, 661, 665, 654, 662, 633, 616, 615, 618, 622, 623, 617, 630, 614, 612, 613, 611, 631, 155, 164, 143, 163, 655, 674, 683, 620, 610, 161, 632, 156, 628, 659, 656, 675, 673, 678, 668, 680, 670, 79, 672, 681, 669, 677, 682, 671, 80, 41, 49, 42, 685, 81, 48, 40, 92, 27, 26, 99, 18, 14, 91, 95, 23, 28, 690, 43, 46, 32, 684, 636, 162, 140, 139, 601, 599, 157, 609, 160, 154, 165, 166, 142, 144, 145, 177, 179, 180, 181, 182, 183, 178, 176, 174, 173, 175, 184, 598, 591, 593, 596, 600, 605, 158, 663, 664, 679, 35, 666, 638, 152, 141, 138, 137, 607, 583, 153, 608, 606, 590, 594, 588, 592, 559, 575, 185, 186, 553, 554, 187, 551, 573, 566, 574, 550, 188, 545, 190, 548, 543, 542, 569, 571, 582, 570, 587, 586, 589, 564, 546, 537, 531, 528, 540, 529, 541, 199, 196, 257, 201, 205, 246, 245, 255, 244, 218, 215, 229, 230, 231, 326, 327, 334, 328, 320, 232, 233, 234, 330, 321, 355, 356, 304, 357, 311, 313, 312, 310, 315, 309, 307, 305, 303, 317, 308, 306, 319, 318, 402, 398, 406, 399, 407, 400, 394, 393, 392, 391, 386, 389, 387, 388, 384, 383, 382, 381, 380, 379, 378, 377, 376, 375, 366, 374, 373, 367, 368, 372, 371, 370, 369, 385, 390, 401, 395, 396, 397, 314, 361, 363, 475, 362, 316, 358, 483, 359, 489, 360, 364, 476, 477, 297, 403, 474, 473, 405, 471, 472, 322, 331, 228, 220, 513, 325, 323, 332, 329, 333, 337, 336, 335, 324, 348, 338, 339, 497, 347, 352, 349, 341, 342, 340, 351, 350, 346, 216, 223, 225, 226, 224, 519, 516, 517, 520, 518, 499, 496, 482, 481, 479, 478, 487, 296, 417, 416, 457, 412, 411, 453, 451, 450, 449, 448, 447, 446, 445, 444, 443, 441, 440, 439, 438, 437, 436, 434, 435, 433, 432, 431, 430, 429, 428, 427, 426, 425, 422, 421, 423, 424, 442, 452, 461, 413, 458, 462, 414, 409, 293, 408, 294, 292, 291, 286, 285, 287, 290, 288, 289, 302, 301, 300, 485, 299, 295, 298, 484, 501, 500, 494, 493, 504, 353, 354, 502, 503, 505, 506, 507, 498, 345, 344, 343, 510, 508, 509, 213, 214, 253, 249, 252, 210, 522, 262, 525, 263, 264, 261, 260, 511, 212, 250, 251, 211, 248, 515, 526, 521, 209, 222, 527, 198, 197, 195, 194, 193, 267, 268, 271, 272, 259, 274, 278, 280, 276, 281, 282, 277, 273, 275, 279, 131, 283, 284, 129, 130, 127, 132, 133, 128, 603, 266, 269, 524, 523, 265, 258, 189, 544, 512, 404, 365, 410, 415, 460, 459, 420, 466, 419, 467, 418, 455, 456, 454, 470, 469, 468, 464, 465, 463, 486, 495, 514, 221, 208, 247, 256, 192, 492, 491, 480, 488, 490, 217, 227, 243, 241, 238, 237, 200, 203, 202, 204, 534, 530, 565, 560, 206, 242, 235, 240, 239, 219, 207, 254, 236, 532, 533, 536, 535, 191, 270, 538, 539, 549, 561, 552, 563, 562, 547, 595, 597, 558, 647, 648, 641, 120, 121, 151, 150, 136, 135, 148, 134, 147, 149, 146, 172, 167, 124, 125, 126, 170, 169, 168, 123, 602, 584, 580, 578, 577, 567, 585, 579, 576, 568, 572, 555, 556, 557, 581, 604, 639, 640, 643, 651, 119, 649, 118, 650, 122, 171, 653, 687, 96, 94, 691, 692, 22, 696, 695, 97, 89, 88, 102, 87, 98, 20, 19, 16, 10, 9, 702, 711, 710, 7, 717, 8, 709, 701, 719, 708, 707, 718, 720, 6, 15, 700, 716, 705, 5, 706, 714, 103, 699, 38, 704, 703, 698, 693, 713, 4, 3, 712, 722, 694, 723, 1]\n",
      "Vertices :[(605.61, 796.6), (681.8, 1025.2), (605.61, 1152.21), (605.61, 1253.81), (656.41, 1736.41), (808.81, 2041.19), (726.25, 1825.29), (758.01, 1863.4), (783.4, 1736.41), (808.81, 1736.41), (758.01, 1101.41), (758.01, 796.6), (758.01, 821.99), (872.3, 733.11), (885.0, 2066.6), (872.3, 1787.21), (935.8, 1965.0), (910.39, 707.7), (935.8, 1812.6), (935.8, 1761.8), (935.8, 1177.6), (986.6, 1380.8), (1011.99, 898.2), (986.6, 1203.01), (986.6, 1152.21), (986.6, 821.99), (1011.99, 796.6), (986.6, 923.59), (1062.79, 1126.8), (1113.59, 1431.6), (1139.0, 1482.4), (1189.8, 949.0), (1189.8, 1253.81), (1240.61, 1507.79), (1291.41, 1355.39), (1266.0, 1253.81), (1189.8, 1101.41), (1189.8, 1380.8), (1113.59, 1152.21), (1113.59, 821.99), (1189.8, 707.7), (1151.7, 733.11), (1113.59, 923.59), (1113.59, 1101.41), (1113.59, 1228.4), (1113.59, 949.0), (1113.59, 1406.19), (1139.0, 860.1), (1189.8, 733.11), (1240.61, 1711.0), (1266.0, 1736.41), (1291.41, 1863.4), (1278.69, 2047.56), (1285.06, 2053.91), (1291.41, 2041.19), (1329.49, 1958.65), (1291.41, 1965.0), (1323.14, 1952.3), (1316.8, 1787.21), (1342.21, 1863.4), (1329.49, 1945.96), (1335.86, 1952.3), (1164.39, 2244.39), (1164.39, 2091.99), (1189.8, 1584.0), (1215.2, 1711.0), (1164.39, 1634.8), (1164.39, 1787.21), (1189.8, 1863.4), (1189.8, 2244.39), (1266.0, 2168.2), (1278.69, 2060.25), (1272.34, 2053.91), (1240.61, 2041.19), (1227.89, 1958.65), (1234.26, 1952.3), (1240.61, 1965.0), (1291.41, 1609.39), (1291.41, 1076.0), (1266.0, 707.7), (1189.8, 847.4), (1139.0, 1533.2), (1113.59, 2028.5), (1088.2, 2244.39), (1088.2, 2079.3), (999.3, 2180.9), (1011.99, 1736.41), (1062.79, 1685.61), (1037.4, 1634.8), (1113.59, 1863.4), (1062.79, 771.19), (1062.79, 821.99), (1024.71, 1279.2), (986.6, 1507.79), (1037.4, 872.79), (1037.4, 1482.4), (1011.99, 1609.39), (961.19, 1711.0), (999.3, 733.11), (1011.99, 1901.5), (1037.4, 1914.2), (1062.79, 1736.41), (1062.79, 1609.39), (1240.61, 2244.39), (1342.21, 1939.61), (1291.41, 2168.2), (1316.8, 1584.0), (1266.0, 1685.61), (1215.2, 1787.21), (1189.8, 1965.0), (1215.2, 2041.19), (1240.61, 1863.4), (1227.89, 1945.96), (1221.54, 1952.3), (1189.8, 2091.99), (1215.2, 2168.2), (1367.6, 1634.8), (1494.61, 2244.39), (1520.0, 2028.5), (1570.8, 1812.6), (1596.19, 1812.6), (1570.8, 2244.39), (1672.4, 1939.61), (1710.51, 1996.76), (1716.86, 2003.11), (1748.59, 2015.8), (1850.2, 2142.79), (1875.61, 2244.39), (1951.8, 2091.99), (1913.69, 2079.3), (1977.21, 2244.39), (1799.39, 2168.2), (1850.2, 2219.0), (1824.8, 1634.8), (1774.0, 1736.41), (1723.2, 1761.8), (1799.39, 1507.79), (1799.39, 1456.99), (1799.39, 1228.4), (1761.31, 1228.4), (1748.59, 1431.6), (1862.89, 949.0), (1786.7, 707.7), (1901.0, 898.2), (1926.41, 872.79), (1774.0, 1939.61), (1774.0, 1812.6), (1748.59, 1634.8), (1748.59, 1888.81), (1672.4, 1761.8), (1672.4, 1812.6), (1723.2, 1406.19), (1723.2, 1330.0), (1723.2, 999.8), (1710.51, 733.11), (1697.79, 821.99), (1723.2, 1152.21), (1672.4, 1076.0), (1646.99, 1304.61), (1723.2, 1076.0), (1748.59, 898.2), (1723.2, 1203.01), (1799.39, 796.6), (1748.59, 733.11), (1799.39, 999.8), (1824.8, 987.11), (1723.2, 1990.39), (1697.79, 1939.61), (1704.14, 2003.11), (1710.51, 2009.45), (1646.99, 2244.39), (1774.0, 1965.0), (1926.41, 923.59), (1913.69, 707.7), (2002.6, 923.59), (1951.8, 707.7), (1926.41, 796.6), (1989.9, 707.7), (1977.21, 796.6), (2028.01, 796.6), (2066.09, 733.11), (2104.2, 796.6), (2028.01, 707.7), (2002.6, 872.79), (2155.0, 1253.81), (2161.35, 1266.5), (2167.7, 1272.85), (2205.8, 1558.59), (2281.99, 1761.8), (2332.79, 1558.59), (2358.2, 1126.8), (2447.11, 1584.0), (2383.59, 2142.79), (2358.2, 2066.6), (2383.59, 2015.8), (2434.39, 1406.19), (2409.0, 2015.8), (2434.39, 2053.91), (2434.39, 1355.39), (2459.8, 796.6), (2459.8, 1330.0), (2421.7, 974.39), (2409.0, 872.79), (2459.8, 974.39), (2485.2, 1279.2), (2536.0, 796.6), (2523.3, 1355.39), (2523.3, 1584.0), (2561.41, 1939.61), (2561.41, 2244.39), (2510.61, 2142.79), (2713.81, 2244.39), (2713.81, 2142.79), (2701.09, 2079.3), (2688.4, 1126.8), (2663.01, 1761.8), (2663.01, 1050.61), (2637.6, 1101.41), (2612.21, 1152.21), (2637.6, 1355.39), (2561.41, 1558.59), (2586.8, 1939.61), (2612.21, 1812.6), (2586.8, 1761.8), (2561.41, 1812.6), (2561.41, 1761.8), (2612.21, 999.8), (2701.09, 1291.89), (2764.61, 1126.8), (2790.0, 1152.21), (2840.8, 1126.8), (2790.0, 821.99), (2739.2, 821.99), (2713.81, 872.79), (2612.21, 796.6), (2434.39, 1304.61), (2497.89, 834.71), (2536.0, 872.79), (2561.41, 821.99), (2612.21, 834.71), (2574.1, 949.0), (2561.41, 796.6), (2561.41, 999.8), (2586.8, 1101.41), (2510.61, 1177.6), (2536.0, 1203.01), (2472.5, 1558.59), (2561.41, 2066.6), (2637.6, 2219.0), (2586.8, 2104.71), (2561.41, 2104.71), (2637.6, 2244.39), (2637.6, 2142.79), (2536.0, 1456.99), (2497.89, 1101.41), (2447.11, 1558.59), (2383.59, 1469.71), (2281.99, 1812.6), (2231.19, 2041.19), (2434.39, 2219.0), (2440.74, 2231.7), (2459.8, 2244.39), (2453.46, 2231.7), (2447.11, 2225.35), (2358.2, 1812.6), (2383.59, 1939.61), (2307.4, 2142.79), (2256.6, 2142.79), (2332.79, 1939.61), (2370.9, 1101.41), (2231.19, 2142.79), (2167.7, 2079.3), (2129.61, 2244.39), (2129.61, 2041.19), (2180.39, 2219.0), (2078.81, 2142.79), (2078.81, 2244.39), (2078.81, 2066.6), (2028.01, 2244.39), (2053.4, 2117.4), (2028.01, 2142.79), (2053.4, 2219.0), (2002.6, 2066.6), (1977.21, 2066.6), (3018.59, 2193.59), (3044.0, 2142.79), (3044.0, 2219.0), (2967.79, 2168.2), (2980.51, 2104.71), (3069.39, 2219.0), (3069.39, 2142.79), (3132.91, 2117.4), (3209.1, 1952.3), (3196.41, 2066.6), (3120.2, 2015.8), (3171.0, 1812.6), (3107.5, 1584.0), (3094.8, 1965.0), (3069.39, 2015.8), (2993.2, 1939.61), (2993.2, 2015.8), (2967.79, 2066.6), (2993.2, 898.2), (3018.59, 1050.61), (3044.0, 872.79), (3069.39, 949.0), (3069.39, 796.6), (3069.39, 898.2), (3120.2, 796.6), (3171.0, 923.59), (3120.2, 1050.61), (3171.0, 999.8), (3145.61, 1050.61), (3120.2, 1126.8), (3145.61, 872.79), (3094.8, 1304.61), (2993.2, 949.0), (2967.79, 796.6), (2993.2, 796.6), (2840.8, 872.79), (2815.41, 796.6), (2802.7, 1215.7), (2828.11, 1330.0), (2790.0, 1380.8), (2802.7, 1330.0), (2891.6, 1101.41), (2866.19, 1050.61), (2853.5, 974.39), (2866.19, 1253.81), (2739.2, 796.6), (2764.61, 1279.2), (2840.8, 1279.2), (2916.99, 1253.81), (2904.3, 1025.2), (2916.99, 1406.19), (2891.6, 1342.7), (2866.19, 1342.7), (2815.41, 1431.6), (2853.5, 1456.99), (2840.8, 1761.8), (2790.0, 1634.8), (2840.8, 1685.61), (2726.5, 1939.61), (2790.0, 1939.61), (2790.0, 2015.8), (2739.2, 1825.29), (2764.61, 1507.79), (2790.0, 1431.6), (2790.0, 1584.0), (2764.61, 1761.8), (2815.41, 1761.8), (2739.2, 1571.31), (2840.8, 2117.4), (2866.19, 2142.79), (2967.79, 1126.8), (3018.59, 1126.8), (3044.0, 1050.61), (3069.39, 1304.61), (3005.9, 1228.4), (3044.0, 1380.8), (3120.2, 1177.6), (3145.61, 1253.81), (3171.0, 1177.6), (3120.2, 1380.8), (3298.01, 2168.2), (3488.5, 1157.4), (3505.18, 1167.4), (3508.5, 1194.06), (3488.5, 1260.74), (3505.18, 1240.74), (3498.5, 1220.74), (3508.5, 1197.4), (3498.5, 1170.74), (3495.18, 1160.74), (3488.5, 1127.4), (3498.5, 1120.74), (3488.5, 1097.4), (3488.5, 1094.06), (3508.5, 1077.4), (3498.5, 1057.4), (3498.5, 1050.74), (3508.5, 1037.4), (3488.5, 1020.74), (3508.5, 1000.74), (3425.0, 999.8), (3488.5, 907.4), (3488.5, 927.4), (3495.18, 940.74), (3495.18, 920.74), (3508.5, 900.74), (3498.5, 894.06), (3508.5, 880.74), (3488.5, 860.74), (3450.41, 872.79), (3348.81, 771.19), (3323.4, 707.7), (3272.6, 847.4), (3221.8, 999.8), (3323.4, 974.39), (3374.2, 898.2), (3298.01, 847.4), (3196.41, 796.6), (3196.41, 1266.5), (3221.8, 2168.2), (3272.6, 1101.41), (3272.6, 1025.2), (3298.01, 923.59), (3272.6, 2041.19), (3298.01, 1990.39), (3348.81, 2066.6), (3399.61, 1812.6), (3361.5, 1787.21), (3336.09, 1914.2), (3361.5, 1990.39), (3399.61, 2066.6), (3272.6, 1761.8), (3234.49, 1799.9), (3272.6, 1507.79), (3298.01, 1558.59), (3247.21, 1634.8), (3405.96, 2211.31), (3410.96, 2216.31), (3405.96, 2231.31), (3395.96, 2231.31), (3495.18, 2167.56), (3498.5, 2157.56), (3498.5, 2150.9), (3498.5, 2140.9), (3488.5, 2120.9), (3505.18, 2100.9), (3498.5, 2080.9), (3488.5, 2057.56), (3488.5, 2054.24), (3498.5, 2037.56), (3488.5, 2040.9), (3498.5, 2020.9), (3495.18, 2000.9), (3508.5, 1997.56), (3498.5, 1977.56), (3498.5, 1970.9), (3495.18, 1960.9), (3508.5, 1957.56), (3488.5, 1927.56), (3498.5, 1920.9), (3488.5, 1897.56), (3488.5, 1894.24), (3508.5, 1877.56), (3498.5, 1857.56), (3498.5, 1850.9), (3508.5, 1837.56), (3488.5, 1820.9), (3508.5, 1800.9), (3437.7, 1850.7), (3348.81, 1406.19), (3348.81, 1507.79), (3348.81, 1456.99), (3323.4, 1761.8), (3323.4, 1863.4), (3323.4, 1634.8), (3374.2, 1685.61), (3399.61, 1914.2), (3412.3, 1977.7), (3399.61, 1685.61), (3399.61, 1558.59), (3425.0, 1584.0), (3323.4, 1558.59), (3298.01, 1507.79), (3221.8, 1380.8), (3272.6, 1406.19), (3323.4, 1380.8), (3348.81, 1177.6), (3348.81, 1253.81), (3272.6, 1177.6), (3247.21, 1228.4), (3171.0, 1253.81), (3145.61, 1456.99), (3171.0, 1533.2), (3044.0, 1761.8), (3005.9, 1736.41), (3018.59, 1558.59), (2993.2, 1787.21), (2942.4, 1761.8), (2993.2, 1304.61), (3044.0, 2066.6), (3044.0, 2015.8), (3120.2, 1685.61), (3120.2, 1761.8), (3069.39, 1507.79), (3069.39, 1380.8), (3018.59, 1634.8), (2967.79, 1533.2), (2891.6, 1507.79), (2916.99, 1863.4), (2891.6, 1888.81), (2891.6, 1685.61), (2866.19, 1787.21), (2840.8, 1507.79), (2815.41, 2015.8), (2840.8, 1787.21), (2891.6, 1977.7), (2916.99, 2041.19), (2891.6, 2142.79), (2866.19, 2168.2), (2891.6, 2066.6), (2916.99, 2219.0), (2815.41, 2244.39), (2815.41, 2066.6), (2790.0, 2142.79), (2739.2, 2168.2), (2764.61, 2066.6), (2663.01, 2244.39), (2612.21, 2066.6), (2637.6, 1406.19), (2637.6, 1584.0), (2536.0, 2015.8), (2536.0, 1812.6), (2510.61, 1838.01), (2485.2, 1787.21), (2510.61, 1685.61), (2485.2, 1838.01), (2485.2, 1939.61), (2510.61, 2219.0), (2383.59, 1888.81), (2332.79, 1888.81), (2447.11, 2238.05), (2485.2, 2015.8), (2459.8, 2066.6), (2358.2, 1279.2), (2294.71, 1355.39), (2281.99, 872.79), (2307.4, 1253.81), (2320.1, 1171.25), (2326.45, 1164.9), (2320.1, 872.79), (2320.1, 1158.55), (2313.75, 1164.9), (2294.71, 1228.4), (2307.4, 1050.61), (2332.79, 1177.6), (2332.79, 1304.61), (2358.2, 1330.0), (2358.2, 1634.8), (2307.4, 1634.8), (2205.8, 1761.8), (2281.99, 1558.59), (2231.19, 1228.4), (2243.91, 1279.2), (2281.99, 1634.8), (2231.19, 1177.6), (2129.61, 1507.79), (2155.0, 1304.61), (2155.0, 1177.6), (2167.7, 1260.16), (2174.04, 1266.5), (2129.61, 1685.61), (2155.0, 1634.8), (2078.81, 1609.39), (2066.09, 1152.21), (2028.01, 1253.81), (2167.7, 885.51), (2193.11, 1152.21), (2180.39, 1050.61), (2205.8, 1126.8), (2205.8, 1253.81), (2231.19, 923.59), (2155.0, 1406.19), (2053.4, 1838.01), (2078.81, 1761.8), (2053.4, 1507.79), (2002.6, 1355.39), (2053.4, 1431.6), (2053.4, 1685.61), (2129.61, 1380.8), (2129.61, 1456.99), (2078.81, 1279.2), (2028.01, 1736.41), (2002.6, 1838.01), (1977.21, 1838.01), (1977.21, 1787.21), (1951.8, 1812.6), (2002.6, 1685.61), (1977.21, 1431.6), (1901.0, 1406.19), (1926.41, 1812.6), (2002.6, 1939.61), (1977.21, 1533.2), (2002.6, 1507.79), (1926.41, 1304.61), (1939.1, 1609.39), (1901.0, 1253.81), (2002.6, 1050.61), (2002.6, 1253.81), (2028.01, 999.8), (1951.8, 1253.81), (2002.6, 1177.6), (2104.2, 999.8), (2028.01, 1152.21), (2002.6, 999.8), (1913.69, 1152.21), (1977.21, 999.8), (1850.2, 1177.6), (1850.2, 1812.6), (1875.61, 2015.8), (1862.89, 1888.81), (1850.2, 1076.0), (1850.2, 1304.61), (1850.2, 1406.19), (1799.39, 1330.0), (1723.2, 1101.41), (1672.4, 872.79), (1634.3, 733.11), (1570.8, 796.6), (1583.5, 733.11), (1596.19, 847.4), (1596.19, 1126.8), (1596.19, 1177.6), (1596.19, 923.59), (1570.8, 1076.0), (1596.19, 1355.39), (1672.4, 847.4), (1621.6, 1431.6), (1570.8, 999.8), (1596.19, 949.0), (1570.8, 1253.81), (1532.7, 1228.4), (1443.81, 1456.99), (1494.61, 1203.01), (1545.39, 847.4), (1520.0, 1431.6), (1596.19, 898.2), (1672.4, 707.7), (1672.4, 821.99), (1570.8, 1203.01), (1570.8, 1482.4), (1596.19, 1482.4), (1672.4, 1203.01), (1596.19, 1406.19), (1646.99, 1380.8), (1545.39, 1787.21), (1520.0, 1761.8), (1545.39, 1812.6), (1494.61, 1558.59), (1545.39, 1685.61), (1545.39, 1558.59), (1469.2, 1634.8), (1469.2, 1558.59), (1443.81, 1761.8), (1494.61, 1812.6), (1520.0, 2142.79), (1545.39, 2244.39), (1494.61, 1888.81), (1443.81, 1685.61), (1443.81, 1888.81), (1469.2, 974.39), (1545.39, 733.11), (1494.61, 847.4), (1494.61, 1126.8), (1494.61, 1177.6), (1532.7, 872.79), (1545.39, 1304.61), (1494.61, 1076.0), (1494.61, 949.0), (1494.61, 1304.61), (1443.81, 1330.0), (1443.81, 1050.61), (1367.6, 1304.61), (1393.01, 1431.6), (1393.01, 898.2), (1367.6, 1152.21), (1342.21, 999.8), (1316.8, 733.11), (1291.41, 1126.8), (1443.81, 796.6), (1507.3, 733.11), (1443.81, 847.4), (1367.6, 1482.4), (1367.6, 1203.01), (1418.4, 860.1), (1367.6, 1330.0), (1367.6, 923.59), (1367.6, 1101.41), (1367.6, 821.99), (1469.2, 707.7), (1240.61, 974.39), (1189.8, 821.99), (1151.7, 1279.2), (1062.79, 1507.79), (1062.79, 1279.2), (1088.2, 1317.3), (1062.79, 923.59), (986.6, 1456.99), (961.19, 1406.19), (859.61, 1279.2), (859.61, 1025.2), (935.8, 1584.0), (897.7, 1418.91), (859.61, 1152.21), (808.81, 1330.0), (859.61, 1533.2), (834.2, 1939.61), (808.81, 1863.4), (758.01, 1660.2), (758.01, 1279.2), (758.01, 1177.6), (681.8, 1787.21), (681.8, 1838.01), (707.21, 1939.61), (732.6, 1939.61), (783.4, 1888.81), (758.01, 1787.21), (732.6, 1584.0), (681.8, 1355.39), (681.8, 1279.2), (656.41, 1838.01), (681.8, 999.8), (713.55, 1825.29), (719.9, 1831.64), (681.8, 2041.19), (758.01, 1939.61), (808.81, 1965.0), (808.81, 1152.21), (808.81, 999.8), (808.81, 949.0), (681.8, 923.59)]\n",
      "Calculado :True\n",
      "\n"
     ]
    },
    {
     "name": "stdout",
     "output_type": "stream",
     "text": [
      "ERROR: Could not find file C:\\Users\\Luiz\\AppData\\Local\\Temp\\ipykernel_10012\\2576218384.py\n"
     ]
    },
    {
     "ename": "KeyboardInterrupt",
     "evalue": "",
     "output_type": "error",
     "traceback": [
      "\u001b[1;31m---------------------------------------------------------------------------\u001b[0m",
      "\u001b[1;31mKeyboardInterrupt\u001b[0m                         Traceback (most recent call last)",
      "Input \u001b[1;32mIn [8]\u001b[0m, in \u001b[0;36m<cell line: 105>\u001b[1;34m()\u001b[0m\n\u001b[0;32m    102\u001b[0m \u001b[38;5;28;01mimport\u001b[39;00m \u001b[38;5;21;01mpsutil\u001b[39;00m\n\u001b[0;32m    104\u001b[0m resultados \u001b[38;5;241m=\u001b[39m pd\u001b[38;5;241m.\u001b[39mDataFrame(columns\u001b[38;5;241m=\u001b[39m[\u001b[38;5;124m'\u001b[39m\u001b[38;5;124mNome do Arquivo\u001b[39m\u001b[38;5;124m'\u001b[39m, \u001b[38;5;124m'\u001b[39m\u001b[38;5;124mAlgoritmo\u001b[39m\u001b[38;5;124m'\u001b[39m, \u001b[38;5;124m'\u001b[39m\u001b[38;5;124mTempo de execução\u001b[39m\u001b[38;5;124m'\u001b[39m, \u001b[38;5;124m'\u001b[39m\u001b[38;5;124mMemória Gasta\u001b[39m\u001b[38;5;124m'\u001b[39m, \u001b[38;5;124m'\u001b[39m\u001b[38;5;124mTaxa de Aproximação\u001b[39m\u001b[38;5;124m'\u001b[39m, \u001b[38;5;124m'\u001b[39m\u001b[38;5;124mRota\u001b[39m\u001b[38;5;124m'\u001b[39m, \u001b[38;5;124m'\u001b[39m\u001b[38;5;124mVertices\u001b[39m\u001b[38;5;124m'\u001b[39m, \u001b[38;5;124m'\u001b[39m\u001b[38;5;124mCalculado\u001b[39m\u001b[38;5;124m'\u001b[39m])\n\u001b[1;32m--> 105\u001b[0m resultados \u001b[38;5;241m=\u001b[39m \u001b[43mtestar_algoritmo\u001b[49m\u001b[43m(\u001b[49m\u001b[43mtwice_around_the_tree\u001b[49m\u001b[43m,\u001b[49m\u001b[43m \u001b[49m\u001b[43mresultados\u001b[49m\u001b[43m,\u001b[49m\u001b[43m \u001b[49m\u001b[43mtestes\u001b[49m\u001b[43m)\u001b[49m\n",
      "Input \u001b[1;32mIn [8]\u001b[0m, in \u001b[0;36mtestar_algoritmo\u001b[1;34m(algoritmo, resultados, testes)\u001b[0m\n\u001b[0;32m     82\u001b[0m \u001b[38;5;28;01mtry\u001b[39;00m:\n\u001b[0;32m     83\u001b[0m     rota \u001b[38;5;241m=\u001b[39m \u001b[38;5;28;01mNone\u001b[39;00m\n\u001b[1;32m---> 84\u001b[0m     rota, valor, tempo, memoria \u001b[38;5;241m=\u001b[39m \u001b[43mmedir_tempo_execucao\u001b[49m\u001b[43m(\u001b[49m\u001b[43malgoritmo\u001b[49m\u001b[43m,\u001b[49m\u001b[43m \u001b[49m\u001b[43mlimite_tempo\u001b[49m\u001b[43m,\u001b[49m\u001b[43m \u001b[49m\u001b[43mtestes\u001b[49m\u001b[43m[\u001b[49m\u001b[43mi\u001b[49m\u001b[43m]\u001b[49m\u001b[43m[\u001b[49m\u001b[38;5;124;43m\"\u001b[39;49m\u001b[38;5;124;43mvertices\u001b[39;49m\u001b[38;5;124;43m\"\u001b[39;49m\u001b[43m]\u001b[49m\u001b[43m)\u001b[49m\n\u001b[0;32m     86\u001b[0m     \u001b[38;5;66;03m# Chame a função para adicionar a linha ao DataFrame\u001b[39;00m\n\u001b[0;32m     87\u001b[0m     resultados \u001b[38;5;241m=\u001b[39m adicionar_linha_dataframe(resultados, teste, rota, valor, tempo, memoria, algoritmo)\n",
      "Input \u001b[1;32mIn [8]\u001b[0m, in \u001b[0;36mmedir_tempo_execucao\u001b[1;34m(funcao, limite_tempo, points)\u001b[0m\n\u001b[0;32m     21\u001b[0m \u001b[38;5;129m@profile\u001b[39m\n\u001b[0;32m     22\u001b[0m \u001b[38;5;28;01mdef\u001b[39;00m \u001b[38;5;21mwrapped_funcao\u001b[39m(points):\n\u001b[0;32m     23\u001b[0m     \u001b[38;5;28;01mreturn\u001b[39;00m funcao(points)\n\u001b[1;32m---> 25\u001b[0m tour, tour_lenght \u001b[38;5;241m=\u001b[39m \u001b[43mwrapped_funcao\u001b[49m\u001b[43m(\u001b[49m\u001b[43mpoints\u001b[49m\u001b[43m)\u001b[49m\n\u001b[0;32m     27\u001b[0m \u001b[38;5;66;03m# Adicione a medição da quantidade de memória gasta\u001b[39;00m\n\u001b[0;32m     28\u001b[0m memoria_gasta \u001b[38;5;241m=\u001b[39m psutil\u001b[38;5;241m.\u001b[39mProcess()\u001b[38;5;241m.\u001b[39mmemory_info()\u001b[38;5;241m.\u001b[39mrss \u001b[38;5;241m/\u001b[39m \u001b[38;5;241m1024\u001b[39m \u001b[38;5;241m/\u001b[39m \u001b[38;5;241m1024\u001b[39m  \u001b[38;5;66;03m# em megabytes\u001b[39;00m\n",
      "File \u001b[1;32m~\\AppData\\Local\\Programs\\Python\\Python39\\lib\\site-packages\\memory_profiler.py:1188\u001b[0m, in \u001b[0;36mprofile.<locals>.wrapper\u001b[1;34m(*args, **kwargs)\u001b[0m\n\u001b[0;32m   1185\u001b[0m \u001b[38;5;129m@wraps\u001b[39m(wrapped\u001b[38;5;241m=\u001b[39mfunc)\n\u001b[0;32m   1186\u001b[0m \u001b[38;5;28;01mdef\u001b[39;00m \u001b[38;5;21mwrapper\u001b[39m(\u001b[38;5;241m*\u001b[39margs, \u001b[38;5;241m*\u001b[39m\u001b[38;5;241m*\u001b[39mkwargs):\n\u001b[0;32m   1187\u001b[0m     prof \u001b[38;5;241m=\u001b[39m get_prof()\n\u001b[1;32m-> 1188\u001b[0m     val \u001b[38;5;241m=\u001b[39m prof(func)(\u001b[38;5;241m*\u001b[39margs, \u001b[38;5;241m*\u001b[39m\u001b[38;5;241m*\u001b[39mkwargs)\n\u001b[0;32m   1189\u001b[0m     show_results_bound(prof)\n\u001b[0;32m   1190\u001b[0m     \u001b[38;5;28;01mreturn\u001b[39;00m val\n",
      "File \u001b[1;32m~\\AppData\\Local\\Programs\\Python\\Python39\\lib\\site-packages\\memory_profiler.py:761\u001b[0m, in \u001b[0;36mLineProfiler.wrap_function.<locals>.f\u001b[1;34m(*args, **kwds)\u001b[0m\n\u001b[0;32m    759\u001b[0m \u001b[38;5;28;01mdef\u001b[39;00m \u001b[38;5;21mf\u001b[39m(\u001b[38;5;241m*\u001b[39margs, \u001b[38;5;241m*\u001b[39m\u001b[38;5;241m*\u001b[39mkwds):\n\u001b[0;32m    760\u001b[0m     \u001b[38;5;28;01mwith\u001b[39;00m \u001b[38;5;28mself\u001b[39m\u001b[38;5;241m.\u001b[39m_count_ctxmgr():\n\u001b[1;32m--> 761\u001b[0m         \u001b[38;5;28;01mreturn\u001b[39;00m func(\u001b[38;5;241m*\u001b[39margs, \u001b[38;5;241m*\u001b[39m\u001b[38;5;241m*\u001b[39mkwds)\n",
      "Input \u001b[1;32mIn [8]\u001b[0m, in \u001b[0;36mmedir_tempo_execucao.<locals>.wrapped_funcao\u001b[1;34m(points)\u001b[0m\n\u001b[0;32m     21\u001b[0m \u001b[38;5;129m@profile\u001b[39m\n\u001b[0;32m     22\u001b[0m \u001b[38;5;28;01mdef\u001b[39;00m \u001b[38;5;21mwrapped_funcao\u001b[39m(points):\n\u001b[1;32m---> 23\u001b[0m     \u001b[38;5;28;01mreturn\u001b[39;00m \u001b[43mfuncao\u001b[49m\u001b[43m(\u001b[49m\u001b[43mpoints\u001b[49m\u001b[43m)\u001b[49m\n",
      "Input \u001b[1;32mIn [4]\u001b[0m, in \u001b[0;36mtwice_around_the_tree\u001b[1;34m(points, local_search, verbose)\u001b[0m\n\u001b[0;32m    104\u001b[0m \u001b[38;5;28;01mdef\u001b[39;00m \u001b[38;5;21mtwice_around_the_tree\u001b[39m(points, local_search\u001b[38;5;241m=\u001b[39m\u001b[38;5;28;01mTrue\u001b[39;00m, verbose\u001b[38;5;241m=\u001b[39m\u001b[38;5;28;01mTrue\u001b[39;00m):\n\u001b[0;32m    105\u001b[0m     distance_matrix \u001b[38;5;241m=\u001b[39m create_distance_matrix(points)\n\u001b[1;32m--> 106\u001b[0m     route, distance \u001b[38;5;241m=\u001b[39m \u001b[43mtat_algorithm\u001b[49m\u001b[43m(\u001b[49m\u001b[43mdistance_matrix\u001b[49m\u001b[43m,\u001b[49m\u001b[43m \u001b[49m\u001b[43mlocal_search\u001b[49m\u001b[38;5;241;43m=\u001b[39;49m\u001b[43mlocal_search\u001b[49m\u001b[43m,\u001b[49m\u001b[43m \u001b[49m\u001b[43mverbose\u001b[49m\u001b[38;5;241;43m=\u001b[39;49m\u001b[43mverbose\u001b[49m\u001b[43m)\u001b[49m\n\u001b[0;32m    107\u001b[0m     \u001b[38;5;28;01mreturn\u001b[39;00m route, distance\n",
      "Input \u001b[1;32mIn [4]\u001b[0m, in \u001b[0;36mtat_algorithm\u001b[1;34m(distance_matrix, local_search, verbose)\u001b[0m\n\u001b[0;32m     68\u001b[0m     euler \u001b[38;5;241m=\u001b[39m \u001b[38;5;28mlist\u001b[39m(nx\u001b[38;5;241m.\u001b[39meulerian_path(H))\n\u001b[0;32m     69\u001b[0m \u001b[38;5;28;01melse\u001b[39;00m:\n\u001b[1;32m---> 70\u001b[0m     H     \u001b[38;5;241m=\u001b[39m \u001b[43mnx\u001b[49m\u001b[38;5;241;43m.\u001b[39;49m\u001b[43meulerize\u001b[49m\u001b[43m(\u001b[49m\u001b[43mH\u001b[49m\u001b[43m)\u001b[49m\n\u001b[0;32m     71\u001b[0m     euler \u001b[38;5;241m=\u001b[39m \u001b[38;5;28mlist\u001b[39m(nx\u001b[38;5;241m.\u001b[39meulerian_path(H))\n\u001b[0;32m     72\u001b[0m \u001b[38;5;66;03m# Shortcutting\u001b[39;00m\n",
      "File \u001b[1;32m<class 'networkx.utils.decorators.argmap'> compilation 8:4\u001b[0m, in \u001b[0;36margmap_eulerize_5\u001b[1;34m(G)\u001b[0m\n\u001b[0;32m      2\u001b[0m \u001b[38;5;28;01mimport\u001b[39;00m \u001b[38;5;21;01mcollections\u001b[39;00m\n\u001b[0;32m      3\u001b[0m \u001b[38;5;28;01mimport\u001b[39;00m \u001b[38;5;21;01mgzip\u001b[39;00m\n\u001b[1;32m----> 4\u001b[0m \u001b[38;5;28;01mimport\u001b[39;00m \u001b[38;5;21;01minspect\u001b[39;00m\n\u001b[0;32m      5\u001b[0m \u001b[38;5;28;01mimport\u001b[39;00m \u001b[38;5;21;01mitertools\u001b[39;00m\n\u001b[0;32m      6\u001b[0m \u001b[38;5;28;01mimport\u001b[39;00m \u001b[38;5;21;01mre\u001b[39;00m\n",
      "File \u001b[1;32m~\\AppData\\Local\\Programs\\Python\\Python39\\lib\\site-packages\\networkx\\algorithms\\euler.py:432\u001b[0m, in \u001b[0;36meulerize\u001b[1;34m(G)\u001b[0m\n\u001b[0;32m    429\u001b[0m     \u001b[38;5;28;01mreturn\u001b[39;00m G\n\u001b[0;32m    431\u001b[0m \u001b[38;5;66;03m# get all shortest paths between vertices of odd degree\u001b[39;00m\n\u001b[1;32m--> 432\u001b[0m odd_deg_pairs_paths \u001b[38;5;241m=\u001b[39m [\n\u001b[0;32m    433\u001b[0m     (m, {n: nx\u001b[38;5;241m.\u001b[39mshortest_path(G, source\u001b[38;5;241m=\u001b[39mm, target\u001b[38;5;241m=\u001b[39mn)})\n\u001b[0;32m    434\u001b[0m     \u001b[38;5;28;01mfor\u001b[39;00m m, n \u001b[38;5;129;01min\u001b[39;00m combinations(odd_degree_nodes, \u001b[38;5;241m2\u001b[39m)\n\u001b[0;32m    435\u001b[0m ]\n\u001b[0;32m    437\u001b[0m \u001b[38;5;66;03m# use inverse path lengths as edge-weights in a new graph\u001b[39;00m\n\u001b[0;32m    438\u001b[0m \u001b[38;5;66;03m# store the paths in the graph for easy indexing later\u001b[39;00m\n\u001b[0;32m    439\u001b[0m Gp \u001b[38;5;241m=\u001b[39m nx\u001b[38;5;241m.\u001b[39mGraph()\n",
      "File \u001b[1;32m~\\AppData\\Local\\Programs\\Python\\Python39\\lib\\site-packages\\networkx\\algorithms\\euler.py:433\u001b[0m, in \u001b[0;36m<listcomp>\u001b[1;34m(.0)\u001b[0m\n\u001b[0;32m    429\u001b[0m     \u001b[38;5;28;01mreturn\u001b[39;00m G\n\u001b[0;32m    431\u001b[0m \u001b[38;5;66;03m# get all shortest paths between vertices of odd degree\u001b[39;00m\n\u001b[0;32m    432\u001b[0m odd_deg_pairs_paths \u001b[38;5;241m=\u001b[39m [\n\u001b[1;32m--> 433\u001b[0m     (m, {n: \u001b[43mnx\u001b[49m\u001b[38;5;241;43m.\u001b[39;49m\u001b[43mshortest_path\u001b[49m\u001b[43m(\u001b[49m\u001b[43mG\u001b[49m\u001b[43m,\u001b[49m\u001b[43m \u001b[49m\u001b[43msource\u001b[49m\u001b[38;5;241;43m=\u001b[39;49m\u001b[43mm\u001b[49m\u001b[43m,\u001b[49m\u001b[43m \u001b[49m\u001b[43mtarget\u001b[49m\u001b[38;5;241;43m=\u001b[39;49m\u001b[43mn\u001b[49m\u001b[43m)\u001b[49m})\n\u001b[0;32m    434\u001b[0m     \u001b[38;5;28;01mfor\u001b[39;00m m, n \u001b[38;5;129;01min\u001b[39;00m combinations(odd_degree_nodes, \u001b[38;5;241m2\u001b[39m)\n\u001b[0;32m    435\u001b[0m ]\n\u001b[0;32m    437\u001b[0m \u001b[38;5;66;03m# use inverse path lengths as edge-weights in a new graph\u001b[39;00m\n\u001b[0;32m    438\u001b[0m \u001b[38;5;66;03m# store the paths in the graph for easy indexing later\u001b[39;00m\n\u001b[0;32m    439\u001b[0m Gp \u001b[38;5;241m=\u001b[39m nx\u001b[38;5;241m.\u001b[39mGraph()\n",
      "File \u001b[1;32m~\\AppData\\Local\\Programs\\Python\\Python39\\lib\\site-packages\\networkx\\algorithms\\shortest_paths\\generic.py:165\u001b[0m, in \u001b[0;36mshortest_path\u001b[1;34m(G, source, target, weight, method)\u001b[0m\n\u001b[0;32m    162\u001b[0m \u001b[38;5;28;01melse\u001b[39;00m:\n\u001b[0;32m    163\u001b[0m     \u001b[38;5;66;03m# Find shortest source-target path.\u001b[39;00m\n\u001b[0;32m    164\u001b[0m     \u001b[38;5;28;01mif\u001b[39;00m method \u001b[38;5;241m==\u001b[39m \u001b[38;5;124m\"\u001b[39m\u001b[38;5;124munweighted\u001b[39m\u001b[38;5;124m\"\u001b[39m:\n\u001b[1;32m--> 165\u001b[0m         paths \u001b[38;5;241m=\u001b[39m \u001b[43mnx\u001b[49m\u001b[38;5;241;43m.\u001b[39;49m\u001b[43mbidirectional_shortest_path\u001b[49m\u001b[43m(\u001b[49m\u001b[43mG\u001b[49m\u001b[43m,\u001b[49m\u001b[43m \u001b[49m\u001b[43msource\u001b[49m\u001b[43m,\u001b[49m\u001b[43m \u001b[49m\u001b[43mtarget\u001b[49m\u001b[43m)\u001b[49m\n\u001b[0;32m    166\u001b[0m     \u001b[38;5;28;01melif\u001b[39;00m method \u001b[38;5;241m==\u001b[39m \u001b[38;5;124m\"\u001b[39m\u001b[38;5;124mdijkstra\u001b[39m\u001b[38;5;124m\"\u001b[39m:\n\u001b[0;32m    167\u001b[0m         _, paths \u001b[38;5;241m=\u001b[39m nx\u001b[38;5;241m.\u001b[39mbidirectional_dijkstra(G, source, target, weight)\n",
      "File \u001b[1;32m~\\AppData\\Local\\Programs\\Python\\Python39\\lib\\site-packages\\networkx\\algorithms\\shortest_paths\\unweighted.py:224\u001b[0m, in \u001b[0;36mbidirectional_shortest_path\u001b[1;34m(G, source, target)\u001b[0m\n\u001b[0;32m    221\u001b[0m     \u001b[38;5;28;01mraise\u001b[39;00m nx\u001b[38;5;241m.\u001b[39mNodeNotFound(msg)\n\u001b[0;32m    223\u001b[0m \u001b[38;5;66;03m# call helper to do the real work\u001b[39;00m\n\u001b[1;32m--> 224\u001b[0m results \u001b[38;5;241m=\u001b[39m \u001b[43m_bidirectional_pred_succ\u001b[49m\u001b[43m(\u001b[49m\u001b[43mG\u001b[49m\u001b[43m,\u001b[49m\u001b[43m \u001b[49m\u001b[43msource\u001b[49m\u001b[43m,\u001b[49m\u001b[43m \u001b[49m\u001b[43mtarget\u001b[49m\u001b[43m)\u001b[49m\n\u001b[0;32m    225\u001b[0m pred, succ, w \u001b[38;5;241m=\u001b[39m results\n\u001b[0;32m    227\u001b[0m \u001b[38;5;66;03m# build path from pred+w+succ\u001b[39;00m\n",
      "File \u001b[1;32m~\\AppData\\Local\\Programs\\Python\\Python39\\lib\\site-packages\\networkx\\algorithms\\shortest_paths\\unweighted.py:278\u001b[0m, in \u001b[0;36m_bidirectional_pred_succ\u001b[1;34m(G, source, target)\u001b[0m\n\u001b[0;32m    276\u001b[0m \u001b[38;5;28;01mif\u001b[39;00m w \u001b[38;5;129;01mnot\u001b[39;00m \u001b[38;5;129;01min\u001b[39;00m pred:\n\u001b[0;32m    277\u001b[0m     forward_fringe\u001b[38;5;241m.\u001b[39mappend(w)\n\u001b[1;32m--> 278\u001b[0m     pred[w] \u001b[38;5;241m=\u001b[39m v\n\u001b[0;32m    279\u001b[0m \u001b[38;5;28;01mif\u001b[39;00m w \u001b[38;5;129;01min\u001b[39;00m succ:  \u001b[38;5;66;03m# path found\u001b[39;00m\n\u001b[0;32m    280\u001b[0m     \u001b[38;5;28;01mreturn\u001b[39;00m pred, succ, w\n",
      "\u001b[1;31mKeyboardInterrupt\u001b[0m: "
     ]
    }
   ],
   "source": [
    "import time\n",
    "import pandas as pd\n",
    "import psutil  # Importe a biblioteca psutil para medir a quantidade de memória\n",
    "from memory_profiler import profile\n",
    "\n",
    "class TimeoutException(Exception):\n",
    "    pass\n",
    "\n",
    "def timeout_handler(signum, frame):\n",
    "    raise TimeoutException(\"Tempo de execução excedido\")\n",
    "\n",
    "\n",
    "def medir_tempo_execucao(funcao, limite_tempo, points):\n",
    "    try:\n",
    "        inicio = time.time()\n",
    "        funcao(points)\n",
    "        fim = time.time()\n",
    "        tempo_execucao = fim - inicio\n",
    "        \n",
    "        # Use o decorador profile para medir a memória\n",
    "        @profile\n",
    "        def wrapped_funcao(points):\n",
    "            return funcao(points)\n",
    "\n",
    "        tour, tour_lenght = wrapped_funcao(points)\n",
    "        \n",
    "        # Adicione a medição da quantidade de memória gasta\n",
    "        memoria_gasta = psutil.Process().memory_info().rss / 1024 / 1024  # em megabytes\n",
    "        return tour, tour_lenght, tempo_execucao, memoria_gasta\n",
    "    except TimeoutException:\n",
    "        return None, limite_tempo, None, None\n",
    "    finally:\n",
    "        pass\n",
    "\n",
    "\n",
    "def imprimir_resultado(teste, rota, valor, tempo, memoria, algoritmo):\n",
    "    aproximacao = valor / teste[\"limite\"]\n",
    "    if rota is not None:\n",
    "        print(f'Nome do Arquivo: {teste[\"file\"]}')\n",
    "        print(f'Algoritmo : {algoritmo}')\n",
    "        print(f'Tempo : {tempo}')\n",
    "        print(f'Memória Gasta: {memoria} MB')\n",
    "        print(f'Taxa de Aproximação: {aproximacao}')\n",
    "        print(f'Rota :{rota}')\n",
    "        print(f'Vertices :{teste[\"vertices\"]}')\n",
    "        print(f'Calculado :{True}\\n')\n",
    "\n",
    "def imprimir_resultado_deu_errado(teste, rota, valor, tempo, memoria, algoritmo):\n",
    "    print(f'Deu errado, calculado :{False}\\n')\n",
    "\n",
    "def adicionar_linha_dataframe(dataframe, teste, rota, valor, tempo, memoria, algoritmo):\n",
    "    aproximacao = valor / teste[\"limite\"]\n",
    "    if rota is not None:\n",
    "        nova_linha = {\n",
    "            'Nome do Arquivo': teste[\"file\"],\n",
    "            'Algoritmo': algoritmo,\n",
    "            'Tempo de execução': tempo,\n",
    "            'Memória Gasta': memoria,\n",
    "            'Taxa de Aproximação': aproximacao,\n",
    "            'Rota': rota,\n",
    "            'Vertices': teste[\"vertices\"],\n",
    "            'Calculado': True\n",
    "        }\n",
    "        dataframe = dataframe.append(nova_linha, ignore_index=True)\n",
    "    return dataframe\n",
    "\n",
    "def adicionar_linha_dataframe_deu_errado(dataframe, teste, rota, valor, tempo, memoria, algoritmo):\n",
    "    nova_linha = {\n",
    "        'Nome do Arquivo': teste[\"file\"],\n",
    "        'Algoritmo': algoritmo,\n",
    "        'Calculado': False\n",
    "    }\n",
    "    dataframe = dataframe.append(nova_linha, ignore_index=True)\n",
    "    return dataframe\n",
    "\n",
    "def testar_algoritmo(algoritmo, resultados, testes):\n",
    "    # Limite de tempo em segundos\n",
    "    limite_tempo = 250\n",
    "\n",
    "    # Iterar sobre cada teste, adicionando linhas ao DataFrame\n",
    "    for i, teste in enumerate(testes):\n",
    "        try:\n",
    "            rota = None\n",
    "            rota, valor, tempo, memoria = medir_tempo_execucao(algoritmo, limite_tempo, testes[i][\"vertices\"])\n",
    "\n",
    "            # Chame a função para adicionar a linha ao DataFrame\n",
    "            resultados = adicionar_linha_dataframe(resultados, teste, rota, valor, tempo, memoria, algoritmo)\n",
    "            imprimir_resultado(teste, rota, valor, tempo, memoria, algoritmo)\n",
    "\n",
    "        except Exception as e:\n",
    "            print(f'Erro no Teste {i + 1}: {str(e)}\\n')\n",
    "            resultados = adicionar_linha_dataframe_deu_errado(resultados, teste, rota, valor, tempo, memoria, algoritmo)\n",
    "            imprimir_resultado_deu_errado(teste, rota, valor, tempo, memoria, algoritmo)\n",
    "\n",
    "        resultados.to_csv('twice_around_the_tree.csv', index=False)\n",
    "\n",
    "    return resultados\n",
    "\n",
    "# Suponha que você já tenha uma função christofides e uma lista de testes chamada testes\n",
    "\n",
    "# Importe a biblioteca psutil para medir a quantidade de memória\n",
    "import psutil\n",
    "\n",
    "resultados = pd.DataFrame(columns=['Nome do Arquivo', 'Algoritmo', 'Tempo de execução', 'Memória Gasta', 'Taxa de Aproximação', 'Rota', 'Vertices', 'Calculado'])\n",
    "resultados = testar_algoritmo(twice_around_the_tree, resultados, testes)\n",
    "resultados = testar_algoritmo(christofides, resultados, testes)\n",
    "resultados.to_csv('resultados.csv', index=False)"
   ]
  },
  {
   "cell_type": "markdown",
   "metadata": {},
   "source": [
    "### Pronto! A análise dos dados foi delegada a outro arquivo."
   ]
  }
 ],
 "metadata": {
  "colab": {
   "provenance": []
  },
  "kernelspec": {
   "display_name": "Python 3 (ipykernel)",
   "language": "python",
   "name": "python3"
  },
  "language_info": {
   "codemirror_mode": {
    "name": "ipython",
    "version": 3
   },
   "file_extension": ".py",
   "mimetype": "text/x-python",
   "name": "python",
   "nbconvert_exporter": "python",
   "pygments_lexer": "ipython3",
   "version": "3.9.9"
  }
 },
 "nbformat": 4,
 "nbformat_minor": 1
}
