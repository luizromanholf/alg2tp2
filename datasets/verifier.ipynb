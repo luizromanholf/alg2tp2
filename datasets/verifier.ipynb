{
 "cells": [
  {
   "cell_type": "code",
   "execution_count": 42,
   "id": "95666bd2",
   "metadata": {},
   "outputs": [
    {
     "name": "stdout",
     "output_type": "stream",
     "text": [
      "['eil51', 'berlin52', 'st70', 'eil76', 'pr76', 'rat99', 'kroA100', 'kroB100', 'kroC100', 'kroD100', 'kroE100', 'rd100', 'eil101', 'lin105', 'pr107', 'pr124', 'bier127', 'ch130', 'pr136', 'pr144', 'ch150', 'kroA150', 'kroB150', 'pr152', 'u159', 'rat195', 'd198', 'kroA200', 'kroB200', 'ts225', 'tsp225', 'pr226', 'gil262', 'pr264', 'a280', 'pr299', 'lin318', 'linhp318', 'rd400', 'fl417', 'pr439', 'pcb442', 'd493', 'u574', 'rat575', 'p654', 'd657', 'u724', 'rat783', 'pr1002', 'u1060', 'vm1084', 'pcb1173', 'd1291', 'rl1304', 'rl1323', 'nrw1379', 'fl1400', 'u1432', 'fl1577', 'd1655', 'vm1748', 'u1817', 'rl1889', 'd2103', 'u2152', 'u2319', 'pr2392', 'pcb3038', 'fl3795', 'fnl4461', 'rl5915', 'rl5934', 'rl11849', 'usa13509', 'brd14051', 'd15112', 'd18512']\n"
     ]
    }
   ],
   "source": [
    "# Abre o arquivo datasets.txt em modo de leitura\n",
    "with open('datasets.txt', 'r') as file:\n",
    "    # Lê as linhas do arquivo\n",
    "    lines = file.readlines()\n",
    "\n",
    "# Inicializa uma lista para armazenar as primeiras palavras\n",
    "first_words = []\n",
    "\n",
    "# Itera sobre as linhas e extrai a primeira palavra de cada uma\n",
    "for line in lines[1:]:\n",
    "    # Remove espaços em branco no início e no final da linha\n",
    "    line = line.strip()\n",
    "    \n",
    "    # Divide a linha em palavras usando espaço como delimitador\n",
    "    words = line.split()\n",
    "    \n",
    "    # Verifica se há palavras na linha antes de adicioná-la à lista\n",
    "    if words:\n",
    "        # Adiciona a primeira palavra à lista\n",
    "        first_words.append(words[0])\n",
    "\n",
    "# Exibe a lista de primeiras palavras\n",
    "print(first_words)\n",
    "required = first_words"
   ]
  },
  {
   "cell_type": "code",
   "execution_count": 43,
   "id": "d86f007c",
   "metadata": {},
   "outputs": [
    {
     "name": "stdout",
     "output_type": "stream",
     "text": [
      "['a280', 'berlin52', 'bier127', 'brd14051', 'ch130', 'ch150', 'd1291', 'd15112', 'd1655', 'd18512', 'd198', 'd2103', 'd493', 'd657', 'eil101', 'eil51', 'eil76', 'fl1400', 'fl1577', 'fl3795', 'fl417', 'fnl4461', 'gil262', 'kroA100', 'kroA150', 'kroA200', 'kroB100', 'kroB150', 'kroB200', 'kroC100', 'kroD100', 'kroE100', 'lin105', 'lin318', 'linhp318', 'nrw1379', 'p654', 'pcb1173', 'pcb3038', 'pcb442', 'pr1002', 'pr107', 'pr124', 'pr136', 'pr144', 'pr152', 'pr226', 'pr2392', 'pr264', 'pr299', 'pr439', 'pr76', 'rat195', 'rat575', 'rat783', 'rat99', 'rd100', 'rd400', 'rl11849', 'rl1304', 'rl1323', 'rl1889', 'rl5915', 'rl5934', 'st70', 'ts225', 'tsp225', 'u1060', 'u1432', 'u159', 'u1817', 'u2152', 'u2319', 'u574', 'u724', 'usa13509', 'vm1084', 'vm1748']\n"
     ]
    }
   ],
   "source": [
    "import os\n",
    "\n",
    "# Especifica o caminho do diretório \"raw\"\n",
    "diretorio = \"raw\"\n",
    "\n",
    "# Obtém a lista de arquivos no diretório\n",
    "arquivos = os.listdir(diretorio)\n",
    "\n",
    "# Inicializa uma lista para armazenar os nomes de arquivos sem extensão\n",
    "nomes_sem_extensao = []\n",
    "\n",
    "# Itera sobre os arquivos e remove a extensão\n",
    "for arquivo in arquivos:\n",
    "    # Divide o nome do arquivo e a extensão\n",
    "    nome= arquivo.split(\".\")[0]\n",
    "    \n",
    "    # Adiciona o nome à lista\n",
    "    nomes_sem_extensao.append(nome)\n",
    "\n",
    "# Exibe a lista de nomes de arquivos sem extensão\n",
    "print(nomes_sem_extensao)\n",
    "obtained = nomes_sem_extensao"
   ]
  },
  {
   "cell_type": "code",
   "execution_count": 44,
   "id": "b691b434",
   "metadata": {},
   "outputs": [
    {
     "name": "stdout",
     "output_type": "stream",
     "text": [
      "Faltam os arquivos:  []\n"
     ]
    }
   ],
   "source": [
    "missing = list(set(required) - set(obtained))\n",
    "\n",
    "# Exiba o resultado\n",
    "print(\"Faltam os arquivos: \", missing)\n",
    "\n",
    "for i in missing:\n",
    "    print(i)"
   ]
  },
  {
   "cell_type": "code",
   "execution_count": 45,
   "id": "8f04c6b8",
   "metadata": {},
   "outputs": [
    {
     "name": "stdout",
     "output_type": "stream",
     "text": [
      "Arquivos adicionados por engano:  []\n"
     ]
    }
   ],
   "source": [
    "should_not_be_here = list(set(obtained) - set(required))\n",
    "\n",
    "print(\"Arquivos adicionados por engano: \",should_not_be_here)"
   ]
  },
  {
   "cell_type": "code",
   "execution_count": 46,
   "id": "3129cbea",
   "metadata": {},
   "outputs": [
    {
     "name": "stdout",
     "output_type": "stream",
     "text": [
      "Todos datasets foram baixados:  True\n"
     ]
    }
   ],
   "source": [
    "todos_datasets_baixados = set(obtained) == set(required)\n",
    "\n",
    "print(\"Todos datasets foram baixados: \",todos_datasets_baixados)"
   ]
  },
  {
   "cell_type": "code",
   "execution_count": 48,
   "id": "f79b71f5",
   "metadata": {},
   "outputs": [
    {
     "name": "stdout",
     "output_type": "stream",
     "text": [
      "Processo concluído.\n"
     ]
    }
   ],
   "source": [
    "import os\n",
    "\n",
    "# Diretório onde os arquivos serão excluídos\n",
    "diretorio_raw = \"raw\"\n",
    "\n",
    "# Lista os arquivos na pasta \"raw\"\n",
    "arquivos_raw = os.listdir(diretorio_raw)\n",
    "\n",
    "# Itera sobre os arquivos\n",
    "for arquivo in arquivos_raw:\n",
    "    # Obtém o nome do arquivo sem extensão\n",
    "    nome_sem_extensao = arquivo.split('.')[0]\n",
    "    \n",
    "    # Verifica se o nome está na lista should_not_be_here\n",
    "    if nome_sem_extensao in should_not_be_here:\n",
    "        # Constrói o caminho completo do arquivo\n",
    "        caminho_arquivo = os.path.join(diretorio_raw, arquivo)\n",
    "        \n",
    "        # Exclui o arquivo\n",
    "        os.remove(caminho_arquivo)\n",
    "        \n",
    "        print(f\"Arquivo removido: {arquivo}\")\n",
    "\n",
    "print(\"Processo concluído.\")"
   ]
  }
 ],
 "metadata": {
  "kernelspec": {
   "display_name": "Python 3 (ipykernel)",
   "language": "python",
   "name": "python3"
  },
  "language_info": {
   "codemirror_mode": {
    "name": "ipython",
    "version": 3
   },
   "file_extension": ".py",
   "mimetype": "text/x-python",
   "name": "python",
   "nbconvert_exporter": "python",
   "pygments_lexer": "ipython3",
   "version": "3.9.9"
  }
 },
 "nbformat": 4,
 "nbformat_minor": 5
}
